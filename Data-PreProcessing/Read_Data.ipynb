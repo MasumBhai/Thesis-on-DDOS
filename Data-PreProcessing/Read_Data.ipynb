{
 "cells": [
  {
   "cell_type": "markdown",
   "source": [
    "Loading Libraries"
   ],
   "metadata": {
    "collapsed": false
   }
  },
  {
   "cell_type": "code",
   "execution_count": 1,
   "metadata": {
    "collapsed": true
   },
   "outputs": [],
   "source": [
    "import numba\n",
    "import tensorflow as tf\n",
    "import pandas as pd\n",
    "import numpy as np\n",
    "import random\n",
    "import gc  # garbage collector\n",
    "\n",
    "from fastcore.basics import *\n",
    "from fastcore.parallel import *\n",
    "from numba import jit, njit, vectorize, cuda, uint32, f8, uint8\n",
    "\n",
    "from sklearn.model_selection import train_test_split\n",
    "from sklearn import metrics  # for accuracy calculation\n",
    "from sklearn.tree import DecisionTreeClassifier\n",
    "from sklearn.metrics import roc_auc_score, accuracy_score\n",
    "from functools import partial\n",
    "from os import cpu_count\n",
    "import matplotlib.pyplot as plt\n",
    "\n",
    "import math\n",
    "from pylab import imshow, show\n",
    "from timeit import default_timer as timer\n",
    "\n",
    "from dask import dataframe as dd\n",
    "from dask.distributed import Client"
   ]
  },
  {
   "cell_type": "markdown",
   "source": [
    "Setting up paths to csv files / datasets"
   ],
   "metadata": {
    "collapsed": false
   }
  },
  {
   "cell_type": "code",
   "execution_count": 2,
   "outputs": [],
   "source": [
    "# CSV-01-12\n",
    "path_DdoS_DNS = \"C:\\\\CIC-DDOS-2019\\\\DrDoS_DNS.csv\"\n",
    "path_DdoS_MSSQL = \"C:\\\\CIC-DDOS-2019\\\\DrDoS_MSSQL.csv\"\n",
    "path_DdoS_LDAP = \"C:\\\\CIC-DDOS-2019\\\\DrDoS_LDAP.csv\"\n",
    "path_DdoS_NTP = \"C:\\\\CIC-DDOS-2019\\\\DrDoS_NTP.csv\"\n",
    "path_DdoS_NetBIOS = \"C:\\\\CIC-DDOS-2019\\\\DrDoS_NetBIOS.csv\"\n",
    "path_DdoS_SNMP = \"C:\\\\CIC-DDOS-2019\\\\DrDoS_SNMP.csv\"\n",
    "path_DdoS_SSDP = \"C:\\\\CIC-DDOS-2019\\\\DrDoS_SSDP.csv\"\n",
    "path_DdoS_UDP = \"C:\\\\CIC-DDOS-2019\\\\DrDoS_UDP.csv\"\n",
    "path_Syn = \"C:\\\\CIC-DDOS-2019\\\\Syn.csv\"\n",
    "path_TFTP = \"C:\\\\CIC-DDOS-2019\\\\TFTP.csv\"\n",
    "path_UDPLag = \"C:\\\\CIC-DDOS-2019\\\\UDPLag.csv\"\n",
    "\n",
    "# # CSV-03-11\n",
    "# path__LDAP = \"../CICDDoS-2019/CSV-03-11/03-11/LDAP.csv\"\n",
    "# path__MSSQL = \"../CICDDoS-2019/CSV-03-11/03-11/MSSQL.csv\"\n",
    "# path__NetBIOS = \"../CICDDoS-2019/CSV-03-11/03-11/NetBIOS.csv\"\n",
    "# path__Portmap = \"../CICDDoS-2019/CSV-03-11/03-11/Portmap.csv\"\n",
    "# path__Syn = \"../CICDDoS-2019/CSV-03-11/03-11/Syn.csv\"\n",
    "# path__UDP = \"../CICDDoS-2019/CSV-03-11/03-11/UDP.csv\"\n",
    "# path__UDPLag = \"../CICDDoS-2019/CSV-03-11/03-11/UDPLag.csv\"\n",
    "\n",
    "paths = [path_DdoS_DNS, path_DdoS_MSSQL, path_DdoS_LDAP, path_DdoS_NTP, path_DdoS_NetBIOS, path_DdoS_SNMP,\n",
    "         path_DdoS_SSDP, path_DdoS_UDP, path_Syn, path_TFTP, path_UDPLag]\n",
    "# , path__LDAP, path__MSSQL, path__NetBIOS,\n",
    "#      path__Portmap, path__Syn, path__UDP, path__UDPLag]"
   ],
   "metadata": {
    "collapsed": false
   }
  },
  {
   "cell_type": "markdown",
   "source": [
    "Column / feature names"
   ],
   "metadata": {
    "collapsed": false
   }
  },
  {
   "cell_type": "code",
   "execution_count": 3,
   "outputs": [],
   "source": [
    "col_name_consistency = {\n",
    "    'Flow ID': 'Flow ID',\n",
    "    'Source IP': 'Source IP',\n",
    "    'Src IP': 'Source IP',\n",
    "    'Source Port': 'Source Port',\n",
    "    'Src Port': 'Source Port',\n",
    "    'Destination IP': 'Destination IP',\n",
    "    'Dst IP': 'Destination IP',\n",
    "    'Destination Port': 'Destination Port',\n",
    "    'Dst Port': 'Destination Port',\n",
    "    'Protocol': 'Protocol',\n",
    "    'Timestamp': 'Timestamp',\n",
    "    'Flow Duration': 'Flow Duration',\n",
    "    'Total Fwd Packets': 'Total Fwd Packets',\n",
    "    'Tot Fwd Pkts': 'Total Fwd Packets',\n",
    "    'Total Backward Packets': 'Total Backward Packets',\n",
    "    'Tot Bwd Pkts': 'Total Backward Packets',\n",
    "    'Total Length of Fwd Packets': 'Fwd Packets Length Total',\n",
    "    'TotLen Fwd Pkts': 'Fwd Packets Length Total',\n",
    "    'Total Length of Bwd Packets': 'Bwd Packets Length Total',\n",
    "    'TotLen Bwd Pkts': 'Bwd Packets Length Total',\n",
    "    'Fwd Packet Length Max': 'Fwd Packet Length Max',\n",
    "    'Fwd Pkt Len Max': 'Fwd Packet Length Max',\n",
    "    'Fwd Packet Length Min': 'Fwd Packet Length Min',\n",
    "    'Fwd Pkt Len Min': 'Fwd Packet Length Min',\n",
    "    'Fwd Packet Length Mean': 'Fwd Packet Length Mean',\n",
    "    'Fwd Pkt Len Mean': 'Fwd Packet Length Mean',\n",
    "    'Fwd Packet Length Std': 'Fwd Packet Length Std',\n",
    "    'Fwd Pkt Len Std': 'Fwd Packet Length Std',\n",
    "    'Bwd Packet Length Max': 'Bwd Packet Length Max',\n",
    "    'Bwd Pkt Len Max': 'Bwd Packet Length Max',\n",
    "    'Bwd Packet Length Min': 'Bwd Packet Length Min',\n",
    "    'Bwd Pkt Len Min': 'Bwd Packet Length Min',\n",
    "    'Bwd Packet Length Mean': 'Bwd Packet Length Mean',\n",
    "    'Bwd Pkt Len Mean': 'Bwd Packet Length Mean',\n",
    "    'Bwd Packet Length Std': 'Bwd Packet Length Std',\n",
    "    'Bwd Pkt Len Std': 'Bwd Packet Length Std',\n",
    "    'Flow Bytes/s': 'Flow Bytes/s',\n",
    "    'Flow Byts/s': 'Flow Bytes/s',\n",
    "    'Flow Packets/s': 'Flow Packets/s',\n",
    "    'Flow Pkts/s': 'Flow Packets/s',\n",
    "    'Flow IAT Mean': 'Flow IAT Mean',\n",
    "    'Flow IAT Std': 'Flow IAT Std',\n",
    "    'Flow IAT Max': 'Flow IAT Max',\n",
    "    'Flow IAT Min': 'Flow IAT Min',\n",
    "    'Fwd IAT Total': 'Fwd IAT Total',\n",
    "    'Fwd IAT Tot': 'Fwd IAT Total',\n",
    "    'Fwd IAT Mean': 'Fwd IAT Mean',\n",
    "    'Fwd IAT Std': 'Fwd IAT Std',\n",
    "    'Fwd IAT Max': 'Fwd IAT Max',\n",
    "    'Fwd IAT Min': 'Fwd IAT Min',\n",
    "    'Bwd IAT Total': 'Bwd IAT Total',\n",
    "    'Bwd IAT Tot': 'Bwd IAT Total',\n",
    "    'Bwd IAT Mean': 'Bwd IAT Mean',\n",
    "    'Bwd IAT Std': 'Bwd IAT Std',\n",
    "    'Bwd IAT Max': 'Bwd IAT Max',\n",
    "    'Bwd IAT Min': 'Bwd IAT Min',\n",
    "    'Fwd PSH Flags': 'Fwd PSH Flags',\n",
    "    'Bwd PSH Flags': 'Bwd PSH Flags',\n",
    "    'Fwd URG Flags': 'Fwd URG Flags',\n",
    "    'Bwd URG Flags': 'Bwd URG Flags',\n",
    "    'Fwd Header Length': 'Fwd Header Length',\n",
    "    'Fwd Header Len': 'Fwd Header Length',\n",
    "    'Bwd Header Length': 'Bwd Header Length',\n",
    "    'Bwd Header Len': 'Bwd Header Length',\n",
    "    'Fwd Packets/s': 'Fwd Packets/s',\n",
    "    'Fwd Pkts/s': 'Fwd Packets/s',\n",
    "    'Bwd Packets/s': 'Bwd Packets/s',\n",
    "    'Bwd Pkts/s': 'Bwd Packets/s',\n",
    "    'Min Packet Length': 'Packet Length Min',\n",
    "    'Pkt Len Min': 'Packet Length Min',\n",
    "    'Max Packet Length': 'Packet Length Max',\n",
    "    'Pkt Len Max': 'Packet Length Max',\n",
    "    'Packet Length Mean': 'Packet Length Mean',\n",
    "    'Pkt Len Mean': 'Packet Length Mean',\n",
    "    'Packet Length Std': 'Packet Length Std',\n",
    "    'Pkt Len Std': 'Packet Length Std',\n",
    "    'Packet Length Variance': 'Packet Length Variance',\n",
    "    'Pkt Len Var': 'Packet Length Variance',\n",
    "    'FIN Flag Count': 'FIN Flag Count',\n",
    "    'FIN Flag Cnt': 'FIN Flag Count',\n",
    "    'SYN Flag Count': 'SYN Flag Count',\n",
    "    'SYN Flag Cnt': 'SYN Flag Count',\n",
    "    'RST Flag Count': 'RST Flag Count',\n",
    "    'RST Flag Cnt': 'RST Flag Count',\n",
    "    'PSH Flag Count': 'PSH Flag Count',\n",
    "    'PSH Flag Cnt': 'PSH Flag Count',\n",
    "    'ACK Flag Count': 'ACK Flag Count',\n",
    "    'ACK Flag Cnt': 'ACK Flag Count',\n",
    "    'URG Flag Count': 'URG Flag Count',\n",
    "    'URG Flag Cnt': 'URG Flag Count',\n",
    "    'CWE Flag Count': 'CWE Flag Count',\n",
    "    'CWE Flag Cnt': 'CWE Flag Count',\n",
    "    'ECE Flag Count': 'ECE Flag Count',\n",
    "    'ECE Flag Cnt': 'ECE Flag Count',\n",
    "    'Down/Up Ratio': 'Down/Up Ratio',\n",
    "    'Average Packet Size': 'Avg Packet Size',\n",
    "    'Pkt Size Avg': 'Avg Packet Size',\n",
    "    'Avg Fwd Segment Size': 'Avg Fwd Segment Size',\n",
    "    'Fwd Seg Size Avg': 'Avg Fwd Segment Size',\n",
    "    'Avg Bwd Segment Size': 'Avg Bwd Segment Size',\n",
    "    'Bwd Seg Size Avg': 'Avg Bwd Segment Size',\n",
    "    'Fwd Avg Bytes/Bulk': 'Fwd Avg Bytes/Bulk',\n",
    "    'Fwd Byts/b Avg': 'Fwd Avg Bytes/Bulk',\n",
    "    'Fwd Avg Packets/Bulk': 'Fwd Avg Packets/Bulk',\n",
    "    'Fwd Pkts/b Avg': 'Fwd Avg Packets/Bulk',\n",
    "    'Fwd Avg Bulk Rate': 'Fwd Avg Bulk Rate',\n",
    "    'Fwd Blk Rate Avg': 'Fwd Avg Bulk Rate',\n",
    "    'Bwd Avg Bytes/Bulk': 'Bwd Avg Bytes/Bulk',\n",
    "    'Bwd Byts/b Avg': 'Bwd Avg Bytes/Bulk',\n",
    "    'Bwd Avg Packets/Bulk': 'Bwd Avg Packets/Bulk',\n",
    "    'Bwd Pkts/b Avg': 'Bwd Avg Packets/Bulk',\n",
    "    'Bwd Avg Bulk Rate': 'Bwd Avg Bulk Rate',\n",
    "    'Bwd Blk Rate Avg': 'Bwd Avg Bulk Rate',\n",
    "    'Subflow Fwd Packets': 'Subflow Fwd Packets',\n",
    "    'Subflow Fwd Pkts': 'Subflow Fwd Packets',\n",
    "    'Subflow Fwd Bytes': 'Subflow Fwd Bytes',\n",
    "    'Subflow Fwd Byts': 'Subflow Fwd Bytes',\n",
    "    'Subflow Bwd Packets': 'Subflow Bwd Packets',\n",
    "    'Subflow Bwd Pkts': 'Subflow Bwd Packets',\n",
    "    'Subflow Bwd Bytes': 'Subflow Bwd Bytes',\n",
    "    'Subflow Bwd Byts': 'Subflow Bwd Bytes',\n",
    "    'Init_Win_bytes_forward': 'Init Fwd Win Bytes',\n",
    "    'Init Fwd Win Byts': 'Init Fwd Win Bytes',\n",
    "    'Init_Win_bytes_backward': 'Init Bwd Win Bytes',\n",
    "    'Init Bwd Win Byts': 'Init Bwd Win Bytes',\n",
    "    'act_data_pkt_fwd': 'Fwd Act Data Packets',\n",
    "    'Fwd Act Data Pkts': 'Fwd Act Data Packets',\n",
    "    'min_seg_size_forward': 'Fwd Seg Size Min',\n",
    "    'Fwd Seg Size Min': 'Fwd Seg Size Min',\n",
    "    'Active Mean': 'Active Mean',\n",
    "    'Active Std': 'Active Std',\n",
    "    'Active Max': 'Active Max',\n",
    "    'Active Min': 'Active Min',\n",
    "    'Idle Mean': 'Idle Mean',\n",
    "    'Idle Std': 'Idle Std',\n",
    "    'Idle Max': 'Idle Max',\n",
    "    'Idle Min': 'Idle Min',\n",
    "    'Label': 'Label'\n",
    "}"
   ],
   "metadata": {
    "collapsed": false
   }
  },
  {
   "cell_type": "markdown",
   "source": [
    "Following Columns may have little insignificance over model"
   ],
   "metadata": {
    "collapsed": false
   }
  },
  {
   "cell_type": "code",
   "execution_count": 4,
   "outputs": [
    {
     "data": {
      "text/plain": "14"
     },
     "execution_count": 4,
     "metadata": {},
     "output_type": "execute_result"
    }
   ],
   "source": [
    "drop_columns = [  # this list includes all spellings across CIC NIDS datasets\n",
    "    \"Flow ID\",\n",
    "    'Fwd Header Length.1',\n",
    "    \"Source IP\",\n",
    "    \"Src IP\",\n",
    "    \"Source Port\",\n",
    "    \"Src Port\",\n",
    "    \"Destination IP\",\n",
    "    \"Dst IP\",\n",
    "    \"Destination Port\",\n",
    "    \"Dst Port\",\n",
    "    \"Timestamp\",\n",
    "    \"Unnamed: 0\",\n",
    "    \"Inbound\",\n",
    "    \"SimillarHTTP\"  # CIC-DDoS other undocumented columns\n",
    "]\n",
    "len(drop_columns)  # src_port,dst_port, src_ip, dst_ip these are duplicate"
   ],
   "metadata": {
    "collapsed": false
   }
  },
  {
   "cell_type": "code",
   "execution_count": 5,
   "outputs": [
    {
     "name": "stdout",
     "output_type": "stream",
     "text": [
      "[name: \"/device:CPU:0\"\n",
      "device_type: \"CPU\"\n",
      "memory_limit: 268435456\n",
      "locality {\n",
      "}\n",
      "incarnation: 13763483456108361193\n",
      ", name: \"/device:GPU:0\"\n",
      "device_type: \"GPU\"\n",
      "memory_limit: 2966106932\n",
      "locality {\n",
      "  bus_id: 1\n",
      "  links {\n",
      "  }\n",
      "}\n",
      "incarnation: 5093324869116794965\n",
      "physical_device_desc: \"device: 0, name: NVIDIA GeForce 940MX, pci bus id: 0000:01:00.0, compute capability: 5.0\"\n",
      "]\n"
     ]
    },
    {
     "data": {
      "text/plain": "[PhysicalDevice(name='/physical_device:GPU:0', device_type='GPU')]"
     },
     "execution_count": 5,
     "metadata": {},
     "output_type": "execute_result"
    }
   ],
   "source": [
    "from tensorflow.python.client import device_lib\n",
    "\n",
    "print(device_lib.list_local_devices())\n",
    "tf.config.experimental.list_physical_devices('GPU')\n",
    "# import cudf\n",
    "# dtypes = {'SimillarHTTP': 'object'}\n",
    "# df_gpu = cudf.read_csv(path_TFTP, blocksize=50e6, low_memory=False, dtype=dtypes)"
   ],
   "metadata": {
    "collapsed": false
   }
  },
  {
   "cell_type": "code",
   "execution_count": 6,
   "outputs": [],
   "source": [
    "def readHugeCsvFileAsDataFrame(file_path):\n",
    "    # start = timer()\n",
    "    dtypes = {'SimillarHTTP': 'object',\n",
    "              'Timestamp': 'object',\n",
    "              'Source IP': 'str',\n",
    "              'Destination IP': 'str',\n",
    "              'Flow ID': 'object',\n",
    "              'Label': 'object',\n",
    "              }\n",
    "    for feature in [f'f_{i}' for i in range(82)]:\n",
    "        dtypes[feature] = \"float32\"\n",
    "\n",
    "    dask_df = dd.read_csv(file_path, low_memory=False, dtype=dtypes)  # 50MB chunk-size\n",
    "    # elapsed_time = timer() - start\n",
    "    # print(\"Read csv with dask: \", elapsed_time, \"sec\")\n",
    "    return dask_df.compute()"
   ],
   "metadata": {
    "collapsed": false
   }
  },
  {
   "cell_type": "code",
   "execution_count": 7,
   "outputs": [
    {
     "data": {
      "text/plain": "<Client: 'tcp://127.0.0.1:12097' processes=4 threads=4, memory=8.47 GB>",
      "text/html": "<table style=\"border: 2px solid white;\">\n<tr>\n<td style=\"vertical-align: top; border: 0px solid white\">\n<h3 style=\"text-align: left;\">Client</h3>\n<ul style=\"text-align: left; list-style: none; margin: 0; padding: 0;\">\n  <li><b>Scheduler: </b>tcp://127.0.0.1:12097</li>\n  <li><b>Dashboard: </b><a href='http://127.0.0.1:8787/status' target='_blank'>http://127.0.0.1:8787/status</a></li>\n</ul>\n</td>\n<td style=\"vertical-align: top; border: 0px solid white\">\n<h3 style=\"text-align: left;\">Cluster</h3>\n<ul style=\"text-align: left; list-style:none; margin: 0; padding: 0;\">\n  <li><b>Workers: </b>4</li>\n  <li><b>Cores: </b>4</li>\n  <li><b>Memory: </b>8.47 GB</li>\n</ul>\n</td>\n</tr>\n</table>"
     },
     "execution_count": 7,
     "metadata": {},
     "output_type": "execute_result"
    }
   ],
   "source": [
    "scheduler = Client()\n",
    "scheduler"
   ],
   "metadata": {
    "collapsed": false
   }
  },
  {
   "cell_type": "markdown",
   "source": [
    "Without Scheduler (see the elapsed time to process)"
   ],
   "metadata": {
    "collapsed": false
   }
  },
  {
   "cell_type": "code",
   "execution_count": 8,
   "outputs": [
    {
     "name": "stdout",
     "output_type": "stream",
     "text": [
      "Wall time: 1min 20s\n"
     ]
    },
    {
     "data": {
      "text/plain": "        Unnamed: 0                                Flow ID   Source IP  \\\n0           281052  172.16.0.5-192.168.50.1-53058-53058-6  172.16.0.5   \n1           450424  172.16.0.5-192.168.50.1-32237-32237-6  172.16.0.5   \n2           182979   172.16.0.5-192.168.50.1-60495-9840-6  172.16.0.5   \n3            41540  172.16.0.5-192.168.50.1-59724-59724-6  172.16.0.5   \n4           358711  172.16.0.5-192.168.50.1-60496-32538-6  172.16.0.5   \n...            ...                                    ...         ...   \n157751      432793  172.16.0.5-192.168.50.1-43299-42563-6  172.16.0.5   \n157752      514566  172.16.0.5-192.168.50.1-43300-58948-6  172.16.0.5   \n157753      147509  172.16.0.5-192.168.50.1-43301-52300-6  172.16.0.5   \n157754       46401  172.16.0.5-192.168.50.1-43302-40846-6  172.16.0.5   \n157755      791758  172.16.0.5-192.168.50.1-43303-51800-6  172.16.0.5   \n\n         Source Port  Destination IP   Destination Port   Protocol  \\\n0              53058    192.168.50.1              53058          6   \n1              32237    192.168.50.1              32237          6   \n2              60495    192.168.50.1               9840          6   \n3              59724    192.168.50.1              59724          6   \n4              60496    192.168.50.1              32538          6   \n...              ...             ...                ...        ...   \n157751         43299    192.168.50.1              42563          6   \n157752         43300    192.168.50.1              58948          6   \n157753         43301    192.168.50.1              52300          6   \n157754         43302    192.168.50.1              40846          6   \n157755         43303    192.168.50.1              51800          6   \n\n                         Timestamp   Flow Duration   Total Fwd Packets  ...  \\\n0       2018-12-01 13:30:30.741451       115799309                  19  ...   \n1       2018-12-01 13:30:30.741452       113973933                  16  ...   \n2       2018-12-01 13:30:30.741501             112                   2  ...   \n3       2018-12-01 13:30:30.741563       105985004                  16  ...   \n4       2018-12-01 13:30:30.741565               1                   2  ...   \n...                            ...             ...                 ...  ...   \n157751  2018-12-01 13:34:27.402384               1                   2  ...   \n157752  2018-12-01 13:34:27.402386               1                   2  ...   \n157753  2018-12-01 13:34:27.402451               1                   2  ...   \n157754  2018-12-01 13:34:27.403142               1                   2  ...   \n157755  2018-12-01 13:34:27.403143              49                   2  ...   \n\n           Active Std   Active Max   Active Min     Idle Mean      Idle Std  \\\n0       646237.483665    1709809.0          1.0  1.426117e+07  3.220326e+06   \n1           19.595918         49.0          1.0  1.628198e+07  2.573891e+06   \n2            0.000000          0.0          0.0  0.000000e+00  0.000000e+00   \n3           17.705259         48.0          1.0  1.514071e+07  3.077366e+06   \n4            0.000000          0.0          0.0  0.000000e+00  0.000000e+00   \n...               ...          ...          ...           ...           ...   \n157751       0.000000          0.0          0.0  0.000000e+00  0.000000e+00   \n157752       0.000000          0.0          0.0  0.000000e+00  0.000000e+00   \n157753       0.000000          0.0          0.0  0.000000e+00  0.000000e+00   \n157754       0.000000          0.0          0.0  0.000000e+00  0.000000e+00   \n157755       0.000000          0.0          0.0  0.000000e+00  0.000000e+00   \n\n          Idle Max    Idle Min  SimillarHTTP   Inbound   Label  \n0       21714933.0  11043464.0             0         1     Syn  \n1       20019405.0  11993631.0             0         1     Syn  \n2              0.0         0.0             0         1     Syn  \n3       20954123.0  11120336.0             0         1     Syn  \n4              0.0         0.0             0         1     Syn  \n...            ...         ...           ...       ...     ...  \n157751         0.0         0.0             0         1     Syn  \n157752         0.0         0.0             0         1     Syn  \n157753         0.0         0.0             0         1     Syn  \n157754         0.0         0.0             0         1     Syn  \n157755         0.0         0.0             0         1     Syn  \n\n[1582681 rows x 88 columns]",
      "text/html": "<div>\n<style scoped>\n    .dataframe tbody tr th:only-of-type {\n        vertical-align: middle;\n    }\n\n    .dataframe tbody tr th {\n        vertical-align: top;\n    }\n\n    .dataframe thead th {\n        text-align: right;\n    }\n</style>\n<table border=\"1\" class=\"dataframe\">\n  <thead>\n    <tr style=\"text-align: right;\">\n      <th></th>\n      <th>Unnamed: 0</th>\n      <th>Flow ID</th>\n      <th>Source IP</th>\n      <th>Source Port</th>\n      <th>Destination IP</th>\n      <th>Destination Port</th>\n      <th>Protocol</th>\n      <th>Timestamp</th>\n      <th>Flow Duration</th>\n      <th>Total Fwd Packets</th>\n      <th>...</th>\n      <th>Active Std</th>\n      <th>Active Max</th>\n      <th>Active Min</th>\n      <th>Idle Mean</th>\n      <th>Idle Std</th>\n      <th>Idle Max</th>\n      <th>Idle Min</th>\n      <th>SimillarHTTP</th>\n      <th>Inbound</th>\n      <th>Label</th>\n    </tr>\n  </thead>\n  <tbody>\n    <tr>\n      <th>0</th>\n      <td>281052</td>\n      <td>172.16.0.5-192.168.50.1-53058-53058-6</td>\n      <td>172.16.0.5</td>\n      <td>53058</td>\n      <td>192.168.50.1</td>\n      <td>53058</td>\n      <td>6</td>\n      <td>2018-12-01 13:30:30.741451</td>\n      <td>115799309</td>\n      <td>19</td>\n      <td>...</td>\n      <td>646237.483665</td>\n      <td>1709809.0</td>\n      <td>1.0</td>\n      <td>1.426117e+07</td>\n      <td>3.220326e+06</td>\n      <td>21714933.0</td>\n      <td>11043464.0</td>\n      <td>0</td>\n      <td>1</td>\n      <td>Syn</td>\n    </tr>\n    <tr>\n      <th>1</th>\n      <td>450424</td>\n      <td>172.16.0.5-192.168.50.1-32237-32237-6</td>\n      <td>172.16.0.5</td>\n      <td>32237</td>\n      <td>192.168.50.1</td>\n      <td>32237</td>\n      <td>6</td>\n      <td>2018-12-01 13:30:30.741452</td>\n      <td>113973933</td>\n      <td>16</td>\n      <td>...</td>\n      <td>19.595918</td>\n      <td>49.0</td>\n      <td>1.0</td>\n      <td>1.628198e+07</td>\n      <td>2.573891e+06</td>\n      <td>20019405.0</td>\n      <td>11993631.0</td>\n      <td>0</td>\n      <td>1</td>\n      <td>Syn</td>\n    </tr>\n    <tr>\n      <th>2</th>\n      <td>182979</td>\n      <td>172.16.0.5-192.168.50.1-60495-9840-6</td>\n      <td>172.16.0.5</td>\n      <td>60495</td>\n      <td>192.168.50.1</td>\n      <td>9840</td>\n      <td>6</td>\n      <td>2018-12-01 13:30:30.741501</td>\n      <td>112</td>\n      <td>2</td>\n      <td>...</td>\n      <td>0.000000</td>\n      <td>0.0</td>\n      <td>0.0</td>\n      <td>0.000000e+00</td>\n      <td>0.000000e+00</td>\n      <td>0.0</td>\n      <td>0.0</td>\n      <td>0</td>\n      <td>1</td>\n      <td>Syn</td>\n    </tr>\n    <tr>\n      <th>3</th>\n      <td>41540</td>\n      <td>172.16.0.5-192.168.50.1-59724-59724-6</td>\n      <td>172.16.0.5</td>\n      <td>59724</td>\n      <td>192.168.50.1</td>\n      <td>59724</td>\n      <td>6</td>\n      <td>2018-12-01 13:30:30.741563</td>\n      <td>105985004</td>\n      <td>16</td>\n      <td>...</td>\n      <td>17.705259</td>\n      <td>48.0</td>\n      <td>1.0</td>\n      <td>1.514071e+07</td>\n      <td>3.077366e+06</td>\n      <td>20954123.0</td>\n      <td>11120336.0</td>\n      <td>0</td>\n      <td>1</td>\n      <td>Syn</td>\n    </tr>\n    <tr>\n      <th>4</th>\n      <td>358711</td>\n      <td>172.16.0.5-192.168.50.1-60496-32538-6</td>\n      <td>172.16.0.5</td>\n      <td>60496</td>\n      <td>192.168.50.1</td>\n      <td>32538</td>\n      <td>6</td>\n      <td>2018-12-01 13:30:30.741565</td>\n      <td>1</td>\n      <td>2</td>\n      <td>...</td>\n      <td>0.000000</td>\n      <td>0.0</td>\n      <td>0.0</td>\n      <td>0.000000e+00</td>\n      <td>0.000000e+00</td>\n      <td>0.0</td>\n      <td>0.0</td>\n      <td>0</td>\n      <td>1</td>\n      <td>Syn</td>\n    </tr>\n    <tr>\n      <th>...</th>\n      <td>...</td>\n      <td>...</td>\n      <td>...</td>\n      <td>...</td>\n      <td>...</td>\n      <td>...</td>\n      <td>...</td>\n      <td>...</td>\n      <td>...</td>\n      <td>...</td>\n      <td>...</td>\n      <td>...</td>\n      <td>...</td>\n      <td>...</td>\n      <td>...</td>\n      <td>...</td>\n      <td>...</td>\n      <td>...</td>\n      <td>...</td>\n      <td>...</td>\n      <td>...</td>\n    </tr>\n    <tr>\n      <th>157751</th>\n      <td>432793</td>\n      <td>172.16.0.5-192.168.50.1-43299-42563-6</td>\n      <td>172.16.0.5</td>\n      <td>43299</td>\n      <td>192.168.50.1</td>\n      <td>42563</td>\n      <td>6</td>\n      <td>2018-12-01 13:34:27.402384</td>\n      <td>1</td>\n      <td>2</td>\n      <td>...</td>\n      <td>0.000000</td>\n      <td>0.0</td>\n      <td>0.0</td>\n      <td>0.000000e+00</td>\n      <td>0.000000e+00</td>\n      <td>0.0</td>\n      <td>0.0</td>\n      <td>0</td>\n      <td>1</td>\n      <td>Syn</td>\n    </tr>\n    <tr>\n      <th>157752</th>\n      <td>514566</td>\n      <td>172.16.0.5-192.168.50.1-43300-58948-6</td>\n      <td>172.16.0.5</td>\n      <td>43300</td>\n      <td>192.168.50.1</td>\n      <td>58948</td>\n      <td>6</td>\n      <td>2018-12-01 13:34:27.402386</td>\n      <td>1</td>\n      <td>2</td>\n      <td>...</td>\n      <td>0.000000</td>\n      <td>0.0</td>\n      <td>0.0</td>\n      <td>0.000000e+00</td>\n      <td>0.000000e+00</td>\n      <td>0.0</td>\n      <td>0.0</td>\n      <td>0</td>\n      <td>1</td>\n      <td>Syn</td>\n    </tr>\n    <tr>\n      <th>157753</th>\n      <td>147509</td>\n      <td>172.16.0.5-192.168.50.1-43301-52300-6</td>\n      <td>172.16.0.5</td>\n      <td>43301</td>\n      <td>192.168.50.1</td>\n      <td>52300</td>\n      <td>6</td>\n      <td>2018-12-01 13:34:27.402451</td>\n      <td>1</td>\n      <td>2</td>\n      <td>...</td>\n      <td>0.000000</td>\n      <td>0.0</td>\n      <td>0.0</td>\n      <td>0.000000e+00</td>\n      <td>0.000000e+00</td>\n      <td>0.0</td>\n      <td>0.0</td>\n      <td>0</td>\n      <td>1</td>\n      <td>Syn</td>\n    </tr>\n    <tr>\n      <th>157754</th>\n      <td>46401</td>\n      <td>172.16.0.5-192.168.50.1-43302-40846-6</td>\n      <td>172.16.0.5</td>\n      <td>43302</td>\n      <td>192.168.50.1</td>\n      <td>40846</td>\n      <td>6</td>\n      <td>2018-12-01 13:34:27.403142</td>\n      <td>1</td>\n      <td>2</td>\n      <td>...</td>\n      <td>0.000000</td>\n      <td>0.0</td>\n      <td>0.0</td>\n      <td>0.000000e+00</td>\n      <td>0.000000e+00</td>\n      <td>0.0</td>\n      <td>0.0</td>\n      <td>0</td>\n      <td>1</td>\n      <td>Syn</td>\n    </tr>\n    <tr>\n      <th>157755</th>\n      <td>791758</td>\n      <td>172.16.0.5-192.168.50.1-43303-51800-6</td>\n      <td>172.16.0.5</td>\n      <td>43303</td>\n      <td>192.168.50.1</td>\n      <td>51800</td>\n      <td>6</td>\n      <td>2018-12-01 13:34:27.403143</td>\n      <td>49</td>\n      <td>2</td>\n      <td>...</td>\n      <td>0.000000</td>\n      <td>0.0</td>\n      <td>0.0</td>\n      <td>0.000000e+00</td>\n      <td>0.000000e+00</td>\n      <td>0.0</td>\n      <td>0.0</td>\n      <td>0</td>\n      <td>1</td>\n      <td>Syn</td>\n    </tr>\n  </tbody>\n</table>\n<p>1582681 rows × 88 columns</p>\n</div>"
     },
     "execution_count": 8,
     "metadata": {},
     "output_type": "execute_result"
    }
   ],
   "source": [
    "%%time\n",
    "# workingDataFrame = readHugeCsvFileAsDataFrame(path_UDPLag)\n",
    "workingDataFrame = readHugeCsvFileAsDataFrame(path_Syn)\n",
    "# workingDataFrame.describe()\n",
    "workingDataFrame"
   ],
   "metadata": {
    "collapsed": false
   }
  },
  {
   "cell_type": "markdown",
   "source": [
    "With Scheduler (see the elapsed time to process)"
   ],
   "metadata": {
    "collapsed": false
   }
  },
  {
   "cell_type": "markdown",
   "source": [
    "%%time\n",
    "workingDataFrame = scheduler.submit(readHugeCsvFileAsDataFrame, path_UDPLag)\n",
    "df = workingDataFrame.result()\n",
    "df"
   ],
   "metadata": {
    "collapsed": false
   }
  },
  {
   "cell_type": "code",
   "execution_count": 9,
   "outputs": [
    {
     "data": {
      "text/plain": "Index(['Unnamed: 0', 'Flow ID', ' Source IP', ' Source Port',\n       ' Destination IP', ' Destination Port', ' Protocol', ' Timestamp',\n       ' Flow Duration', ' Total Fwd Packets', ' Total Backward Packets',\n       'Total Length of Fwd Packets', ' Total Length of Bwd Packets',\n       ' Fwd Packet Length Max', ' Fwd Packet Length Min',\n       ' Fwd Packet Length Mean', ' Fwd Packet Length Std',\n       'Bwd Packet Length Max', ' Bwd Packet Length Min',\n       ' Bwd Packet Length Mean', ' Bwd Packet Length Std', 'Flow Bytes/s',\n       ' Flow Packets/s', ' Flow IAT Mean', ' Flow IAT Std', ' Flow IAT Max',\n       ' Flow IAT Min', 'Fwd IAT Total', ' Fwd IAT Mean', ' Fwd IAT Std',\n       ' Fwd IAT Max', ' Fwd IAT Min', 'Bwd IAT Total', ' Bwd IAT Mean',\n       ' Bwd IAT Std', ' Bwd IAT Max', ' Bwd IAT Min', 'Fwd PSH Flags',\n       ' Bwd PSH Flags', ' Fwd URG Flags', ' Bwd URG Flags',\n       ' Fwd Header Length', ' Bwd Header Length', 'Fwd Packets/s',\n       ' Bwd Packets/s', ' Min Packet Length', ' Max Packet Length',\n       ' Packet Length Mean', ' Packet Length Std', ' Packet Length Variance',\n       'FIN Flag Count', ' SYN Flag Count', ' RST Flag Count',\n       ' PSH Flag Count', ' ACK Flag Count', ' URG Flag Count',\n       ' CWE Flag Count', ' ECE Flag Count', ' Down/Up Ratio',\n       ' Average Packet Size', ' Avg Fwd Segment Size',\n       ' Avg Bwd Segment Size', ' Fwd Header Length.1', 'Fwd Avg Bytes/Bulk',\n       ' Fwd Avg Packets/Bulk', ' Fwd Avg Bulk Rate', ' Bwd Avg Bytes/Bulk',\n       ' Bwd Avg Packets/Bulk', 'Bwd Avg Bulk Rate', 'Subflow Fwd Packets',\n       ' Subflow Fwd Bytes', ' Subflow Bwd Packets', ' Subflow Bwd Bytes',\n       'Init_Win_bytes_forward', ' Init_Win_bytes_backward',\n       ' act_data_pkt_fwd', ' min_seg_size_forward', 'Active Mean',\n       ' Active Std', ' Active Max', ' Active Min', 'Idle Mean', ' Idle Std',\n       ' Idle Max', ' Idle Min', 'SimillarHTTP', ' Inbound', ' Label'],\n      dtype='object')"
     },
     "execution_count": 9,
     "metadata": {},
     "output_type": "execute_result"
    }
   ],
   "source": [
    "workingDataFrame.columns"
   ],
   "metadata": {
    "collapsed": false
   }
  },
  {
   "cell_type": "code",
   "execution_count": 10,
   "outputs": [
    {
     "data": {
      "text/plain": "Unnamed: 0         0\nFlow ID            0\n Source IP         0\n Source Port       0\n Destination IP    0\n                  ..\n Idle Max          0\n Idle Min          0\nSimillarHTTP       0\n Inbound           0\n Label             0\nLength: 88, dtype: int64"
     },
     "execution_count": 10,
     "metadata": {},
     "output_type": "execute_result"
    }
   ],
   "source": [
    "workingDataFrame.isnull().sum()"
   ],
   "metadata": {
    "collapsed": false
   }
  },
  {
   "cell_type": "markdown",
   "source": [
    "Dropping Unnecessary Features"
   ],
   "metadata": {
    "collapsed": false
   }
  },
  {
   "cell_type": "code",
   "execution_count": 11,
   "outputs": [
    {
     "data": {
      "text/plain": "   Protocol  Flow Duration  Total Fwd Packets  Total Backward Packets  \\\n0         6      115799309                 19                       2   \n1         6      113973933                 16                       0   \n2         6            112                  2                       2   \n3         6      105985004                 16                       0   \n4         6              1                  2                       0   \n\n   Fwd Packets Length Total  Bwd Packets Length Total  Fwd Packet Length Max  \\\n0                       0.0                       0.0                    0.0   \n1                       0.0                       0.0                    0.0   \n2                       0.0                       0.0                    0.0   \n3                       0.0                       0.0                    0.0   \n4                       0.0                       0.0                    0.0   \n\n   Fwd Packet Length Min  Fwd Packet Length Mean  Fwd Packet Length Std  ...  \\\n0                    0.0                     0.0                    0.0  ...   \n1                    0.0                     0.0                    0.0  ...   \n2                    0.0                     0.0                    0.0  ...   \n3                    0.0                     0.0                    0.0  ...   \n4                    0.0                     0.0                    0.0  ...   \n\n   Fwd Seg Size Min    Active Mean     Active Std  Active Max  Active Min  \\\n0                20  244280.142857  646237.483665   1709809.0         1.0   \n1                20       9.000000      19.595918        49.0         1.0   \n2                20       0.000000       0.000000         0.0         0.0   \n3                20       7.857143      17.705259        48.0         1.0   \n4                20       0.000000       0.000000         0.0         0.0   \n\n      Idle Mean      Idle Std    Idle Max    Idle Min  Label  \n0  1.426117e+07  3.220326e+06  21714933.0  11043464.0    Syn  \n1  1.628198e+07  2.573891e+06  20019405.0  11993631.0    Syn  \n2  0.000000e+00  0.000000e+00         0.0         0.0    Syn  \n3  1.514071e+07  3.077366e+06  20954123.0  11120336.0    Syn  \n4  0.000000e+00  0.000000e+00         0.0         0.0    Syn  \n\n[5 rows x 78 columns]",
      "text/html": "<div>\n<style scoped>\n    .dataframe tbody tr th:only-of-type {\n        vertical-align: middle;\n    }\n\n    .dataframe tbody tr th {\n        vertical-align: top;\n    }\n\n    .dataframe thead th {\n        text-align: right;\n    }\n</style>\n<table border=\"1\" class=\"dataframe\">\n  <thead>\n    <tr style=\"text-align: right;\">\n      <th></th>\n      <th>Protocol</th>\n      <th>Flow Duration</th>\n      <th>Total Fwd Packets</th>\n      <th>Total Backward Packets</th>\n      <th>Fwd Packets Length Total</th>\n      <th>Bwd Packets Length Total</th>\n      <th>Fwd Packet Length Max</th>\n      <th>Fwd Packet Length Min</th>\n      <th>Fwd Packet Length Mean</th>\n      <th>Fwd Packet Length Std</th>\n      <th>...</th>\n      <th>Fwd Seg Size Min</th>\n      <th>Active Mean</th>\n      <th>Active Std</th>\n      <th>Active Max</th>\n      <th>Active Min</th>\n      <th>Idle Mean</th>\n      <th>Idle Std</th>\n      <th>Idle Max</th>\n      <th>Idle Min</th>\n      <th>Label</th>\n    </tr>\n  </thead>\n  <tbody>\n    <tr>\n      <th>0</th>\n      <td>6</td>\n      <td>115799309</td>\n      <td>19</td>\n      <td>2</td>\n      <td>0.0</td>\n      <td>0.0</td>\n      <td>0.0</td>\n      <td>0.0</td>\n      <td>0.0</td>\n      <td>0.0</td>\n      <td>...</td>\n      <td>20</td>\n      <td>244280.142857</td>\n      <td>646237.483665</td>\n      <td>1709809.0</td>\n      <td>1.0</td>\n      <td>1.426117e+07</td>\n      <td>3.220326e+06</td>\n      <td>21714933.0</td>\n      <td>11043464.0</td>\n      <td>Syn</td>\n    </tr>\n    <tr>\n      <th>1</th>\n      <td>6</td>\n      <td>113973933</td>\n      <td>16</td>\n      <td>0</td>\n      <td>0.0</td>\n      <td>0.0</td>\n      <td>0.0</td>\n      <td>0.0</td>\n      <td>0.0</td>\n      <td>0.0</td>\n      <td>...</td>\n      <td>20</td>\n      <td>9.000000</td>\n      <td>19.595918</td>\n      <td>49.0</td>\n      <td>1.0</td>\n      <td>1.628198e+07</td>\n      <td>2.573891e+06</td>\n      <td>20019405.0</td>\n      <td>11993631.0</td>\n      <td>Syn</td>\n    </tr>\n    <tr>\n      <th>2</th>\n      <td>6</td>\n      <td>112</td>\n      <td>2</td>\n      <td>2</td>\n      <td>0.0</td>\n      <td>0.0</td>\n      <td>0.0</td>\n      <td>0.0</td>\n      <td>0.0</td>\n      <td>0.0</td>\n      <td>...</td>\n      <td>20</td>\n      <td>0.000000</td>\n      <td>0.000000</td>\n      <td>0.0</td>\n      <td>0.0</td>\n      <td>0.000000e+00</td>\n      <td>0.000000e+00</td>\n      <td>0.0</td>\n      <td>0.0</td>\n      <td>Syn</td>\n    </tr>\n    <tr>\n      <th>3</th>\n      <td>6</td>\n      <td>105985004</td>\n      <td>16</td>\n      <td>0</td>\n      <td>0.0</td>\n      <td>0.0</td>\n      <td>0.0</td>\n      <td>0.0</td>\n      <td>0.0</td>\n      <td>0.0</td>\n      <td>...</td>\n      <td>20</td>\n      <td>7.857143</td>\n      <td>17.705259</td>\n      <td>48.0</td>\n      <td>1.0</td>\n      <td>1.514071e+07</td>\n      <td>3.077366e+06</td>\n      <td>20954123.0</td>\n      <td>11120336.0</td>\n      <td>Syn</td>\n    </tr>\n    <tr>\n      <th>4</th>\n      <td>6</td>\n      <td>1</td>\n      <td>2</td>\n      <td>0</td>\n      <td>0.0</td>\n      <td>0.0</td>\n      <td>0.0</td>\n      <td>0.0</td>\n      <td>0.0</td>\n      <td>0.0</td>\n      <td>...</td>\n      <td>20</td>\n      <td>0.000000</td>\n      <td>0.000000</td>\n      <td>0.0</td>\n      <td>0.0</td>\n      <td>0.000000e+00</td>\n      <td>0.000000e+00</td>\n      <td>0.0</td>\n      <td>0.0</td>\n      <td>Syn</td>\n    </tr>\n  </tbody>\n</table>\n<p>5 rows × 78 columns</p>\n</div>"
     },
     "execution_count": 11,
     "metadata": {},
     "output_type": "execute_result"
    }
   ],
   "source": [
    "workingDataFrame.columns = workingDataFrame.columns.str.strip()  # sometimes there's leading / trailing whitespace\n",
    "workingDataFrame.drop(columns=drop_columns, inplace=True, errors='ignore')\n",
    "workingDataFrame.rename(columns=col_name_consistency, inplace=True)\n",
    "\n",
    "workingDataFrame.head()"
   ],
   "metadata": {
    "collapsed": false
   }
  },
  {
   "cell_type": "code",
   "execution_count": 12,
   "outputs": [
    {
     "name": "stdout",
     "output_type": "stream",
     "text": [
      "<class 'pandas.core.frame.DataFrame'>\n",
      "Int64Index: 1582681 entries, 0 to 157755\n",
      "Data columns (total 78 columns):\n",
      " #   Column                    Non-Null Count    Dtype  \n",
      "---  ------                    --------------    -----  \n",
      " 0   Protocol                  1582681 non-null  int64  \n",
      " 1   Flow Duration             1582681 non-null  int64  \n",
      " 2   Total Fwd Packets         1582681 non-null  int64  \n",
      " 3   Total Backward Packets    1582681 non-null  int64  \n",
      " 4   Fwd Packets Length Total  1582681 non-null  float64\n",
      " 5   Bwd Packets Length Total  1582681 non-null  float64\n",
      " 6   Fwd Packet Length Max     1582681 non-null  float64\n",
      " 7   Fwd Packet Length Min     1582681 non-null  float64\n",
      " 8   Fwd Packet Length Mean    1582681 non-null  float64\n",
      " 9   Fwd Packet Length Std     1582681 non-null  float64\n",
      " 10  Bwd Packet Length Max     1582681 non-null  float64\n",
      " 11  Bwd Packet Length Min     1582681 non-null  float64\n",
      " 12  Bwd Packet Length Mean    1582681 non-null  float64\n",
      " 13  Bwd Packet Length Std     1582681 non-null  float64\n",
      " 14  Flow Bytes/s              1380404 non-null  float64\n",
      " 15  Flow Packets/s            1582681 non-null  float64\n",
      " 16  Flow IAT Mean             1582681 non-null  float64\n",
      " 17  Flow IAT Std              1582681 non-null  float64\n",
      " 18  Flow IAT Max              1582681 non-null  float64\n",
      " 19  Flow IAT Min              1582681 non-null  float64\n",
      " 20  Fwd IAT Total             1582681 non-null  float64\n",
      " 21  Fwd IAT Mean              1582681 non-null  float64\n",
      " 22  Fwd IAT Std               1582681 non-null  float64\n",
      " 23  Fwd IAT Max               1582681 non-null  float64\n",
      " 24  Fwd IAT Min               1582681 non-null  float64\n",
      " 25  Bwd IAT Total             1582681 non-null  float64\n",
      " 26  Bwd IAT Mean              1582681 non-null  float64\n",
      " 27  Bwd IAT Std               1582681 non-null  float64\n",
      " 28  Bwd IAT Max               1582681 non-null  float64\n",
      " 29  Bwd IAT Min               1582681 non-null  float64\n",
      " 30  Fwd PSH Flags             1582681 non-null  int64  \n",
      " 31  Bwd PSH Flags             1582681 non-null  int64  \n",
      " 32  Fwd URG Flags             1582681 non-null  int64  \n",
      " 33  Bwd URG Flags             1582681 non-null  int64  \n",
      " 34  Fwd Header Length         1582681 non-null  int64  \n",
      " 35  Bwd Header Length         1582681 non-null  int64  \n",
      " 36  Fwd Packets/s             1582681 non-null  float64\n",
      " 37  Bwd Packets/s             1582681 non-null  float64\n",
      " 38  Packet Length Min         1582681 non-null  float64\n",
      " 39  Packet Length Max         1582681 non-null  float64\n",
      " 40  Packet Length Mean        1582681 non-null  float64\n",
      " 41  Packet Length Std         1582681 non-null  float64\n",
      " 42  Packet Length Variance    1582681 non-null  float64\n",
      " 43  FIN Flag Count            1582681 non-null  int64  \n",
      " 44  SYN Flag Count            1582681 non-null  int64  \n",
      " 45  RST Flag Count            1582681 non-null  int64  \n",
      " 46  PSH Flag Count            1582681 non-null  int64  \n",
      " 47  ACK Flag Count            1582681 non-null  int64  \n",
      " 48  URG Flag Count            1582681 non-null  int64  \n",
      " 49  CWE Flag Count            1582681 non-null  int64  \n",
      " 50  ECE Flag Count            1582681 non-null  int64  \n",
      " 51  Down/Up Ratio             1582681 non-null  float64\n",
      " 52  Avg Packet Size           1582681 non-null  float64\n",
      " 53  Avg Fwd Segment Size      1582681 non-null  float64\n",
      " 54  Avg Bwd Segment Size      1582681 non-null  float64\n",
      " 55  Fwd Avg Bytes/Bulk        1582681 non-null  int64  \n",
      " 56  Fwd Avg Packets/Bulk      1582681 non-null  int64  \n",
      " 57  Fwd Avg Bulk Rate         1582681 non-null  int64  \n",
      " 58  Bwd Avg Bytes/Bulk        1582681 non-null  int64  \n",
      " 59  Bwd Avg Packets/Bulk      1582681 non-null  int64  \n",
      " 60  Bwd Avg Bulk Rate         1582681 non-null  int64  \n",
      " 61  Subflow Fwd Packets       1582681 non-null  int64  \n",
      " 62  Subflow Fwd Bytes         1582681 non-null  int64  \n",
      " 63  Subflow Bwd Packets       1582681 non-null  int64  \n",
      " 64  Subflow Bwd Bytes         1582681 non-null  int64  \n",
      " 65  Init Fwd Win Bytes        1582681 non-null  int64  \n",
      " 66  Init Bwd Win Bytes        1582681 non-null  int64  \n",
      " 67  Fwd Act Data Packets      1582681 non-null  int64  \n",
      " 68  Fwd Seg Size Min          1582681 non-null  int64  \n",
      " 69  Active Mean               1582681 non-null  float64\n",
      " 70  Active Std                1582681 non-null  float64\n",
      " 71  Active Max                1582681 non-null  float64\n",
      " 72  Active Min                1582681 non-null  float64\n",
      " 73  Idle Mean                 1582681 non-null  float64\n",
      " 74  Idle Std                  1582681 non-null  float64\n",
      " 75  Idle Max                  1582681 non-null  float64\n",
      " 76  Idle Min                  1582681 non-null  float64\n",
      " 77  Label                     1582681 non-null  object \n",
      "dtypes: float64(45), int64(32), object(1)\n",
      "memory usage: 1.0 GB\n"
     ]
    }
   ],
   "source": [
    "# workingDataFrame.dtypes\n",
    "workingDataFrame.info(memory_usage=\"deep\")"
   ],
   "metadata": {
    "collapsed": false
   }
  },
  {
   "cell_type": "markdown",
   "source": [
    "Data Cleaning Based on Data Types (DownSizing)"
   ],
   "metadata": {
    "collapsed": false
   }
  },
  {
   "cell_type": "code",
   "execution_count": 13,
   "outputs": [
    {
     "name": "stdout",
     "output_type": "stream",
     "text": [
      "<class 'pandas.core.frame.DataFrame'>\n",
      "Int64Index: 1582681 entries, 0 to 157755\n",
      "Data columns (total 78 columns):\n",
      " #   Column                    Non-Null Count    Dtype  \n",
      "---  ------                    --------------    -----  \n",
      " 0   Protocol                  1582681 non-null  int8   \n",
      " 1   Flow Duration             1582681 non-null  int32  \n",
      " 2   Total Fwd Packets         1582681 non-null  int16  \n",
      " 3   Total Backward Packets    1582681 non-null  int16  \n",
      " 4   Fwd Packets Length Total  1582681 non-null  float32\n",
      " 5   Bwd Packets Length Total  1582681 non-null  float32\n",
      " 6   Fwd Packet Length Max     1582681 non-null  float32\n",
      " 7   Fwd Packet Length Min     1582681 non-null  float32\n",
      " 8   Fwd Packet Length Mean    1582681 non-null  float32\n",
      " 9   Fwd Packet Length Std     1582681 non-null  float32\n",
      " 10  Bwd Packet Length Max     1582681 non-null  float32\n",
      " 11  Bwd Packet Length Min     1582681 non-null  float32\n",
      " 12  Bwd Packet Length Mean    1582681 non-null  float32\n",
      " 13  Bwd Packet Length Std     1582681 non-null  float32\n",
      " 14  Flow Bytes/s              1380404 non-null  float32\n",
      " 15  Flow Packets/s            1582681 non-null  float32\n",
      " 16  Flow IAT Mean             1582681 non-null  float32\n",
      " 17  Flow IAT Std              1582681 non-null  float32\n",
      " 18  Flow IAT Max              1582681 non-null  float32\n",
      " 19  Flow IAT Min              1582681 non-null  float32\n",
      " 20  Fwd IAT Total             1582681 non-null  float32\n",
      " 21  Fwd IAT Mean              1582681 non-null  float32\n",
      " 22  Fwd IAT Std               1582681 non-null  float32\n",
      " 23  Fwd IAT Max               1582681 non-null  float32\n",
      " 24  Fwd IAT Min               1582681 non-null  float32\n",
      " 25  Bwd IAT Total             1582681 non-null  float32\n",
      " 26  Bwd IAT Mean              1582681 non-null  float32\n",
      " 27  Bwd IAT Std               1582681 non-null  float32\n",
      " 28  Bwd IAT Max               1582681 non-null  float32\n",
      " 29  Bwd IAT Min               1582681 non-null  float32\n",
      " 30  Fwd PSH Flags             1582681 non-null  int8   \n",
      " 31  Bwd PSH Flags             1582681 non-null  int8   \n",
      " 32  Fwd URG Flags             1582681 non-null  int8   \n",
      " 33  Bwd URG Flags             1582681 non-null  int8   \n",
      " 34  Fwd Header Length         1582681 non-null  int16  \n",
      " 35  Bwd Header Length         1582681 non-null  int16  \n",
      " 36  Fwd Packets/s             1582681 non-null  float32\n",
      " 37  Bwd Packets/s             1582681 non-null  float32\n",
      " 38  Packet Length Min         1582681 non-null  float32\n",
      " 39  Packet Length Max         1582681 non-null  float32\n",
      " 40  Packet Length Mean        1582681 non-null  float32\n",
      " 41  Packet Length Std         1582681 non-null  float32\n",
      " 42  Packet Length Variance    1582681 non-null  float32\n",
      " 43  FIN Flag Count            1582681 non-null  int8   \n",
      " 44  SYN Flag Count            1582681 non-null  int8   \n",
      " 45  RST Flag Count            1582681 non-null  int8   \n",
      " 46  PSH Flag Count            1582681 non-null  int8   \n",
      " 47  ACK Flag Count            1582681 non-null  int8   \n",
      " 48  URG Flag Count            1582681 non-null  int8   \n",
      " 49  CWE Flag Count            1582681 non-null  int8   \n",
      " 50  ECE Flag Count            1582681 non-null  int8   \n",
      " 51  Down/Up Ratio             1582681 non-null  float32\n",
      " 52  Avg Packet Size           1582681 non-null  float32\n",
      " 53  Avg Fwd Segment Size      1582681 non-null  float32\n",
      " 54  Avg Bwd Segment Size      1582681 non-null  float32\n",
      " 55  Fwd Avg Bytes/Bulk        1582681 non-null  int8   \n",
      " 56  Fwd Avg Packets/Bulk      1582681 non-null  int8   \n",
      " 57  Fwd Avg Bulk Rate         1582681 non-null  int8   \n",
      " 58  Bwd Avg Bytes/Bulk        1582681 non-null  int8   \n",
      " 59  Bwd Avg Packets/Bulk      1582681 non-null  int8   \n",
      " 60  Bwd Avg Bulk Rate         1582681 non-null  int8   \n",
      " 61  Subflow Fwd Packets       1582681 non-null  int16  \n",
      " 62  Subflow Fwd Bytes         1582681 non-null  int32  \n",
      " 63  Subflow Bwd Packets       1582681 non-null  int16  \n",
      " 64  Subflow Bwd Bytes         1582681 non-null  int32  \n",
      " 65  Init Fwd Win Bytes        1582681 non-null  int32  \n",
      " 66  Init Bwd Win Bytes        1582681 non-null  int32  \n",
      " 67  Fwd Act Data Packets      1582681 non-null  int8   \n",
      " 68  Fwd Seg Size Min          1582681 non-null  int8   \n",
      " 69  Active Mean               1582681 non-null  float32\n",
      " 70  Active Std                1582681 non-null  float32\n",
      " 71  Active Max                1582681 non-null  float32\n",
      " 72  Active Min                1582681 non-null  float32\n",
      " 73  Idle Mean                 1582681 non-null  float32\n",
      " 74  Idle Std                  1582681 non-null  float32\n",
      " 75  Idle Max                  1582681 non-null  float32\n",
      " 76  Idle Min                  1582681 non-null  float32\n",
      " 77  Label                     1582681 non-null  object \n",
      "dtypes: float32(45), int16(6), int32(5), int8(21), object(1)\n",
      "memory usage: 454.3 MB\n"
     ]
    }
   ],
   "source": [
    "for column in workingDataFrame:\n",
    "    if workingDataFrame[column].dtype == 'float64':\n",
    "        workingDataFrame[column] = pd.to_numeric(workingDataFrame[column], downcast='float')\n",
    "    if workingDataFrame[column].dtype == 'int64':\n",
    "        workingDataFrame[column] = pd.to_numeric(workingDataFrame[column], downcast='integer')\n",
    "\n",
    "workingDataFrame.info(memory_usage=\"deep\")"
   ],
   "metadata": {
    "collapsed": false
   }
  },
  {
   "cell_type": "markdown",
   "source": [
    "Removing NaN values"
   ],
   "metadata": {
    "collapsed": false
   }
  },
  {
   "cell_type": "code",
   "execution_count": 14,
   "outputs": [
    {
     "data": {
      "text/plain": "202277"
     },
     "execution_count": 14,
     "metadata": {},
     "output_type": "execute_result"
    }
   ],
   "source": [
    "workingDataFrame.isna().any(axis=1).sum()"
   ],
   "metadata": {
    "collapsed": false
   }
  },
  {
   "cell_type": "code",
   "execution_count": 15,
   "outputs": [],
   "source": [
    "workingDataFrame.replace([np.inf, -np.inf], np.nan, inplace=True)\n",
    "workingDataFrame.dropna(inplace=True)"
   ],
   "metadata": {
    "collapsed": false
   }
  },
  {
   "cell_type": "markdown",
   "source": [
    "After Dropping NaN values, want to see total rows.\n",
    "That's why, Converting pandas dataFrame into dask's dataFrame"
   ],
   "metadata": {
    "collapsed": false
   }
  },
  {
   "cell_type": "code",
   "execution_count": 16,
   "outputs": [
    {
     "data": {
      "text/plain": "        Protocol  Flow Duration  Total Fwd Packets  Total Backward Packets  \\\n0              6      115799309                 19                       2   \n0              6             48                  2                       0   \n0              6              2                  2                       0   \n0              6              1                  2                       0   \n0              6              1                  2                       0   \n...          ...            ...                ...                     ...   \n164691         6              1                  2                       0   \n164692         6             97                  2                       2   \n164693         6              1                  2                       0   \n164694         6              1                  2                       0   \n164695         6              1                  2                       0   \n\n        Fwd Packets Length Total  Bwd Packets Length Total  \\\n0                            0.0                       0.0   \n0                            0.0                       0.0   \n0                            0.0                       0.0   \n0                            0.0                       0.0   \n0                            0.0                       0.0   \n...                          ...                       ...   \n164691                       0.0                       0.0   \n164692                       0.0                       0.0   \n164693                       0.0                       0.0   \n164694                       0.0                       0.0   \n164695                       0.0                       0.0   \n\n        Fwd Packet Length Max  Fwd Packet Length Min  Fwd Packet Length Mean  \\\n0                         0.0                    0.0                     0.0   \n0                         0.0                    0.0                     0.0   \n0                         0.0                    0.0                     0.0   \n0                         0.0                    0.0                     0.0   \n0                         0.0                    0.0                     0.0   \n...                       ...                    ...                     ...   \n164691                    0.0                    0.0                     0.0   \n164692                    0.0                    0.0                     0.0   \n164693                    0.0                    0.0                     0.0   \n164694                    0.0                    0.0                     0.0   \n164695                    0.0                    0.0                     0.0   \n\n        Fwd Packet Length Std  ...  Fwd Seg Size Min    Active Mean  \\\n0                         0.0  ...                20  244280.140625   \n0                         0.0  ...                20       0.000000   \n0                         0.0  ...                20       0.000000   \n0                         0.0  ...                20       0.000000   \n0                         0.0  ...                20       0.000000   \n...                       ...  ...               ...            ...   \n164691                    0.0  ...                20       0.000000   \n164692                    0.0  ...                20       0.000000   \n164693                    0.0  ...                20       0.000000   \n164694                    0.0  ...                20       0.000000   \n164695                    0.0  ...                20       0.000000   \n\n        Active Std  Active Max  Active Min   Idle Mean    Idle Std  \\\n0         646237.5   1709809.0         1.0  14261168.0  3220326.25   \n0              0.0         0.0         0.0         0.0        0.00   \n0              0.0         0.0         0.0         0.0        0.00   \n0              0.0         0.0         0.0         0.0        0.00   \n0              0.0         0.0         0.0         0.0        0.00   \n...            ...         ...         ...         ...         ...   \n164691         0.0         0.0         0.0         0.0        0.00   \n164692         0.0         0.0         0.0         0.0        0.00   \n164693         0.0         0.0         0.0         0.0        0.00   \n164694         0.0         0.0         0.0         0.0        0.00   \n164695         0.0         0.0         0.0         0.0        0.00   \n\n          Idle Max    Idle Min  Label  \n0       21714932.0  11043464.0    Syn  \n0              0.0         0.0    Syn  \n0              0.0         0.0    Syn  \n0              0.0         0.0    Syn  \n0              0.0         0.0    Syn  \n...            ...         ...    ...  \n164691         0.0         0.0    Syn  \n164692         0.0         0.0    Syn  \n164693         0.0         0.0    Syn  \n164694         0.0         0.0    Syn  \n164695         0.0         0.0    Syn  \n\n[1380364 rows x 78 columns]",
      "text/html": "<div>\n<style scoped>\n    .dataframe tbody tr th:only-of-type {\n        vertical-align: middle;\n    }\n\n    .dataframe tbody tr th {\n        vertical-align: top;\n    }\n\n    .dataframe thead th {\n        text-align: right;\n    }\n</style>\n<table border=\"1\" class=\"dataframe\">\n  <thead>\n    <tr style=\"text-align: right;\">\n      <th></th>\n      <th>Protocol</th>\n      <th>Flow Duration</th>\n      <th>Total Fwd Packets</th>\n      <th>Total Backward Packets</th>\n      <th>Fwd Packets Length Total</th>\n      <th>Bwd Packets Length Total</th>\n      <th>Fwd Packet Length Max</th>\n      <th>Fwd Packet Length Min</th>\n      <th>Fwd Packet Length Mean</th>\n      <th>Fwd Packet Length Std</th>\n      <th>...</th>\n      <th>Fwd Seg Size Min</th>\n      <th>Active Mean</th>\n      <th>Active Std</th>\n      <th>Active Max</th>\n      <th>Active Min</th>\n      <th>Idle Mean</th>\n      <th>Idle Std</th>\n      <th>Idle Max</th>\n      <th>Idle Min</th>\n      <th>Label</th>\n    </tr>\n  </thead>\n  <tbody>\n    <tr>\n      <th>0</th>\n      <td>6</td>\n      <td>115799309</td>\n      <td>19</td>\n      <td>2</td>\n      <td>0.0</td>\n      <td>0.0</td>\n      <td>0.0</td>\n      <td>0.0</td>\n      <td>0.0</td>\n      <td>0.0</td>\n      <td>...</td>\n      <td>20</td>\n      <td>244280.140625</td>\n      <td>646237.5</td>\n      <td>1709809.0</td>\n      <td>1.0</td>\n      <td>14261168.0</td>\n      <td>3220326.25</td>\n      <td>21714932.0</td>\n      <td>11043464.0</td>\n      <td>Syn</td>\n    </tr>\n    <tr>\n      <th>0</th>\n      <td>6</td>\n      <td>48</td>\n      <td>2</td>\n      <td>0</td>\n      <td>0.0</td>\n      <td>0.0</td>\n      <td>0.0</td>\n      <td>0.0</td>\n      <td>0.0</td>\n      <td>0.0</td>\n      <td>...</td>\n      <td>20</td>\n      <td>0.000000</td>\n      <td>0.0</td>\n      <td>0.0</td>\n      <td>0.0</td>\n      <td>0.0</td>\n      <td>0.00</td>\n      <td>0.0</td>\n      <td>0.0</td>\n      <td>Syn</td>\n    </tr>\n    <tr>\n      <th>0</th>\n      <td>6</td>\n      <td>2</td>\n      <td>2</td>\n      <td>0</td>\n      <td>0.0</td>\n      <td>0.0</td>\n      <td>0.0</td>\n      <td>0.0</td>\n      <td>0.0</td>\n      <td>0.0</td>\n      <td>...</td>\n      <td>20</td>\n      <td>0.000000</td>\n      <td>0.0</td>\n      <td>0.0</td>\n      <td>0.0</td>\n      <td>0.0</td>\n      <td>0.00</td>\n      <td>0.0</td>\n      <td>0.0</td>\n      <td>Syn</td>\n    </tr>\n    <tr>\n      <th>0</th>\n      <td>6</td>\n      <td>1</td>\n      <td>2</td>\n      <td>0</td>\n      <td>0.0</td>\n      <td>0.0</td>\n      <td>0.0</td>\n      <td>0.0</td>\n      <td>0.0</td>\n      <td>0.0</td>\n      <td>...</td>\n      <td>20</td>\n      <td>0.000000</td>\n      <td>0.0</td>\n      <td>0.0</td>\n      <td>0.0</td>\n      <td>0.0</td>\n      <td>0.00</td>\n      <td>0.0</td>\n      <td>0.0</td>\n      <td>Syn</td>\n    </tr>\n    <tr>\n      <th>0</th>\n      <td>6</td>\n      <td>1</td>\n      <td>2</td>\n      <td>0</td>\n      <td>0.0</td>\n      <td>0.0</td>\n      <td>0.0</td>\n      <td>0.0</td>\n      <td>0.0</td>\n      <td>0.0</td>\n      <td>...</td>\n      <td>20</td>\n      <td>0.000000</td>\n      <td>0.0</td>\n      <td>0.0</td>\n      <td>0.0</td>\n      <td>0.0</td>\n      <td>0.00</td>\n      <td>0.0</td>\n      <td>0.0</td>\n      <td>Syn</td>\n    </tr>\n    <tr>\n      <th>...</th>\n      <td>...</td>\n      <td>...</td>\n      <td>...</td>\n      <td>...</td>\n      <td>...</td>\n      <td>...</td>\n      <td>...</td>\n      <td>...</td>\n      <td>...</td>\n      <td>...</td>\n      <td>...</td>\n      <td>...</td>\n      <td>...</td>\n      <td>...</td>\n      <td>...</td>\n      <td>...</td>\n      <td>...</td>\n      <td>...</td>\n      <td>...</td>\n      <td>...</td>\n      <td>...</td>\n    </tr>\n    <tr>\n      <th>164691</th>\n      <td>6</td>\n      <td>1</td>\n      <td>2</td>\n      <td>0</td>\n      <td>0.0</td>\n      <td>0.0</td>\n      <td>0.0</td>\n      <td>0.0</td>\n      <td>0.0</td>\n      <td>0.0</td>\n      <td>...</td>\n      <td>20</td>\n      <td>0.000000</td>\n      <td>0.0</td>\n      <td>0.0</td>\n      <td>0.0</td>\n      <td>0.0</td>\n      <td>0.00</td>\n      <td>0.0</td>\n      <td>0.0</td>\n      <td>Syn</td>\n    </tr>\n    <tr>\n      <th>164692</th>\n      <td>6</td>\n      <td>97</td>\n      <td>2</td>\n      <td>2</td>\n      <td>0.0</td>\n      <td>0.0</td>\n      <td>0.0</td>\n      <td>0.0</td>\n      <td>0.0</td>\n      <td>0.0</td>\n      <td>...</td>\n      <td>20</td>\n      <td>0.000000</td>\n      <td>0.0</td>\n      <td>0.0</td>\n      <td>0.0</td>\n      <td>0.0</td>\n      <td>0.00</td>\n      <td>0.0</td>\n      <td>0.0</td>\n      <td>Syn</td>\n    </tr>\n    <tr>\n      <th>164693</th>\n      <td>6</td>\n      <td>1</td>\n      <td>2</td>\n      <td>0</td>\n      <td>0.0</td>\n      <td>0.0</td>\n      <td>0.0</td>\n      <td>0.0</td>\n      <td>0.0</td>\n      <td>0.0</td>\n      <td>...</td>\n      <td>20</td>\n      <td>0.000000</td>\n      <td>0.0</td>\n      <td>0.0</td>\n      <td>0.0</td>\n      <td>0.0</td>\n      <td>0.00</td>\n      <td>0.0</td>\n      <td>0.0</td>\n      <td>Syn</td>\n    </tr>\n    <tr>\n      <th>164694</th>\n      <td>6</td>\n      <td>1</td>\n      <td>2</td>\n      <td>0</td>\n      <td>0.0</td>\n      <td>0.0</td>\n      <td>0.0</td>\n      <td>0.0</td>\n      <td>0.0</td>\n      <td>0.0</td>\n      <td>...</td>\n      <td>20</td>\n      <td>0.000000</td>\n      <td>0.0</td>\n      <td>0.0</td>\n      <td>0.0</td>\n      <td>0.0</td>\n      <td>0.00</td>\n      <td>0.0</td>\n      <td>0.0</td>\n      <td>Syn</td>\n    </tr>\n    <tr>\n      <th>164695</th>\n      <td>6</td>\n      <td>1</td>\n      <td>2</td>\n      <td>0</td>\n      <td>0.0</td>\n      <td>0.0</td>\n      <td>0.0</td>\n      <td>0.0</td>\n      <td>0.0</td>\n      <td>0.0</td>\n      <td>...</td>\n      <td>20</td>\n      <td>0.000000</td>\n      <td>0.0</td>\n      <td>0.0</td>\n      <td>0.0</td>\n      <td>0.0</td>\n      <td>0.00</td>\n      <td>0.0</td>\n      <td>0.0</td>\n      <td>Syn</td>\n    </tr>\n  </tbody>\n</table>\n<p>1380364 rows × 78 columns</p>\n</div>"
     },
     "execution_count": 16,
     "metadata": {},
     "output_type": "execute_result"
    }
   ],
   "source": [
    "ddf = dd.from_pandas(workingDataFrame, npartitions=10)\n",
    "ddf.compute()"
   ],
   "metadata": {
    "collapsed": false
   }
  },
  {
   "cell_type": "markdown",
   "source": [
    "Dropping Duplicates\n",
    "There should be no duplicates because they can bias training and can lead to over-optimistic estimates of classification performance during testing."
   ],
   "metadata": {
    "collapsed": false
   }
  },
  {
   "cell_type": "code",
   "execution_count": 17,
   "outputs": [
    {
     "data": {
      "text/plain": "1224497"
     },
     "execution_count": 17,
     "metadata": {},
     "output_type": "execute_result"
    }
   ],
   "source": [
    "workingDataFrame.duplicated().sum()"
   ],
   "metadata": {
    "collapsed": false
   }
  },
  {
   "cell_type": "markdown",
   "source": [
    "Fully duplicate rows to be removed"
   ],
   "metadata": {
    "collapsed": false
   }
  },
  {
   "cell_type": "code",
   "execution_count": 18,
   "outputs": [
    {
     "data": {
      "text/plain": "        Protocol  Flow Duration  Total Fwd Packets  Total Backward Packets  \\\n0              6      115799309                 19                       2   \n1              6      113973933                 16                       0   \n2              6            112                  2                       2   \n3              6      105985004                 16                       0   \n4              6              1                  2                       0   \n...          ...            ...                ...                     ...   \n155862         6            111                  2                       2   \n155863         6            162                  2                       2   \n155864         6            218                  2                       2   \n155865         6            105                  2                       2   \n155866         6            103                  2                       2   \n\n        Fwd Packets Length Total  Bwd Packets Length Total  \\\n0                            0.0                       0.0   \n1                            0.0                       0.0   \n2                            0.0                       0.0   \n3                            0.0                       0.0   \n4                            0.0                       0.0   \n...                          ...                       ...   \n155862                       0.0                       0.0   \n155863                       0.0                       0.0   \n155864                       0.0                       0.0   \n155865                       0.0                       0.0   \n155866                       0.0                       0.0   \n\n        Fwd Packet Length Max  Fwd Packet Length Min  Fwd Packet Length Mean  \\\n0                         0.0                    0.0                     0.0   \n1                         0.0                    0.0                     0.0   \n2                         0.0                    0.0                     0.0   \n3                         0.0                    0.0                     0.0   \n4                         0.0                    0.0                     0.0   \n...                       ...                    ...                     ...   \n155862                    0.0                    0.0                     0.0   \n155863                    0.0                    0.0                     0.0   \n155864                    0.0                    0.0                     0.0   \n155865                    0.0                    0.0                     0.0   \n155866                    0.0                    0.0                     0.0   \n\n        Fwd Packet Length Std  ...  Fwd Seg Size Min    Active Mean  \\\n0                         0.0  ...                20  244280.140625   \n1                         0.0  ...                20       9.000000   \n2                         0.0  ...                20       0.000000   \n3                         0.0  ...                20       7.857143   \n4                         0.0  ...                20       0.000000   \n...                       ...  ...               ...            ...   \n155862                    0.0  ...                20       0.000000   \n155863                    0.0  ...                20       0.000000   \n155864                    0.0  ...                20       0.000000   \n155865                    0.0  ...                20       0.000000   \n155866                    0.0  ...                20       0.000000   \n\n           Active Std  Active Max  Active Min   Idle Mean    Idle Std  \\\n0       646237.500000   1709809.0         1.0  14261168.0  3220326.25   \n1           19.595919        49.0         1.0  16281983.0  2573891.00   \n2            0.000000         0.0         0.0         0.0        0.00   \n3           17.705259        48.0         1.0  15140707.0  3077366.50   \n4            0.000000         0.0         0.0         0.0        0.00   \n...               ...         ...         ...         ...         ...   \n155862       0.000000         0.0         0.0         0.0        0.00   \n155863       0.000000         0.0         0.0         0.0        0.00   \n155864       0.000000         0.0         0.0         0.0        0.00   \n155865       0.000000         0.0         0.0         0.0        0.00   \n155866       0.000000         0.0         0.0         0.0        0.00   \n\n          Idle Max    Idle Min  Label  \n0       21714932.0  11043464.0    Syn  \n1       20019404.0  11993631.0    Syn  \n2              0.0         0.0    Syn  \n3       20954124.0  11120336.0    Syn  \n4              0.0         0.0    Syn  \n...            ...         ...    ...  \n155862         0.0         0.0    Syn  \n155863         0.0         0.0    Syn  \n155864         0.0         0.0    Syn  \n155865         0.0         0.0    Syn  \n155866         0.0         0.0    Syn  \n\n[155867 rows x 78 columns]",
      "text/html": "<div>\n<style scoped>\n    .dataframe tbody tr th:only-of-type {\n        vertical-align: middle;\n    }\n\n    .dataframe tbody tr th {\n        vertical-align: top;\n    }\n\n    .dataframe thead th {\n        text-align: right;\n    }\n</style>\n<table border=\"1\" class=\"dataframe\">\n  <thead>\n    <tr style=\"text-align: right;\">\n      <th></th>\n      <th>Protocol</th>\n      <th>Flow Duration</th>\n      <th>Total Fwd Packets</th>\n      <th>Total Backward Packets</th>\n      <th>Fwd Packets Length Total</th>\n      <th>Bwd Packets Length Total</th>\n      <th>Fwd Packet Length Max</th>\n      <th>Fwd Packet Length Min</th>\n      <th>Fwd Packet Length Mean</th>\n      <th>Fwd Packet Length Std</th>\n      <th>...</th>\n      <th>Fwd Seg Size Min</th>\n      <th>Active Mean</th>\n      <th>Active Std</th>\n      <th>Active Max</th>\n      <th>Active Min</th>\n      <th>Idle Mean</th>\n      <th>Idle Std</th>\n      <th>Idle Max</th>\n      <th>Idle Min</th>\n      <th>Label</th>\n    </tr>\n  </thead>\n  <tbody>\n    <tr>\n      <th>0</th>\n      <td>6</td>\n      <td>115799309</td>\n      <td>19</td>\n      <td>2</td>\n      <td>0.0</td>\n      <td>0.0</td>\n      <td>0.0</td>\n      <td>0.0</td>\n      <td>0.0</td>\n      <td>0.0</td>\n      <td>...</td>\n      <td>20</td>\n      <td>244280.140625</td>\n      <td>646237.500000</td>\n      <td>1709809.0</td>\n      <td>1.0</td>\n      <td>14261168.0</td>\n      <td>3220326.25</td>\n      <td>21714932.0</td>\n      <td>11043464.0</td>\n      <td>Syn</td>\n    </tr>\n    <tr>\n      <th>1</th>\n      <td>6</td>\n      <td>113973933</td>\n      <td>16</td>\n      <td>0</td>\n      <td>0.0</td>\n      <td>0.0</td>\n      <td>0.0</td>\n      <td>0.0</td>\n      <td>0.0</td>\n      <td>0.0</td>\n      <td>...</td>\n      <td>20</td>\n      <td>9.000000</td>\n      <td>19.595919</td>\n      <td>49.0</td>\n      <td>1.0</td>\n      <td>16281983.0</td>\n      <td>2573891.00</td>\n      <td>20019404.0</td>\n      <td>11993631.0</td>\n      <td>Syn</td>\n    </tr>\n    <tr>\n      <th>2</th>\n      <td>6</td>\n      <td>112</td>\n      <td>2</td>\n      <td>2</td>\n      <td>0.0</td>\n      <td>0.0</td>\n      <td>0.0</td>\n      <td>0.0</td>\n      <td>0.0</td>\n      <td>0.0</td>\n      <td>...</td>\n      <td>20</td>\n      <td>0.000000</td>\n      <td>0.000000</td>\n      <td>0.0</td>\n      <td>0.0</td>\n      <td>0.0</td>\n      <td>0.00</td>\n      <td>0.0</td>\n      <td>0.0</td>\n      <td>Syn</td>\n    </tr>\n    <tr>\n      <th>3</th>\n      <td>6</td>\n      <td>105985004</td>\n      <td>16</td>\n      <td>0</td>\n      <td>0.0</td>\n      <td>0.0</td>\n      <td>0.0</td>\n      <td>0.0</td>\n      <td>0.0</td>\n      <td>0.0</td>\n      <td>...</td>\n      <td>20</td>\n      <td>7.857143</td>\n      <td>17.705259</td>\n      <td>48.0</td>\n      <td>1.0</td>\n      <td>15140707.0</td>\n      <td>3077366.50</td>\n      <td>20954124.0</td>\n      <td>11120336.0</td>\n      <td>Syn</td>\n    </tr>\n    <tr>\n      <th>4</th>\n      <td>6</td>\n      <td>1</td>\n      <td>2</td>\n      <td>0</td>\n      <td>0.0</td>\n      <td>0.0</td>\n      <td>0.0</td>\n      <td>0.0</td>\n      <td>0.0</td>\n      <td>0.0</td>\n      <td>...</td>\n      <td>20</td>\n      <td>0.000000</td>\n      <td>0.000000</td>\n      <td>0.0</td>\n      <td>0.0</td>\n      <td>0.0</td>\n      <td>0.00</td>\n      <td>0.0</td>\n      <td>0.0</td>\n      <td>Syn</td>\n    </tr>\n    <tr>\n      <th>...</th>\n      <td>...</td>\n      <td>...</td>\n      <td>...</td>\n      <td>...</td>\n      <td>...</td>\n      <td>...</td>\n      <td>...</td>\n      <td>...</td>\n      <td>...</td>\n      <td>...</td>\n      <td>...</td>\n      <td>...</td>\n      <td>...</td>\n      <td>...</td>\n      <td>...</td>\n      <td>...</td>\n      <td>...</td>\n      <td>...</td>\n      <td>...</td>\n      <td>...</td>\n      <td>...</td>\n    </tr>\n    <tr>\n      <th>155862</th>\n      <td>6</td>\n      <td>111</td>\n      <td>2</td>\n      <td>2</td>\n      <td>0.0</td>\n      <td>0.0</td>\n      <td>0.0</td>\n      <td>0.0</td>\n      <td>0.0</td>\n      <td>0.0</td>\n      <td>...</td>\n      <td>20</td>\n      <td>0.000000</td>\n      <td>0.000000</td>\n      <td>0.0</td>\n      <td>0.0</td>\n      <td>0.0</td>\n      <td>0.00</td>\n      <td>0.0</td>\n      <td>0.0</td>\n      <td>Syn</td>\n    </tr>\n    <tr>\n      <th>155863</th>\n      <td>6</td>\n      <td>162</td>\n      <td>2</td>\n      <td>2</td>\n      <td>0.0</td>\n      <td>0.0</td>\n      <td>0.0</td>\n      <td>0.0</td>\n      <td>0.0</td>\n      <td>0.0</td>\n      <td>...</td>\n      <td>20</td>\n      <td>0.000000</td>\n      <td>0.000000</td>\n      <td>0.0</td>\n      <td>0.0</td>\n      <td>0.0</td>\n      <td>0.00</td>\n      <td>0.0</td>\n      <td>0.0</td>\n      <td>Syn</td>\n    </tr>\n    <tr>\n      <th>155864</th>\n      <td>6</td>\n      <td>218</td>\n      <td>2</td>\n      <td>2</td>\n      <td>0.0</td>\n      <td>0.0</td>\n      <td>0.0</td>\n      <td>0.0</td>\n      <td>0.0</td>\n      <td>0.0</td>\n      <td>...</td>\n      <td>20</td>\n      <td>0.000000</td>\n      <td>0.000000</td>\n      <td>0.0</td>\n      <td>0.0</td>\n      <td>0.0</td>\n      <td>0.00</td>\n      <td>0.0</td>\n      <td>0.0</td>\n      <td>Syn</td>\n    </tr>\n    <tr>\n      <th>155865</th>\n      <td>6</td>\n      <td>105</td>\n      <td>2</td>\n      <td>2</td>\n      <td>0.0</td>\n      <td>0.0</td>\n      <td>0.0</td>\n      <td>0.0</td>\n      <td>0.0</td>\n      <td>0.0</td>\n      <td>...</td>\n      <td>20</td>\n      <td>0.000000</td>\n      <td>0.000000</td>\n      <td>0.0</td>\n      <td>0.0</td>\n      <td>0.0</td>\n      <td>0.00</td>\n      <td>0.0</td>\n      <td>0.0</td>\n      <td>Syn</td>\n    </tr>\n    <tr>\n      <th>155866</th>\n      <td>6</td>\n      <td>103</td>\n      <td>2</td>\n      <td>2</td>\n      <td>0.0</td>\n      <td>0.0</td>\n      <td>0.0</td>\n      <td>0.0</td>\n      <td>0.0</td>\n      <td>0.0</td>\n      <td>...</td>\n      <td>20</td>\n      <td>0.000000</td>\n      <td>0.000000</td>\n      <td>0.0</td>\n      <td>0.0</td>\n      <td>0.0</td>\n      <td>0.00</td>\n      <td>0.0</td>\n      <td>0.0</td>\n      <td>Syn</td>\n    </tr>\n  </tbody>\n</table>\n<p>155867 rows × 78 columns</p>\n</div>"
     },
     "execution_count": 18,
     "metadata": {},
     "output_type": "execute_result"
    }
   ],
   "source": [
    "workingDataFrame.drop_duplicates(inplace=True)\n",
    "workingDataFrame.reset_index(inplace=True, drop=True)\n",
    "workingDataFrame"
   ],
   "metadata": {
    "collapsed": false
   }
  },
  {
   "cell_type": "markdown",
   "source": [
    "After data cleaning, how much storage it holds now"
   ],
   "metadata": {
    "collapsed": false
   }
  },
  {
   "cell_type": "code",
   "execution_count": 19,
   "outputs": [
    {
     "name": "stdout",
     "output_type": "stream",
     "text": [
      "<class 'pandas.core.frame.DataFrame'>\n",
      "RangeIndex: 155867 entries, 0 to 155866\n",
      "Data columns (total 78 columns):\n",
      " #   Column                    Non-Null Count   Dtype  \n",
      "---  ------                    --------------   -----  \n",
      " 0   Protocol                  155867 non-null  int8   \n",
      " 1   Flow Duration             155867 non-null  int32  \n",
      " 2   Total Fwd Packets         155867 non-null  int16  \n",
      " 3   Total Backward Packets    155867 non-null  int16  \n",
      " 4   Fwd Packets Length Total  155867 non-null  float32\n",
      " 5   Bwd Packets Length Total  155867 non-null  float32\n",
      " 6   Fwd Packet Length Max     155867 non-null  float32\n",
      " 7   Fwd Packet Length Min     155867 non-null  float32\n",
      " 8   Fwd Packet Length Mean    155867 non-null  float32\n",
      " 9   Fwd Packet Length Std     155867 non-null  float32\n",
      " 10  Bwd Packet Length Max     155867 non-null  float32\n",
      " 11  Bwd Packet Length Min     155867 non-null  float32\n",
      " 12  Bwd Packet Length Mean    155867 non-null  float32\n",
      " 13  Bwd Packet Length Std     155867 non-null  float32\n",
      " 14  Flow Bytes/s              155867 non-null  float32\n",
      " 15  Flow Packets/s            155867 non-null  float32\n",
      " 16  Flow IAT Mean             155867 non-null  float32\n",
      " 17  Flow IAT Std              155867 non-null  float32\n",
      " 18  Flow IAT Max              155867 non-null  float32\n",
      " 19  Flow IAT Min              155867 non-null  float32\n",
      " 20  Fwd IAT Total             155867 non-null  float32\n",
      " 21  Fwd IAT Mean              155867 non-null  float32\n",
      " 22  Fwd IAT Std               155867 non-null  float32\n",
      " 23  Fwd IAT Max               155867 non-null  float32\n",
      " 24  Fwd IAT Min               155867 non-null  float32\n",
      " 25  Bwd IAT Total             155867 non-null  float32\n",
      " 26  Bwd IAT Mean              155867 non-null  float32\n",
      " 27  Bwd IAT Std               155867 non-null  float32\n",
      " 28  Bwd IAT Max               155867 non-null  float32\n",
      " 29  Bwd IAT Min               155867 non-null  float32\n",
      " 30  Fwd PSH Flags             155867 non-null  int8   \n",
      " 31  Bwd PSH Flags             155867 non-null  int8   \n",
      " 32  Fwd URG Flags             155867 non-null  int8   \n",
      " 33  Bwd URG Flags             155867 non-null  int8   \n",
      " 34  Fwd Header Length         155867 non-null  int16  \n",
      " 35  Bwd Header Length         155867 non-null  int16  \n",
      " 36  Fwd Packets/s             155867 non-null  float32\n",
      " 37  Bwd Packets/s             155867 non-null  float32\n",
      " 38  Packet Length Min         155867 non-null  float32\n",
      " 39  Packet Length Max         155867 non-null  float32\n",
      " 40  Packet Length Mean        155867 non-null  float32\n",
      " 41  Packet Length Std         155867 non-null  float32\n",
      " 42  Packet Length Variance    155867 non-null  float32\n",
      " 43  FIN Flag Count            155867 non-null  int8   \n",
      " 44  SYN Flag Count            155867 non-null  int8   \n",
      " 45  RST Flag Count            155867 non-null  int8   \n",
      " 46  PSH Flag Count            155867 non-null  int8   \n",
      " 47  ACK Flag Count            155867 non-null  int8   \n",
      " 48  URG Flag Count            155867 non-null  int8   \n",
      " 49  CWE Flag Count            155867 non-null  int8   \n",
      " 50  ECE Flag Count            155867 non-null  int8   \n",
      " 51  Down/Up Ratio             155867 non-null  float32\n",
      " 52  Avg Packet Size           155867 non-null  float32\n",
      " 53  Avg Fwd Segment Size      155867 non-null  float32\n",
      " 54  Avg Bwd Segment Size      155867 non-null  float32\n",
      " 55  Fwd Avg Bytes/Bulk        155867 non-null  int8   \n",
      " 56  Fwd Avg Packets/Bulk      155867 non-null  int8   \n",
      " 57  Fwd Avg Bulk Rate         155867 non-null  int8   \n",
      " 58  Bwd Avg Bytes/Bulk        155867 non-null  int8   \n",
      " 59  Bwd Avg Packets/Bulk      155867 non-null  int8   \n",
      " 60  Bwd Avg Bulk Rate         155867 non-null  int8   \n",
      " 61  Subflow Fwd Packets       155867 non-null  int16  \n",
      " 62  Subflow Fwd Bytes         155867 non-null  int32  \n",
      " 63  Subflow Bwd Packets       155867 non-null  int16  \n",
      " 64  Subflow Bwd Bytes         155867 non-null  int32  \n",
      " 65  Init Fwd Win Bytes        155867 non-null  int32  \n",
      " 66  Init Bwd Win Bytes        155867 non-null  int32  \n",
      " 67  Fwd Act Data Packets      155867 non-null  int8   \n",
      " 68  Fwd Seg Size Min          155867 non-null  int8   \n",
      " 69  Active Mean               155867 non-null  float32\n",
      " 70  Active Std                155867 non-null  float32\n",
      " 71  Active Max                155867 non-null  float32\n",
      " 72  Active Min                155867 non-null  float32\n",
      " 73  Idle Mean                 155867 non-null  float32\n",
      " 74  Idle Std                  155867 non-null  float32\n",
      " 75  Idle Max                  155867 non-null  float32\n",
      " 76  Idle Min                  155867 non-null  float32\n",
      " 77  Label                     155867 non-null  object \n",
      "dtypes: float32(45), int16(6), int32(5), int8(21), object(1)\n",
      "memory usage: 43.6 MB\n"
     ]
    }
   ],
   "source": [
    "workingDataFrame.info(memory_usage=\"deep\")"
   ],
   "metadata": {
    "collapsed": false
   }
  },
  {
   "cell_type": "code",
   "execution_count": 20,
   "outputs": [
    {
     "data": {
      "text/plain": "array([ True,  True,  True,  True,  True,  True,  True,  True,  True,\n        True,  True,  True,  True,  True,  True,  True,  True,  True,\n        True,  True,  True,  True,  True,  True,  True,  True,  True,\n        True,  True,  True, False, False, False, False,  True,  True,\n        True,  True,  True,  True,  True,  True,  True, False, False,\n       False, False, False, False, False, False, False,  True,  True,\n        True, False, False, False, False, False, False,  True,  True,\n        True,  True,  True,  True,  True,  True,  True,  True,  True,\n        True,  True,  True,  True,  True,  True])"
     },
     "execution_count": 20,
     "metadata": {},
     "output_type": "execute_result"
    }
   ],
   "source": [
    "columnList = workingDataFrame.columns.tolist()\n",
    "# columnList[:-1]  # just for now, Omitting 'label' column\n",
    "\n",
    "from sklearn.feature_selection import VarianceThreshold\n",
    "\n",
    "var_thr = VarianceThreshold(threshold=0.1)  #Removing both constant and quasi-constant\n",
    "var_thr.fit(workingDataFrame[columnList[:-1]])\n",
    "\n",
    "var_threshold_bool_list = var_thr.get_support()\n",
    "var_threshold_bool_list_after_label_added = np.append(var_threshold_bool_list,True)\n",
    "var_threshold_bool_list_after_label_added"
   ],
   "metadata": {
    "collapsed": false
   }
  },
  {
   "cell_type": "code",
   "execution_count": 21,
   "outputs": [
    {
     "name": "stdout",
     "output_type": "stream",
     "text": [
      "Fwd PSH Flags\n",
      "Bwd PSH Flags\n",
      "Fwd URG Flags\n",
      "Bwd URG Flags\n",
      "FIN Flag Count\n",
      "SYN Flag Count\n",
      "RST Flag Count\n",
      "PSH Flag Count\n",
      "ACK Flag Count\n",
      "URG Flag Count\n",
      "CWE Flag Count\n",
      "ECE Flag Count\n",
      "Down/Up Ratio\n",
      "Fwd Avg Bytes/Bulk\n",
      "Fwd Avg Packets/Bulk\n",
      "Fwd Avg Bulk Rate\n",
      "Bwd Avg Bytes/Bulk\n",
      "Bwd Avg Packets/Bulk\n",
      "Bwd Avg Bulk Rate\n"
     ]
    },
    {
     "data": {
      "text/plain": "        Protocol  Flow Duration  Total Fwd Packets  Total Backward Packets  \\\n0              6      115799309                 19                       2   \n1              6      113973933                 16                       0   \n2              6            112                  2                       2   \n3              6      105985004                 16                       0   \n4              6              1                  2                       0   \n...          ...            ...                ...                     ...   \n155862         6            111                  2                       2   \n155863         6            162                  2                       2   \n155864         6            218                  2                       2   \n155865         6            105                  2                       2   \n155866         6            103                  2                       2   \n\n        Fwd Packets Length Total  Bwd Packets Length Total  \\\n0                            0.0                       0.0   \n1                            0.0                       0.0   \n2                            0.0                       0.0   \n3                            0.0                       0.0   \n4                            0.0                       0.0   \n...                          ...                       ...   \n155862                       0.0                       0.0   \n155863                       0.0                       0.0   \n155864                       0.0                       0.0   \n155865                       0.0                       0.0   \n155866                       0.0                       0.0   \n\n        Fwd Packet Length Max  Fwd Packet Length Min  Fwd Packet Length Mean  \\\n0                         0.0                    0.0                     0.0   \n1                         0.0                    0.0                     0.0   \n2                         0.0                    0.0                     0.0   \n3                         0.0                    0.0                     0.0   \n4                         0.0                    0.0                     0.0   \n...                       ...                    ...                     ...   \n155862                    0.0                    0.0                     0.0   \n155863                    0.0                    0.0                     0.0   \n155864                    0.0                    0.0                     0.0   \n155865                    0.0                    0.0                     0.0   \n155866                    0.0                    0.0                     0.0   \n\n        Fwd Packet Length Std  ...  Fwd Seg Size Min    Active Mean  \\\n0                         0.0  ...                20  244280.140625   \n1                         0.0  ...                20       9.000000   \n2                         0.0  ...                20       0.000000   \n3                         0.0  ...                20       7.857143   \n4                         0.0  ...                20       0.000000   \n...                       ...  ...               ...            ...   \n155862                    0.0  ...                20       0.000000   \n155863                    0.0  ...                20       0.000000   \n155864                    0.0  ...                20       0.000000   \n155865                    0.0  ...                20       0.000000   \n155866                    0.0  ...                20       0.000000   \n\n           Active Std  Active Max  Active Min   Idle Mean    Idle Std  \\\n0       646237.500000   1709809.0         1.0  14261168.0  3220326.25   \n1           19.595919        49.0         1.0  16281983.0  2573891.00   \n2            0.000000         0.0         0.0         0.0        0.00   \n3           17.705259        48.0         1.0  15140707.0  3077366.50   \n4            0.000000         0.0         0.0         0.0        0.00   \n...               ...         ...         ...         ...         ...   \n155862       0.000000         0.0         0.0         0.0        0.00   \n155863       0.000000         0.0         0.0         0.0        0.00   \n155864       0.000000         0.0         0.0         0.0        0.00   \n155865       0.000000         0.0         0.0         0.0        0.00   \n155866       0.000000         0.0         0.0         0.0        0.00   \n\n          Idle Max    Idle Min  Label  \n0       21714932.0  11043464.0    Syn  \n1       20019404.0  11993631.0    Syn  \n2              0.0         0.0    Syn  \n3       20954124.0  11120336.0    Syn  \n4              0.0         0.0    Syn  \n...            ...         ...    ...  \n155862         0.0         0.0    Syn  \n155863         0.0         0.0    Syn  \n155864         0.0         0.0    Syn  \n155865         0.0         0.0    Syn  \n155866         0.0         0.0    Syn  \n\n[155867 rows x 59 columns]",
      "text/html": "<div>\n<style scoped>\n    .dataframe tbody tr th:only-of-type {\n        vertical-align: middle;\n    }\n\n    .dataframe tbody tr th {\n        vertical-align: top;\n    }\n\n    .dataframe thead th {\n        text-align: right;\n    }\n</style>\n<table border=\"1\" class=\"dataframe\">\n  <thead>\n    <tr style=\"text-align: right;\">\n      <th></th>\n      <th>Protocol</th>\n      <th>Flow Duration</th>\n      <th>Total Fwd Packets</th>\n      <th>Total Backward Packets</th>\n      <th>Fwd Packets Length Total</th>\n      <th>Bwd Packets Length Total</th>\n      <th>Fwd Packet Length Max</th>\n      <th>Fwd Packet Length Min</th>\n      <th>Fwd Packet Length Mean</th>\n      <th>Fwd Packet Length Std</th>\n      <th>...</th>\n      <th>Fwd Seg Size Min</th>\n      <th>Active Mean</th>\n      <th>Active Std</th>\n      <th>Active Max</th>\n      <th>Active Min</th>\n      <th>Idle Mean</th>\n      <th>Idle Std</th>\n      <th>Idle Max</th>\n      <th>Idle Min</th>\n      <th>Label</th>\n    </tr>\n  </thead>\n  <tbody>\n    <tr>\n      <th>0</th>\n      <td>6</td>\n      <td>115799309</td>\n      <td>19</td>\n      <td>2</td>\n      <td>0.0</td>\n      <td>0.0</td>\n      <td>0.0</td>\n      <td>0.0</td>\n      <td>0.0</td>\n      <td>0.0</td>\n      <td>...</td>\n      <td>20</td>\n      <td>244280.140625</td>\n      <td>646237.500000</td>\n      <td>1709809.0</td>\n      <td>1.0</td>\n      <td>14261168.0</td>\n      <td>3220326.25</td>\n      <td>21714932.0</td>\n      <td>11043464.0</td>\n      <td>Syn</td>\n    </tr>\n    <tr>\n      <th>1</th>\n      <td>6</td>\n      <td>113973933</td>\n      <td>16</td>\n      <td>0</td>\n      <td>0.0</td>\n      <td>0.0</td>\n      <td>0.0</td>\n      <td>0.0</td>\n      <td>0.0</td>\n      <td>0.0</td>\n      <td>...</td>\n      <td>20</td>\n      <td>9.000000</td>\n      <td>19.595919</td>\n      <td>49.0</td>\n      <td>1.0</td>\n      <td>16281983.0</td>\n      <td>2573891.00</td>\n      <td>20019404.0</td>\n      <td>11993631.0</td>\n      <td>Syn</td>\n    </tr>\n    <tr>\n      <th>2</th>\n      <td>6</td>\n      <td>112</td>\n      <td>2</td>\n      <td>2</td>\n      <td>0.0</td>\n      <td>0.0</td>\n      <td>0.0</td>\n      <td>0.0</td>\n      <td>0.0</td>\n      <td>0.0</td>\n      <td>...</td>\n      <td>20</td>\n      <td>0.000000</td>\n      <td>0.000000</td>\n      <td>0.0</td>\n      <td>0.0</td>\n      <td>0.0</td>\n      <td>0.00</td>\n      <td>0.0</td>\n      <td>0.0</td>\n      <td>Syn</td>\n    </tr>\n    <tr>\n      <th>3</th>\n      <td>6</td>\n      <td>105985004</td>\n      <td>16</td>\n      <td>0</td>\n      <td>0.0</td>\n      <td>0.0</td>\n      <td>0.0</td>\n      <td>0.0</td>\n      <td>0.0</td>\n      <td>0.0</td>\n      <td>...</td>\n      <td>20</td>\n      <td>7.857143</td>\n      <td>17.705259</td>\n      <td>48.0</td>\n      <td>1.0</td>\n      <td>15140707.0</td>\n      <td>3077366.50</td>\n      <td>20954124.0</td>\n      <td>11120336.0</td>\n      <td>Syn</td>\n    </tr>\n    <tr>\n      <th>4</th>\n      <td>6</td>\n      <td>1</td>\n      <td>2</td>\n      <td>0</td>\n      <td>0.0</td>\n      <td>0.0</td>\n      <td>0.0</td>\n      <td>0.0</td>\n      <td>0.0</td>\n      <td>0.0</td>\n      <td>...</td>\n      <td>20</td>\n      <td>0.000000</td>\n      <td>0.000000</td>\n      <td>0.0</td>\n      <td>0.0</td>\n      <td>0.0</td>\n      <td>0.00</td>\n      <td>0.0</td>\n      <td>0.0</td>\n      <td>Syn</td>\n    </tr>\n    <tr>\n      <th>...</th>\n      <td>...</td>\n      <td>...</td>\n      <td>...</td>\n      <td>...</td>\n      <td>...</td>\n      <td>...</td>\n      <td>...</td>\n      <td>...</td>\n      <td>...</td>\n      <td>...</td>\n      <td>...</td>\n      <td>...</td>\n      <td>...</td>\n      <td>...</td>\n      <td>...</td>\n      <td>...</td>\n      <td>...</td>\n      <td>...</td>\n      <td>...</td>\n      <td>...</td>\n      <td>...</td>\n    </tr>\n    <tr>\n      <th>155862</th>\n      <td>6</td>\n      <td>111</td>\n      <td>2</td>\n      <td>2</td>\n      <td>0.0</td>\n      <td>0.0</td>\n      <td>0.0</td>\n      <td>0.0</td>\n      <td>0.0</td>\n      <td>0.0</td>\n      <td>...</td>\n      <td>20</td>\n      <td>0.000000</td>\n      <td>0.000000</td>\n      <td>0.0</td>\n      <td>0.0</td>\n      <td>0.0</td>\n      <td>0.00</td>\n      <td>0.0</td>\n      <td>0.0</td>\n      <td>Syn</td>\n    </tr>\n    <tr>\n      <th>155863</th>\n      <td>6</td>\n      <td>162</td>\n      <td>2</td>\n      <td>2</td>\n      <td>0.0</td>\n      <td>0.0</td>\n      <td>0.0</td>\n      <td>0.0</td>\n      <td>0.0</td>\n      <td>0.0</td>\n      <td>...</td>\n      <td>20</td>\n      <td>0.000000</td>\n      <td>0.000000</td>\n      <td>0.0</td>\n      <td>0.0</td>\n      <td>0.0</td>\n      <td>0.00</td>\n      <td>0.0</td>\n      <td>0.0</td>\n      <td>Syn</td>\n    </tr>\n    <tr>\n      <th>155864</th>\n      <td>6</td>\n      <td>218</td>\n      <td>2</td>\n      <td>2</td>\n      <td>0.0</td>\n      <td>0.0</td>\n      <td>0.0</td>\n      <td>0.0</td>\n      <td>0.0</td>\n      <td>0.0</td>\n      <td>...</td>\n      <td>20</td>\n      <td>0.000000</td>\n      <td>0.000000</td>\n      <td>0.0</td>\n      <td>0.0</td>\n      <td>0.0</td>\n      <td>0.00</td>\n      <td>0.0</td>\n      <td>0.0</td>\n      <td>Syn</td>\n    </tr>\n    <tr>\n      <th>155865</th>\n      <td>6</td>\n      <td>105</td>\n      <td>2</td>\n      <td>2</td>\n      <td>0.0</td>\n      <td>0.0</td>\n      <td>0.0</td>\n      <td>0.0</td>\n      <td>0.0</td>\n      <td>0.0</td>\n      <td>...</td>\n      <td>20</td>\n      <td>0.000000</td>\n      <td>0.000000</td>\n      <td>0.0</td>\n      <td>0.0</td>\n      <td>0.0</td>\n      <td>0.00</td>\n      <td>0.0</td>\n      <td>0.0</td>\n      <td>Syn</td>\n    </tr>\n    <tr>\n      <th>155866</th>\n      <td>6</td>\n      <td>103</td>\n      <td>2</td>\n      <td>2</td>\n      <td>0.0</td>\n      <td>0.0</td>\n      <td>0.0</td>\n      <td>0.0</td>\n      <td>0.0</td>\n      <td>0.0</td>\n      <td>...</td>\n      <td>20</td>\n      <td>0.000000</td>\n      <td>0.000000</td>\n      <td>0.0</td>\n      <td>0.0</td>\n      <td>0.0</td>\n      <td>0.00</td>\n      <td>0.0</td>\n      <td>0.0</td>\n      <td>Syn</td>\n    </tr>\n  </tbody>\n</table>\n<p>155867 rows × 59 columns</p>\n</div>"
     },
     "execution_count": 21,
     "metadata": {},
     "output_type": "execute_result"
    }
   ],
   "source": [
    "concol = [column for column in workingDataFrame.columns\n",
    "          if column not in workingDataFrame.columns[var_threshold_bool_list_after_label_added]]\n",
    "\n",
    "for omittedFeatures in concol:\n",
    "    print(omittedFeatures)\n",
    "\n",
    "workingDataFrame.drop(columns=concol, inplace=True, errors='ignore')\n",
    "workingDataFrame"
   ],
   "metadata": {
    "collapsed": false
   }
  },
  {
   "cell_type": "markdown",
   "source": [
    "Now arising problem is that, row number has been significantly reduced but feature numbers are still 78!!\n",
    "So, need feature engineering here"
   ],
   "metadata": {
    "collapsed": false
   }
  },
  {
   "cell_type": "code",
   "execution_count": 22,
   "outputs": [],
   "source": [
    "\n",
    "def featueEngineeringBasedOnZero(dataFrameArg, thresholdPercentage, showPercentage):\n",
    "    totalCols = dataFrameArg.shape[1]\n",
    "    totalRows = len(dataFrameArg)\n",
    "    unNecessaryFeatureCount = 0\n",
    "    unNecessaryFeatureNames = []\n",
    "\n",
    "    for column in dataFrameArg:\n",
    "        zerosInCol = (dataFrameArg[column] == 0).sum()\n",
    "        if zerosInCol != 0:\n",
    "            percentageOfZerosInRow = ((zerosInCol * 100) / totalRows)\n",
    "\n",
    "            if showPercentage:\n",
    "                print(column, \"\\t\\t-\\t\\t\", zerosInCol, \"\\t\\t-\\t\\t\", percentageOfZerosInRow)\n",
    "\n",
    "            if percentageOfZerosInRow > thresholdPercentage:\n",
    "                unNecessaryFeatureNames.append(column)\n",
    "                unNecessaryFeatureCount = unNecessaryFeatureCount + 1\n",
    "\n",
    "    print(\"\\nTotal features having more than \", thresholdPercentage, \"% zero are - \", unNecessaryFeatureCount,\n",
    "          \"out of \",\n",
    "          totalCols)\n",
    "    return unNecessaryFeatureNames"
   ],
   "metadata": {
    "collapsed": false
   }
  },
  {
   "cell_type": "markdown",
   "source": [
    "Identifying those features containing 99% zeroes"
   ],
   "metadata": {
    "collapsed": false
   }
  },
  {
   "cell_type": "code",
   "execution_count": 23,
   "outputs": [
    {
     "name": "stdout",
     "output_type": "stream",
     "text": [
      "\n",
      "Total features having more than  99 % zero are -  22 out of  59\n"
     ]
    },
    {
     "data": {
      "text/plain": "['Fwd Packets Length Total',\n 'Bwd Packets Length Total',\n 'Fwd Packet Length Max',\n 'Fwd Packet Length Min',\n 'Fwd Packet Length Mean',\n 'Fwd Packet Length Std',\n 'Bwd Packet Length Max',\n 'Bwd Packet Length Min',\n 'Bwd Packet Length Mean',\n 'Bwd Packet Length Std',\n 'Flow Bytes/s',\n 'Packet Length Min',\n 'Packet Length Max',\n 'Packet Length Mean',\n 'Packet Length Std',\n 'Packet Length Variance',\n 'Avg Packet Size',\n 'Avg Fwd Segment Size',\n 'Avg Bwd Segment Size',\n 'Subflow Fwd Bytes',\n 'Subflow Bwd Bytes',\n 'Fwd Act Data Packets']"
     },
     "execution_count": 23,
     "metadata": {},
     "output_type": "execute_result"
    }
   ],
   "source": [
    "featureContainingAlmostZero = featueEngineeringBasedOnZero(dataFrameArg=workingDataFrame, thresholdPercentage=99,\n",
    "                                                           showPercentage=False)\n",
    "featureContainingAlmostZero"
   ],
   "metadata": {
    "collapsed": false
   }
  },
  {
   "cell_type": "markdown",
   "source": [
    "Omitting above features containing 99% zeroes"
   ],
   "metadata": {
    "collapsed": false
   }
  },
  {
   "cell_type": "code",
   "execution_count": 24,
   "outputs": [
    {
     "data": {
      "text/plain": "        Protocol  Flow Duration  Total Fwd Packets  Total Backward Packets  \\\n0              6      115799309                 19                       2   \n1              6      113973933                 16                       0   \n2              6            112                  2                       2   \n3              6      105985004                 16                       0   \n4              6              1                  2                       0   \n...          ...            ...                ...                     ...   \n155862         6            111                  2                       2   \n155863         6            162                  2                       2   \n155864         6            218                  2                       2   \n155865         6            105                  2                       2   \n155866         6            103                  2                       2   \n\n        Flow Packets/s  Flow IAT Mean  Flow IAT Std  Flow IAT Max  \\\n0         1.813482e-01   5.789966e+06  7.370248e+06    21714932.0   \n1         1.403830e-01   7.598262e+06  8.575157e+06    20019404.0   \n2         3.571429e+04   3.733333e+01  6.379916e+01         111.0   \n3         1.509648e-01   7.065667e+06  8.074003e+06    20954124.0   \n4         2.000000e+06   1.000000e+00  0.000000e+00           1.0   \n...                ...            ...           ...           ...   \n155862    3.603604e+04   3.700000e+01  3.404409e+01          67.0   \n155863    2.469136e+04   5.400000e+01  5.524491e+01         112.0   \n155864    1.834862e+04   7.266666e+01  1.249973e+02         217.0   \n155865    3.809524e+04   3.500000e+01  3.031501e+01          53.0   \n155866    3.883495e+04   3.433333e+01  3.043572e+01          58.0   \n\n        Flow IAT Min  Fwd IAT Total  ...  Fwd Seg Size Min    Active Mean  \\\n0                0.0    115799312.0  ...                20  244280.140625   \n1                0.0    113973936.0  ...                20       9.000000   \n2                0.0            1.0  ...                20       0.000000   \n3                1.0    105985008.0  ...                20       7.857143   \n4                1.0            1.0  ...                20       0.000000   \n...              ...            ...  ...               ...            ...   \n155862           0.0            0.0  ...                20       0.000000   \n155863           2.0           48.0  ...                20       0.000000   \n155864           0.0            1.0  ...                20       0.000000   \n155865           0.0            0.0  ...                20       0.000000   \n155866           0.0           45.0  ...                20       0.000000   \n\n           Active Std  Active Max  Active Min   Idle Mean    Idle Std  \\\n0       646237.500000   1709809.0         1.0  14261168.0  3220326.25   \n1           19.595919        49.0         1.0  16281983.0  2573891.00   \n2            0.000000         0.0         0.0         0.0        0.00   \n3           17.705259        48.0         1.0  15140707.0  3077366.50   \n4            0.000000         0.0         0.0         0.0        0.00   \n...               ...         ...         ...         ...         ...   \n155862       0.000000         0.0         0.0         0.0        0.00   \n155863       0.000000         0.0         0.0         0.0        0.00   \n155864       0.000000         0.0         0.0         0.0        0.00   \n155865       0.000000         0.0         0.0         0.0        0.00   \n155866       0.000000         0.0         0.0         0.0        0.00   \n\n          Idle Max    Idle Min  Label  \n0       21714932.0  11043464.0    Syn  \n1       20019404.0  11993631.0    Syn  \n2              0.0         0.0    Syn  \n3       20954124.0  11120336.0    Syn  \n4              0.0         0.0    Syn  \n...            ...         ...    ...  \n155862         0.0         0.0    Syn  \n155863         0.0         0.0    Syn  \n155864         0.0         0.0    Syn  \n155865         0.0         0.0    Syn  \n155866         0.0         0.0    Syn  \n\n[155867 rows x 37 columns]",
      "text/html": "<div>\n<style scoped>\n    .dataframe tbody tr th:only-of-type {\n        vertical-align: middle;\n    }\n\n    .dataframe tbody tr th {\n        vertical-align: top;\n    }\n\n    .dataframe thead th {\n        text-align: right;\n    }\n</style>\n<table border=\"1\" class=\"dataframe\">\n  <thead>\n    <tr style=\"text-align: right;\">\n      <th></th>\n      <th>Protocol</th>\n      <th>Flow Duration</th>\n      <th>Total Fwd Packets</th>\n      <th>Total Backward Packets</th>\n      <th>Flow Packets/s</th>\n      <th>Flow IAT Mean</th>\n      <th>Flow IAT Std</th>\n      <th>Flow IAT Max</th>\n      <th>Flow IAT Min</th>\n      <th>Fwd IAT Total</th>\n      <th>...</th>\n      <th>Fwd Seg Size Min</th>\n      <th>Active Mean</th>\n      <th>Active Std</th>\n      <th>Active Max</th>\n      <th>Active Min</th>\n      <th>Idle Mean</th>\n      <th>Idle Std</th>\n      <th>Idle Max</th>\n      <th>Idle Min</th>\n      <th>Label</th>\n    </tr>\n  </thead>\n  <tbody>\n    <tr>\n      <th>0</th>\n      <td>6</td>\n      <td>115799309</td>\n      <td>19</td>\n      <td>2</td>\n      <td>1.813482e-01</td>\n      <td>5.789966e+06</td>\n      <td>7.370248e+06</td>\n      <td>21714932.0</td>\n      <td>0.0</td>\n      <td>115799312.0</td>\n      <td>...</td>\n      <td>20</td>\n      <td>244280.140625</td>\n      <td>646237.500000</td>\n      <td>1709809.0</td>\n      <td>1.0</td>\n      <td>14261168.0</td>\n      <td>3220326.25</td>\n      <td>21714932.0</td>\n      <td>11043464.0</td>\n      <td>Syn</td>\n    </tr>\n    <tr>\n      <th>1</th>\n      <td>6</td>\n      <td>113973933</td>\n      <td>16</td>\n      <td>0</td>\n      <td>1.403830e-01</td>\n      <td>7.598262e+06</td>\n      <td>8.575157e+06</td>\n      <td>20019404.0</td>\n      <td>0.0</td>\n      <td>113973936.0</td>\n      <td>...</td>\n      <td>20</td>\n      <td>9.000000</td>\n      <td>19.595919</td>\n      <td>49.0</td>\n      <td>1.0</td>\n      <td>16281983.0</td>\n      <td>2573891.00</td>\n      <td>20019404.0</td>\n      <td>11993631.0</td>\n      <td>Syn</td>\n    </tr>\n    <tr>\n      <th>2</th>\n      <td>6</td>\n      <td>112</td>\n      <td>2</td>\n      <td>2</td>\n      <td>3.571429e+04</td>\n      <td>3.733333e+01</td>\n      <td>6.379916e+01</td>\n      <td>111.0</td>\n      <td>0.0</td>\n      <td>1.0</td>\n      <td>...</td>\n      <td>20</td>\n      <td>0.000000</td>\n      <td>0.000000</td>\n      <td>0.0</td>\n      <td>0.0</td>\n      <td>0.0</td>\n      <td>0.00</td>\n      <td>0.0</td>\n      <td>0.0</td>\n      <td>Syn</td>\n    </tr>\n    <tr>\n      <th>3</th>\n      <td>6</td>\n      <td>105985004</td>\n      <td>16</td>\n      <td>0</td>\n      <td>1.509648e-01</td>\n      <td>7.065667e+06</td>\n      <td>8.074003e+06</td>\n      <td>20954124.0</td>\n      <td>1.0</td>\n      <td>105985008.0</td>\n      <td>...</td>\n      <td>20</td>\n      <td>7.857143</td>\n      <td>17.705259</td>\n      <td>48.0</td>\n      <td>1.0</td>\n      <td>15140707.0</td>\n      <td>3077366.50</td>\n      <td>20954124.0</td>\n      <td>11120336.0</td>\n      <td>Syn</td>\n    </tr>\n    <tr>\n      <th>4</th>\n      <td>6</td>\n      <td>1</td>\n      <td>2</td>\n      <td>0</td>\n      <td>2.000000e+06</td>\n      <td>1.000000e+00</td>\n      <td>0.000000e+00</td>\n      <td>1.0</td>\n      <td>1.0</td>\n      <td>1.0</td>\n      <td>...</td>\n      <td>20</td>\n      <td>0.000000</td>\n      <td>0.000000</td>\n      <td>0.0</td>\n      <td>0.0</td>\n      <td>0.0</td>\n      <td>0.00</td>\n      <td>0.0</td>\n      <td>0.0</td>\n      <td>Syn</td>\n    </tr>\n    <tr>\n      <th>...</th>\n      <td>...</td>\n      <td>...</td>\n      <td>...</td>\n      <td>...</td>\n      <td>...</td>\n      <td>...</td>\n      <td>...</td>\n      <td>...</td>\n      <td>...</td>\n      <td>...</td>\n      <td>...</td>\n      <td>...</td>\n      <td>...</td>\n      <td>...</td>\n      <td>...</td>\n      <td>...</td>\n      <td>...</td>\n      <td>...</td>\n      <td>...</td>\n      <td>...</td>\n      <td>...</td>\n    </tr>\n    <tr>\n      <th>155862</th>\n      <td>6</td>\n      <td>111</td>\n      <td>2</td>\n      <td>2</td>\n      <td>3.603604e+04</td>\n      <td>3.700000e+01</td>\n      <td>3.404409e+01</td>\n      <td>67.0</td>\n      <td>0.0</td>\n      <td>0.0</td>\n      <td>...</td>\n      <td>20</td>\n      <td>0.000000</td>\n      <td>0.000000</td>\n      <td>0.0</td>\n      <td>0.0</td>\n      <td>0.0</td>\n      <td>0.00</td>\n      <td>0.0</td>\n      <td>0.0</td>\n      <td>Syn</td>\n    </tr>\n    <tr>\n      <th>155863</th>\n      <td>6</td>\n      <td>162</td>\n      <td>2</td>\n      <td>2</td>\n      <td>2.469136e+04</td>\n      <td>5.400000e+01</td>\n      <td>5.524491e+01</td>\n      <td>112.0</td>\n      <td>2.0</td>\n      <td>48.0</td>\n      <td>...</td>\n      <td>20</td>\n      <td>0.000000</td>\n      <td>0.000000</td>\n      <td>0.0</td>\n      <td>0.0</td>\n      <td>0.0</td>\n      <td>0.00</td>\n      <td>0.0</td>\n      <td>0.0</td>\n      <td>Syn</td>\n    </tr>\n    <tr>\n      <th>155864</th>\n      <td>6</td>\n      <td>218</td>\n      <td>2</td>\n      <td>2</td>\n      <td>1.834862e+04</td>\n      <td>7.266666e+01</td>\n      <td>1.249973e+02</td>\n      <td>217.0</td>\n      <td>0.0</td>\n      <td>1.0</td>\n      <td>...</td>\n      <td>20</td>\n      <td>0.000000</td>\n      <td>0.000000</td>\n      <td>0.0</td>\n      <td>0.0</td>\n      <td>0.0</td>\n      <td>0.00</td>\n      <td>0.0</td>\n      <td>0.0</td>\n      <td>Syn</td>\n    </tr>\n    <tr>\n      <th>155865</th>\n      <td>6</td>\n      <td>105</td>\n      <td>2</td>\n      <td>2</td>\n      <td>3.809524e+04</td>\n      <td>3.500000e+01</td>\n      <td>3.031501e+01</td>\n      <td>53.0</td>\n      <td>0.0</td>\n      <td>0.0</td>\n      <td>...</td>\n      <td>20</td>\n      <td>0.000000</td>\n      <td>0.000000</td>\n      <td>0.0</td>\n      <td>0.0</td>\n      <td>0.0</td>\n      <td>0.00</td>\n      <td>0.0</td>\n      <td>0.0</td>\n      <td>Syn</td>\n    </tr>\n    <tr>\n      <th>155866</th>\n      <td>6</td>\n      <td>103</td>\n      <td>2</td>\n      <td>2</td>\n      <td>3.883495e+04</td>\n      <td>3.433333e+01</td>\n      <td>3.043572e+01</td>\n      <td>58.0</td>\n      <td>0.0</td>\n      <td>45.0</td>\n      <td>...</td>\n      <td>20</td>\n      <td>0.000000</td>\n      <td>0.000000</td>\n      <td>0.0</td>\n      <td>0.0</td>\n      <td>0.0</td>\n      <td>0.00</td>\n      <td>0.0</td>\n      <td>0.0</td>\n      <td>Syn</td>\n    </tr>\n  </tbody>\n</table>\n<p>155867 rows × 37 columns</p>\n</div>"
     },
     "execution_count": 24,
     "metadata": {},
     "output_type": "execute_result"
    }
   ],
   "source": [
    "workingDataFrame.drop(columns=featureContainingAlmostZero, inplace=True, errors='ignore')\n",
    "workingDataFrame.rename(columns=col_name_consistency, inplace=True)\n",
    "workingDataFrame.reset_index(inplace=True, drop=True)\n",
    "workingDataFrame"
   ],
   "metadata": {
    "collapsed": false
   }
  },
  {
   "cell_type": "markdown",
   "source": [
    "Now, To see the number of unique values in each column"
   ],
   "metadata": {
    "collapsed": false
   }
  },
  {
   "cell_type": "code",
   "execution_count": 25,
   "outputs": [
    {
     "data": {
      "text/plain": "Protocol                       3\nFlow Duration             149455\nTotal Fwd Packets             45\nTotal Backward Packets        50\nFlow Packets/s            148600\nFlow IAT Mean             148983\nFlow IAT Std              150557\nFlow IAT Max              148429\nFlow IAT Min                 200\nFwd IAT Total             147058\nFwd IAT Mean              148303\nFwd IAT Std               148606\nFwd IAT Max               148197\nFwd IAT Min                  181\nBwd IAT Total              20460\nBwd IAT Mean               20478\nBwd IAT Std                20399\nBwd IAT Max                20459\nBwd IAT Min                  104\nFwd Header Length             71\nBwd Header Length             65\nFwd Packets/s             148159\nBwd Packets/s              66231\nSubflow Fwd Packets           45\nSubflow Bwd Packets           50\nInit Fwd Win Bytes            64\nInit Bwd Win Bytes            69\nFwd Seg Size Min               6\nActive Mean                 8946\nActive Std                 25469\nActive Max                  7461\nActive Min                   201\nIdle Mean                 134500\nIdle Std                  130490\nIdle Max                  134487\nIdle Min                  133546\nLabel                          2\ndtype: int64"
     },
     "execution_count": 25,
     "metadata": {},
     "output_type": "execute_result"
    }
   ],
   "source": [
    "workingDataFrame.nunique(axis=0)"
   ],
   "metadata": {
    "collapsed": false
   }
  },
  {
   "cell_type": "code",
   "execution_count": 26,
   "outputs": [
    {
     "data": {
      "text/plain": "        Protocol  Flow Duration  Total Fwd Packets  Total Backward Packets  \\\n0              6      115799309                 19                       2   \n1              6      113973933                 16                       0   \n2              6            112                  2                       2   \n3              6      105985004                 16                       0   \n4              6              1                  2                       0   \n...          ...            ...                ...                     ...   \n155862         6            111                  2                       2   \n155863         6            162                  2                       2   \n155864         6            218                  2                       2   \n155865         6            105                  2                       2   \n155866         6            103                  2                       2   \n\n        Flow Packets/s  Flow IAT Mean  Flow IAT Std  Flow IAT Max  \\\n0         1.813482e-01   5.789966e+06  7.370248e+06    21714932.0   \n1         1.403830e-01   7.598262e+06  8.575157e+06    20019404.0   \n2         3.571429e+04   3.733333e+01  6.379916e+01         111.0   \n3         1.509648e-01   7.065667e+06  8.074003e+06    20954124.0   \n4         2.000000e+06   1.000000e+00  0.000000e+00           1.0   \n...                ...            ...           ...           ...   \n155862    3.603604e+04   3.700000e+01  3.404409e+01          67.0   \n155863    2.469136e+04   5.400000e+01  5.524491e+01         112.0   \n155864    1.834862e+04   7.266666e+01  1.249973e+02         217.0   \n155865    3.809524e+04   3.500000e+01  3.031501e+01          53.0   \n155866    3.883495e+04   3.433333e+01  3.043572e+01          58.0   \n\n        Flow IAT Min  Fwd IAT Total  ...  Fwd Seg Size Min    Active Mean  \\\n0                0.0    115799312.0  ...                20  244280.140625   \n1                0.0    113973936.0  ...                20       9.000000   \n2                0.0            1.0  ...                20       0.000000   \n3                1.0    105985008.0  ...                20       7.857143   \n4                1.0            1.0  ...                20       0.000000   \n...              ...            ...  ...               ...            ...   \n155862           0.0            0.0  ...                20       0.000000   \n155863           2.0           48.0  ...                20       0.000000   \n155864           0.0            1.0  ...                20       0.000000   \n155865           0.0            0.0  ...                20       0.000000   \n155866           0.0           45.0  ...                20       0.000000   \n\n           Active Std  Active Max  Active Min   Idle Mean    Idle Std  \\\n0       646237.500000   1709809.0         1.0  14261168.0  3220326.25   \n1           19.595919        49.0         1.0  16281983.0  2573891.00   \n2            0.000000         0.0         0.0         0.0        0.00   \n3           17.705259        48.0         1.0  15140707.0  3077366.50   \n4            0.000000         0.0         0.0         0.0        0.00   \n...               ...         ...         ...         ...         ...   \n155862       0.000000         0.0         0.0         0.0        0.00   \n155863       0.000000         0.0         0.0         0.0        0.00   \n155864       0.000000         0.0         0.0         0.0        0.00   \n155865       0.000000         0.0         0.0         0.0        0.00   \n155866       0.000000         0.0         0.0         0.0        0.00   \n\n          Idle Max    Idle Min  Label  \n0       21714932.0  11043464.0    Syn  \n1       20019404.0  11993631.0    Syn  \n2              0.0         0.0    Syn  \n3       20954124.0  11120336.0    Syn  \n4              0.0         0.0    Syn  \n...            ...         ...    ...  \n155862         0.0         0.0    Syn  \n155863         0.0         0.0    Syn  \n155864         0.0         0.0    Syn  \n155865         0.0         0.0    Syn  \n155866         0.0         0.0    Syn  \n\n[155867 rows x 37 columns]",
      "text/html": "<div>\n<style scoped>\n    .dataframe tbody tr th:only-of-type {\n        vertical-align: middle;\n    }\n\n    .dataframe tbody tr th {\n        vertical-align: top;\n    }\n\n    .dataframe thead th {\n        text-align: right;\n    }\n</style>\n<table border=\"1\" class=\"dataframe\">\n  <thead>\n    <tr style=\"text-align: right;\">\n      <th></th>\n      <th>Protocol</th>\n      <th>Flow Duration</th>\n      <th>Total Fwd Packets</th>\n      <th>Total Backward Packets</th>\n      <th>Flow Packets/s</th>\n      <th>Flow IAT Mean</th>\n      <th>Flow IAT Std</th>\n      <th>Flow IAT Max</th>\n      <th>Flow IAT Min</th>\n      <th>Fwd IAT Total</th>\n      <th>...</th>\n      <th>Fwd Seg Size Min</th>\n      <th>Active Mean</th>\n      <th>Active Std</th>\n      <th>Active Max</th>\n      <th>Active Min</th>\n      <th>Idle Mean</th>\n      <th>Idle Std</th>\n      <th>Idle Max</th>\n      <th>Idle Min</th>\n      <th>Label</th>\n    </tr>\n  </thead>\n  <tbody>\n    <tr>\n      <th>0</th>\n      <td>6</td>\n      <td>115799309</td>\n      <td>19</td>\n      <td>2</td>\n      <td>1.813482e-01</td>\n      <td>5.789966e+06</td>\n      <td>7.370248e+06</td>\n      <td>21714932.0</td>\n      <td>0.0</td>\n      <td>115799312.0</td>\n      <td>...</td>\n      <td>20</td>\n      <td>244280.140625</td>\n      <td>646237.500000</td>\n      <td>1709809.0</td>\n      <td>1.0</td>\n      <td>14261168.0</td>\n      <td>3220326.25</td>\n      <td>21714932.0</td>\n      <td>11043464.0</td>\n      <td>Syn</td>\n    </tr>\n    <tr>\n      <th>1</th>\n      <td>6</td>\n      <td>113973933</td>\n      <td>16</td>\n      <td>0</td>\n      <td>1.403830e-01</td>\n      <td>7.598262e+06</td>\n      <td>8.575157e+06</td>\n      <td>20019404.0</td>\n      <td>0.0</td>\n      <td>113973936.0</td>\n      <td>...</td>\n      <td>20</td>\n      <td>9.000000</td>\n      <td>19.595919</td>\n      <td>49.0</td>\n      <td>1.0</td>\n      <td>16281983.0</td>\n      <td>2573891.00</td>\n      <td>20019404.0</td>\n      <td>11993631.0</td>\n      <td>Syn</td>\n    </tr>\n    <tr>\n      <th>2</th>\n      <td>6</td>\n      <td>112</td>\n      <td>2</td>\n      <td>2</td>\n      <td>3.571429e+04</td>\n      <td>3.733333e+01</td>\n      <td>6.379916e+01</td>\n      <td>111.0</td>\n      <td>0.0</td>\n      <td>1.0</td>\n      <td>...</td>\n      <td>20</td>\n      <td>0.000000</td>\n      <td>0.000000</td>\n      <td>0.0</td>\n      <td>0.0</td>\n      <td>0.0</td>\n      <td>0.00</td>\n      <td>0.0</td>\n      <td>0.0</td>\n      <td>Syn</td>\n    </tr>\n    <tr>\n      <th>3</th>\n      <td>6</td>\n      <td>105985004</td>\n      <td>16</td>\n      <td>0</td>\n      <td>1.509648e-01</td>\n      <td>7.065667e+06</td>\n      <td>8.074003e+06</td>\n      <td>20954124.0</td>\n      <td>1.0</td>\n      <td>105985008.0</td>\n      <td>...</td>\n      <td>20</td>\n      <td>7.857143</td>\n      <td>17.705259</td>\n      <td>48.0</td>\n      <td>1.0</td>\n      <td>15140707.0</td>\n      <td>3077366.50</td>\n      <td>20954124.0</td>\n      <td>11120336.0</td>\n      <td>Syn</td>\n    </tr>\n    <tr>\n      <th>4</th>\n      <td>6</td>\n      <td>1</td>\n      <td>2</td>\n      <td>0</td>\n      <td>2.000000e+06</td>\n      <td>1.000000e+00</td>\n      <td>0.000000e+00</td>\n      <td>1.0</td>\n      <td>1.0</td>\n      <td>1.0</td>\n      <td>...</td>\n      <td>20</td>\n      <td>0.000000</td>\n      <td>0.000000</td>\n      <td>0.0</td>\n      <td>0.0</td>\n      <td>0.0</td>\n      <td>0.00</td>\n      <td>0.0</td>\n      <td>0.0</td>\n      <td>Syn</td>\n    </tr>\n    <tr>\n      <th>...</th>\n      <td>...</td>\n      <td>...</td>\n      <td>...</td>\n      <td>...</td>\n      <td>...</td>\n      <td>...</td>\n      <td>...</td>\n      <td>...</td>\n      <td>...</td>\n      <td>...</td>\n      <td>...</td>\n      <td>...</td>\n      <td>...</td>\n      <td>...</td>\n      <td>...</td>\n      <td>...</td>\n      <td>...</td>\n      <td>...</td>\n      <td>...</td>\n      <td>...</td>\n      <td>...</td>\n    </tr>\n    <tr>\n      <th>155862</th>\n      <td>6</td>\n      <td>111</td>\n      <td>2</td>\n      <td>2</td>\n      <td>3.603604e+04</td>\n      <td>3.700000e+01</td>\n      <td>3.404409e+01</td>\n      <td>67.0</td>\n      <td>0.0</td>\n      <td>0.0</td>\n      <td>...</td>\n      <td>20</td>\n      <td>0.000000</td>\n      <td>0.000000</td>\n      <td>0.0</td>\n      <td>0.0</td>\n      <td>0.0</td>\n      <td>0.00</td>\n      <td>0.0</td>\n      <td>0.0</td>\n      <td>Syn</td>\n    </tr>\n    <tr>\n      <th>155863</th>\n      <td>6</td>\n      <td>162</td>\n      <td>2</td>\n      <td>2</td>\n      <td>2.469136e+04</td>\n      <td>5.400000e+01</td>\n      <td>5.524491e+01</td>\n      <td>112.0</td>\n      <td>2.0</td>\n      <td>48.0</td>\n      <td>...</td>\n      <td>20</td>\n      <td>0.000000</td>\n      <td>0.000000</td>\n      <td>0.0</td>\n      <td>0.0</td>\n      <td>0.0</td>\n      <td>0.00</td>\n      <td>0.0</td>\n      <td>0.0</td>\n      <td>Syn</td>\n    </tr>\n    <tr>\n      <th>155864</th>\n      <td>6</td>\n      <td>218</td>\n      <td>2</td>\n      <td>2</td>\n      <td>1.834862e+04</td>\n      <td>7.266666e+01</td>\n      <td>1.249973e+02</td>\n      <td>217.0</td>\n      <td>0.0</td>\n      <td>1.0</td>\n      <td>...</td>\n      <td>20</td>\n      <td>0.000000</td>\n      <td>0.000000</td>\n      <td>0.0</td>\n      <td>0.0</td>\n      <td>0.0</td>\n      <td>0.00</td>\n      <td>0.0</td>\n      <td>0.0</td>\n      <td>Syn</td>\n    </tr>\n    <tr>\n      <th>155865</th>\n      <td>6</td>\n      <td>105</td>\n      <td>2</td>\n      <td>2</td>\n      <td>3.809524e+04</td>\n      <td>3.500000e+01</td>\n      <td>3.031501e+01</td>\n      <td>53.0</td>\n      <td>0.0</td>\n      <td>0.0</td>\n      <td>...</td>\n      <td>20</td>\n      <td>0.000000</td>\n      <td>0.000000</td>\n      <td>0.0</td>\n      <td>0.0</td>\n      <td>0.0</td>\n      <td>0.00</td>\n      <td>0.0</td>\n      <td>0.0</td>\n      <td>Syn</td>\n    </tr>\n    <tr>\n      <th>155866</th>\n      <td>6</td>\n      <td>103</td>\n      <td>2</td>\n      <td>2</td>\n      <td>3.883495e+04</td>\n      <td>3.433333e+01</td>\n      <td>3.043572e+01</td>\n      <td>58.0</td>\n      <td>0.0</td>\n      <td>45.0</td>\n      <td>...</td>\n      <td>20</td>\n      <td>0.000000</td>\n      <td>0.000000</td>\n      <td>0.0</td>\n      <td>0.0</td>\n      <td>0.0</td>\n      <td>0.00</td>\n      <td>0.0</td>\n      <td>0.0</td>\n      <td>Syn</td>\n    </tr>\n  </tbody>\n</table>\n<p>155867 rows × 37 columns</p>\n</div>"
     },
     "execution_count": 26,
     "metadata": {},
     "output_type": "execute_result"
    }
   ],
   "source": [
    "workingDataFrame"
   ],
   "metadata": {
    "collapsed": false
   }
  },
  {
   "cell_type": "markdown",
   "source": [
    "Saving New DataFrame as csv file to new location"
   ],
   "metadata": {
    "collapsed": false
   }
  },
  {
   "cell_type": "code",
   "execution_count": 27,
   "outputs": [],
   "source": [
    "def dataCleaningResultToAnotherCSV(dataFrameArg, dirPath, file_name):\n",
    "    dataFrameArg.to_csv(dirPath + file_name)"
   ],
   "metadata": {
    "collapsed": false
   }
  },
  {
   "cell_type": "code",
   "execution_count": 28,
   "outputs": [],
   "source": [
    "newCsvPath = \"C:\\\\CIC-DDOS-2019\\\\AfterDataCleaning\\\\\"\n",
    "# newFileName = \"UDPLag.csv\"\n",
    "newFileName = \"Syn.csv\"\n",
    "dataCleaningResultToAnotherCSV(dataFrameArg=workingDataFrame, dirPath=newCsvPath, file_name=newFileName)"
   ],
   "metadata": {
    "collapsed": false
   }
  },
  {
   "cell_type": "code",
   "execution_count": 29,
   "outputs": [
    {
     "data": {
      "text/plain": "147"
     },
     "execution_count": 29,
     "metadata": {},
     "output_type": "execute_result"
    }
   ],
   "source": [
    "gc.collect()"
   ],
   "metadata": {
    "collapsed": false
   }
  }
 ],
 "metadata": {
  "kernelspec": {
   "display_name": "Python 3",
   "language": "python",
   "name": "python3"
  },
  "language_info": {
   "codemirror_mode": {
    "name": "ipython",
    "version": 2
   },
   "file_extension": ".py",
   "mimetype": "text/x-python",
   "name": "python",
   "nbconvert_exporter": "python",
   "pygments_lexer": "ipython2",
   "version": "2.7.6"
  }
 },
 "nbformat": 4,
 "nbformat_minor": 0
}
