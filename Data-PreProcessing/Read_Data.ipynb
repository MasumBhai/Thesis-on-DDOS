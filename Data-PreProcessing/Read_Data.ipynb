{
 "cells": [
  {
   "cell_type": "markdown",
   "source": [
    "Loading Libraries"
   ],
   "metadata": {
    "collapsed": false
   }
  },
  {
   "cell_type": "code",
   "execution_count": 117,
   "metadata": {
    "collapsed": true
   },
   "outputs": [],
   "source": [
    "import numba\n",
    "import tensorflow as tf\n",
    "import pandas as pd\n",
    "import numpy as np\n",
    "import random\n",
    "import gc  # garbage collector\n",
    "\n",
    "from fastcore.basics import *\n",
    "from fastcore.parallel import *\n",
    "from numba import jit, njit, vectorize, cuda, uint32, f8, uint8\n",
    "\n",
    "from sklearn.model_selection import train_test_split\n",
    "from sklearn import metrics  # for accuracy calculation\n",
    "from sklearn.tree import DecisionTreeClassifier\n",
    "from sklearn.metrics import roc_auc_score, accuracy_score\n",
    "from functools import partial\n",
    "from os import cpu_count\n",
    "import matplotlib.pyplot as plt\n",
    "\n",
    "import math\n",
    "from pylab import imshow, show\n",
    "from timeit import default_timer as timer\n",
    "\n",
    "from dask import dataframe as dd\n",
    "from dask.distributed import Client"
   ]
  },
  {
   "cell_type": "markdown",
   "source": [
    "Setting up paths to csv files / datasets"
   ],
   "metadata": {
    "collapsed": false
   }
  },
  {
   "cell_type": "code",
   "execution_count": 118,
   "outputs": [],
   "source": [
    "# CSV-01-12\n",
    "path_DdoS_DNS = \"C:\\\\CIC-DDOS-2019\\\\DrDoS_DNS.csv\"\n",
    "path_DdoS_MSSQL = \"C:\\\\CIC-DDOS-2019\\\\DrDoS_MSSQL.csv\"\n",
    "path_DdoS_LDAP = \"C:\\\\CIC-DDOS-2019\\\\DrDoS_LDAP.csv\"\n",
    "path_DdoS_NTP = \"C:\\\\CIC-DDOS-2019\\\\DrDoS_NTP.csv\"\n",
    "path_DdoS_NetBIOS = \"C:\\\\CIC-DDOS-2019\\\\DrDoS_NetBIOS.csv\"\n",
    "path_DdoS_SNMP = \"C:\\\\CIC-DDOS-2019\\\\DrDoS_SNMP.csv\"\n",
    "path_DdoS_SSDP = \"C:\\\\CIC-DDOS-2019\\\\DrDoS_SSDP.csv\"\n",
    "path_DdoS_UDP = \"C:\\\\CIC-DDOS-2019\\\\DrDoS_UDP.csv\"\n",
    "path_Syn = \"C:\\\\CIC-DDOS-2019\\\\Syn.csv\"\n",
    "path_TFTP = \"C:\\\\CIC-DDOS-2019\\\\TFTP.csv\"\n",
    "path_UDPLag = \"C:\\\\CIC-DDOS-2019\\\\UDPLag.csv\"\n",
    "\n",
    "# # CSV-03-11\n",
    "# path__LDAP = \"../CICDDoS-2019/CSV-03-11/03-11/LDAP.csv\"\n",
    "# path__MSSQL = \"../CICDDoS-2019/CSV-03-11/03-11/MSSQL.csv\"\n",
    "# path__NetBIOS = \"../CICDDoS-2019/CSV-03-11/03-11/NetBIOS.csv\"\n",
    "# path__Portmap = \"../CICDDoS-2019/CSV-03-11/03-11/Portmap.csv\"\n",
    "# path__Syn = \"../CICDDoS-2019/CSV-03-11/03-11/Syn.csv\"\n",
    "# path__UDP = \"../CICDDoS-2019/CSV-03-11/03-11/UDP.csv\"\n",
    "# path__UDPLag = \"../CICDDoS-2019/CSV-03-11/03-11/UDPLag.csv\"\n",
    "\n",
    "paths = [path_DdoS_DNS, path_DdoS_MSSQL, path_DdoS_LDAP, path_DdoS_NTP, path_DdoS_NetBIOS, path_DdoS_SNMP,\n",
    "         path_DdoS_SSDP, path_DdoS_UDP, path_Syn, path_TFTP, path_UDPLag]\n",
    "# , path__LDAP, path__MSSQL, path__NetBIOS,\n",
    "#      path__Portmap, path__Syn, path__UDP, path__UDPLag]"
   ],
   "metadata": {
    "collapsed": false
   }
  },
  {
   "cell_type": "markdown",
   "source": [
    "Column / feature names"
   ],
   "metadata": {
    "collapsed": false
   }
  },
  {
   "cell_type": "code",
   "execution_count": 119,
   "outputs": [],
   "source": [
    "col_name_consistency = {\n",
    "    'Flow ID': 'Flow ID',\n",
    "    'Source IP': 'Source IP',\n",
    "    'Src IP': 'Source IP',\n",
    "    'Source Port': 'Source Port',\n",
    "    'Src Port': 'Source Port',\n",
    "    'Destination IP': 'Destination IP',\n",
    "    'Dst IP': 'Destination IP',\n",
    "    'Destination Port': 'Destination Port',\n",
    "    'Dst Port': 'Destination Port',\n",
    "    'Protocol': 'Protocol',\n",
    "    'Timestamp': 'Timestamp',\n",
    "    'Flow Duration': 'Flow Duration',\n",
    "    'Total Fwd Packets': 'Total Fwd Packets',\n",
    "    'Tot Fwd Pkts': 'Total Fwd Packets',\n",
    "    'Total Backward Packets': 'Total Backward Packets',\n",
    "    'Tot Bwd Pkts': 'Total Backward Packets',\n",
    "    'Total Length of Fwd Packets': 'Fwd Packets Length Total',\n",
    "    'TotLen Fwd Pkts': 'Fwd Packets Length Total',\n",
    "    'Total Length of Bwd Packets': 'Bwd Packets Length Total',\n",
    "    'TotLen Bwd Pkts': 'Bwd Packets Length Total',\n",
    "    'Fwd Packet Length Max': 'Fwd Packet Length Max',\n",
    "    'Fwd Pkt Len Max': 'Fwd Packet Length Max',\n",
    "    'Fwd Packet Length Min': 'Fwd Packet Length Min',\n",
    "    'Fwd Pkt Len Min': 'Fwd Packet Length Min',\n",
    "    'Fwd Packet Length Mean': 'Fwd Packet Length Mean',\n",
    "    'Fwd Pkt Len Mean': 'Fwd Packet Length Mean',\n",
    "    'Fwd Packet Length Std': 'Fwd Packet Length Std',\n",
    "    'Fwd Pkt Len Std': 'Fwd Packet Length Std',\n",
    "    'Bwd Packet Length Max': 'Bwd Packet Length Max',\n",
    "    'Bwd Pkt Len Max': 'Bwd Packet Length Max',\n",
    "    'Bwd Packet Length Min': 'Bwd Packet Length Min',\n",
    "    'Bwd Pkt Len Min': 'Bwd Packet Length Min',\n",
    "    'Bwd Packet Length Mean': 'Bwd Packet Length Mean',\n",
    "    'Bwd Pkt Len Mean': 'Bwd Packet Length Mean',\n",
    "    'Bwd Packet Length Std': 'Bwd Packet Length Std',\n",
    "    'Bwd Pkt Len Std': 'Bwd Packet Length Std',\n",
    "    'Flow Bytes/s': 'Flow Bytes/s',\n",
    "    'Flow Byts/s': 'Flow Bytes/s',\n",
    "    'Flow Packets/s': 'Flow Packets/s',\n",
    "    'Flow Pkts/s': 'Flow Packets/s',\n",
    "    'Flow IAT Mean': 'Flow IAT Mean',\n",
    "    'Flow IAT Std': 'Flow IAT Std',\n",
    "    'Flow IAT Max': 'Flow IAT Max',\n",
    "    'Flow IAT Min': 'Flow IAT Min',\n",
    "    'Fwd IAT Total': 'Fwd IAT Total',\n",
    "    'Fwd IAT Tot': 'Fwd IAT Total',\n",
    "    'Fwd IAT Mean': 'Fwd IAT Mean',\n",
    "    'Fwd IAT Std': 'Fwd IAT Std',\n",
    "    'Fwd IAT Max': 'Fwd IAT Max',\n",
    "    'Fwd IAT Min': 'Fwd IAT Min',\n",
    "    'Bwd IAT Total': 'Bwd IAT Total',\n",
    "    'Bwd IAT Tot': 'Bwd IAT Total',\n",
    "    'Bwd IAT Mean': 'Bwd IAT Mean',\n",
    "    'Bwd IAT Std': 'Bwd IAT Std',\n",
    "    'Bwd IAT Max': 'Bwd IAT Max',\n",
    "    'Bwd IAT Min': 'Bwd IAT Min',\n",
    "    'Fwd PSH Flags': 'Fwd PSH Flags',\n",
    "    'Bwd PSH Flags': 'Bwd PSH Flags',\n",
    "    'Fwd URG Flags': 'Fwd URG Flags',\n",
    "    'Bwd URG Flags': 'Bwd URG Flags',\n",
    "    'Fwd Header Length': 'Fwd Header Length',\n",
    "    'Fwd Header Len': 'Fwd Header Length',\n",
    "    'Bwd Header Length': 'Bwd Header Length',\n",
    "    'Bwd Header Len': 'Bwd Header Length',\n",
    "    'Fwd Packets/s': 'Fwd Packets/s',\n",
    "    'Fwd Pkts/s': 'Fwd Packets/s',\n",
    "    'Bwd Packets/s': 'Bwd Packets/s',\n",
    "    'Bwd Pkts/s': 'Bwd Packets/s',\n",
    "    'Min Packet Length': 'Packet Length Min',\n",
    "    'Pkt Len Min': 'Packet Length Min',\n",
    "    'Max Packet Length': 'Packet Length Max',\n",
    "    'Pkt Len Max': 'Packet Length Max',\n",
    "    'Packet Length Mean': 'Packet Length Mean',\n",
    "    'Pkt Len Mean': 'Packet Length Mean',\n",
    "    'Packet Length Std': 'Packet Length Std',\n",
    "    'Pkt Len Std': 'Packet Length Std',\n",
    "    'Packet Length Variance': 'Packet Length Variance',\n",
    "    'Pkt Len Var': 'Packet Length Variance',\n",
    "    'FIN Flag Count': 'FIN Flag Count',\n",
    "    'FIN Flag Cnt': 'FIN Flag Count',\n",
    "    'SYN Flag Count': 'SYN Flag Count',\n",
    "    'SYN Flag Cnt': 'SYN Flag Count',\n",
    "    'RST Flag Count': 'RST Flag Count',\n",
    "    'RST Flag Cnt': 'RST Flag Count',\n",
    "    'PSH Flag Count': 'PSH Flag Count',\n",
    "    'PSH Flag Cnt': 'PSH Flag Count',\n",
    "    'ACK Flag Count': 'ACK Flag Count',\n",
    "    'ACK Flag Cnt': 'ACK Flag Count',\n",
    "    'URG Flag Count': 'URG Flag Count',\n",
    "    'URG Flag Cnt': 'URG Flag Count',\n",
    "    'CWE Flag Count': 'CWE Flag Count',\n",
    "    'CWE Flag Cnt': 'CWE Flag Count',\n",
    "    'ECE Flag Count': 'ECE Flag Count',\n",
    "    'ECE Flag Cnt': 'ECE Flag Count',\n",
    "    'Down/Up Ratio': 'Down/Up Ratio',\n",
    "    'Average Packet Size': 'Avg Packet Size',\n",
    "    'Pkt Size Avg': 'Avg Packet Size',\n",
    "    'Avg Fwd Segment Size': 'Avg Fwd Segment Size',\n",
    "    'Fwd Seg Size Avg': 'Avg Fwd Segment Size',\n",
    "    'Avg Bwd Segment Size': 'Avg Bwd Segment Size',\n",
    "    'Bwd Seg Size Avg': 'Avg Bwd Segment Size',\n",
    "    'Fwd Avg Bytes/Bulk': 'Fwd Avg Bytes/Bulk',\n",
    "    'Fwd Byts/b Avg': 'Fwd Avg Bytes/Bulk',\n",
    "    'Fwd Avg Packets/Bulk': 'Fwd Avg Packets/Bulk',\n",
    "    'Fwd Pkts/b Avg': 'Fwd Avg Packets/Bulk',\n",
    "    'Fwd Avg Bulk Rate': 'Fwd Avg Bulk Rate',\n",
    "    'Fwd Blk Rate Avg': 'Fwd Avg Bulk Rate',\n",
    "    'Bwd Avg Bytes/Bulk': 'Bwd Avg Bytes/Bulk',\n",
    "    'Bwd Byts/b Avg': 'Bwd Avg Bytes/Bulk',\n",
    "    'Bwd Avg Packets/Bulk': 'Bwd Avg Packets/Bulk',\n",
    "    'Bwd Pkts/b Avg': 'Bwd Avg Packets/Bulk',\n",
    "    'Bwd Avg Bulk Rate': 'Bwd Avg Bulk Rate',\n",
    "    'Bwd Blk Rate Avg': 'Bwd Avg Bulk Rate',\n",
    "    'Subflow Fwd Packets': 'Subflow Fwd Packets',\n",
    "    'Subflow Fwd Pkts': 'Subflow Fwd Packets',\n",
    "    'Subflow Fwd Bytes': 'Subflow Fwd Bytes',\n",
    "    'Subflow Fwd Byts': 'Subflow Fwd Bytes',\n",
    "    'Subflow Bwd Packets': 'Subflow Bwd Packets',\n",
    "    'Subflow Bwd Pkts': 'Subflow Bwd Packets',\n",
    "    'Subflow Bwd Bytes': 'Subflow Bwd Bytes',\n",
    "    'Subflow Bwd Byts': 'Subflow Bwd Bytes',\n",
    "    'Init_Win_bytes_forward': 'Init Fwd Win Bytes',\n",
    "    'Init Fwd Win Byts': 'Init Fwd Win Bytes',\n",
    "    'Init_Win_bytes_backward': 'Init Bwd Win Bytes',\n",
    "    'Init Bwd Win Byts': 'Init Bwd Win Bytes',\n",
    "    'act_data_pkt_fwd': 'Fwd Act Data Packets',\n",
    "    'Fwd Act Data Pkts': 'Fwd Act Data Packets',\n",
    "    'min_seg_size_forward': 'Fwd Seg Size Min',\n",
    "    'Fwd Seg Size Min': 'Fwd Seg Size Min',\n",
    "    'Active Mean': 'Active Mean',\n",
    "    'Active Std': 'Active Std',\n",
    "    'Active Max': 'Active Max',\n",
    "    'Active Min': 'Active Min',\n",
    "    'Idle Mean': 'Idle Mean',\n",
    "    'Idle Std': 'Idle Std',\n",
    "    'Idle Max': 'Idle Max',\n",
    "    'Idle Min': 'Idle Min',\n",
    "    'Label': 'Label'\n",
    "}"
   ],
   "metadata": {
    "collapsed": false
   }
  },
  {
   "cell_type": "markdown",
   "source": [
    "Following Columns may have little insignificance over model"
   ],
   "metadata": {
    "collapsed": false
   }
  },
  {
   "cell_type": "code",
   "execution_count": 120,
   "outputs": [
    {
     "data": {
      "text/plain": "14"
     },
     "execution_count": 120,
     "metadata": {},
     "output_type": "execute_result"
    }
   ],
   "source": [
    "drop_columns = [  # this list includes all spellings across CIC NIDS datasets\n",
    "    \"Flow ID\",\n",
    "    'Fwd Header Length.1',\n",
    "    \"Source IP\",\n",
    "    \"Src IP\",\n",
    "    \"Source Port\",\n",
    "    \"Src Port\",\n",
    "    \"Destination IP\",\n",
    "    \"Dst IP\",\n",
    "    \"Destination Port\",\n",
    "    \"Dst Port\",\n",
    "    \"Timestamp\",\n",
    "    \"Unnamed: 0\",\n",
    "    \"Inbound\",\n",
    "    \"SimillarHTTP\"  # CIC-DDoS other undocumented columns\n",
    "]\n",
    "len(drop_columns)  # src_port,dst_port, src_ip, dst_ip these are duplicate"
   ],
   "metadata": {
    "collapsed": false
   }
  },
  {
   "cell_type": "code",
   "execution_count": 121,
   "outputs": [
    {
     "name": "stdout",
     "output_type": "stream",
     "text": [
      "[name: \"/device:CPU:0\"\n",
      "device_type: \"CPU\"\n",
      "memory_limit: 268435456\n",
      "locality {\n",
      "}\n",
      "incarnation: 8515299740152523315\n",
      ", name: \"/device:GPU:0\"\n",
      "device_type: \"GPU\"\n",
      "memory_limit: 2966106932\n",
      "locality {\n",
      "  bus_id: 1\n",
      "  links {\n",
      "  }\n",
      "}\n",
      "incarnation: 6389743316616408369\n",
      "physical_device_desc: \"device: 0, name: NVIDIA GeForce 940MX, pci bus id: 0000:01:00.0, compute capability: 5.0\"\n",
      "]\n"
     ]
    },
    {
     "data": {
      "text/plain": "[PhysicalDevice(name='/physical_device:GPU:0', device_type='GPU')]"
     },
     "execution_count": 121,
     "metadata": {},
     "output_type": "execute_result"
    }
   ],
   "source": [
    "from tensorflow.python.client import device_lib\n",
    "\n",
    "print(device_lib.list_local_devices())\n",
    "tf.config.experimental.list_physical_devices('GPU')\n",
    "# import cudf\n",
    "# dtypes = {'SimillarHTTP': 'object'}\n",
    "# df_gpu = cudf.read_csv(path_TFTP, blocksize=50e6, low_memory=False, dtype=dtypes)"
   ],
   "metadata": {
    "collapsed": false
   }
  },
  {
   "cell_type": "code",
   "execution_count": 122,
   "outputs": [],
   "source": [
    "def readHugeCsvFileAsDataFrame(file_path):\n",
    "    # start = timer()\n",
    "    dtypes = {'SimillarHTTP': 'object',\n",
    "              'Timestamp': 'object',\n",
    "              'Source IP': 'str',\n",
    "              'Destination IP': 'str',\n",
    "              'Flow ID': 'object',\n",
    "              'Label': 'object',\n",
    "              }\n",
    "    for feature in [f'f_{i}' for i in range(82)]:\n",
    "        dtypes[feature] = \"float32\"\n",
    "\n",
    "    dask_df = dd.read_csv(file_path, low_memory=False, dtype=dtypes)  # 50MB chunk-size\n",
    "    # elapsed_time = timer() - start\n",
    "    # print(\"Read csv with dask: \", elapsed_time, \"sec\")\n",
    "    return dask_df.compute()"
   ],
   "metadata": {
    "collapsed": false
   }
  },
  {
   "cell_type": "code",
   "execution_count": 123,
   "outputs": [
    {
     "name": "stderr",
     "output_type": "stream",
     "text": [
      "C:\\Users\\Malware\\anaconda3\\envs\\ml_env\\lib\\site-packages\\distributed\\node.py:155: UserWarning: Port 8787 is already in use.\n",
      "Perhaps you already have a cluster running?\n",
      "Hosting the HTTP server on port 14424 instead\n",
      "  http_address[\"port\"], self.http_server.port\n"
     ]
    },
    {
     "data": {
      "text/plain": "<Client: 'tcp://127.0.0.1:14425' processes=4 threads=4, memory=8.47 GB>",
      "text/html": "<table style=\"border: 2px solid white;\">\n<tr>\n<td style=\"vertical-align: top; border: 0px solid white\">\n<h3 style=\"text-align: left;\">Client</h3>\n<ul style=\"text-align: left; list-style: none; margin: 0; padding: 0;\">\n  <li><b>Scheduler: </b>tcp://127.0.0.1:14425</li>\n  <li><b>Dashboard: </b><a href='http://127.0.0.1:14424/status' target='_blank'>http://127.0.0.1:14424/status</a></li>\n</ul>\n</td>\n<td style=\"vertical-align: top; border: 0px solid white\">\n<h3 style=\"text-align: left;\">Cluster</h3>\n<ul style=\"text-align: left; list-style:none; margin: 0; padding: 0;\">\n  <li><b>Workers: </b>4</li>\n  <li><b>Cores: </b>4</li>\n  <li><b>Memory: </b>8.47 GB</li>\n</ul>\n</td>\n</tr>\n</table>"
     },
     "execution_count": 123,
     "metadata": {},
     "output_type": "execute_result"
    }
   ],
   "source": [
    "scheduler = Client()\n",
    "scheduler"
   ],
   "metadata": {
    "collapsed": false
   }
  },
  {
   "cell_type": "markdown",
   "source": [
    "Without Scheduler (see the elapsed time to process)"
   ],
   "metadata": {
    "collapsed": false
   }
  },
  {
   "cell_type": "code",
   "execution_count": 124,
   "outputs": [
    {
     "name": "stdout",
     "output_type": "stream",
     "text": [
      "Wall time: 3min 21s\n"
     ]
    },
    {
     "data": {
      "text/plain": "       Unnamed: 0                                 Flow ID   Source IP  \\\n0              72           172.16.0.5-192.168.50.1-0-0-0  172.16.0.5   \n1           55171    172.16.0.5-192.168.50.1-700-36081-17  172.16.0.5   \n2           39545    172.16.0.5-192.168.50.1-701-25269-17  172.16.0.5   \n3           20334     172.16.0.5-192.168.50.1-702-2533-17  172.16.0.5   \n4           18397    172.16.0.5-192.168.50.1-703-34942-17  172.16.0.5   \n...           ...                                     ...         ...   \n76262       56822  172.16.0.5-192.168.50.1-58448-24357-17  172.16.0.5   \n76263       66655  172.16.0.5-192.168.50.1-43130-54967-17  172.16.0.5   \n76264      119733  172.16.0.5-192.168.50.1-52668-58190-17  172.16.0.5   \n76265       45573  172.16.0.5-192.168.50.1-53694-34958-17  172.16.0.5   \n76266        9305  172.16.0.5-192.168.50.1-35349-26869-17  172.16.0.5   \n\n        Source Port  Destination IP   Destination Port   Protocol  \\\n0                 0    192.168.50.1                  0          0   \n1               700    192.168.50.1              36081         17   \n2               701    192.168.50.1              25269         17   \n3               702    192.168.50.1               2533         17   \n4               703    192.168.50.1              34942         17   \n...             ...             ...                ...        ...   \n76262         58448    192.168.50.1              24357         17   \n76263         43130    192.168.50.1              54967         17   \n76264         52668    192.168.50.1              58190         17   \n76265         53694    192.168.50.1              34958         17   \n76266         35349    192.168.50.1              26869         17   \n\n                        Timestamp   Flow Duration   Total Fwd Packets  ...  \\\n0      2018-12-01 12:23:13.663425       119714230               49476  ...   \n1      2018-12-01 12:23:13.663475               2                   2  ...   \n2      2018-12-01 12:23:13.663526               1                   2  ...   \n3      2018-12-01 12:23:13.663622               2                   2  ...   \n4      2018-12-01 12:23:13.663844               2                   2  ...   \n...                           ...             ...                 ...  ...   \n76262  2018-12-01 12:36:57.627128               1                   2  ...   \n76263  2018-12-01 12:36:57.627130              46                   2  ...   \n76264  2018-12-01 12:36:57.627177              50                   2  ...   \n76265  2018-12-01 12:36:57.627606               1                   2  ...   \n76266  2018-12-01 12:36:57.627789               1                   2  ...   \n\n        Active Std   Active Max   Active Min  Idle Mean   Idle Std   Idle Max  \\\n0              0.0          0.0          0.0        0.0        0.0        0.0   \n1              0.0          0.0          0.0        0.0        0.0        0.0   \n2              0.0          0.0          0.0        0.0        0.0        0.0   \n3              0.0          0.0          0.0        0.0        0.0        0.0   \n4              0.0          0.0          0.0        0.0        0.0        0.0   \n...            ...          ...          ...        ...        ...        ...   \n76262          0.0          0.0          0.0        0.0        0.0        0.0   \n76263          0.0          0.0          0.0        0.0        0.0        0.0   \n76264          0.0          0.0          0.0        0.0        0.0        0.0   \n76265          0.0          0.0          0.0        0.0        0.0        0.0   \n76266          0.0          0.0          0.0        0.0        0.0        0.0   \n\n        Idle Min  SimillarHTTP   Inbound       Label  \n0            0.0             0         1  DrDoS_SSDP  \n1            0.0             0         1  DrDoS_SSDP  \n2            0.0             0         1  DrDoS_SSDP  \n3            0.0             0         1  DrDoS_SSDP  \n4            0.0             0         1  DrDoS_SSDP  \n...          ...           ...       ...         ...  \n76262        0.0             0         1  DrDoS_SSDP  \n76263        0.0             0         1  DrDoS_SSDP  \n76264        0.0             0         1  DrDoS_SSDP  \n76265        0.0             0         1  DrDoS_SSDP  \n76266        0.0             0         1  DrDoS_SSDP  \n\n[2611374 rows x 88 columns]",
      "text/html": "<div>\n<style scoped>\n    .dataframe tbody tr th:only-of-type {\n        vertical-align: middle;\n    }\n\n    .dataframe tbody tr th {\n        vertical-align: top;\n    }\n\n    .dataframe thead th {\n        text-align: right;\n    }\n</style>\n<table border=\"1\" class=\"dataframe\">\n  <thead>\n    <tr style=\"text-align: right;\">\n      <th></th>\n      <th>Unnamed: 0</th>\n      <th>Flow ID</th>\n      <th>Source IP</th>\n      <th>Source Port</th>\n      <th>Destination IP</th>\n      <th>Destination Port</th>\n      <th>Protocol</th>\n      <th>Timestamp</th>\n      <th>Flow Duration</th>\n      <th>Total Fwd Packets</th>\n      <th>...</th>\n      <th>Active Std</th>\n      <th>Active Max</th>\n      <th>Active Min</th>\n      <th>Idle Mean</th>\n      <th>Idle Std</th>\n      <th>Idle Max</th>\n      <th>Idle Min</th>\n      <th>SimillarHTTP</th>\n      <th>Inbound</th>\n      <th>Label</th>\n    </tr>\n  </thead>\n  <tbody>\n    <tr>\n      <th>0</th>\n      <td>72</td>\n      <td>172.16.0.5-192.168.50.1-0-0-0</td>\n      <td>172.16.0.5</td>\n      <td>0</td>\n      <td>192.168.50.1</td>\n      <td>0</td>\n      <td>0</td>\n      <td>2018-12-01 12:23:13.663425</td>\n      <td>119714230</td>\n      <td>49476</td>\n      <td>...</td>\n      <td>0.0</td>\n      <td>0.0</td>\n      <td>0.0</td>\n      <td>0.0</td>\n      <td>0.0</td>\n      <td>0.0</td>\n      <td>0.0</td>\n      <td>0</td>\n      <td>1</td>\n      <td>DrDoS_SSDP</td>\n    </tr>\n    <tr>\n      <th>1</th>\n      <td>55171</td>\n      <td>172.16.0.5-192.168.50.1-700-36081-17</td>\n      <td>172.16.0.5</td>\n      <td>700</td>\n      <td>192.168.50.1</td>\n      <td>36081</td>\n      <td>17</td>\n      <td>2018-12-01 12:23:13.663475</td>\n      <td>2</td>\n      <td>2</td>\n      <td>...</td>\n      <td>0.0</td>\n      <td>0.0</td>\n      <td>0.0</td>\n      <td>0.0</td>\n      <td>0.0</td>\n      <td>0.0</td>\n      <td>0.0</td>\n      <td>0</td>\n      <td>1</td>\n      <td>DrDoS_SSDP</td>\n    </tr>\n    <tr>\n      <th>2</th>\n      <td>39545</td>\n      <td>172.16.0.5-192.168.50.1-701-25269-17</td>\n      <td>172.16.0.5</td>\n      <td>701</td>\n      <td>192.168.50.1</td>\n      <td>25269</td>\n      <td>17</td>\n      <td>2018-12-01 12:23:13.663526</td>\n      <td>1</td>\n      <td>2</td>\n      <td>...</td>\n      <td>0.0</td>\n      <td>0.0</td>\n      <td>0.0</td>\n      <td>0.0</td>\n      <td>0.0</td>\n      <td>0.0</td>\n      <td>0.0</td>\n      <td>0</td>\n      <td>1</td>\n      <td>DrDoS_SSDP</td>\n    </tr>\n    <tr>\n      <th>3</th>\n      <td>20334</td>\n      <td>172.16.0.5-192.168.50.1-702-2533-17</td>\n      <td>172.16.0.5</td>\n      <td>702</td>\n      <td>192.168.50.1</td>\n      <td>2533</td>\n      <td>17</td>\n      <td>2018-12-01 12:23:13.663622</td>\n      <td>2</td>\n      <td>2</td>\n      <td>...</td>\n      <td>0.0</td>\n      <td>0.0</td>\n      <td>0.0</td>\n      <td>0.0</td>\n      <td>0.0</td>\n      <td>0.0</td>\n      <td>0.0</td>\n      <td>0</td>\n      <td>1</td>\n      <td>DrDoS_SSDP</td>\n    </tr>\n    <tr>\n      <th>4</th>\n      <td>18397</td>\n      <td>172.16.0.5-192.168.50.1-703-34942-17</td>\n      <td>172.16.0.5</td>\n      <td>703</td>\n      <td>192.168.50.1</td>\n      <td>34942</td>\n      <td>17</td>\n      <td>2018-12-01 12:23:13.663844</td>\n      <td>2</td>\n      <td>2</td>\n      <td>...</td>\n      <td>0.0</td>\n      <td>0.0</td>\n      <td>0.0</td>\n      <td>0.0</td>\n      <td>0.0</td>\n      <td>0.0</td>\n      <td>0.0</td>\n      <td>0</td>\n      <td>1</td>\n      <td>DrDoS_SSDP</td>\n    </tr>\n    <tr>\n      <th>...</th>\n      <td>...</td>\n      <td>...</td>\n      <td>...</td>\n      <td>...</td>\n      <td>...</td>\n      <td>...</td>\n      <td>...</td>\n      <td>...</td>\n      <td>...</td>\n      <td>...</td>\n      <td>...</td>\n      <td>...</td>\n      <td>...</td>\n      <td>...</td>\n      <td>...</td>\n      <td>...</td>\n      <td>...</td>\n      <td>...</td>\n      <td>...</td>\n      <td>...</td>\n      <td>...</td>\n    </tr>\n    <tr>\n      <th>76262</th>\n      <td>56822</td>\n      <td>172.16.0.5-192.168.50.1-58448-24357-17</td>\n      <td>172.16.0.5</td>\n      <td>58448</td>\n      <td>192.168.50.1</td>\n      <td>24357</td>\n      <td>17</td>\n      <td>2018-12-01 12:36:57.627128</td>\n      <td>1</td>\n      <td>2</td>\n      <td>...</td>\n      <td>0.0</td>\n      <td>0.0</td>\n      <td>0.0</td>\n      <td>0.0</td>\n      <td>0.0</td>\n      <td>0.0</td>\n      <td>0.0</td>\n      <td>0</td>\n      <td>1</td>\n      <td>DrDoS_SSDP</td>\n    </tr>\n    <tr>\n      <th>76263</th>\n      <td>66655</td>\n      <td>172.16.0.5-192.168.50.1-43130-54967-17</td>\n      <td>172.16.0.5</td>\n      <td>43130</td>\n      <td>192.168.50.1</td>\n      <td>54967</td>\n      <td>17</td>\n      <td>2018-12-01 12:36:57.627130</td>\n      <td>46</td>\n      <td>2</td>\n      <td>...</td>\n      <td>0.0</td>\n      <td>0.0</td>\n      <td>0.0</td>\n      <td>0.0</td>\n      <td>0.0</td>\n      <td>0.0</td>\n      <td>0.0</td>\n      <td>0</td>\n      <td>1</td>\n      <td>DrDoS_SSDP</td>\n    </tr>\n    <tr>\n      <th>76264</th>\n      <td>119733</td>\n      <td>172.16.0.5-192.168.50.1-52668-58190-17</td>\n      <td>172.16.0.5</td>\n      <td>52668</td>\n      <td>192.168.50.1</td>\n      <td>58190</td>\n      <td>17</td>\n      <td>2018-12-01 12:36:57.627177</td>\n      <td>50</td>\n      <td>2</td>\n      <td>...</td>\n      <td>0.0</td>\n      <td>0.0</td>\n      <td>0.0</td>\n      <td>0.0</td>\n      <td>0.0</td>\n      <td>0.0</td>\n      <td>0.0</td>\n      <td>0</td>\n      <td>1</td>\n      <td>DrDoS_SSDP</td>\n    </tr>\n    <tr>\n      <th>76265</th>\n      <td>45573</td>\n      <td>172.16.0.5-192.168.50.1-53694-34958-17</td>\n      <td>172.16.0.5</td>\n      <td>53694</td>\n      <td>192.168.50.1</td>\n      <td>34958</td>\n      <td>17</td>\n      <td>2018-12-01 12:36:57.627606</td>\n      <td>1</td>\n      <td>2</td>\n      <td>...</td>\n      <td>0.0</td>\n      <td>0.0</td>\n      <td>0.0</td>\n      <td>0.0</td>\n      <td>0.0</td>\n      <td>0.0</td>\n      <td>0.0</td>\n      <td>0</td>\n      <td>1</td>\n      <td>DrDoS_SSDP</td>\n    </tr>\n    <tr>\n      <th>76266</th>\n      <td>9305</td>\n      <td>172.16.0.5-192.168.50.1-35349-26869-17</td>\n      <td>172.16.0.5</td>\n      <td>35349</td>\n      <td>192.168.50.1</td>\n      <td>26869</td>\n      <td>17</td>\n      <td>2018-12-01 12:36:57.627789</td>\n      <td>1</td>\n      <td>2</td>\n      <td>...</td>\n      <td>0.0</td>\n      <td>0.0</td>\n      <td>0.0</td>\n      <td>0.0</td>\n      <td>0.0</td>\n      <td>0.0</td>\n      <td>0.0</td>\n      <td>0</td>\n      <td>1</td>\n      <td>DrDoS_SSDP</td>\n    </tr>\n  </tbody>\n</table>\n<p>2611374 rows × 88 columns</p>\n</div>"
     },
     "execution_count": 124,
     "metadata": {},
     "output_type": "execute_result"
    }
   ],
   "source": [
    "%%time\n",
    "# workingDataFrame = readHugeCsvFileAsDataFrame(path_UDPLag)\n",
    "# workingDataFrame = readHugeCsvFileAsDataFrame(path_Syn)\n",
    "# workingDataFrame = readHugeCsvFileAsDataFrame(path_DdoS_NTP)\n",
    "# workingDataFrame = readHugeCsvFileAsDataFrame(path_DdoS_LDAP)\n",
    "workingDataFrame = readHugeCsvFileAsDataFrame(path_DdoS_SSDP)\n",
    "# workingDataFrame.describe()\n",
    "workingDataFrame"
   ],
   "metadata": {
    "collapsed": false
   }
  },
  {
   "cell_type": "markdown",
   "source": [
    "With Scheduler (see the elapsed time to process)"
   ],
   "metadata": {
    "collapsed": false
   }
  },
  {
   "cell_type": "markdown",
   "source": [
    "%%time\n",
    "workingDataFrame = scheduler.submit(readHugeCsvFileAsDataFrame, path_UDPLag)\n",
    "df = workingDataFrame.result()\n",
    "df"
   ],
   "metadata": {
    "collapsed": false
   }
  },
  {
   "cell_type": "code",
   "execution_count": 125,
   "outputs": [
    {
     "data": {
      "text/plain": "Index(['Unnamed: 0', 'Flow ID', ' Source IP', ' Source Port',\n       ' Destination IP', ' Destination Port', ' Protocol', ' Timestamp',\n       ' Flow Duration', ' Total Fwd Packets', ' Total Backward Packets',\n       'Total Length of Fwd Packets', ' Total Length of Bwd Packets',\n       ' Fwd Packet Length Max', ' Fwd Packet Length Min',\n       ' Fwd Packet Length Mean', ' Fwd Packet Length Std',\n       'Bwd Packet Length Max', ' Bwd Packet Length Min',\n       ' Bwd Packet Length Mean', ' Bwd Packet Length Std', 'Flow Bytes/s',\n       ' Flow Packets/s', ' Flow IAT Mean', ' Flow IAT Std', ' Flow IAT Max',\n       ' Flow IAT Min', 'Fwd IAT Total', ' Fwd IAT Mean', ' Fwd IAT Std',\n       ' Fwd IAT Max', ' Fwd IAT Min', 'Bwd IAT Total', ' Bwd IAT Mean',\n       ' Bwd IAT Std', ' Bwd IAT Max', ' Bwd IAT Min', 'Fwd PSH Flags',\n       ' Bwd PSH Flags', ' Fwd URG Flags', ' Bwd URG Flags',\n       ' Fwd Header Length', ' Bwd Header Length', 'Fwd Packets/s',\n       ' Bwd Packets/s', ' Min Packet Length', ' Max Packet Length',\n       ' Packet Length Mean', ' Packet Length Std', ' Packet Length Variance',\n       'FIN Flag Count', ' SYN Flag Count', ' RST Flag Count',\n       ' PSH Flag Count', ' ACK Flag Count', ' URG Flag Count',\n       ' CWE Flag Count', ' ECE Flag Count', ' Down/Up Ratio',\n       ' Average Packet Size', ' Avg Fwd Segment Size',\n       ' Avg Bwd Segment Size', ' Fwd Header Length.1', 'Fwd Avg Bytes/Bulk',\n       ' Fwd Avg Packets/Bulk', ' Fwd Avg Bulk Rate', ' Bwd Avg Bytes/Bulk',\n       ' Bwd Avg Packets/Bulk', 'Bwd Avg Bulk Rate', 'Subflow Fwd Packets',\n       ' Subflow Fwd Bytes', ' Subflow Bwd Packets', ' Subflow Bwd Bytes',\n       'Init_Win_bytes_forward', ' Init_Win_bytes_backward',\n       ' act_data_pkt_fwd', ' min_seg_size_forward', 'Active Mean',\n       ' Active Std', ' Active Max', ' Active Min', 'Idle Mean', ' Idle Std',\n       ' Idle Max', ' Idle Min', 'SimillarHTTP', ' Inbound', ' Label'],\n      dtype='object')"
     },
     "execution_count": 125,
     "metadata": {},
     "output_type": "execute_result"
    }
   ],
   "source": [
    "workingDataFrame.columns"
   ],
   "metadata": {
    "collapsed": false
   }
  },
  {
   "cell_type": "code",
   "execution_count": 126,
   "outputs": [
    {
     "data": {
      "text/plain": "Unnamed: 0         0\nFlow ID            0\n Source IP         0\n Source Port       0\n Destination IP    0\n                  ..\n Idle Max          0\n Idle Min          0\nSimillarHTTP       0\n Inbound           0\n Label             0\nLength: 88, dtype: int64"
     },
     "execution_count": 126,
     "metadata": {},
     "output_type": "execute_result"
    }
   ],
   "source": [
    "workingDataFrame.isnull().sum()"
   ],
   "metadata": {
    "collapsed": false
   }
  },
  {
   "cell_type": "markdown",
   "source": [
    "Dropping Unnecessary Features"
   ],
   "metadata": {
    "collapsed": false
   }
  },
  {
   "cell_type": "code",
   "execution_count": 127,
   "outputs": [
    {
     "data": {
      "text/plain": "   Protocol  Flow Duration  Total Fwd Packets  Total Backward Packets  \\\n0         0      119714230              49476                     214   \n1        17              2                  2                       0   \n2        17              1                  2                       0   \n3        17              2                  2                       0   \n4        17              2                  2                       0   \n\n   Fwd Packets Length Total  Bwd Packets Length Total  Fwd Packet Length Max  \\\n0                       0.0                       0.0                    0.0   \n1                    2944.0                       0.0                 1472.0   \n2                    2604.0                       0.0                 1302.0   \n3                    2944.0                       0.0                 1472.0   \n4                    2944.0                       0.0                 1472.0   \n\n   Fwd Packet Length Min  Fwd Packet Length Mean  Fwd Packet Length Std  ...  \\\n0                    0.0                     0.0                    0.0  ...   \n1                 1472.0                  1472.0                    0.0  ...   \n2                 1302.0                  1302.0                    0.0  ...   \n3                 1472.0                  1472.0                    0.0  ...   \n4                 1472.0                  1472.0                    0.0  ...   \n\n   Fwd Seg Size Min  Active Mean  Active Std  Active Max  Active Min  \\\n0                 0          0.0         0.0         0.0         0.0   \n1                -1          0.0         0.0         0.0         0.0   \n2                -1          0.0         0.0         0.0         0.0   \n3                -1          0.0         0.0         0.0         0.0   \n4                -1          0.0         0.0         0.0         0.0   \n\n   Idle Mean  Idle Std  Idle Max  Idle Min       Label  \n0        0.0       0.0       0.0       0.0  DrDoS_SSDP  \n1        0.0       0.0       0.0       0.0  DrDoS_SSDP  \n2        0.0       0.0       0.0       0.0  DrDoS_SSDP  \n3        0.0       0.0       0.0       0.0  DrDoS_SSDP  \n4        0.0       0.0       0.0       0.0  DrDoS_SSDP  \n\n[5 rows x 78 columns]",
      "text/html": "<div>\n<style scoped>\n    .dataframe tbody tr th:only-of-type {\n        vertical-align: middle;\n    }\n\n    .dataframe tbody tr th {\n        vertical-align: top;\n    }\n\n    .dataframe thead th {\n        text-align: right;\n    }\n</style>\n<table border=\"1\" class=\"dataframe\">\n  <thead>\n    <tr style=\"text-align: right;\">\n      <th></th>\n      <th>Protocol</th>\n      <th>Flow Duration</th>\n      <th>Total Fwd Packets</th>\n      <th>Total Backward Packets</th>\n      <th>Fwd Packets Length Total</th>\n      <th>Bwd Packets Length Total</th>\n      <th>Fwd Packet Length Max</th>\n      <th>Fwd Packet Length Min</th>\n      <th>Fwd Packet Length Mean</th>\n      <th>Fwd Packet Length Std</th>\n      <th>...</th>\n      <th>Fwd Seg Size Min</th>\n      <th>Active Mean</th>\n      <th>Active Std</th>\n      <th>Active Max</th>\n      <th>Active Min</th>\n      <th>Idle Mean</th>\n      <th>Idle Std</th>\n      <th>Idle Max</th>\n      <th>Idle Min</th>\n      <th>Label</th>\n    </tr>\n  </thead>\n  <tbody>\n    <tr>\n      <th>0</th>\n      <td>0</td>\n      <td>119714230</td>\n      <td>49476</td>\n      <td>214</td>\n      <td>0.0</td>\n      <td>0.0</td>\n      <td>0.0</td>\n      <td>0.0</td>\n      <td>0.0</td>\n      <td>0.0</td>\n      <td>...</td>\n      <td>0</td>\n      <td>0.0</td>\n      <td>0.0</td>\n      <td>0.0</td>\n      <td>0.0</td>\n      <td>0.0</td>\n      <td>0.0</td>\n      <td>0.0</td>\n      <td>0.0</td>\n      <td>DrDoS_SSDP</td>\n    </tr>\n    <tr>\n      <th>1</th>\n      <td>17</td>\n      <td>2</td>\n      <td>2</td>\n      <td>0</td>\n      <td>2944.0</td>\n      <td>0.0</td>\n      <td>1472.0</td>\n      <td>1472.0</td>\n      <td>1472.0</td>\n      <td>0.0</td>\n      <td>...</td>\n      <td>-1</td>\n      <td>0.0</td>\n      <td>0.0</td>\n      <td>0.0</td>\n      <td>0.0</td>\n      <td>0.0</td>\n      <td>0.0</td>\n      <td>0.0</td>\n      <td>0.0</td>\n      <td>DrDoS_SSDP</td>\n    </tr>\n    <tr>\n      <th>2</th>\n      <td>17</td>\n      <td>1</td>\n      <td>2</td>\n      <td>0</td>\n      <td>2604.0</td>\n      <td>0.0</td>\n      <td>1302.0</td>\n      <td>1302.0</td>\n      <td>1302.0</td>\n      <td>0.0</td>\n      <td>...</td>\n      <td>-1</td>\n      <td>0.0</td>\n      <td>0.0</td>\n      <td>0.0</td>\n      <td>0.0</td>\n      <td>0.0</td>\n      <td>0.0</td>\n      <td>0.0</td>\n      <td>0.0</td>\n      <td>DrDoS_SSDP</td>\n    </tr>\n    <tr>\n      <th>3</th>\n      <td>17</td>\n      <td>2</td>\n      <td>2</td>\n      <td>0</td>\n      <td>2944.0</td>\n      <td>0.0</td>\n      <td>1472.0</td>\n      <td>1472.0</td>\n      <td>1472.0</td>\n      <td>0.0</td>\n      <td>...</td>\n      <td>-1</td>\n      <td>0.0</td>\n      <td>0.0</td>\n      <td>0.0</td>\n      <td>0.0</td>\n      <td>0.0</td>\n      <td>0.0</td>\n      <td>0.0</td>\n      <td>0.0</td>\n      <td>DrDoS_SSDP</td>\n    </tr>\n    <tr>\n      <th>4</th>\n      <td>17</td>\n      <td>2</td>\n      <td>2</td>\n      <td>0</td>\n      <td>2944.0</td>\n      <td>0.0</td>\n      <td>1472.0</td>\n      <td>1472.0</td>\n      <td>1472.0</td>\n      <td>0.0</td>\n      <td>...</td>\n      <td>-1</td>\n      <td>0.0</td>\n      <td>0.0</td>\n      <td>0.0</td>\n      <td>0.0</td>\n      <td>0.0</td>\n      <td>0.0</td>\n      <td>0.0</td>\n      <td>0.0</td>\n      <td>DrDoS_SSDP</td>\n    </tr>\n  </tbody>\n</table>\n<p>5 rows × 78 columns</p>\n</div>"
     },
     "execution_count": 127,
     "metadata": {},
     "output_type": "execute_result"
    }
   ],
   "source": [
    "workingDataFrame.columns = workingDataFrame.columns.str.strip()  # sometimes there's leading / trailing whitespace\n",
    "workingDataFrame.drop(columns=drop_columns, inplace=True, errors='ignore')\n",
    "workingDataFrame.rename(columns=col_name_consistency, inplace=True)\n",
    "\n",
    "workingDataFrame.head()"
   ],
   "metadata": {
    "collapsed": false
   }
  },
  {
   "cell_type": "code",
   "execution_count": 128,
   "outputs": [
    {
     "name": "stdout",
     "output_type": "stream",
     "text": [
      "<class 'pandas.core.frame.DataFrame'>\n",
      "Int64Index: 2611374 entries, 0 to 76266\n",
      "Data columns (total 78 columns):\n",
      " #   Column                    Dtype  \n",
      "---  ------                    -----  \n",
      " 0   Protocol                  int64  \n",
      " 1   Flow Duration             int64  \n",
      " 2   Total Fwd Packets         int64  \n",
      " 3   Total Backward Packets    int64  \n",
      " 4   Fwd Packets Length Total  float64\n",
      " 5   Bwd Packets Length Total  float64\n",
      " 6   Fwd Packet Length Max     float64\n",
      " 7   Fwd Packet Length Min     float64\n",
      " 8   Fwd Packet Length Mean    float64\n",
      " 9   Fwd Packet Length Std     float64\n",
      " 10  Bwd Packet Length Max     float64\n",
      " 11  Bwd Packet Length Min     float64\n",
      " 12  Bwd Packet Length Mean    float64\n",
      " 13  Bwd Packet Length Std     float64\n",
      " 14  Flow Bytes/s              float64\n",
      " 15  Flow Packets/s            float64\n",
      " 16  Flow IAT Mean             float64\n",
      " 17  Flow IAT Std              float64\n",
      " 18  Flow IAT Max              float64\n",
      " 19  Flow IAT Min              float64\n",
      " 20  Fwd IAT Total             float64\n",
      " 21  Fwd IAT Mean              float64\n",
      " 22  Fwd IAT Std               float64\n",
      " 23  Fwd IAT Max               float64\n",
      " 24  Fwd IAT Min               float64\n",
      " 25  Bwd IAT Total             float64\n",
      " 26  Bwd IAT Mean              float64\n",
      " 27  Bwd IAT Std               float64\n",
      " 28  Bwd IAT Max               float64\n",
      " 29  Bwd IAT Min               float64\n",
      " 30  Fwd PSH Flags             int64  \n",
      " 31  Bwd PSH Flags             int64  \n",
      " 32  Fwd URG Flags             int64  \n",
      " 33  Bwd URG Flags             int64  \n",
      " 34  Fwd Header Length         int64  \n",
      " 35  Bwd Header Length         int64  \n",
      " 36  Fwd Packets/s             float64\n",
      " 37  Bwd Packets/s             float64\n",
      " 38  Packet Length Min         float64\n",
      " 39  Packet Length Max         float64\n",
      " 40  Packet Length Mean        float64\n",
      " 41  Packet Length Std         float64\n",
      " 42  Packet Length Variance    float64\n",
      " 43  FIN Flag Count            int64  \n",
      " 44  SYN Flag Count            int64  \n",
      " 45  RST Flag Count            int64  \n",
      " 46  PSH Flag Count            int64  \n",
      " 47  ACK Flag Count            int64  \n",
      " 48  URG Flag Count            int64  \n",
      " 49  CWE Flag Count            int64  \n",
      " 50  ECE Flag Count            int64  \n",
      " 51  Down/Up Ratio             float64\n",
      " 52  Avg Packet Size           float64\n",
      " 53  Avg Fwd Segment Size      float64\n",
      " 54  Avg Bwd Segment Size      float64\n",
      " 55  Fwd Avg Bytes/Bulk        int64  \n",
      " 56  Fwd Avg Packets/Bulk      int64  \n",
      " 57  Fwd Avg Bulk Rate         int64  \n",
      " 58  Bwd Avg Bytes/Bulk        int64  \n",
      " 59  Bwd Avg Packets/Bulk      int64  \n",
      " 60  Bwd Avg Bulk Rate         int64  \n",
      " 61  Subflow Fwd Packets       int64  \n",
      " 62  Subflow Fwd Bytes         int64  \n",
      " 63  Subflow Bwd Packets       int64  \n",
      " 64  Subflow Bwd Bytes         int64  \n",
      " 65  Init Fwd Win Bytes        int64  \n",
      " 66  Init Bwd Win Bytes        int64  \n",
      " 67  Fwd Act Data Packets      int64  \n",
      " 68  Fwd Seg Size Min          int64  \n",
      " 69  Active Mean               float64\n",
      " 70  Active Std                float64\n",
      " 71  Active Max                float64\n",
      " 72  Active Min                float64\n",
      " 73  Idle Mean                 float64\n",
      " 74  Idle Std                  float64\n",
      " 75  Idle Max                  float64\n",
      " 76  Idle Min                  float64\n",
      " 77  Label                     object \n",
      "dtypes: float64(45), int64(32), object(1)\n",
      "memory usage: 1.7 GB\n"
     ]
    }
   ],
   "source": [
    "# workingDataFrame.dtypes\n",
    "workingDataFrame.info(memory_usage=\"deep\")"
   ],
   "metadata": {
    "collapsed": false
   }
  },
  {
   "cell_type": "markdown",
   "source": [
    "Data Cleaning Based on Data Types (DownSizing)"
   ],
   "metadata": {
    "collapsed": false
   }
  },
  {
   "cell_type": "code",
   "execution_count": 129,
   "outputs": [
    {
     "name": "stdout",
     "output_type": "stream",
     "text": [
      "<class 'pandas.core.frame.DataFrame'>\n",
      "Int64Index: 2611374 entries, 0 to 76266\n",
      "Data columns (total 78 columns):\n",
      " #   Column                    Dtype  \n",
      "---  ------                    -----  \n",
      " 0   Protocol                  int8   \n",
      " 1   Flow Duration             int32  \n",
      " 2   Total Fwd Packets         int32  \n",
      " 3   Total Backward Packets    int16  \n",
      " 4   Fwd Packets Length Total  float32\n",
      " 5   Bwd Packets Length Total  float32\n",
      " 6   Fwd Packet Length Max     float32\n",
      " 7   Fwd Packet Length Min     float32\n",
      " 8   Fwd Packet Length Mean    float32\n",
      " 9   Fwd Packet Length Std     float32\n",
      " 10  Bwd Packet Length Max     float32\n",
      " 11  Bwd Packet Length Min     float32\n",
      " 12  Bwd Packet Length Mean    float32\n",
      " 13  Bwd Packet Length Std     float32\n",
      " 14  Flow Bytes/s              float32\n",
      " 15  Flow Packets/s            float32\n",
      " 16  Flow IAT Mean             float32\n",
      " 17  Flow IAT Std              float32\n",
      " 18  Flow IAT Max              float32\n",
      " 19  Flow IAT Min              float32\n",
      " 20  Fwd IAT Total             float32\n",
      " 21  Fwd IAT Mean              float32\n",
      " 22  Fwd IAT Std               float32\n",
      " 23  Fwd IAT Max               float32\n",
      " 24  Fwd IAT Min               float32\n",
      " 25  Bwd IAT Total             float32\n",
      " 26  Bwd IAT Mean              float32\n",
      " 27  Bwd IAT Std               float32\n",
      " 28  Bwd IAT Max               float32\n",
      " 29  Bwd IAT Min               float32\n",
      " 30  Fwd PSH Flags             int8   \n",
      " 31  Bwd PSH Flags             int8   \n",
      " 32  Fwd URG Flags             int8   \n",
      " 33  Bwd URG Flags             int8   \n",
      " 34  Fwd Header Length         int64  \n",
      " 35  Bwd Header Length         int32  \n",
      " 36  Fwd Packets/s             float32\n",
      " 37  Bwd Packets/s             float32\n",
      " 38  Packet Length Min         float32\n",
      " 39  Packet Length Max         float32\n",
      " 40  Packet Length Mean        float32\n",
      " 41  Packet Length Std         float32\n",
      " 42  Packet Length Variance    float32\n",
      " 43  FIN Flag Count            int8   \n",
      " 44  SYN Flag Count            int8   \n",
      " 45  RST Flag Count            int8   \n",
      " 46  PSH Flag Count            int8   \n",
      " 47  ACK Flag Count            int8   \n",
      " 48  URG Flag Count            int8   \n",
      " 49  CWE Flag Count            int8   \n",
      " 50  ECE Flag Count            int8   \n",
      " 51  Down/Up Ratio             float32\n",
      " 52  Avg Packet Size           float32\n",
      " 53  Avg Fwd Segment Size      float32\n",
      " 54  Avg Bwd Segment Size      float32\n",
      " 55  Fwd Avg Bytes/Bulk        int8   \n",
      " 56  Fwd Avg Packets/Bulk      int8   \n",
      " 57  Fwd Avg Bulk Rate         int8   \n",
      " 58  Bwd Avg Bytes/Bulk        int8   \n",
      " 59  Bwd Avg Packets/Bulk      int8   \n",
      " 60  Bwd Avg Bulk Rate         int8   \n",
      " 61  Subflow Fwd Packets       int32  \n",
      " 62  Subflow Fwd Bytes         int32  \n",
      " 63  Subflow Bwd Packets       int16  \n",
      " 64  Subflow Bwd Bytes         int32  \n",
      " 65  Init Fwd Win Bytes        int32  \n",
      " 66  Init Bwd Win Bytes        int32  \n",
      " 67  Fwd Act Data Packets      int16  \n",
      " 68  Fwd Seg Size Min          int32  \n",
      " 69  Active Mean               float32\n",
      " 70  Active Std                float32\n",
      " 71  Active Max                float32\n",
      " 72  Active Min                float32\n",
      " 73  Idle Mean                 float32\n",
      " 74  Idle Std                  float32\n",
      " 75  Idle Max                  float32\n",
      " 76  Idle Min                  float32\n",
      " 77  Label                     object \n",
      "dtypes: float32(45), int16(3), int32(9), int64(1), int8(19), object(1)\n",
      "memory usage: 806.9 MB\n"
     ]
    }
   ],
   "source": [
    "for column in workingDataFrame:\n",
    "    if workingDataFrame[column].dtype == 'float64':\n",
    "        workingDataFrame[column] = pd.to_numeric(workingDataFrame[column], downcast='float')\n",
    "    if workingDataFrame[column].dtype == 'int64':\n",
    "        workingDataFrame[column] = pd.to_numeric(workingDataFrame[column], downcast='integer')\n",
    "\n",
    "workingDataFrame.info(memory_usage=\"deep\")"
   ],
   "metadata": {
    "collapsed": false
   }
  },
  {
   "cell_type": "markdown",
   "source": [
    "Removing NaN values"
   ],
   "metadata": {
    "collapsed": false
   }
  },
  {
   "cell_type": "code",
   "execution_count": 130,
   "outputs": [
    {
     "data": {
      "text/plain": "2"
     },
     "execution_count": 130,
     "metadata": {},
     "output_type": "execute_result"
    }
   ],
   "source": [
    "workingDataFrame.isna().any(axis=1).sum()"
   ],
   "metadata": {
    "collapsed": false
   }
  },
  {
   "cell_type": "code",
   "execution_count": 131,
   "outputs": [],
   "source": [
    "workingDataFrame.replace([np.inf, -np.inf], np.nan, inplace=True)\n",
    "workingDataFrame.dropna(inplace=True)"
   ],
   "metadata": {
    "collapsed": false
   }
  },
  {
   "cell_type": "markdown",
   "source": [
    "After Dropping NaN values, want to see total rows.\n",
    "That's why, Converting pandas dataFrame into dask's dataFrame"
   ],
   "metadata": {
    "collapsed": false
   }
  },
  {
   "cell_type": "code",
   "execution_count": 132,
   "outputs": [
    {
     "data": {
      "text/plain": "        Protocol  Flow Duration  Total Fwd Packets  Total Backward Packets  \\\n0              0      119714230              49476                     214   \n0             17         105367                  4                       0   \n0             17              1                  2                       0   \n0             17         108461                  4                       0   \n0             17              1                  2                       0   \n...          ...            ...                ...                     ...   \n138057        17         215404                  6                       0   \n138058        17         218527                  6                       0   \n138059        17              1                  2                       0   \n138060        17         107540                  4                       0   \n138061        17         106850                  4                       0   \n\n        Fwd Packets Length Total  Bwd Packets Length Total  \\\n0                            0.0                       0.0   \n0                         1398.0                       0.0   \n0                          766.0                       0.0   \n0                         1398.0                       0.0   \n0                          750.0                       0.0   \n...                          ...                       ...   \n138057                    2088.0                       0.0   \n138058                    2088.0                       0.0   \n138059                     802.0                       0.0   \n138060                    1438.0                       0.0   \n138061                    1438.0                       0.0   \n\n        Fwd Packet Length Max  Fwd Packet Length Min  Fwd Packet Length Mean  \\\n0                         0.0                    0.0                     0.0   \n0                       369.0                  330.0                   349.5   \n0                       383.0                  383.0                   383.0   \n0                       369.0                  330.0                   349.5   \n0                       375.0                  375.0                   375.0   \n...                       ...                    ...                     ...   \n138057                  393.0                  321.0                   348.0   \n138058                  393.0                  321.0                   348.0   \n138059                  401.0                  401.0                   401.0   \n138060                  389.0                  330.0                   359.5   \n138061                  389.0                  330.0                   359.5   \n\n        Fwd Packet Length Std  ...  Fwd Seg Size Min  Active Mean  Active Std  \\\n0                    0.000000  ...                 0          0.0         0.0   \n0                   22.516661  ...                20          0.0         0.0   \n0                    0.000000  ...                -1          0.0         0.0   \n0                   22.516661  ...                 8          0.0         0.0   \n0                    0.000000  ...                32          0.0         0.0   \n...                       ...  ...               ...          ...         ...   \n138057              35.088459  ...                 0          0.0         0.0   \n138058              35.088459  ...                 0          0.0         0.0   \n138059               0.000000  ...                 0          0.0         0.0   \n138060              34.063667  ...                 0          0.0         0.0   \n138061              34.063667  ...                 0          0.0         0.0   \n\n        Active Max  Active Min  Idle Mean  Idle Std  Idle Max  Idle Min  \\\n0              0.0         0.0        0.0       0.0       0.0       0.0   \n0              0.0         0.0        0.0       0.0       0.0       0.0   \n0              0.0         0.0        0.0       0.0       0.0       0.0   \n0              0.0         0.0        0.0       0.0       0.0       0.0   \n0              0.0         0.0        0.0       0.0       0.0       0.0   \n...            ...         ...        ...       ...       ...       ...   \n138057         0.0         0.0        0.0       0.0       0.0       0.0   \n138058         0.0         0.0        0.0       0.0       0.0       0.0   \n138059         0.0         0.0        0.0       0.0       0.0       0.0   \n138060         0.0         0.0        0.0       0.0       0.0       0.0   \n138061         0.0         0.0        0.0       0.0       0.0       0.0   \n\n             Label  \n0       DrDoS_SSDP  \n0       DrDoS_SSDP  \n0       DrDoS_SSDP  \n0       DrDoS_SSDP  \n0       DrDoS_SSDP  \n...            ...  \n138057  DrDoS_SSDP  \n138058  DrDoS_SSDP  \n138059  DrDoS_SSDP  \n138060  DrDoS_SSDP  \n138061  DrDoS_SSDP  \n\n[2569324 rows x 78 columns]",
      "text/html": "<div>\n<style scoped>\n    .dataframe tbody tr th:only-of-type {\n        vertical-align: middle;\n    }\n\n    .dataframe tbody tr th {\n        vertical-align: top;\n    }\n\n    .dataframe thead th {\n        text-align: right;\n    }\n</style>\n<table border=\"1\" class=\"dataframe\">\n  <thead>\n    <tr style=\"text-align: right;\">\n      <th></th>\n      <th>Protocol</th>\n      <th>Flow Duration</th>\n      <th>Total Fwd Packets</th>\n      <th>Total Backward Packets</th>\n      <th>Fwd Packets Length Total</th>\n      <th>Bwd Packets Length Total</th>\n      <th>Fwd Packet Length Max</th>\n      <th>Fwd Packet Length Min</th>\n      <th>Fwd Packet Length Mean</th>\n      <th>Fwd Packet Length Std</th>\n      <th>...</th>\n      <th>Fwd Seg Size Min</th>\n      <th>Active Mean</th>\n      <th>Active Std</th>\n      <th>Active Max</th>\n      <th>Active Min</th>\n      <th>Idle Mean</th>\n      <th>Idle Std</th>\n      <th>Idle Max</th>\n      <th>Idle Min</th>\n      <th>Label</th>\n    </tr>\n  </thead>\n  <tbody>\n    <tr>\n      <th>0</th>\n      <td>0</td>\n      <td>119714230</td>\n      <td>49476</td>\n      <td>214</td>\n      <td>0.0</td>\n      <td>0.0</td>\n      <td>0.0</td>\n      <td>0.0</td>\n      <td>0.0</td>\n      <td>0.000000</td>\n      <td>...</td>\n      <td>0</td>\n      <td>0.0</td>\n      <td>0.0</td>\n      <td>0.0</td>\n      <td>0.0</td>\n      <td>0.0</td>\n      <td>0.0</td>\n      <td>0.0</td>\n      <td>0.0</td>\n      <td>DrDoS_SSDP</td>\n    </tr>\n    <tr>\n      <th>0</th>\n      <td>17</td>\n      <td>105367</td>\n      <td>4</td>\n      <td>0</td>\n      <td>1398.0</td>\n      <td>0.0</td>\n      <td>369.0</td>\n      <td>330.0</td>\n      <td>349.5</td>\n      <td>22.516661</td>\n      <td>...</td>\n      <td>20</td>\n      <td>0.0</td>\n      <td>0.0</td>\n      <td>0.0</td>\n      <td>0.0</td>\n      <td>0.0</td>\n      <td>0.0</td>\n      <td>0.0</td>\n      <td>0.0</td>\n      <td>DrDoS_SSDP</td>\n    </tr>\n    <tr>\n      <th>0</th>\n      <td>17</td>\n      <td>1</td>\n      <td>2</td>\n      <td>0</td>\n      <td>766.0</td>\n      <td>0.0</td>\n      <td>383.0</td>\n      <td>383.0</td>\n      <td>383.0</td>\n      <td>0.000000</td>\n      <td>...</td>\n      <td>-1</td>\n      <td>0.0</td>\n      <td>0.0</td>\n      <td>0.0</td>\n      <td>0.0</td>\n      <td>0.0</td>\n      <td>0.0</td>\n      <td>0.0</td>\n      <td>0.0</td>\n      <td>DrDoS_SSDP</td>\n    </tr>\n    <tr>\n      <th>0</th>\n      <td>17</td>\n      <td>108461</td>\n      <td>4</td>\n      <td>0</td>\n      <td>1398.0</td>\n      <td>0.0</td>\n      <td>369.0</td>\n      <td>330.0</td>\n      <td>349.5</td>\n      <td>22.516661</td>\n      <td>...</td>\n      <td>8</td>\n      <td>0.0</td>\n      <td>0.0</td>\n      <td>0.0</td>\n      <td>0.0</td>\n      <td>0.0</td>\n      <td>0.0</td>\n      <td>0.0</td>\n      <td>0.0</td>\n      <td>DrDoS_SSDP</td>\n    </tr>\n    <tr>\n      <th>0</th>\n      <td>17</td>\n      <td>1</td>\n      <td>2</td>\n      <td>0</td>\n      <td>750.0</td>\n      <td>0.0</td>\n      <td>375.0</td>\n      <td>375.0</td>\n      <td>375.0</td>\n      <td>0.000000</td>\n      <td>...</td>\n      <td>32</td>\n      <td>0.0</td>\n      <td>0.0</td>\n      <td>0.0</td>\n      <td>0.0</td>\n      <td>0.0</td>\n      <td>0.0</td>\n      <td>0.0</td>\n      <td>0.0</td>\n      <td>DrDoS_SSDP</td>\n    </tr>\n    <tr>\n      <th>...</th>\n      <td>...</td>\n      <td>...</td>\n      <td>...</td>\n      <td>...</td>\n      <td>...</td>\n      <td>...</td>\n      <td>...</td>\n      <td>...</td>\n      <td>...</td>\n      <td>...</td>\n      <td>...</td>\n      <td>...</td>\n      <td>...</td>\n      <td>...</td>\n      <td>...</td>\n      <td>...</td>\n      <td>...</td>\n      <td>...</td>\n      <td>...</td>\n      <td>...</td>\n      <td>...</td>\n    </tr>\n    <tr>\n      <th>138057</th>\n      <td>17</td>\n      <td>215404</td>\n      <td>6</td>\n      <td>0</td>\n      <td>2088.0</td>\n      <td>0.0</td>\n      <td>393.0</td>\n      <td>321.0</td>\n      <td>348.0</td>\n      <td>35.088459</td>\n      <td>...</td>\n      <td>0</td>\n      <td>0.0</td>\n      <td>0.0</td>\n      <td>0.0</td>\n      <td>0.0</td>\n      <td>0.0</td>\n      <td>0.0</td>\n      <td>0.0</td>\n      <td>0.0</td>\n      <td>DrDoS_SSDP</td>\n    </tr>\n    <tr>\n      <th>138058</th>\n      <td>17</td>\n      <td>218527</td>\n      <td>6</td>\n      <td>0</td>\n      <td>2088.0</td>\n      <td>0.0</td>\n      <td>393.0</td>\n      <td>321.0</td>\n      <td>348.0</td>\n      <td>35.088459</td>\n      <td>...</td>\n      <td>0</td>\n      <td>0.0</td>\n      <td>0.0</td>\n      <td>0.0</td>\n      <td>0.0</td>\n      <td>0.0</td>\n      <td>0.0</td>\n      <td>0.0</td>\n      <td>0.0</td>\n      <td>DrDoS_SSDP</td>\n    </tr>\n    <tr>\n      <th>138059</th>\n      <td>17</td>\n      <td>1</td>\n      <td>2</td>\n      <td>0</td>\n      <td>802.0</td>\n      <td>0.0</td>\n      <td>401.0</td>\n      <td>401.0</td>\n      <td>401.0</td>\n      <td>0.000000</td>\n      <td>...</td>\n      <td>0</td>\n      <td>0.0</td>\n      <td>0.0</td>\n      <td>0.0</td>\n      <td>0.0</td>\n      <td>0.0</td>\n      <td>0.0</td>\n      <td>0.0</td>\n      <td>0.0</td>\n      <td>DrDoS_SSDP</td>\n    </tr>\n    <tr>\n      <th>138060</th>\n      <td>17</td>\n      <td>107540</td>\n      <td>4</td>\n      <td>0</td>\n      <td>1438.0</td>\n      <td>0.0</td>\n      <td>389.0</td>\n      <td>330.0</td>\n      <td>359.5</td>\n      <td>34.063667</td>\n      <td>...</td>\n      <td>0</td>\n      <td>0.0</td>\n      <td>0.0</td>\n      <td>0.0</td>\n      <td>0.0</td>\n      <td>0.0</td>\n      <td>0.0</td>\n      <td>0.0</td>\n      <td>0.0</td>\n      <td>DrDoS_SSDP</td>\n    </tr>\n    <tr>\n      <th>138061</th>\n      <td>17</td>\n      <td>106850</td>\n      <td>4</td>\n      <td>0</td>\n      <td>1438.0</td>\n      <td>0.0</td>\n      <td>389.0</td>\n      <td>330.0</td>\n      <td>359.5</td>\n      <td>34.063667</td>\n      <td>...</td>\n      <td>0</td>\n      <td>0.0</td>\n      <td>0.0</td>\n      <td>0.0</td>\n      <td>0.0</td>\n      <td>0.0</td>\n      <td>0.0</td>\n      <td>0.0</td>\n      <td>0.0</td>\n      <td>DrDoS_SSDP</td>\n    </tr>\n  </tbody>\n</table>\n<p>2569324 rows × 78 columns</p>\n</div>"
     },
     "execution_count": 132,
     "metadata": {},
     "output_type": "execute_result"
    }
   ],
   "source": [
    "ddf = dd.from_pandas(workingDataFrame, npartitions=10)\n",
    "ddf.compute()"
   ],
   "metadata": {
    "collapsed": false
   }
  },
  {
   "cell_type": "markdown",
   "source": [
    "Dropping Duplicates\n",
    "There should be no duplicates because they can bias training and can lead to over-optimistic estimates of classification performance during testing."
   ],
   "metadata": {
    "collapsed": false
   }
  },
  {
   "cell_type": "code",
   "execution_count": 133,
   "outputs": [
    {
     "data": {
      "text/plain": "1678578"
     },
     "execution_count": 133,
     "metadata": {},
     "output_type": "execute_result"
    }
   ],
   "source": [
    "workingDataFrame.duplicated().sum()"
   ],
   "metadata": {
    "collapsed": false
   }
  },
  {
   "cell_type": "markdown",
   "source": [
    "Fully duplicate rows to be removed"
   ],
   "metadata": {
    "collapsed": false
   }
  },
  {
   "cell_type": "code",
   "execution_count": 134,
   "outputs": [
    {
     "data": {
      "text/plain": "        Protocol  Flow Duration  Total Fwd Packets  Total Backward Packets  \\\n0              0      119714230              49476                     214   \n1             17              2                  2                       0   \n2             17              1                  2                       0   \n3             17              2                  2                       0   \n4             17              3                  2                       0   \n...          ...            ...                ...                     ...   \n890741        17         105105                  4                       0   \n890742        17          80086                  4                       0   \n890743        17          80622                  4                       0   \n890744        17             53                  2                       0   \n890745        17             47                  2                       0   \n\n        Fwd Packets Length Total  Bwd Packets Length Total  \\\n0                            0.0                       0.0   \n1                         2944.0                       0.0   \n2                         2604.0                       0.0   \n3                         2474.0                       0.0   \n4                         2944.0                       0.0   \n...                          ...                       ...   \n890741                    1302.0                       0.0   \n890742                    1498.0                       0.0   \n890743                    1498.0                       0.0   \n890744                     660.0                       0.0   \n890745                     662.0                       0.0   \n\n        Fwd Packet Length Max  Fwd Packet Length Min  Fwd Packet Length Mean  \\\n0                         0.0                    0.0                     0.0   \n1                      1472.0                 1472.0                  1472.0   \n2                      1302.0                 1302.0                  1302.0   \n3                      1237.0                 1237.0                  1237.0   \n4                      1472.0                 1472.0                  1472.0   \n...                       ...                    ...                     ...   \n890741                  330.0                  321.0                   325.5   \n890742                  404.0                  345.0                   374.5   \n890743                  404.0                  345.0                   374.5   \n890744                  330.0                  330.0                   330.0   \n890745                  331.0                  331.0                   331.0   \n\n        Fwd Packet Length Std  ...  Fwd Seg Size Min  Active Mean  Active Std  \\\n0                    0.000000  ...                 0          0.0         0.0   \n1                    0.000000  ...                -1          0.0         0.0   \n2                    0.000000  ...                -1          0.0         0.0   \n3                    0.000000  ...                -1          0.0         0.0   \n4                    0.000000  ...                -1          0.0         0.0   \n...                       ...  ...               ...          ...         ...   \n890741               5.196152  ...                20          0.0         0.0   \n890742              34.063667  ...                20          0.0         0.0   \n890743              34.063667  ...                20          0.0         0.0   \n890744               0.000000  ...                20          0.0         0.0   \n890745               0.000000  ...                20          0.0         0.0   \n\n        Active Max  Active Min  Idle Mean  Idle Std  Idle Max  Idle Min  \\\n0              0.0         0.0        0.0       0.0       0.0       0.0   \n1              0.0         0.0        0.0       0.0       0.0       0.0   \n2              0.0         0.0        0.0       0.0       0.0       0.0   \n3              0.0         0.0        0.0       0.0       0.0       0.0   \n4              0.0         0.0        0.0       0.0       0.0       0.0   \n...            ...         ...        ...       ...       ...       ...   \n890741         0.0         0.0        0.0       0.0       0.0       0.0   \n890742         0.0         0.0        0.0       0.0       0.0       0.0   \n890743         0.0         0.0        0.0       0.0       0.0       0.0   \n890744         0.0         0.0        0.0       0.0       0.0       0.0   \n890745         0.0         0.0        0.0       0.0       0.0       0.0   \n\n             Label  \n0       DrDoS_SSDP  \n1       DrDoS_SSDP  \n2       DrDoS_SSDP  \n3       DrDoS_SSDP  \n4       DrDoS_SSDP  \n...            ...  \n890741  DrDoS_SSDP  \n890742  DrDoS_SSDP  \n890743  DrDoS_SSDP  \n890744  DrDoS_SSDP  \n890745  DrDoS_SSDP  \n\n[890746 rows x 78 columns]",
      "text/html": "<div>\n<style scoped>\n    .dataframe tbody tr th:only-of-type {\n        vertical-align: middle;\n    }\n\n    .dataframe tbody tr th {\n        vertical-align: top;\n    }\n\n    .dataframe thead th {\n        text-align: right;\n    }\n</style>\n<table border=\"1\" class=\"dataframe\">\n  <thead>\n    <tr style=\"text-align: right;\">\n      <th></th>\n      <th>Protocol</th>\n      <th>Flow Duration</th>\n      <th>Total Fwd Packets</th>\n      <th>Total Backward Packets</th>\n      <th>Fwd Packets Length Total</th>\n      <th>Bwd Packets Length Total</th>\n      <th>Fwd Packet Length Max</th>\n      <th>Fwd Packet Length Min</th>\n      <th>Fwd Packet Length Mean</th>\n      <th>Fwd Packet Length Std</th>\n      <th>...</th>\n      <th>Fwd Seg Size Min</th>\n      <th>Active Mean</th>\n      <th>Active Std</th>\n      <th>Active Max</th>\n      <th>Active Min</th>\n      <th>Idle Mean</th>\n      <th>Idle Std</th>\n      <th>Idle Max</th>\n      <th>Idle Min</th>\n      <th>Label</th>\n    </tr>\n  </thead>\n  <tbody>\n    <tr>\n      <th>0</th>\n      <td>0</td>\n      <td>119714230</td>\n      <td>49476</td>\n      <td>214</td>\n      <td>0.0</td>\n      <td>0.0</td>\n      <td>0.0</td>\n      <td>0.0</td>\n      <td>0.0</td>\n      <td>0.000000</td>\n      <td>...</td>\n      <td>0</td>\n      <td>0.0</td>\n      <td>0.0</td>\n      <td>0.0</td>\n      <td>0.0</td>\n      <td>0.0</td>\n      <td>0.0</td>\n      <td>0.0</td>\n      <td>0.0</td>\n      <td>DrDoS_SSDP</td>\n    </tr>\n    <tr>\n      <th>1</th>\n      <td>17</td>\n      <td>2</td>\n      <td>2</td>\n      <td>0</td>\n      <td>2944.0</td>\n      <td>0.0</td>\n      <td>1472.0</td>\n      <td>1472.0</td>\n      <td>1472.0</td>\n      <td>0.000000</td>\n      <td>...</td>\n      <td>-1</td>\n      <td>0.0</td>\n      <td>0.0</td>\n      <td>0.0</td>\n      <td>0.0</td>\n      <td>0.0</td>\n      <td>0.0</td>\n      <td>0.0</td>\n      <td>0.0</td>\n      <td>DrDoS_SSDP</td>\n    </tr>\n    <tr>\n      <th>2</th>\n      <td>17</td>\n      <td>1</td>\n      <td>2</td>\n      <td>0</td>\n      <td>2604.0</td>\n      <td>0.0</td>\n      <td>1302.0</td>\n      <td>1302.0</td>\n      <td>1302.0</td>\n      <td>0.000000</td>\n      <td>...</td>\n      <td>-1</td>\n      <td>0.0</td>\n      <td>0.0</td>\n      <td>0.0</td>\n      <td>0.0</td>\n      <td>0.0</td>\n      <td>0.0</td>\n      <td>0.0</td>\n      <td>0.0</td>\n      <td>DrDoS_SSDP</td>\n    </tr>\n    <tr>\n      <th>3</th>\n      <td>17</td>\n      <td>2</td>\n      <td>2</td>\n      <td>0</td>\n      <td>2474.0</td>\n      <td>0.0</td>\n      <td>1237.0</td>\n      <td>1237.0</td>\n      <td>1237.0</td>\n      <td>0.000000</td>\n      <td>...</td>\n      <td>-1</td>\n      <td>0.0</td>\n      <td>0.0</td>\n      <td>0.0</td>\n      <td>0.0</td>\n      <td>0.0</td>\n      <td>0.0</td>\n      <td>0.0</td>\n      <td>0.0</td>\n      <td>DrDoS_SSDP</td>\n    </tr>\n    <tr>\n      <th>4</th>\n      <td>17</td>\n      <td>3</td>\n      <td>2</td>\n      <td>0</td>\n      <td>2944.0</td>\n      <td>0.0</td>\n      <td>1472.0</td>\n      <td>1472.0</td>\n      <td>1472.0</td>\n      <td>0.000000</td>\n      <td>...</td>\n      <td>-1</td>\n      <td>0.0</td>\n      <td>0.0</td>\n      <td>0.0</td>\n      <td>0.0</td>\n      <td>0.0</td>\n      <td>0.0</td>\n      <td>0.0</td>\n      <td>0.0</td>\n      <td>DrDoS_SSDP</td>\n    </tr>\n    <tr>\n      <th>...</th>\n      <td>...</td>\n      <td>...</td>\n      <td>...</td>\n      <td>...</td>\n      <td>...</td>\n      <td>...</td>\n      <td>...</td>\n      <td>...</td>\n      <td>...</td>\n      <td>...</td>\n      <td>...</td>\n      <td>...</td>\n      <td>...</td>\n      <td>...</td>\n      <td>...</td>\n      <td>...</td>\n      <td>...</td>\n      <td>...</td>\n      <td>...</td>\n      <td>...</td>\n      <td>...</td>\n    </tr>\n    <tr>\n      <th>890741</th>\n      <td>17</td>\n      <td>105105</td>\n      <td>4</td>\n      <td>0</td>\n      <td>1302.0</td>\n      <td>0.0</td>\n      <td>330.0</td>\n      <td>321.0</td>\n      <td>325.5</td>\n      <td>5.196152</td>\n      <td>...</td>\n      <td>20</td>\n      <td>0.0</td>\n      <td>0.0</td>\n      <td>0.0</td>\n      <td>0.0</td>\n      <td>0.0</td>\n      <td>0.0</td>\n      <td>0.0</td>\n      <td>0.0</td>\n      <td>DrDoS_SSDP</td>\n    </tr>\n    <tr>\n      <th>890742</th>\n      <td>17</td>\n      <td>80086</td>\n      <td>4</td>\n      <td>0</td>\n      <td>1498.0</td>\n      <td>0.0</td>\n      <td>404.0</td>\n      <td>345.0</td>\n      <td>374.5</td>\n      <td>34.063667</td>\n      <td>...</td>\n      <td>20</td>\n      <td>0.0</td>\n      <td>0.0</td>\n      <td>0.0</td>\n      <td>0.0</td>\n      <td>0.0</td>\n      <td>0.0</td>\n      <td>0.0</td>\n      <td>0.0</td>\n      <td>DrDoS_SSDP</td>\n    </tr>\n    <tr>\n      <th>890743</th>\n      <td>17</td>\n      <td>80622</td>\n      <td>4</td>\n      <td>0</td>\n      <td>1498.0</td>\n      <td>0.0</td>\n      <td>404.0</td>\n      <td>345.0</td>\n      <td>374.5</td>\n      <td>34.063667</td>\n      <td>...</td>\n      <td>20</td>\n      <td>0.0</td>\n      <td>0.0</td>\n      <td>0.0</td>\n      <td>0.0</td>\n      <td>0.0</td>\n      <td>0.0</td>\n      <td>0.0</td>\n      <td>0.0</td>\n      <td>DrDoS_SSDP</td>\n    </tr>\n    <tr>\n      <th>890744</th>\n      <td>17</td>\n      <td>53</td>\n      <td>2</td>\n      <td>0</td>\n      <td>660.0</td>\n      <td>0.0</td>\n      <td>330.0</td>\n      <td>330.0</td>\n      <td>330.0</td>\n      <td>0.000000</td>\n      <td>...</td>\n      <td>20</td>\n      <td>0.0</td>\n      <td>0.0</td>\n      <td>0.0</td>\n      <td>0.0</td>\n      <td>0.0</td>\n      <td>0.0</td>\n      <td>0.0</td>\n      <td>0.0</td>\n      <td>DrDoS_SSDP</td>\n    </tr>\n    <tr>\n      <th>890745</th>\n      <td>17</td>\n      <td>47</td>\n      <td>2</td>\n      <td>0</td>\n      <td>662.0</td>\n      <td>0.0</td>\n      <td>331.0</td>\n      <td>331.0</td>\n      <td>331.0</td>\n      <td>0.000000</td>\n      <td>...</td>\n      <td>20</td>\n      <td>0.0</td>\n      <td>0.0</td>\n      <td>0.0</td>\n      <td>0.0</td>\n      <td>0.0</td>\n      <td>0.0</td>\n      <td>0.0</td>\n      <td>0.0</td>\n      <td>DrDoS_SSDP</td>\n    </tr>\n  </tbody>\n</table>\n<p>890746 rows × 78 columns</p>\n</div>"
     },
     "execution_count": 134,
     "metadata": {},
     "output_type": "execute_result"
    }
   ],
   "source": [
    "workingDataFrame.drop_duplicates(inplace=True)\n",
    "workingDataFrame.reset_index(inplace=True, drop=True)\n",
    "workingDataFrame"
   ],
   "metadata": {
    "collapsed": false
   }
  },
  {
   "cell_type": "markdown",
   "source": [
    "After data cleaning, how much storage it holds now"
   ],
   "metadata": {
    "collapsed": false
   }
  },
  {
   "cell_type": "code",
   "execution_count": 135,
   "outputs": [
    {
     "name": "stdout",
     "output_type": "stream",
     "text": [
      "<class 'pandas.core.frame.DataFrame'>\n",
      "RangeIndex: 890746 entries, 0 to 890745\n",
      "Data columns (total 78 columns):\n",
      " #   Column                    Non-Null Count   Dtype  \n",
      "---  ------                    --------------   -----  \n",
      " 0   Protocol                  890746 non-null  int8   \n",
      " 1   Flow Duration             890746 non-null  int32  \n",
      " 2   Total Fwd Packets         890746 non-null  int32  \n",
      " 3   Total Backward Packets    890746 non-null  int16  \n",
      " 4   Fwd Packets Length Total  890746 non-null  float32\n",
      " 5   Bwd Packets Length Total  890746 non-null  float32\n",
      " 6   Fwd Packet Length Max     890746 non-null  float32\n",
      " 7   Fwd Packet Length Min     890746 non-null  float32\n",
      " 8   Fwd Packet Length Mean    890746 non-null  float32\n",
      " 9   Fwd Packet Length Std     890746 non-null  float32\n",
      " 10  Bwd Packet Length Max     890746 non-null  float32\n",
      " 11  Bwd Packet Length Min     890746 non-null  float32\n",
      " 12  Bwd Packet Length Mean    890746 non-null  float32\n",
      " 13  Bwd Packet Length Std     890746 non-null  float32\n",
      " 14  Flow Bytes/s              890746 non-null  float32\n",
      " 15  Flow Packets/s            890746 non-null  float32\n",
      " 16  Flow IAT Mean             890746 non-null  float32\n",
      " 17  Flow IAT Std              890746 non-null  float32\n",
      " 18  Flow IAT Max              890746 non-null  float32\n",
      " 19  Flow IAT Min              890746 non-null  float32\n",
      " 20  Fwd IAT Total             890746 non-null  float32\n",
      " 21  Fwd IAT Mean              890746 non-null  float32\n",
      " 22  Fwd IAT Std               890746 non-null  float32\n",
      " 23  Fwd IAT Max               890746 non-null  float32\n",
      " 24  Fwd IAT Min               890746 non-null  float32\n",
      " 25  Bwd IAT Total             890746 non-null  float32\n",
      " 26  Bwd IAT Mean              890746 non-null  float32\n",
      " 27  Bwd IAT Std               890746 non-null  float32\n",
      " 28  Bwd IAT Max               890746 non-null  float32\n",
      " 29  Bwd IAT Min               890746 non-null  float32\n",
      " 30  Fwd PSH Flags             890746 non-null  int8   \n",
      " 31  Bwd PSH Flags             890746 non-null  int8   \n",
      " 32  Fwd URG Flags             890746 non-null  int8   \n",
      " 33  Bwd URG Flags             890746 non-null  int8   \n",
      " 34  Fwd Header Length         890746 non-null  int64  \n",
      " 35  Bwd Header Length         890746 non-null  int32  \n",
      " 36  Fwd Packets/s             890746 non-null  float32\n",
      " 37  Bwd Packets/s             890746 non-null  float32\n",
      " 38  Packet Length Min         890746 non-null  float32\n",
      " 39  Packet Length Max         890746 non-null  float32\n",
      " 40  Packet Length Mean        890746 non-null  float32\n",
      " 41  Packet Length Std         890746 non-null  float32\n",
      " 42  Packet Length Variance    890746 non-null  float32\n",
      " 43  FIN Flag Count            890746 non-null  int8   \n",
      " 44  SYN Flag Count            890746 non-null  int8   \n",
      " 45  RST Flag Count            890746 non-null  int8   \n",
      " 46  PSH Flag Count            890746 non-null  int8   \n",
      " 47  ACK Flag Count            890746 non-null  int8   \n",
      " 48  URG Flag Count            890746 non-null  int8   \n",
      " 49  CWE Flag Count            890746 non-null  int8   \n",
      " 50  ECE Flag Count            890746 non-null  int8   \n",
      " 51  Down/Up Ratio             890746 non-null  float32\n",
      " 52  Avg Packet Size           890746 non-null  float32\n",
      " 53  Avg Fwd Segment Size      890746 non-null  float32\n",
      " 54  Avg Bwd Segment Size      890746 non-null  float32\n",
      " 55  Fwd Avg Bytes/Bulk        890746 non-null  int8   \n",
      " 56  Fwd Avg Packets/Bulk      890746 non-null  int8   \n",
      " 57  Fwd Avg Bulk Rate         890746 non-null  int8   \n",
      " 58  Bwd Avg Bytes/Bulk        890746 non-null  int8   \n",
      " 59  Bwd Avg Packets/Bulk      890746 non-null  int8   \n",
      " 60  Bwd Avg Bulk Rate         890746 non-null  int8   \n",
      " 61  Subflow Fwd Packets       890746 non-null  int32  \n",
      " 62  Subflow Fwd Bytes         890746 non-null  int32  \n",
      " 63  Subflow Bwd Packets       890746 non-null  int16  \n",
      " 64  Subflow Bwd Bytes         890746 non-null  int32  \n",
      " 65  Init Fwd Win Bytes        890746 non-null  int32  \n",
      " 66  Init Bwd Win Bytes        890746 non-null  int32  \n",
      " 67  Fwd Act Data Packets      890746 non-null  int16  \n",
      " 68  Fwd Seg Size Min          890746 non-null  int32  \n",
      " 69  Active Mean               890746 non-null  float32\n",
      " 70  Active Std                890746 non-null  float32\n",
      " 71  Active Max                890746 non-null  float32\n",
      " 72  Active Min                890746 non-null  float32\n",
      " 73  Idle Mean                 890746 non-null  float32\n",
      " 74  Idle Std                  890746 non-null  float32\n",
      " 75  Idle Max                  890746 non-null  float32\n",
      " 76  Idle Min                  890746 non-null  float32\n",
      " 77  Label                     890746 non-null  object \n",
      "dtypes: float32(45), int16(3), int32(9), int64(1), int8(19), object(1)\n",
      "memory usage: 268.4 MB\n"
     ]
    }
   ],
   "source": [
    "workingDataFrame.info(memory_usage=\"deep\")"
   ],
   "metadata": {
    "collapsed": false
   }
  },
  {
   "cell_type": "code",
   "execution_count": 136,
   "outputs": [
    {
     "data": {
      "text/plain": "array([ True,  True,  True,  True,  True,  True,  True,  True,  True,\n        True,  True,  True,  True,  True,  True,  True,  True,  True,\n        True,  True,  True,  True,  True,  True,  True,  True,  True,\n        True,  True, False, False, False, False, False,  True,  True,\n        True,  True,  True,  True,  True,  True,  True, False, False,\n       False, False, False, False, False, False, False,  True,  True,\n        True, False, False, False, False, False, False,  True,  True,\n        True,  True,  True,  True,  True,  True,  True,  True,  True,\n        True,  True,  True,  True,  True,  True])"
     },
     "execution_count": 136,
     "metadata": {},
     "output_type": "execute_result"
    }
   ],
   "source": [
    "columnList = workingDataFrame.columns.tolist()\n",
    "# columnList[:-1]  # just for now, Omitting 'label' column\n",
    "\n",
    "from sklearn.feature_selection import VarianceThreshold\n",
    "\n",
    "var_thr = VarianceThreshold(threshold=0.1)  #Removing both constant and quasi-constant\n",
    "var_thr.fit(workingDataFrame[columnList[:-1]])\n",
    "\n",
    "var_threshold_bool_list = var_thr.get_support()\n",
    "var_threshold_bool_list_after_label_added = np.append(var_threshold_bool_list,True)\n",
    "var_threshold_bool_list_after_label_added"
   ],
   "metadata": {
    "collapsed": false
   }
  },
  {
   "cell_type": "code",
   "execution_count": 137,
   "outputs": [
    {
     "name": "stdout",
     "output_type": "stream",
     "text": [
      "Bwd IAT Min\n",
      "Fwd PSH Flags\n",
      "Bwd PSH Flags\n",
      "Fwd URG Flags\n",
      "Bwd URG Flags\n",
      "FIN Flag Count\n",
      "SYN Flag Count\n",
      "RST Flag Count\n",
      "PSH Flag Count\n",
      "ACK Flag Count\n",
      "URG Flag Count\n",
      "CWE Flag Count\n",
      "ECE Flag Count\n",
      "Down/Up Ratio\n",
      "Fwd Avg Bytes/Bulk\n",
      "Fwd Avg Packets/Bulk\n",
      "Fwd Avg Bulk Rate\n",
      "Bwd Avg Bytes/Bulk\n",
      "Bwd Avg Packets/Bulk\n",
      "Bwd Avg Bulk Rate\n"
     ]
    },
    {
     "data": {
      "text/plain": "        Protocol  Flow Duration  Total Fwd Packets  Total Backward Packets  \\\n0              0      119714230              49476                     214   \n1             17              2                  2                       0   \n2             17              1                  2                       0   \n3             17              2                  2                       0   \n4             17              3                  2                       0   \n...          ...            ...                ...                     ...   \n890741        17         105105                  4                       0   \n890742        17          80086                  4                       0   \n890743        17          80622                  4                       0   \n890744        17             53                  2                       0   \n890745        17             47                  2                       0   \n\n        Fwd Packets Length Total  Bwd Packets Length Total  \\\n0                            0.0                       0.0   \n1                         2944.0                       0.0   \n2                         2604.0                       0.0   \n3                         2474.0                       0.0   \n4                         2944.0                       0.0   \n...                          ...                       ...   \n890741                    1302.0                       0.0   \n890742                    1498.0                       0.0   \n890743                    1498.0                       0.0   \n890744                     660.0                       0.0   \n890745                     662.0                       0.0   \n\n        Fwd Packet Length Max  Fwd Packet Length Min  Fwd Packet Length Mean  \\\n0                         0.0                    0.0                     0.0   \n1                      1472.0                 1472.0                  1472.0   \n2                      1302.0                 1302.0                  1302.0   \n3                      1237.0                 1237.0                  1237.0   \n4                      1472.0                 1472.0                  1472.0   \n...                       ...                    ...                     ...   \n890741                  330.0                  321.0                   325.5   \n890742                  404.0                  345.0                   374.5   \n890743                  404.0                  345.0                   374.5   \n890744                  330.0                  330.0                   330.0   \n890745                  331.0                  331.0                   331.0   \n\n        Fwd Packet Length Std  ...  Fwd Seg Size Min  Active Mean  Active Std  \\\n0                    0.000000  ...                 0          0.0         0.0   \n1                    0.000000  ...                -1          0.0         0.0   \n2                    0.000000  ...                -1          0.0         0.0   \n3                    0.000000  ...                -1          0.0         0.0   \n4                    0.000000  ...                -1          0.0         0.0   \n...                       ...  ...               ...          ...         ...   \n890741               5.196152  ...                20          0.0         0.0   \n890742              34.063667  ...                20          0.0         0.0   \n890743              34.063667  ...                20          0.0         0.0   \n890744               0.000000  ...                20          0.0         0.0   \n890745               0.000000  ...                20          0.0         0.0   \n\n        Active Max  Active Min  Idle Mean  Idle Std  Idle Max  Idle Min  \\\n0              0.0         0.0        0.0       0.0       0.0       0.0   \n1              0.0         0.0        0.0       0.0       0.0       0.0   \n2              0.0         0.0        0.0       0.0       0.0       0.0   \n3              0.0         0.0        0.0       0.0       0.0       0.0   \n4              0.0         0.0        0.0       0.0       0.0       0.0   \n...            ...         ...        ...       ...       ...       ...   \n890741         0.0         0.0        0.0       0.0       0.0       0.0   \n890742         0.0         0.0        0.0       0.0       0.0       0.0   \n890743         0.0         0.0        0.0       0.0       0.0       0.0   \n890744         0.0         0.0        0.0       0.0       0.0       0.0   \n890745         0.0         0.0        0.0       0.0       0.0       0.0   \n\n             Label  \n0       DrDoS_SSDP  \n1       DrDoS_SSDP  \n2       DrDoS_SSDP  \n3       DrDoS_SSDP  \n4       DrDoS_SSDP  \n...            ...  \n890741  DrDoS_SSDP  \n890742  DrDoS_SSDP  \n890743  DrDoS_SSDP  \n890744  DrDoS_SSDP  \n890745  DrDoS_SSDP  \n\n[890746 rows x 58 columns]",
      "text/html": "<div>\n<style scoped>\n    .dataframe tbody tr th:only-of-type {\n        vertical-align: middle;\n    }\n\n    .dataframe tbody tr th {\n        vertical-align: top;\n    }\n\n    .dataframe thead th {\n        text-align: right;\n    }\n</style>\n<table border=\"1\" class=\"dataframe\">\n  <thead>\n    <tr style=\"text-align: right;\">\n      <th></th>\n      <th>Protocol</th>\n      <th>Flow Duration</th>\n      <th>Total Fwd Packets</th>\n      <th>Total Backward Packets</th>\n      <th>Fwd Packets Length Total</th>\n      <th>Bwd Packets Length Total</th>\n      <th>Fwd Packet Length Max</th>\n      <th>Fwd Packet Length Min</th>\n      <th>Fwd Packet Length Mean</th>\n      <th>Fwd Packet Length Std</th>\n      <th>...</th>\n      <th>Fwd Seg Size Min</th>\n      <th>Active Mean</th>\n      <th>Active Std</th>\n      <th>Active Max</th>\n      <th>Active Min</th>\n      <th>Idle Mean</th>\n      <th>Idle Std</th>\n      <th>Idle Max</th>\n      <th>Idle Min</th>\n      <th>Label</th>\n    </tr>\n  </thead>\n  <tbody>\n    <tr>\n      <th>0</th>\n      <td>0</td>\n      <td>119714230</td>\n      <td>49476</td>\n      <td>214</td>\n      <td>0.0</td>\n      <td>0.0</td>\n      <td>0.0</td>\n      <td>0.0</td>\n      <td>0.0</td>\n      <td>0.000000</td>\n      <td>...</td>\n      <td>0</td>\n      <td>0.0</td>\n      <td>0.0</td>\n      <td>0.0</td>\n      <td>0.0</td>\n      <td>0.0</td>\n      <td>0.0</td>\n      <td>0.0</td>\n      <td>0.0</td>\n      <td>DrDoS_SSDP</td>\n    </tr>\n    <tr>\n      <th>1</th>\n      <td>17</td>\n      <td>2</td>\n      <td>2</td>\n      <td>0</td>\n      <td>2944.0</td>\n      <td>0.0</td>\n      <td>1472.0</td>\n      <td>1472.0</td>\n      <td>1472.0</td>\n      <td>0.000000</td>\n      <td>...</td>\n      <td>-1</td>\n      <td>0.0</td>\n      <td>0.0</td>\n      <td>0.0</td>\n      <td>0.0</td>\n      <td>0.0</td>\n      <td>0.0</td>\n      <td>0.0</td>\n      <td>0.0</td>\n      <td>DrDoS_SSDP</td>\n    </tr>\n    <tr>\n      <th>2</th>\n      <td>17</td>\n      <td>1</td>\n      <td>2</td>\n      <td>0</td>\n      <td>2604.0</td>\n      <td>0.0</td>\n      <td>1302.0</td>\n      <td>1302.0</td>\n      <td>1302.0</td>\n      <td>0.000000</td>\n      <td>...</td>\n      <td>-1</td>\n      <td>0.0</td>\n      <td>0.0</td>\n      <td>0.0</td>\n      <td>0.0</td>\n      <td>0.0</td>\n      <td>0.0</td>\n      <td>0.0</td>\n      <td>0.0</td>\n      <td>DrDoS_SSDP</td>\n    </tr>\n    <tr>\n      <th>3</th>\n      <td>17</td>\n      <td>2</td>\n      <td>2</td>\n      <td>0</td>\n      <td>2474.0</td>\n      <td>0.0</td>\n      <td>1237.0</td>\n      <td>1237.0</td>\n      <td>1237.0</td>\n      <td>0.000000</td>\n      <td>...</td>\n      <td>-1</td>\n      <td>0.0</td>\n      <td>0.0</td>\n      <td>0.0</td>\n      <td>0.0</td>\n      <td>0.0</td>\n      <td>0.0</td>\n      <td>0.0</td>\n      <td>0.0</td>\n      <td>DrDoS_SSDP</td>\n    </tr>\n    <tr>\n      <th>4</th>\n      <td>17</td>\n      <td>3</td>\n      <td>2</td>\n      <td>0</td>\n      <td>2944.0</td>\n      <td>0.0</td>\n      <td>1472.0</td>\n      <td>1472.0</td>\n      <td>1472.0</td>\n      <td>0.000000</td>\n      <td>...</td>\n      <td>-1</td>\n      <td>0.0</td>\n      <td>0.0</td>\n      <td>0.0</td>\n      <td>0.0</td>\n      <td>0.0</td>\n      <td>0.0</td>\n      <td>0.0</td>\n      <td>0.0</td>\n      <td>DrDoS_SSDP</td>\n    </tr>\n    <tr>\n      <th>...</th>\n      <td>...</td>\n      <td>...</td>\n      <td>...</td>\n      <td>...</td>\n      <td>...</td>\n      <td>...</td>\n      <td>...</td>\n      <td>...</td>\n      <td>...</td>\n      <td>...</td>\n      <td>...</td>\n      <td>...</td>\n      <td>...</td>\n      <td>...</td>\n      <td>...</td>\n      <td>...</td>\n      <td>...</td>\n      <td>...</td>\n      <td>...</td>\n      <td>...</td>\n      <td>...</td>\n    </tr>\n    <tr>\n      <th>890741</th>\n      <td>17</td>\n      <td>105105</td>\n      <td>4</td>\n      <td>0</td>\n      <td>1302.0</td>\n      <td>0.0</td>\n      <td>330.0</td>\n      <td>321.0</td>\n      <td>325.5</td>\n      <td>5.196152</td>\n      <td>...</td>\n      <td>20</td>\n      <td>0.0</td>\n      <td>0.0</td>\n      <td>0.0</td>\n      <td>0.0</td>\n      <td>0.0</td>\n      <td>0.0</td>\n      <td>0.0</td>\n      <td>0.0</td>\n      <td>DrDoS_SSDP</td>\n    </tr>\n    <tr>\n      <th>890742</th>\n      <td>17</td>\n      <td>80086</td>\n      <td>4</td>\n      <td>0</td>\n      <td>1498.0</td>\n      <td>0.0</td>\n      <td>404.0</td>\n      <td>345.0</td>\n      <td>374.5</td>\n      <td>34.063667</td>\n      <td>...</td>\n      <td>20</td>\n      <td>0.0</td>\n      <td>0.0</td>\n      <td>0.0</td>\n      <td>0.0</td>\n      <td>0.0</td>\n      <td>0.0</td>\n      <td>0.0</td>\n      <td>0.0</td>\n      <td>DrDoS_SSDP</td>\n    </tr>\n    <tr>\n      <th>890743</th>\n      <td>17</td>\n      <td>80622</td>\n      <td>4</td>\n      <td>0</td>\n      <td>1498.0</td>\n      <td>0.0</td>\n      <td>404.0</td>\n      <td>345.0</td>\n      <td>374.5</td>\n      <td>34.063667</td>\n      <td>...</td>\n      <td>20</td>\n      <td>0.0</td>\n      <td>0.0</td>\n      <td>0.0</td>\n      <td>0.0</td>\n      <td>0.0</td>\n      <td>0.0</td>\n      <td>0.0</td>\n      <td>0.0</td>\n      <td>DrDoS_SSDP</td>\n    </tr>\n    <tr>\n      <th>890744</th>\n      <td>17</td>\n      <td>53</td>\n      <td>2</td>\n      <td>0</td>\n      <td>660.0</td>\n      <td>0.0</td>\n      <td>330.0</td>\n      <td>330.0</td>\n      <td>330.0</td>\n      <td>0.000000</td>\n      <td>...</td>\n      <td>20</td>\n      <td>0.0</td>\n      <td>0.0</td>\n      <td>0.0</td>\n      <td>0.0</td>\n      <td>0.0</td>\n      <td>0.0</td>\n      <td>0.0</td>\n      <td>0.0</td>\n      <td>DrDoS_SSDP</td>\n    </tr>\n    <tr>\n      <th>890745</th>\n      <td>17</td>\n      <td>47</td>\n      <td>2</td>\n      <td>0</td>\n      <td>662.0</td>\n      <td>0.0</td>\n      <td>331.0</td>\n      <td>331.0</td>\n      <td>331.0</td>\n      <td>0.000000</td>\n      <td>...</td>\n      <td>20</td>\n      <td>0.0</td>\n      <td>0.0</td>\n      <td>0.0</td>\n      <td>0.0</td>\n      <td>0.0</td>\n      <td>0.0</td>\n      <td>0.0</td>\n      <td>0.0</td>\n      <td>DrDoS_SSDP</td>\n    </tr>\n  </tbody>\n</table>\n<p>890746 rows × 58 columns</p>\n</div>"
     },
     "execution_count": 137,
     "metadata": {},
     "output_type": "execute_result"
    }
   ],
   "source": [
    "concol = [column for column in workingDataFrame.columns\n",
    "          if column not in workingDataFrame.columns[var_threshold_bool_list_after_label_added]]\n",
    "\n",
    "for omittedFeatures in concol:\n",
    "    print(omittedFeatures)\n",
    "\n",
    "workingDataFrame.drop(columns=concol, inplace=True, errors='ignore')\n",
    "workingDataFrame"
   ],
   "metadata": {
    "collapsed": false
   }
  },
  {
   "cell_type": "markdown",
   "source": [
    "Now arising problem is that, row number has been significantly reduced but feature numbers are still 78!!\n",
    "So, need feature engineering here"
   ],
   "metadata": {
    "collapsed": false
   }
  },
  {
   "cell_type": "code",
   "execution_count": 138,
   "outputs": [],
   "source": [
    "\n",
    "def featueEngineeringBasedOnZero(dataFrameArg, thresholdPercentage, showPercentage):\n",
    "    totalCols = dataFrameArg.shape[1]\n",
    "    totalRows = len(dataFrameArg)\n",
    "    unNecessaryFeatureCount = 0\n",
    "    unNecessaryFeatureNames = []\n",
    "\n",
    "    for column in dataFrameArg:\n",
    "        zerosInCol = (dataFrameArg[column] == 0).sum()\n",
    "        if zerosInCol != 0:\n",
    "            percentageOfZerosInRow = ((zerosInCol * 100) / totalRows)\n",
    "\n",
    "            if showPercentage:\n",
    "                print(column, \"\\t\\t-\\t\\t\", zerosInCol, \"\\t\\t-\\t\\t\", percentageOfZerosInRow)\n",
    "\n",
    "            if percentageOfZerosInRow > thresholdPercentage:\n",
    "                unNecessaryFeatureNames.append(column)\n",
    "                unNecessaryFeatureCount = unNecessaryFeatureCount + 1\n",
    "\n",
    "    print(\"\\nTotal features having more than \", thresholdPercentage, \"% zero are - \", unNecessaryFeatureCount,\n",
    "          \"out of \",\n",
    "          totalCols)\n",
    "    return unNecessaryFeatureNames"
   ],
   "metadata": {
    "collapsed": false
   }
  },
  {
   "cell_type": "markdown",
   "source": [
    "Identifying those features containing 99% zeroes"
   ],
   "metadata": {
    "collapsed": false
   }
  },
  {
   "cell_type": "code",
   "execution_count": 139,
   "outputs": [
    {
     "name": "stdout",
     "output_type": "stream",
     "text": [
      "\n",
      "Total features having more than  99 % zero are -  23 out of  58\n"
     ]
    },
    {
     "data": {
      "text/plain": "['Total Backward Packets',\n 'Bwd Packets Length Total',\n 'Bwd Packet Length Max',\n 'Bwd Packet Length Min',\n 'Bwd Packet Length Mean',\n 'Bwd Packet Length Std',\n 'Bwd IAT Total',\n 'Bwd IAT Mean',\n 'Bwd IAT Std',\n 'Bwd IAT Max',\n 'Bwd Header Length',\n 'Bwd Packets/s',\n 'Avg Bwd Segment Size',\n 'Subflow Bwd Packets',\n 'Subflow Bwd Bytes',\n 'Active Mean',\n 'Active Std',\n 'Active Max',\n 'Active Min',\n 'Idle Mean',\n 'Idle Std',\n 'Idle Max',\n 'Idle Min']"
     },
     "execution_count": 139,
     "metadata": {},
     "output_type": "execute_result"
    }
   ],
   "source": [
    "featureContainingAlmostZero = featueEngineeringBasedOnZero(dataFrameArg=workingDataFrame, thresholdPercentage=99,\n",
    "                                                           showPercentage=False)\n",
    "featureContainingAlmostZero"
   ],
   "metadata": {
    "collapsed": false
   }
  },
  {
   "cell_type": "markdown",
   "source": [
    "Omitting above features containing 99% zeroes"
   ],
   "metadata": {
    "collapsed": false
   }
  },
  {
   "cell_type": "code",
   "execution_count": 140,
   "outputs": [
    {
     "data": {
      "text/plain": "        Protocol  Flow Duration  Total Fwd Packets  Fwd Packets Length Total  \\\n0              0      119714230              49476                       0.0   \n1             17              2                  2                    2944.0   \n2             17              1                  2                    2604.0   \n3             17              2                  2                    2474.0   \n4             17              3                  2                    2944.0   \n...          ...            ...                ...                       ...   \n890741        17         105105                  4                    1302.0   \n890742        17          80086                  4                    1498.0   \n890743        17          80622                  4                    1498.0   \n890744        17             53                  2                     660.0   \n890745        17             47                  2                     662.0   \n\n        Fwd Packet Length Max  Fwd Packet Length Min  Fwd Packet Length Mean  \\\n0                         0.0                    0.0                     0.0   \n1                      1472.0                 1472.0                  1472.0   \n2                      1302.0                 1302.0                  1302.0   \n3                      1237.0                 1237.0                  1237.0   \n4                      1472.0                 1472.0                  1472.0   \n...                       ...                    ...                     ...   \n890741                  330.0                  321.0                   325.5   \n890742                  404.0                  345.0                   374.5   \n890743                  404.0                  345.0                   374.5   \n890744                  330.0                  330.0                   330.0   \n890745                  331.0                  331.0                   331.0   \n\n        Fwd Packet Length Std  Flow Bytes/s  Flow Packets/s  ...  \\\n0                    0.000000  0.000000e+00    4.150718e+02  ...   \n1                    0.000000  1.472000e+09    1.000000e+06  ...   \n2                    0.000000  2.604000e+09    2.000000e+06  ...   \n3                    0.000000  1.237000e+09    1.000000e+06  ...   \n4                    0.000000  9.813333e+08    6.666667e+05  ...   \n...                       ...           ...             ...  ...   \n890741               5.196152  1.238761e+04    3.805718e+01  ...   \n890742              34.063667  1.870489e+04    4.994631e+01  ...   \n890743              34.063667  1.858054e+04    4.961425e+01  ...   \n890744               0.000000  1.245283e+07    3.773585e+04  ...   \n890745               0.000000  1.408511e+07    4.255319e+04  ...   \n\n        Packet Length Variance  Avg Packet Size  Avg Fwd Segment Size  \\\n0                     0.000000             0.00                   0.0   \n1                     0.000000          2208.00                1472.0   \n2                     0.000000          1953.00                1302.0   \n3                     0.000000          1855.50                1237.0   \n4                     0.000000          2208.00                1472.0   \n...                        ...              ...                   ...   \n890741               24.299999           405.75                 325.5   \n890742             1044.300049           460.75                 374.5   \n890743             1044.300049           460.75                 374.5   \n890744                0.000000           495.00                 330.0   \n890745                0.000000           496.50                 331.0   \n\n        Subflow Fwd Packets  Subflow Fwd Bytes  Init Fwd Win Bytes  \\\n0                     49476                  0                  -1   \n1                         2               2944                  -1   \n2                         2               2604                  -1   \n3                         2               2474                  -1   \n4                         2               2944                  -1   \n...                     ...                ...                 ...   \n890741                    4               1302                  -1   \n890742                    4               1498                  -1   \n890743                    4               1498                  -1   \n890744                    2                660                  -1   \n890745                    2                662                  -1   \n\n        Init Bwd Win Bytes  Fwd Act Data Packets  Fwd Seg Size Min       Label  \n0                       -1                     0                 0  DrDoS_SSDP  \n1                       -1                     1                -1  DrDoS_SSDP  \n2                       -1                     1                -1  DrDoS_SSDP  \n3                       -1                     1                -1  DrDoS_SSDP  \n4                       -1                     1                -1  DrDoS_SSDP  \n...                    ...                   ...               ...         ...  \n890741                  -1                     3                20  DrDoS_SSDP  \n890742                  -1                     3                20  DrDoS_SSDP  \n890743                  -1                     3                20  DrDoS_SSDP  \n890744                  -1                     1                20  DrDoS_SSDP  \n890745                  -1                     1                20  DrDoS_SSDP  \n\n[890746 rows x 35 columns]",
      "text/html": "<div>\n<style scoped>\n    .dataframe tbody tr th:only-of-type {\n        vertical-align: middle;\n    }\n\n    .dataframe tbody tr th {\n        vertical-align: top;\n    }\n\n    .dataframe thead th {\n        text-align: right;\n    }\n</style>\n<table border=\"1\" class=\"dataframe\">\n  <thead>\n    <tr style=\"text-align: right;\">\n      <th></th>\n      <th>Protocol</th>\n      <th>Flow Duration</th>\n      <th>Total Fwd Packets</th>\n      <th>Fwd Packets Length Total</th>\n      <th>Fwd Packet Length Max</th>\n      <th>Fwd Packet Length Min</th>\n      <th>Fwd Packet Length Mean</th>\n      <th>Fwd Packet Length Std</th>\n      <th>Flow Bytes/s</th>\n      <th>Flow Packets/s</th>\n      <th>...</th>\n      <th>Packet Length Variance</th>\n      <th>Avg Packet Size</th>\n      <th>Avg Fwd Segment Size</th>\n      <th>Subflow Fwd Packets</th>\n      <th>Subflow Fwd Bytes</th>\n      <th>Init Fwd Win Bytes</th>\n      <th>Init Bwd Win Bytes</th>\n      <th>Fwd Act Data Packets</th>\n      <th>Fwd Seg Size Min</th>\n      <th>Label</th>\n    </tr>\n  </thead>\n  <tbody>\n    <tr>\n      <th>0</th>\n      <td>0</td>\n      <td>119714230</td>\n      <td>49476</td>\n      <td>0.0</td>\n      <td>0.0</td>\n      <td>0.0</td>\n      <td>0.0</td>\n      <td>0.000000</td>\n      <td>0.000000e+00</td>\n      <td>4.150718e+02</td>\n      <td>...</td>\n      <td>0.000000</td>\n      <td>0.00</td>\n      <td>0.0</td>\n      <td>49476</td>\n      <td>0</td>\n      <td>-1</td>\n      <td>-1</td>\n      <td>0</td>\n      <td>0</td>\n      <td>DrDoS_SSDP</td>\n    </tr>\n    <tr>\n      <th>1</th>\n      <td>17</td>\n      <td>2</td>\n      <td>2</td>\n      <td>2944.0</td>\n      <td>1472.0</td>\n      <td>1472.0</td>\n      <td>1472.0</td>\n      <td>0.000000</td>\n      <td>1.472000e+09</td>\n      <td>1.000000e+06</td>\n      <td>...</td>\n      <td>0.000000</td>\n      <td>2208.00</td>\n      <td>1472.0</td>\n      <td>2</td>\n      <td>2944</td>\n      <td>-1</td>\n      <td>-1</td>\n      <td>1</td>\n      <td>-1</td>\n      <td>DrDoS_SSDP</td>\n    </tr>\n    <tr>\n      <th>2</th>\n      <td>17</td>\n      <td>1</td>\n      <td>2</td>\n      <td>2604.0</td>\n      <td>1302.0</td>\n      <td>1302.0</td>\n      <td>1302.0</td>\n      <td>0.000000</td>\n      <td>2.604000e+09</td>\n      <td>2.000000e+06</td>\n      <td>...</td>\n      <td>0.000000</td>\n      <td>1953.00</td>\n      <td>1302.0</td>\n      <td>2</td>\n      <td>2604</td>\n      <td>-1</td>\n      <td>-1</td>\n      <td>1</td>\n      <td>-1</td>\n      <td>DrDoS_SSDP</td>\n    </tr>\n    <tr>\n      <th>3</th>\n      <td>17</td>\n      <td>2</td>\n      <td>2</td>\n      <td>2474.0</td>\n      <td>1237.0</td>\n      <td>1237.0</td>\n      <td>1237.0</td>\n      <td>0.000000</td>\n      <td>1.237000e+09</td>\n      <td>1.000000e+06</td>\n      <td>...</td>\n      <td>0.000000</td>\n      <td>1855.50</td>\n      <td>1237.0</td>\n      <td>2</td>\n      <td>2474</td>\n      <td>-1</td>\n      <td>-1</td>\n      <td>1</td>\n      <td>-1</td>\n      <td>DrDoS_SSDP</td>\n    </tr>\n    <tr>\n      <th>4</th>\n      <td>17</td>\n      <td>3</td>\n      <td>2</td>\n      <td>2944.0</td>\n      <td>1472.0</td>\n      <td>1472.0</td>\n      <td>1472.0</td>\n      <td>0.000000</td>\n      <td>9.813333e+08</td>\n      <td>6.666667e+05</td>\n      <td>...</td>\n      <td>0.000000</td>\n      <td>2208.00</td>\n      <td>1472.0</td>\n      <td>2</td>\n      <td>2944</td>\n      <td>-1</td>\n      <td>-1</td>\n      <td>1</td>\n      <td>-1</td>\n      <td>DrDoS_SSDP</td>\n    </tr>\n    <tr>\n      <th>...</th>\n      <td>...</td>\n      <td>...</td>\n      <td>...</td>\n      <td>...</td>\n      <td>...</td>\n      <td>...</td>\n      <td>...</td>\n      <td>...</td>\n      <td>...</td>\n      <td>...</td>\n      <td>...</td>\n      <td>...</td>\n      <td>...</td>\n      <td>...</td>\n      <td>...</td>\n      <td>...</td>\n      <td>...</td>\n      <td>...</td>\n      <td>...</td>\n      <td>...</td>\n      <td>...</td>\n    </tr>\n    <tr>\n      <th>890741</th>\n      <td>17</td>\n      <td>105105</td>\n      <td>4</td>\n      <td>1302.0</td>\n      <td>330.0</td>\n      <td>321.0</td>\n      <td>325.5</td>\n      <td>5.196152</td>\n      <td>1.238761e+04</td>\n      <td>3.805718e+01</td>\n      <td>...</td>\n      <td>24.299999</td>\n      <td>405.75</td>\n      <td>325.5</td>\n      <td>4</td>\n      <td>1302</td>\n      <td>-1</td>\n      <td>-1</td>\n      <td>3</td>\n      <td>20</td>\n      <td>DrDoS_SSDP</td>\n    </tr>\n    <tr>\n      <th>890742</th>\n      <td>17</td>\n      <td>80086</td>\n      <td>4</td>\n      <td>1498.0</td>\n      <td>404.0</td>\n      <td>345.0</td>\n      <td>374.5</td>\n      <td>34.063667</td>\n      <td>1.870489e+04</td>\n      <td>4.994631e+01</td>\n      <td>...</td>\n      <td>1044.300049</td>\n      <td>460.75</td>\n      <td>374.5</td>\n      <td>4</td>\n      <td>1498</td>\n      <td>-1</td>\n      <td>-1</td>\n      <td>3</td>\n      <td>20</td>\n      <td>DrDoS_SSDP</td>\n    </tr>\n    <tr>\n      <th>890743</th>\n      <td>17</td>\n      <td>80622</td>\n      <td>4</td>\n      <td>1498.0</td>\n      <td>404.0</td>\n      <td>345.0</td>\n      <td>374.5</td>\n      <td>34.063667</td>\n      <td>1.858054e+04</td>\n      <td>4.961425e+01</td>\n      <td>...</td>\n      <td>1044.300049</td>\n      <td>460.75</td>\n      <td>374.5</td>\n      <td>4</td>\n      <td>1498</td>\n      <td>-1</td>\n      <td>-1</td>\n      <td>3</td>\n      <td>20</td>\n      <td>DrDoS_SSDP</td>\n    </tr>\n    <tr>\n      <th>890744</th>\n      <td>17</td>\n      <td>53</td>\n      <td>2</td>\n      <td>660.0</td>\n      <td>330.0</td>\n      <td>330.0</td>\n      <td>330.0</td>\n      <td>0.000000</td>\n      <td>1.245283e+07</td>\n      <td>3.773585e+04</td>\n      <td>...</td>\n      <td>0.000000</td>\n      <td>495.00</td>\n      <td>330.0</td>\n      <td>2</td>\n      <td>660</td>\n      <td>-1</td>\n      <td>-1</td>\n      <td>1</td>\n      <td>20</td>\n      <td>DrDoS_SSDP</td>\n    </tr>\n    <tr>\n      <th>890745</th>\n      <td>17</td>\n      <td>47</td>\n      <td>2</td>\n      <td>662.0</td>\n      <td>331.0</td>\n      <td>331.0</td>\n      <td>331.0</td>\n      <td>0.000000</td>\n      <td>1.408511e+07</td>\n      <td>4.255319e+04</td>\n      <td>...</td>\n      <td>0.000000</td>\n      <td>496.50</td>\n      <td>331.0</td>\n      <td>2</td>\n      <td>662</td>\n      <td>-1</td>\n      <td>-1</td>\n      <td>1</td>\n      <td>20</td>\n      <td>DrDoS_SSDP</td>\n    </tr>\n  </tbody>\n</table>\n<p>890746 rows × 35 columns</p>\n</div>"
     },
     "execution_count": 140,
     "metadata": {},
     "output_type": "execute_result"
    }
   ],
   "source": [
    "workingDataFrame.drop(columns=featureContainingAlmostZero, inplace=True, errors='ignore')\n",
    "workingDataFrame.rename(columns=col_name_consistency, inplace=True)\n",
    "workingDataFrame.reset_index(inplace=True, drop=True)\n",
    "workingDataFrame"
   ],
   "metadata": {
    "collapsed": false
   }
  },
  {
   "cell_type": "markdown",
   "source": [
    "Now, To see the number of unique values in each column"
   ],
   "metadata": {
    "collapsed": false
   }
  },
  {
   "cell_type": "code",
   "execution_count": 141,
   "outputs": [
    {
     "data": {
      "text/plain": "Protocol                         3\nFlow Duration                82361\nTotal Fwd Packets               73\nFwd Packets Length Total      1191\nFwd Packet Length Max          656\nFwd Packet Length Min          594\nFwd Packet Length Mean        1190\nFwd Packet Length Std          535\nFlow Bytes/s                141907\nFlow Packets/s               86923\nFlow IAT Mean                86576\nFlow IAT Std                416497\nFlow IAT Max                 46096\nFlow IAT Min                   214\nFwd IAT Total                82118\nFwd IAT Mean                 86230\nFwd IAT Std                 416080\nFwd IAT Max                  45802\nFwd IAT Min                    157\nFwd Header Length             4100\nFwd Packets/s                86905\nPacket Length Min              591\nPacket Length Max              680\nPacket Length Mean            1499\nPacket Length Std              640\nPacket Length Variance         640\nAvg Packet Size               1536\nAvg Fwd Segment Size          1190\nSubflow Fwd Packets             73\nSubflow Fwd Bytes             1191\nInit Fwd Win Bytes              67\nInit Bwd Win Bytes              69\nFwd Act Data Packets            49\nFwd Seg Size Min               126\nLabel                            2\ndtype: int64"
     },
     "execution_count": 141,
     "metadata": {},
     "output_type": "execute_result"
    }
   ],
   "source": [
    "workingDataFrame.nunique(axis=0)"
   ],
   "metadata": {
    "collapsed": false
   }
  },
  {
   "cell_type": "code",
   "execution_count": 142,
   "outputs": [
    {
     "data": {
      "text/plain": "        Protocol  Flow Duration  Total Fwd Packets  Fwd Packets Length Total  \\\n0              0      119714230              49476                       0.0   \n1             17              2                  2                    2944.0   \n2             17              1                  2                    2604.0   \n3             17              2                  2                    2474.0   \n4             17              3                  2                    2944.0   \n...          ...            ...                ...                       ...   \n890741        17         105105                  4                    1302.0   \n890742        17          80086                  4                    1498.0   \n890743        17          80622                  4                    1498.0   \n890744        17             53                  2                     660.0   \n890745        17             47                  2                     662.0   \n\n        Fwd Packet Length Max  Fwd Packet Length Min  Fwd Packet Length Mean  \\\n0                         0.0                    0.0                     0.0   \n1                      1472.0                 1472.0                  1472.0   \n2                      1302.0                 1302.0                  1302.0   \n3                      1237.0                 1237.0                  1237.0   \n4                      1472.0                 1472.0                  1472.0   \n...                       ...                    ...                     ...   \n890741                  330.0                  321.0                   325.5   \n890742                  404.0                  345.0                   374.5   \n890743                  404.0                  345.0                   374.5   \n890744                  330.0                  330.0                   330.0   \n890745                  331.0                  331.0                   331.0   \n\n        Fwd Packet Length Std  Flow Bytes/s  Flow Packets/s  ...  \\\n0                    0.000000  0.000000e+00    4.150718e+02  ...   \n1                    0.000000  1.472000e+09    1.000000e+06  ...   \n2                    0.000000  2.604000e+09    2.000000e+06  ...   \n3                    0.000000  1.237000e+09    1.000000e+06  ...   \n4                    0.000000  9.813333e+08    6.666667e+05  ...   \n...                       ...           ...             ...  ...   \n890741               5.196152  1.238761e+04    3.805718e+01  ...   \n890742              34.063667  1.870489e+04    4.994631e+01  ...   \n890743              34.063667  1.858054e+04    4.961425e+01  ...   \n890744               0.000000  1.245283e+07    3.773585e+04  ...   \n890745               0.000000  1.408511e+07    4.255319e+04  ...   \n\n        Packet Length Variance  Avg Packet Size  Avg Fwd Segment Size  \\\n0                     0.000000             0.00                   0.0   \n1                     0.000000          2208.00                1472.0   \n2                     0.000000          1953.00                1302.0   \n3                     0.000000          1855.50                1237.0   \n4                     0.000000          2208.00                1472.0   \n...                        ...              ...                   ...   \n890741               24.299999           405.75                 325.5   \n890742             1044.300049           460.75                 374.5   \n890743             1044.300049           460.75                 374.5   \n890744                0.000000           495.00                 330.0   \n890745                0.000000           496.50                 331.0   \n\n        Subflow Fwd Packets  Subflow Fwd Bytes  Init Fwd Win Bytes  \\\n0                     49476                  0                  -1   \n1                         2               2944                  -1   \n2                         2               2604                  -1   \n3                         2               2474                  -1   \n4                         2               2944                  -1   \n...                     ...                ...                 ...   \n890741                    4               1302                  -1   \n890742                    4               1498                  -1   \n890743                    4               1498                  -1   \n890744                    2                660                  -1   \n890745                    2                662                  -1   \n\n        Init Bwd Win Bytes  Fwd Act Data Packets  Fwd Seg Size Min       Label  \n0                       -1                     0                 0  DrDoS_SSDP  \n1                       -1                     1                -1  DrDoS_SSDP  \n2                       -1                     1                -1  DrDoS_SSDP  \n3                       -1                     1                -1  DrDoS_SSDP  \n4                       -1                     1                -1  DrDoS_SSDP  \n...                    ...                   ...               ...         ...  \n890741                  -1                     3                20  DrDoS_SSDP  \n890742                  -1                     3                20  DrDoS_SSDP  \n890743                  -1                     3                20  DrDoS_SSDP  \n890744                  -1                     1                20  DrDoS_SSDP  \n890745                  -1                     1                20  DrDoS_SSDP  \n\n[890746 rows x 35 columns]",
      "text/html": "<div>\n<style scoped>\n    .dataframe tbody tr th:only-of-type {\n        vertical-align: middle;\n    }\n\n    .dataframe tbody tr th {\n        vertical-align: top;\n    }\n\n    .dataframe thead th {\n        text-align: right;\n    }\n</style>\n<table border=\"1\" class=\"dataframe\">\n  <thead>\n    <tr style=\"text-align: right;\">\n      <th></th>\n      <th>Protocol</th>\n      <th>Flow Duration</th>\n      <th>Total Fwd Packets</th>\n      <th>Fwd Packets Length Total</th>\n      <th>Fwd Packet Length Max</th>\n      <th>Fwd Packet Length Min</th>\n      <th>Fwd Packet Length Mean</th>\n      <th>Fwd Packet Length Std</th>\n      <th>Flow Bytes/s</th>\n      <th>Flow Packets/s</th>\n      <th>...</th>\n      <th>Packet Length Variance</th>\n      <th>Avg Packet Size</th>\n      <th>Avg Fwd Segment Size</th>\n      <th>Subflow Fwd Packets</th>\n      <th>Subflow Fwd Bytes</th>\n      <th>Init Fwd Win Bytes</th>\n      <th>Init Bwd Win Bytes</th>\n      <th>Fwd Act Data Packets</th>\n      <th>Fwd Seg Size Min</th>\n      <th>Label</th>\n    </tr>\n  </thead>\n  <tbody>\n    <tr>\n      <th>0</th>\n      <td>0</td>\n      <td>119714230</td>\n      <td>49476</td>\n      <td>0.0</td>\n      <td>0.0</td>\n      <td>0.0</td>\n      <td>0.0</td>\n      <td>0.000000</td>\n      <td>0.000000e+00</td>\n      <td>4.150718e+02</td>\n      <td>...</td>\n      <td>0.000000</td>\n      <td>0.00</td>\n      <td>0.0</td>\n      <td>49476</td>\n      <td>0</td>\n      <td>-1</td>\n      <td>-1</td>\n      <td>0</td>\n      <td>0</td>\n      <td>DrDoS_SSDP</td>\n    </tr>\n    <tr>\n      <th>1</th>\n      <td>17</td>\n      <td>2</td>\n      <td>2</td>\n      <td>2944.0</td>\n      <td>1472.0</td>\n      <td>1472.0</td>\n      <td>1472.0</td>\n      <td>0.000000</td>\n      <td>1.472000e+09</td>\n      <td>1.000000e+06</td>\n      <td>...</td>\n      <td>0.000000</td>\n      <td>2208.00</td>\n      <td>1472.0</td>\n      <td>2</td>\n      <td>2944</td>\n      <td>-1</td>\n      <td>-1</td>\n      <td>1</td>\n      <td>-1</td>\n      <td>DrDoS_SSDP</td>\n    </tr>\n    <tr>\n      <th>2</th>\n      <td>17</td>\n      <td>1</td>\n      <td>2</td>\n      <td>2604.0</td>\n      <td>1302.0</td>\n      <td>1302.0</td>\n      <td>1302.0</td>\n      <td>0.000000</td>\n      <td>2.604000e+09</td>\n      <td>2.000000e+06</td>\n      <td>...</td>\n      <td>0.000000</td>\n      <td>1953.00</td>\n      <td>1302.0</td>\n      <td>2</td>\n      <td>2604</td>\n      <td>-1</td>\n      <td>-1</td>\n      <td>1</td>\n      <td>-1</td>\n      <td>DrDoS_SSDP</td>\n    </tr>\n    <tr>\n      <th>3</th>\n      <td>17</td>\n      <td>2</td>\n      <td>2</td>\n      <td>2474.0</td>\n      <td>1237.0</td>\n      <td>1237.0</td>\n      <td>1237.0</td>\n      <td>0.000000</td>\n      <td>1.237000e+09</td>\n      <td>1.000000e+06</td>\n      <td>...</td>\n      <td>0.000000</td>\n      <td>1855.50</td>\n      <td>1237.0</td>\n      <td>2</td>\n      <td>2474</td>\n      <td>-1</td>\n      <td>-1</td>\n      <td>1</td>\n      <td>-1</td>\n      <td>DrDoS_SSDP</td>\n    </tr>\n    <tr>\n      <th>4</th>\n      <td>17</td>\n      <td>3</td>\n      <td>2</td>\n      <td>2944.0</td>\n      <td>1472.0</td>\n      <td>1472.0</td>\n      <td>1472.0</td>\n      <td>0.000000</td>\n      <td>9.813333e+08</td>\n      <td>6.666667e+05</td>\n      <td>...</td>\n      <td>0.000000</td>\n      <td>2208.00</td>\n      <td>1472.0</td>\n      <td>2</td>\n      <td>2944</td>\n      <td>-1</td>\n      <td>-1</td>\n      <td>1</td>\n      <td>-1</td>\n      <td>DrDoS_SSDP</td>\n    </tr>\n    <tr>\n      <th>...</th>\n      <td>...</td>\n      <td>...</td>\n      <td>...</td>\n      <td>...</td>\n      <td>...</td>\n      <td>...</td>\n      <td>...</td>\n      <td>...</td>\n      <td>...</td>\n      <td>...</td>\n      <td>...</td>\n      <td>...</td>\n      <td>...</td>\n      <td>...</td>\n      <td>...</td>\n      <td>...</td>\n      <td>...</td>\n      <td>...</td>\n      <td>...</td>\n      <td>...</td>\n      <td>...</td>\n    </tr>\n    <tr>\n      <th>890741</th>\n      <td>17</td>\n      <td>105105</td>\n      <td>4</td>\n      <td>1302.0</td>\n      <td>330.0</td>\n      <td>321.0</td>\n      <td>325.5</td>\n      <td>5.196152</td>\n      <td>1.238761e+04</td>\n      <td>3.805718e+01</td>\n      <td>...</td>\n      <td>24.299999</td>\n      <td>405.75</td>\n      <td>325.5</td>\n      <td>4</td>\n      <td>1302</td>\n      <td>-1</td>\n      <td>-1</td>\n      <td>3</td>\n      <td>20</td>\n      <td>DrDoS_SSDP</td>\n    </tr>\n    <tr>\n      <th>890742</th>\n      <td>17</td>\n      <td>80086</td>\n      <td>4</td>\n      <td>1498.0</td>\n      <td>404.0</td>\n      <td>345.0</td>\n      <td>374.5</td>\n      <td>34.063667</td>\n      <td>1.870489e+04</td>\n      <td>4.994631e+01</td>\n      <td>...</td>\n      <td>1044.300049</td>\n      <td>460.75</td>\n      <td>374.5</td>\n      <td>4</td>\n      <td>1498</td>\n      <td>-1</td>\n      <td>-1</td>\n      <td>3</td>\n      <td>20</td>\n      <td>DrDoS_SSDP</td>\n    </tr>\n    <tr>\n      <th>890743</th>\n      <td>17</td>\n      <td>80622</td>\n      <td>4</td>\n      <td>1498.0</td>\n      <td>404.0</td>\n      <td>345.0</td>\n      <td>374.5</td>\n      <td>34.063667</td>\n      <td>1.858054e+04</td>\n      <td>4.961425e+01</td>\n      <td>...</td>\n      <td>1044.300049</td>\n      <td>460.75</td>\n      <td>374.5</td>\n      <td>4</td>\n      <td>1498</td>\n      <td>-1</td>\n      <td>-1</td>\n      <td>3</td>\n      <td>20</td>\n      <td>DrDoS_SSDP</td>\n    </tr>\n    <tr>\n      <th>890744</th>\n      <td>17</td>\n      <td>53</td>\n      <td>2</td>\n      <td>660.0</td>\n      <td>330.0</td>\n      <td>330.0</td>\n      <td>330.0</td>\n      <td>0.000000</td>\n      <td>1.245283e+07</td>\n      <td>3.773585e+04</td>\n      <td>...</td>\n      <td>0.000000</td>\n      <td>495.00</td>\n      <td>330.0</td>\n      <td>2</td>\n      <td>660</td>\n      <td>-1</td>\n      <td>-1</td>\n      <td>1</td>\n      <td>20</td>\n      <td>DrDoS_SSDP</td>\n    </tr>\n    <tr>\n      <th>890745</th>\n      <td>17</td>\n      <td>47</td>\n      <td>2</td>\n      <td>662.0</td>\n      <td>331.0</td>\n      <td>331.0</td>\n      <td>331.0</td>\n      <td>0.000000</td>\n      <td>1.408511e+07</td>\n      <td>4.255319e+04</td>\n      <td>...</td>\n      <td>0.000000</td>\n      <td>496.50</td>\n      <td>331.0</td>\n      <td>2</td>\n      <td>662</td>\n      <td>-1</td>\n      <td>-1</td>\n      <td>1</td>\n      <td>20</td>\n      <td>DrDoS_SSDP</td>\n    </tr>\n  </tbody>\n</table>\n<p>890746 rows × 35 columns</p>\n</div>"
     },
     "execution_count": 142,
     "metadata": {},
     "output_type": "execute_result"
    }
   ],
   "source": [
    "workingDataFrame"
   ],
   "metadata": {
    "collapsed": false
   }
  },
  {
   "cell_type": "markdown",
   "source": [
    "Saving New DataFrame as csv file to new location"
   ],
   "metadata": {
    "collapsed": false
   }
  },
  {
   "cell_type": "code",
   "execution_count": 143,
   "outputs": [],
   "source": [
    "def dataCleaningResultToAnotherCSV(dataFrameArg, dirPath, file_name):\n",
    "    dataFrameArg.to_csv(dirPath + file_name)"
   ],
   "metadata": {
    "collapsed": false
   }
  },
  {
   "cell_type": "code",
   "execution_count": 144,
   "outputs": [],
   "source": [
    "newCsvPath = \"C:\\\\CIC-DDOS-2019\\\\AfterDataCleaning\\\\\"\n",
    "# newFileName = \"UDPLag.csv\"\n",
    "# newFileName = \"Syn.csv\"\n",
    "# newFileName = \"DrDoS_NTP.csv\"\n",
    "# newFileName = \"DrDoS_LDAP.csv\"\n",
    "newFileName = \"DrDoS_SSDP.csv\"\n",
    "dataCleaningResultToAnotherCSV(dataFrameArg=workingDataFrame, dirPath=newCsvPath, file_name=newFileName)"
   ],
   "metadata": {
    "collapsed": false
   }
  },
  {
   "cell_type": "code",
   "execution_count": 145,
   "outputs": [
    {
     "data": {
      "text/plain": "304"
     },
     "execution_count": 145,
     "metadata": {},
     "output_type": "execute_result"
    }
   ],
   "source": [
    "gc.collect()"
   ],
   "metadata": {
    "collapsed": false
   }
  }
 ],
 "metadata": {
  "kernelspec": {
   "display_name": "Python 3",
   "language": "python",
   "name": "python3"
  },
  "language_info": {
   "codemirror_mode": {
    "name": "ipython",
    "version": 2
   },
   "file_extension": ".py",
   "mimetype": "text/x-python",
   "name": "python",
   "nbconvert_exporter": "python",
   "pygments_lexer": "ipython2",
   "version": "2.7.6"
  }
 },
 "nbformat": 4,
 "nbformat_minor": 0
}
