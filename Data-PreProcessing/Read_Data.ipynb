{
 "cells": [
  {
   "cell_type": "markdown",
   "source": [
    "Loading Libraries"
   ],
   "metadata": {
    "collapsed": false
   }
  },
  {
   "cell_type": "code",
   "execution_count": 88,
   "metadata": {
    "collapsed": true
   },
   "outputs": [],
   "source": [
    "import numba\n",
    "import tensorflow as tf\n",
    "import pandas as pd\n",
    "import numpy as np\n",
    "import random\n",
    "import gc  # garbage collector\n",
    "\n",
    "from fastcore.basics import *\n",
    "from fastcore.parallel import *\n",
    "from numba import jit, njit, vectorize, cuda, uint32, f8, uint8\n",
    "\n",
    "from sklearn.model_selection import train_test_split\n",
    "from sklearn import metrics  # for accuracy calculation\n",
    "from sklearn.tree import DecisionTreeClassifier\n",
    "from sklearn.metrics import roc_auc_score, accuracy_score\n",
    "from functools import partial\n",
    "from os import cpu_count\n",
    "import matplotlib.pyplot as plt\n",
    "\n",
    "import math\n",
    "from pylab import imshow, show\n",
    "from timeit import default_timer as timer\n",
    "\n",
    "from dask import dataframe as dd\n",
    "from dask.distributed import Client"
   ]
  },
  {
   "cell_type": "markdown",
   "source": [
    "Setting up paths to csv files / datasets"
   ],
   "metadata": {
    "collapsed": false
   }
  },
  {
   "cell_type": "code",
   "execution_count": 89,
   "outputs": [],
   "source": [
    "# CSV-01-12\n",
    "path_DdoS_DNS = \"C:\\\\CIC-DDOS-2019\\\\DrDoS_DNS.csv\"\n",
    "path_DdoS_MSSQL = \"C:\\\\CIC-DDOS-2019\\\\DrDoS_MSSQL.csv\"\n",
    "path_DdoS_LDAP = \"C:\\\\CIC-DDOS-2019\\\\DrDoS_LDAP.csv\"\n",
    "path_DdoS_NTP = \"C:\\\\CIC-DDOS-2019\\\\DrDoS_NTP.csv\"\n",
    "path_DdoS_NetBIOS = \"C:\\\\CIC-DDOS-2019\\\\DrDoS_NetBIOS.csv\"\n",
    "path_DdoS_SNMP = \"C:\\\\CIC-DDOS-2019\\\\DrDoS_SNMP.csv\"\n",
    "path_DdoS_SSDP = \"C:\\\\CIC-DDOS-2019\\\\DrDoS_SSDP.csv\"\n",
    "path_DdoS_UDP = \"C:\\\\CIC-DDOS-2019\\\\DrDoS_UDP.csv\"\n",
    "path_Syn = \"C:\\\\CIC-DDOS-2019\\\\Syn.csv\"\n",
    "path_TFTP = \"C:\\\\CIC-DDOS-2019\\\\TFTP.csv\"\n",
    "path_UDPLag = \"C:\\\\CIC-DDOS-2019\\\\UDPLag.csv\"\n",
    "\n",
    "# # CSV-03-11\n",
    "# path__LDAP = \"../CICDDoS-2019/CSV-03-11/03-11/LDAP.csv\"\n",
    "# path__MSSQL = \"../CICDDoS-2019/CSV-03-11/03-11/MSSQL.csv\"\n",
    "# path__NetBIOS = \"../CICDDoS-2019/CSV-03-11/03-11/NetBIOS.csv\"\n",
    "# path__Portmap = \"../CICDDoS-2019/CSV-03-11/03-11/Portmap.csv\"\n",
    "# path__Syn = \"../CICDDoS-2019/CSV-03-11/03-11/Syn.csv\"\n",
    "# path__UDP = \"../CICDDoS-2019/CSV-03-11/03-11/UDP.csv\"\n",
    "# path__UDPLag = \"../CICDDoS-2019/CSV-03-11/03-11/UDPLag.csv\"\n",
    "\n",
    "paths = [path_DdoS_DNS, path_DdoS_MSSQL, path_DdoS_LDAP, path_DdoS_NTP, path_DdoS_NetBIOS, path_DdoS_SNMP,\n",
    "         path_DdoS_SSDP, path_DdoS_UDP, path_Syn, path_TFTP, path_UDPLag]\n",
    "# , path__LDAP, path__MSSQL, path__NetBIOS,\n",
    "#      path__Portmap, path__Syn, path__UDP, path__UDPLag]"
   ],
   "metadata": {
    "collapsed": false
   }
  },
  {
   "cell_type": "markdown",
   "source": [
    "Column / feature names"
   ],
   "metadata": {
    "collapsed": false
   }
  },
  {
   "cell_type": "code",
   "execution_count": 90,
   "outputs": [],
   "source": [
    "col_name_consistency = {\n",
    "    'Flow ID': 'Flow ID',\n",
    "    'Source IP': 'Source IP',\n",
    "    'Src IP': 'Source IP',\n",
    "    'Source Port': 'Source Port',\n",
    "    'Src Port': 'Source Port',\n",
    "    'Destination IP': 'Destination IP',\n",
    "    'Dst IP': 'Destination IP',\n",
    "    'Destination Port': 'Destination Port',\n",
    "    'Dst Port': 'Destination Port',\n",
    "    'Protocol': 'Protocol',\n",
    "    'Timestamp': 'Timestamp',\n",
    "    'Flow Duration': 'Flow Duration',\n",
    "    'Total Fwd Packets': 'Total Fwd Packets',\n",
    "    'Tot Fwd Pkts': 'Total Fwd Packets',\n",
    "    'Total Backward Packets': 'Total Backward Packets',\n",
    "    'Tot Bwd Pkts': 'Total Backward Packets',\n",
    "    'Total Length of Fwd Packets': 'Fwd Packets Length Total',\n",
    "    'TotLen Fwd Pkts': 'Fwd Packets Length Total',\n",
    "    'Total Length of Bwd Packets': 'Bwd Packets Length Total',\n",
    "    'TotLen Bwd Pkts': 'Bwd Packets Length Total',\n",
    "    'Fwd Packet Length Max': 'Fwd Packet Length Max',\n",
    "    'Fwd Pkt Len Max': 'Fwd Packet Length Max',\n",
    "    'Fwd Packet Length Min': 'Fwd Packet Length Min',\n",
    "    'Fwd Pkt Len Min': 'Fwd Packet Length Min',\n",
    "    'Fwd Packet Length Mean': 'Fwd Packet Length Mean',\n",
    "    'Fwd Pkt Len Mean': 'Fwd Packet Length Mean',\n",
    "    'Fwd Packet Length Std': 'Fwd Packet Length Std',\n",
    "    'Fwd Pkt Len Std': 'Fwd Packet Length Std',\n",
    "    'Bwd Packet Length Max': 'Bwd Packet Length Max',\n",
    "    'Bwd Pkt Len Max': 'Bwd Packet Length Max',\n",
    "    'Bwd Packet Length Min': 'Bwd Packet Length Min',\n",
    "    'Bwd Pkt Len Min': 'Bwd Packet Length Min',\n",
    "    'Bwd Packet Length Mean': 'Bwd Packet Length Mean',\n",
    "    'Bwd Pkt Len Mean': 'Bwd Packet Length Mean',\n",
    "    'Bwd Packet Length Std': 'Bwd Packet Length Std',\n",
    "    'Bwd Pkt Len Std': 'Bwd Packet Length Std',\n",
    "    'Flow Bytes/s': 'Flow Bytes/s',\n",
    "    'Flow Byts/s': 'Flow Bytes/s',\n",
    "    'Flow Packets/s': 'Flow Packets/s',\n",
    "    'Flow Pkts/s': 'Flow Packets/s',\n",
    "    'Flow IAT Mean': 'Flow IAT Mean',\n",
    "    'Flow IAT Std': 'Flow IAT Std',\n",
    "    'Flow IAT Max': 'Flow IAT Max',\n",
    "    'Flow IAT Min': 'Flow IAT Min',\n",
    "    'Fwd IAT Total': 'Fwd IAT Total',\n",
    "    'Fwd IAT Tot': 'Fwd IAT Total',\n",
    "    'Fwd IAT Mean': 'Fwd IAT Mean',\n",
    "    'Fwd IAT Std': 'Fwd IAT Std',\n",
    "    'Fwd IAT Max': 'Fwd IAT Max',\n",
    "    'Fwd IAT Min': 'Fwd IAT Min',\n",
    "    'Bwd IAT Total': 'Bwd IAT Total',\n",
    "    'Bwd IAT Tot': 'Bwd IAT Total',\n",
    "    'Bwd IAT Mean': 'Bwd IAT Mean',\n",
    "    'Bwd IAT Std': 'Bwd IAT Std',\n",
    "    'Bwd IAT Max': 'Bwd IAT Max',\n",
    "    'Bwd IAT Min': 'Bwd IAT Min',\n",
    "    'Fwd PSH Flags': 'Fwd PSH Flags',\n",
    "    'Bwd PSH Flags': 'Bwd PSH Flags',\n",
    "    'Fwd URG Flags': 'Fwd URG Flags',\n",
    "    'Bwd URG Flags': 'Bwd URG Flags',\n",
    "    'Fwd Header Length': 'Fwd Header Length',\n",
    "    'Fwd Header Len': 'Fwd Header Length',\n",
    "    'Bwd Header Length': 'Bwd Header Length',\n",
    "    'Bwd Header Len': 'Bwd Header Length',\n",
    "    'Fwd Packets/s': 'Fwd Packets/s',\n",
    "    'Fwd Pkts/s': 'Fwd Packets/s',\n",
    "    'Bwd Packets/s': 'Bwd Packets/s',\n",
    "    'Bwd Pkts/s': 'Bwd Packets/s',\n",
    "    'Min Packet Length': 'Packet Length Min',\n",
    "    'Pkt Len Min': 'Packet Length Min',\n",
    "    'Max Packet Length': 'Packet Length Max',\n",
    "    'Pkt Len Max': 'Packet Length Max',\n",
    "    'Packet Length Mean': 'Packet Length Mean',\n",
    "    'Pkt Len Mean': 'Packet Length Mean',\n",
    "    'Packet Length Std': 'Packet Length Std',\n",
    "    'Pkt Len Std': 'Packet Length Std',\n",
    "    'Packet Length Variance': 'Packet Length Variance',\n",
    "    'Pkt Len Var': 'Packet Length Variance',\n",
    "    'FIN Flag Count': 'FIN Flag Count',\n",
    "    'FIN Flag Cnt': 'FIN Flag Count',\n",
    "    'SYN Flag Count': 'SYN Flag Count',\n",
    "    'SYN Flag Cnt': 'SYN Flag Count',\n",
    "    'RST Flag Count': 'RST Flag Count',\n",
    "    'RST Flag Cnt': 'RST Flag Count',\n",
    "    'PSH Flag Count': 'PSH Flag Count',\n",
    "    'PSH Flag Cnt': 'PSH Flag Count',\n",
    "    'ACK Flag Count': 'ACK Flag Count',\n",
    "    'ACK Flag Cnt': 'ACK Flag Count',\n",
    "    'URG Flag Count': 'URG Flag Count',\n",
    "    'URG Flag Cnt': 'URG Flag Count',\n",
    "    'CWE Flag Count': 'CWE Flag Count',\n",
    "    'CWE Flag Cnt': 'CWE Flag Count',\n",
    "    'ECE Flag Count': 'ECE Flag Count',\n",
    "    'ECE Flag Cnt': 'ECE Flag Count',\n",
    "    'Down/Up Ratio': 'Down/Up Ratio',\n",
    "    'Average Packet Size': 'Avg Packet Size',\n",
    "    'Pkt Size Avg': 'Avg Packet Size',\n",
    "    'Avg Fwd Segment Size': 'Avg Fwd Segment Size',\n",
    "    'Fwd Seg Size Avg': 'Avg Fwd Segment Size',\n",
    "    'Avg Bwd Segment Size': 'Avg Bwd Segment Size',\n",
    "    'Bwd Seg Size Avg': 'Avg Bwd Segment Size',\n",
    "    'Fwd Avg Bytes/Bulk': 'Fwd Avg Bytes/Bulk',\n",
    "    'Fwd Byts/b Avg': 'Fwd Avg Bytes/Bulk',\n",
    "    'Fwd Avg Packets/Bulk': 'Fwd Avg Packets/Bulk',\n",
    "    'Fwd Pkts/b Avg': 'Fwd Avg Packets/Bulk',\n",
    "    'Fwd Avg Bulk Rate': 'Fwd Avg Bulk Rate',\n",
    "    'Fwd Blk Rate Avg': 'Fwd Avg Bulk Rate',\n",
    "    'Bwd Avg Bytes/Bulk': 'Bwd Avg Bytes/Bulk',\n",
    "    'Bwd Byts/b Avg': 'Bwd Avg Bytes/Bulk',\n",
    "    'Bwd Avg Packets/Bulk': 'Bwd Avg Packets/Bulk',\n",
    "    'Bwd Pkts/b Avg': 'Bwd Avg Packets/Bulk',\n",
    "    'Bwd Avg Bulk Rate': 'Bwd Avg Bulk Rate',\n",
    "    'Bwd Blk Rate Avg': 'Bwd Avg Bulk Rate',\n",
    "    'Subflow Fwd Packets': 'Subflow Fwd Packets',\n",
    "    'Subflow Fwd Pkts': 'Subflow Fwd Packets',\n",
    "    'Subflow Fwd Bytes': 'Subflow Fwd Bytes',\n",
    "    'Subflow Fwd Byts': 'Subflow Fwd Bytes',\n",
    "    'Subflow Bwd Packets': 'Subflow Bwd Packets',\n",
    "    'Subflow Bwd Pkts': 'Subflow Bwd Packets',\n",
    "    'Subflow Bwd Bytes': 'Subflow Bwd Bytes',\n",
    "    'Subflow Bwd Byts': 'Subflow Bwd Bytes',\n",
    "    'Init_Win_bytes_forward': 'Init Fwd Win Bytes',\n",
    "    'Init Fwd Win Byts': 'Init Fwd Win Bytes',\n",
    "    'Init_Win_bytes_backward': 'Init Bwd Win Bytes',\n",
    "    'Init Bwd Win Byts': 'Init Bwd Win Bytes',\n",
    "    'act_data_pkt_fwd': 'Fwd Act Data Packets',\n",
    "    'Fwd Act Data Pkts': 'Fwd Act Data Packets',\n",
    "    'min_seg_size_forward': 'Fwd Seg Size Min',\n",
    "    'Fwd Seg Size Min': 'Fwd Seg Size Min',\n",
    "    'Active Mean': 'Active Mean',\n",
    "    'Active Std': 'Active Std',\n",
    "    'Active Max': 'Active Max',\n",
    "    'Active Min': 'Active Min',\n",
    "    'Idle Mean': 'Idle Mean',\n",
    "    'Idle Std': 'Idle Std',\n",
    "    'Idle Max': 'Idle Max',\n",
    "    'Idle Min': 'Idle Min',\n",
    "    'Label': 'Label'\n",
    "}"
   ],
   "metadata": {
    "collapsed": false
   }
  },
  {
   "cell_type": "markdown",
   "source": [
    "Following Columns may have little insignificance over model"
   ],
   "metadata": {
    "collapsed": false
   }
  },
  {
   "cell_type": "code",
   "execution_count": 91,
   "outputs": [
    {
     "data": {
      "text/plain": "14"
     },
     "execution_count": 91,
     "metadata": {},
     "output_type": "execute_result"
    }
   ],
   "source": [
    "drop_columns = [  # this list includes all spellings across CIC NIDS datasets\n",
    "    \"Flow ID\",\n",
    "    'Fwd Header Length.1',\n",
    "    \"Source IP\",\n",
    "    \"Src IP\",\n",
    "    \"Source Port\",\n",
    "    \"Src Port\",\n",
    "    \"Destination IP\",\n",
    "    \"Dst IP\",\n",
    "    \"Destination Port\",\n",
    "    \"Dst Port\",\n",
    "    \"Timestamp\",\n",
    "    \"Unnamed: 0\",\n",
    "    \"Inbound\",\n",
    "    \"SimillarHTTP\"  # CIC-DDoS other undocumented columns\n",
    "]\n",
    "len(drop_columns)  # src_port,dst_port, src_ip, dst_ip these are duplicate"
   ],
   "metadata": {
    "collapsed": false
   }
  },
  {
   "cell_type": "code",
   "execution_count": 92,
   "outputs": [
    {
     "name": "stdout",
     "output_type": "stream",
     "text": [
      "[name: \"/device:CPU:0\"\n",
      "device_type: \"CPU\"\n",
      "memory_limit: 268435456\n",
      "locality {\n",
      "}\n",
      "incarnation: 4462804882261809278\n",
      ", name: \"/device:GPU:0\"\n",
      "device_type: \"GPU\"\n",
      "memory_limit: 2966106932\n",
      "locality {\n",
      "  bus_id: 1\n",
      "  links {\n",
      "  }\n",
      "}\n",
      "incarnation: 8595016715663331115\n",
      "physical_device_desc: \"device: 0, name: NVIDIA GeForce 940MX, pci bus id: 0000:01:00.0, compute capability: 5.0\"\n",
      "]\n"
     ]
    },
    {
     "data": {
      "text/plain": "[PhysicalDevice(name='/physical_device:GPU:0', device_type='GPU')]"
     },
     "execution_count": 92,
     "metadata": {},
     "output_type": "execute_result"
    }
   ],
   "source": [
    "from tensorflow.python.client import device_lib\n",
    "\n",
    "print(device_lib.list_local_devices())\n",
    "tf.config.experimental.list_physical_devices('GPU')\n",
    "# import cudf\n",
    "# dtypes = {'SimillarHTTP': 'object'}\n",
    "# df_gpu = cudf.read_csv(path_TFTP, blocksize=50e6, low_memory=False, dtype=dtypes)"
   ],
   "metadata": {
    "collapsed": false
   }
  },
  {
   "cell_type": "code",
   "execution_count": 93,
   "outputs": [],
   "source": [
    "def readHugeCsvFileAsDataFrame(file_path):\n",
    "    # start = timer()\n",
    "    dtypes = {'SimillarHTTP': 'object',\n",
    "              'Timestamp': 'object',\n",
    "              'Source IP': 'str',\n",
    "              'Destination IP': 'str',\n",
    "              'Flow ID': 'object',\n",
    "              'Label': 'object',\n",
    "              }\n",
    "    for feature in [f'f_{i}' for i in range(82)]:\n",
    "        dtypes[feature] = \"float32\"\n",
    "\n",
    "    dask_df = dd.read_csv(file_path, low_memory=False, dtype=dtypes)  # 50MB chunk-size\n",
    "    # elapsed_time = timer() - start\n",
    "    # print(\"Read csv with dask: \", elapsed_time, \"sec\")\n",
    "    return dask_df.compute()"
   ],
   "metadata": {
    "collapsed": false
   }
  },
  {
   "cell_type": "code",
   "execution_count": 94,
   "outputs": [
    {
     "name": "stderr",
     "output_type": "stream",
     "text": [
      "C:\\Users\\Malware\\anaconda3\\envs\\ml_env\\lib\\site-packages\\distributed\\node.py:155: UserWarning: Port 8787 is already in use.\n",
      "Perhaps you already have a cluster running?\n",
      "Hosting the HTTP server on port 14104 instead\n",
      "  http_address[\"port\"], self.http_server.port\n"
     ]
    },
    {
     "data": {
      "text/plain": "<Client: 'tcp://127.0.0.1:14105' processes=4 threads=4, memory=8.47 GB>",
      "text/html": "<table style=\"border: 2px solid white;\">\n<tr>\n<td style=\"vertical-align: top; border: 0px solid white\">\n<h3 style=\"text-align: left;\">Client</h3>\n<ul style=\"text-align: left; list-style: none; margin: 0; padding: 0;\">\n  <li><b>Scheduler: </b>tcp://127.0.0.1:14105</li>\n  <li><b>Dashboard: </b><a href='http://127.0.0.1:14104/status' target='_blank'>http://127.0.0.1:14104/status</a></li>\n</ul>\n</td>\n<td style=\"vertical-align: top; border: 0px solid white\">\n<h3 style=\"text-align: left;\">Cluster</h3>\n<ul style=\"text-align: left; list-style:none; margin: 0; padding: 0;\">\n  <li><b>Workers: </b>4</li>\n  <li><b>Cores: </b>4</li>\n  <li><b>Memory: </b>8.47 GB</li>\n</ul>\n</td>\n</tr>\n</table>"
     },
     "execution_count": 94,
     "metadata": {},
     "output_type": "execute_result"
    }
   ],
   "source": [
    "scheduler = Client()\n",
    "scheduler"
   ],
   "metadata": {
    "collapsed": false
   }
  },
  {
   "cell_type": "markdown",
   "source": [
    "Without Scheduler (see the elapsed time to process)"
   ],
   "metadata": {
    "collapsed": false
   }
  },
  {
   "cell_type": "code",
   "execution_count": 95,
   "outputs": [
    {
     "name": "stdout",
     "output_type": "stream",
     "text": [
      "Wall time: 2min 12s\n"
     ]
    },
    {
     "data": {
      "text/plain": "       Unnamed: 0                               Flow ID   Source IP  \\\n0           21010         172.16.0.5-192.168.50.1-0-0-0  172.16.0.5   \n1           20932   172.16.0.5-192.168.50.1-900-1808-17  172.16.0.5   \n2           27876  172.16.0.5-192.168.50.1-900-58766-17  172.16.0.5   \n3           24270  172.16.0.5-192.168.50.1-900-35228-17  172.16.0.5   \n4            5109  172.16.0.5-192.168.50.1-900-44969-17  172.16.0.5   \n...           ...                                   ...         ...   \n50818        4277  172.16.0.5-192.168.50.1-846-44562-17  172.16.0.5   \n50819       20369     172.16.0.5-192.168.50.1-900-87-17  172.16.0.5   \n50820       33671   172.16.0.5-192.168.50.1-847-1622-17  172.16.0.5   \n50821        2167  172.16.0.5-192.168.50.1-848-16197-17  172.16.0.5   \n50822       15050   172.16.0.5-192.168.50.1-849-7758-17  172.16.0.5   \n\n        Source Port  Destination IP   Destination Port   Protocol  \\\n0                 0    192.168.50.1                  0          0   \n1               900    192.168.50.1               1808         17   \n2               900    192.168.50.1              58766         17   \n3               900    192.168.50.1              35228         17   \n4               900    192.168.50.1              44969         17   \n...             ...             ...                ...        ...   \n50818           846    192.168.50.1              44562         17   \n50819           900    192.168.50.1                 87         17   \n50820           847    192.168.50.1               1622         17   \n50821           848    192.168.50.1              16197         17   \n50822           849    192.168.50.1               7758         17   \n\n                        Timestamp   Flow Duration   Total Fwd Packets  ...  \\\n0      2018-12-01 11:22:40.254769         9141643               85894  ...   \n1      2018-12-01 11:22:40.255361               1                   2  ...   \n2      2018-12-01 11:22:40.255568               2                   2  ...   \n3      2018-12-01 11:22:40.256113               1                   2  ...   \n4      2018-12-01 11:22:40.256285               2                   2  ...   \n...                           ...             ...                 ...  ...   \n50818  2018-12-01 11:32:32.914224               1                   2  ...   \n50819  2018-12-01 11:32:32.914273               1                   2  ...   \n50820  2018-12-01 11:32:32.914438               1                   2  ...   \n50821  2018-12-01 11:32:32.915067               1                   2  ...   \n50822  2018-12-01 11:32:32.915361               1                   2  ...   \n\n        Active Std   Active Max   Active Min  Idle Mean   Idle Std   Idle Max  \\\n0              0.0          0.0          0.0        0.0        0.0        0.0   \n1              0.0          0.0          0.0        0.0        0.0        0.0   \n2              0.0          0.0          0.0        0.0        0.0        0.0   \n3              0.0          0.0          0.0        0.0        0.0        0.0   \n4              0.0          0.0          0.0        0.0        0.0        0.0   \n...            ...          ...          ...        ...        ...        ...   \n50818          0.0          0.0          0.0        0.0        0.0        0.0   \n50819          0.0          0.0          0.0        0.0        0.0        0.0   \n50820          0.0          0.0          0.0        0.0        0.0        0.0   \n50821          0.0          0.0          0.0        0.0        0.0        0.0   \n50822          0.0          0.0          0.0        0.0        0.0        0.0   \n\n        Idle Min  SimillarHTTP   Inbound       Label  \n0            0.0             0         1  DrDoS_LDAP  \n1            0.0             0         1  DrDoS_LDAP  \n2            0.0             0         1  DrDoS_LDAP  \n3            0.0             0         1  DrDoS_LDAP  \n4            0.0             0         1  DrDoS_LDAP  \n...          ...           ...       ...         ...  \n50818        0.0             0         1  DrDoS_LDAP  \n50819        0.0             0         1  DrDoS_LDAP  \n50820        0.0             0         1  DrDoS_LDAP  \n50821        0.0             0         1  DrDoS_LDAP  \n50822        0.0             0         1  DrDoS_LDAP  \n\n[2181542 rows x 88 columns]",
      "text/html": "<div>\n<style scoped>\n    .dataframe tbody tr th:only-of-type {\n        vertical-align: middle;\n    }\n\n    .dataframe tbody tr th {\n        vertical-align: top;\n    }\n\n    .dataframe thead th {\n        text-align: right;\n    }\n</style>\n<table border=\"1\" class=\"dataframe\">\n  <thead>\n    <tr style=\"text-align: right;\">\n      <th></th>\n      <th>Unnamed: 0</th>\n      <th>Flow ID</th>\n      <th>Source IP</th>\n      <th>Source Port</th>\n      <th>Destination IP</th>\n      <th>Destination Port</th>\n      <th>Protocol</th>\n      <th>Timestamp</th>\n      <th>Flow Duration</th>\n      <th>Total Fwd Packets</th>\n      <th>...</th>\n      <th>Active Std</th>\n      <th>Active Max</th>\n      <th>Active Min</th>\n      <th>Idle Mean</th>\n      <th>Idle Std</th>\n      <th>Idle Max</th>\n      <th>Idle Min</th>\n      <th>SimillarHTTP</th>\n      <th>Inbound</th>\n      <th>Label</th>\n    </tr>\n  </thead>\n  <tbody>\n    <tr>\n      <th>0</th>\n      <td>21010</td>\n      <td>172.16.0.5-192.168.50.1-0-0-0</td>\n      <td>172.16.0.5</td>\n      <td>0</td>\n      <td>192.168.50.1</td>\n      <td>0</td>\n      <td>0</td>\n      <td>2018-12-01 11:22:40.254769</td>\n      <td>9141643</td>\n      <td>85894</td>\n      <td>...</td>\n      <td>0.0</td>\n      <td>0.0</td>\n      <td>0.0</td>\n      <td>0.0</td>\n      <td>0.0</td>\n      <td>0.0</td>\n      <td>0.0</td>\n      <td>0</td>\n      <td>1</td>\n      <td>DrDoS_LDAP</td>\n    </tr>\n    <tr>\n      <th>1</th>\n      <td>20932</td>\n      <td>172.16.0.5-192.168.50.1-900-1808-17</td>\n      <td>172.16.0.5</td>\n      <td>900</td>\n      <td>192.168.50.1</td>\n      <td>1808</td>\n      <td>17</td>\n      <td>2018-12-01 11:22:40.255361</td>\n      <td>1</td>\n      <td>2</td>\n      <td>...</td>\n      <td>0.0</td>\n      <td>0.0</td>\n      <td>0.0</td>\n      <td>0.0</td>\n      <td>0.0</td>\n      <td>0.0</td>\n      <td>0.0</td>\n      <td>0</td>\n      <td>1</td>\n      <td>DrDoS_LDAP</td>\n    </tr>\n    <tr>\n      <th>2</th>\n      <td>27876</td>\n      <td>172.16.0.5-192.168.50.1-900-58766-17</td>\n      <td>172.16.0.5</td>\n      <td>900</td>\n      <td>192.168.50.1</td>\n      <td>58766</td>\n      <td>17</td>\n      <td>2018-12-01 11:22:40.255568</td>\n      <td>2</td>\n      <td>2</td>\n      <td>...</td>\n      <td>0.0</td>\n      <td>0.0</td>\n      <td>0.0</td>\n      <td>0.0</td>\n      <td>0.0</td>\n      <td>0.0</td>\n      <td>0.0</td>\n      <td>0</td>\n      <td>1</td>\n      <td>DrDoS_LDAP</td>\n    </tr>\n    <tr>\n      <th>3</th>\n      <td>24270</td>\n      <td>172.16.0.5-192.168.50.1-900-35228-17</td>\n      <td>172.16.0.5</td>\n      <td>900</td>\n      <td>192.168.50.1</td>\n      <td>35228</td>\n      <td>17</td>\n      <td>2018-12-01 11:22:40.256113</td>\n      <td>1</td>\n      <td>2</td>\n      <td>...</td>\n      <td>0.0</td>\n      <td>0.0</td>\n      <td>0.0</td>\n      <td>0.0</td>\n      <td>0.0</td>\n      <td>0.0</td>\n      <td>0.0</td>\n      <td>0</td>\n      <td>1</td>\n      <td>DrDoS_LDAP</td>\n    </tr>\n    <tr>\n      <th>4</th>\n      <td>5109</td>\n      <td>172.16.0.5-192.168.50.1-900-44969-17</td>\n      <td>172.16.0.5</td>\n      <td>900</td>\n      <td>192.168.50.1</td>\n      <td>44969</td>\n      <td>17</td>\n      <td>2018-12-01 11:22:40.256285</td>\n      <td>2</td>\n      <td>2</td>\n      <td>...</td>\n      <td>0.0</td>\n      <td>0.0</td>\n      <td>0.0</td>\n      <td>0.0</td>\n      <td>0.0</td>\n      <td>0.0</td>\n      <td>0.0</td>\n      <td>0</td>\n      <td>1</td>\n      <td>DrDoS_LDAP</td>\n    </tr>\n    <tr>\n      <th>...</th>\n      <td>...</td>\n      <td>...</td>\n      <td>...</td>\n      <td>...</td>\n      <td>...</td>\n      <td>...</td>\n      <td>...</td>\n      <td>...</td>\n      <td>...</td>\n      <td>...</td>\n      <td>...</td>\n      <td>...</td>\n      <td>...</td>\n      <td>...</td>\n      <td>...</td>\n      <td>...</td>\n      <td>...</td>\n      <td>...</td>\n      <td>...</td>\n      <td>...</td>\n      <td>...</td>\n    </tr>\n    <tr>\n      <th>50818</th>\n      <td>4277</td>\n      <td>172.16.0.5-192.168.50.1-846-44562-17</td>\n      <td>172.16.0.5</td>\n      <td>846</td>\n      <td>192.168.50.1</td>\n      <td>44562</td>\n      <td>17</td>\n      <td>2018-12-01 11:32:32.914224</td>\n      <td>1</td>\n      <td>2</td>\n      <td>...</td>\n      <td>0.0</td>\n      <td>0.0</td>\n      <td>0.0</td>\n      <td>0.0</td>\n      <td>0.0</td>\n      <td>0.0</td>\n      <td>0.0</td>\n      <td>0</td>\n      <td>1</td>\n      <td>DrDoS_LDAP</td>\n    </tr>\n    <tr>\n      <th>50819</th>\n      <td>20369</td>\n      <td>172.16.0.5-192.168.50.1-900-87-17</td>\n      <td>172.16.0.5</td>\n      <td>900</td>\n      <td>192.168.50.1</td>\n      <td>87</td>\n      <td>17</td>\n      <td>2018-12-01 11:32:32.914273</td>\n      <td>1</td>\n      <td>2</td>\n      <td>...</td>\n      <td>0.0</td>\n      <td>0.0</td>\n      <td>0.0</td>\n      <td>0.0</td>\n      <td>0.0</td>\n      <td>0.0</td>\n      <td>0.0</td>\n      <td>0</td>\n      <td>1</td>\n      <td>DrDoS_LDAP</td>\n    </tr>\n    <tr>\n      <th>50820</th>\n      <td>33671</td>\n      <td>172.16.0.5-192.168.50.1-847-1622-17</td>\n      <td>172.16.0.5</td>\n      <td>847</td>\n      <td>192.168.50.1</td>\n      <td>1622</td>\n      <td>17</td>\n      <td>2018-12-01 11:32:32.914438</td>\n      <td>1</td>\n      <td>2</td>\n      <td>...</td>\n      <td>0.0</td>\n      <td>0.0</td>\n      <td>0.0</td>\n      <td>0.0</td>\n      <td>0.0</td>\n      <td>0.0</td>\n      <td>0.0</td>\n      <td>0</td>\n      <td>1</td>\n      <td>DrDoS_LDAP</td>\n    </tr>\n    <tr>\n      <th>50821</th>\n      <td>2167</td>\n      <td>172.16.0.5-192.168.50.1-848-16197-17</td>\n      <td>172.16.0.5</td>\n      <td>848</td>\n      <td>192.168.50.1</td>\n      <td>16197</td>\n      <td>17</td>\n      <td>2018-12-01 11:32:32.915067</td>\n      <td>1</td>\n      <td>2</td>\n      <td>...</td>\n      <td>0.0</td>\n      <td>0.0</td>\n      <td>0.0</td>\n      <td>0.0</td>\n      <td>0.0</td>\n      <td>0.0</td>\n      <td>0.0</td>\n      <td>0</td>\n      <td>1</td>\n      <td>DrDoS_LDAP</td>\n    </tr>\n    <tr>\n      <th>50822</th>\n      <td>15050</td>\n      <td>172.16.0.5-192.168.50.1-849-7758-17</td>\n      <td>172.16.0.5</td>\n      <td>849</td>\n      <td>192.168.50.1</td>\n      <td>7758</td>\n      <td>17</td>\n      <td>2018-12-01 11:32:32.915361</td>\n      <td>1</td>\n      <td>2</td>\n      <td>...</td>\n      <td>0.0</td>\n      <td>0.0</td>\n      <td>0.0</td>\n      <td>0.0</td>\n      <td>0.0</td>\n      <td>0.0</td>\n      <td>0.0</td>\n      <td>0</td>\n      <td>1</td>\n      <td>DrDoS_LDAP</td>\n    </tr>\n  </tbody>\n</table>\n<p>2181542 rows × 88 columns</p>\n</div>"
     },
     "execution_count": 95,
     "metadata": {},
     "output_type": "execute_result"
    }
   ],
   "source": [
    "%%time\n",
    "# workingDataFrame = readHugeCsvFileAsDataFrame(path_UDPLag)\n",
    "# workingDataFrame = readHugeCsvFileAsDataFrame(path_Syn)\n",
    "# workingDataFrame = readHugeCsvFileAsDataFrame(path_DdoS_NTP)\n",
    "workingDataFrame = readHugeCsvFileAsDataFrame(path_DdoS_LDAP)\n",
    "# workingDataFrame.describe()\n",
    "workingDataFrame"
   ],
   "metadata": {
    "collapsed": false
   }
  },
  {
   "cell_type": "markdown",
   "source": [
    "With Scheduler (see the elapsed time to process)"
   ],
   "metadata": {
    "collapsed": false
   }
  },
  {
   "cell_type": "markdown",
   "source": [
    "%%time\n",
    "workingDataFrame = scheduler.submit(readHugeCsvFileAsDataFrame, path_UDPLag)\n",
    "df = workingDataFrame.result()\n",
    "df"
   ],
   "metadata": {
    "collapsed": false
   }
  },
  {
   "cell_type": "code",
   "execution_count": 96,
   "outputs": [
    {
     "data": {
      "text/plain": "Index(['Unnamed: 0', 'Flow ID', ' Source IP', ' Source Port',\n       ' Destination IP', ' Destination Port', ' Protocol', ' Timestamp',\n       ' Flow Duration', ' Total Fwd Packets', ' Total Backward Packets',\n       'Total Length of Fwd Packets', ' Total Length of Bwd Packets',\n       ' Fwd Packet Length Max', ' Fwd Packet Length Min',\n       ' Fwd Packet Length Mean', ' Fwd Packet Length Std',\n       'Bwd Packet Length Max', ' Bwd Packet Length Min',\n       ' Bwd Packet Length Mean', ' Bwd Packet Length Std', 'Flow Bytes/s',\n       ' Flow Packets/s', ' Flow IAT Mean', ' Flow IAT Std', ' Flow IAT Max',\n       ' Flow IAT Min', 'Fwd IAT Total', ' Fwd IAT Mean', ' Fwd IAT Std',\n       ' Fwd IAT Max', ' Fwd IAT Min', 'Bwd IAT Total', ' Bwd IAT Mean',\n       ' Bwd IAT Std', ' Bwd IAT Max', ' Bwd IAT Min', 'Fwd PSH Flags',\n       ' Bwd PSH Flags', ' Fwd URG Flags', ' Bwd URG Flags',\n       ' Fwd Header Length', ' Bwd Header Length', 'Fwd Packets/s',\n       ' Bwd Packets/s', ' Min Packet Length', ' Max Packet Length',\n       ' Packet Length Mean', ' Packet Length Std', ' Packet Length Variance',\n       'FIN Flag Count', ' SYN Flag Count', ' RST Flag Count',\n       ' PSH Flag Count', ' ACK Flag Count', ' URG Flag Count',\n       ' CWE Flag Count', ' ECE Flag Count', ' Down/Up Ratio',\n       ' Average Packet Size', ' Avg Fwd Segment Size',\n       ' Avg Bwd Segment Size', ' Fwd Header Length.1', 'Fwd Avg Bytes/Bulk',\n       ' Fwd Avg Packets/Bulk', ' Fwd Avg Bulk Rate', ' Bwd Avg Bytes/Bulk',\n       ' Bwd Avg Packets/Bulk', 'Bwd Avg Bulk Rate', 'Subflow Fwd Packets',\n       ' Subflow Fwd Bytes', ' Subflow Bwd Packets', ' Subflow Bwd Bytes',\n       'Init_Win_bytes_forward', ' Init_Win_bytes_backward',\n       ' act_data_pkt_fwd', ' min_seg_size_forward', 'Active Mean',\n       ' Active Std', ' Active Max', ' Active Min', 'Idle Mean', ' Idle Std',\n       ' Idle Max', ' Idle Min', 'SimillarHTTP', ' Inbound', ' Label'],\n      dtype='object')"
     },
     "execution_count": 96,
     "metadata": {},
     "output_type": "execute_result"
    }
   ],
   "source": [
    "workingDataFrame.columns"
   ],
   "metadata": {
    "collapsed": false
   }
  },
  {
   "cell_type": "code",
   "execution_count": 97,
   "outputs": [
    {
     "data": {
      "text/plain": "Unnamed: 0         0\nFlow ID            0\n Source IP         0\n Source Port       0\n Destination IP    0\n                  ..\n Idle Max          0\n Idle Min          0\nSimillarHTTP       0\n Inbound           0\n Label             0\nLength: 88, dtype: int64"
     },
     "execution_count": 97,
     "metadata": {},
     "output_type": "execute_result"
    }
   ],
   "source": [
    "workingDataFrame.isnull().sum()"
   ],
   "metadata": {
    "collapsed": false
   }
  },
  {
   "cell_type": "markdown",
   "source": [
    "Dropping Unnecessary Features"
   ],
   "metadata": {
    "collapsed": false
   }
  },
  {
   "cell_type": "code",
   "execution_count": 98,
   "outputs": [
    {
     "data": {
      "text/plain": "   Protocol  Flow Duration  Total Fwd Packets  Total Backward Packets  \\\n0         0        9141643              85894                      28   \n1        17              1                  2                       0   \n2        17              2                  2                       0   \n3        17              1                  2                       0   \n4        17              2                  2                       0   \n\n   Fwd Packets Length Total  Bwd Packets Length Total  Fwd Packet Length Max  \\\n0                       0.0                       0.0                    0.0   \n1                    2944.0                       0.0                 1472.0   \n2                    2944.0                       0.0                 1472.0   \n3                    2944.0                       0.0                 1472.0   \n4                    2944.0                       0.0                 1472.0   \n\n   Fwd Packet Length Min  Fwd Packet Length Mean  Fwd Packet Length Std  ...  \\\n0                    0.0                     0.0                    0.0  ...   \n1                 1472.0                  1472.0                    0.0  ...   \n2                 1472.0                  1472.0                    0.0  ...   \n3                 1472.0                  1472.0                    0.0  ...   \n4                 1472.0                  1472.0                    0.0  ...   \n\n   Fwd Seg Size Min  Active Mean  Active Std  Active Max  Active Min  \\\n0                 0          0.0         0.0         0.0         0.0   \n1                -1          0.0         0.0         0.0         0.0   \n2                -1          0.0         0.0         0.0         0.0   \n3                -1          0.0         0.0         0.0         0.0   \n4                -1          0.0         0.0         0.0         0.0   \n\n   Idle Mean  Idle Std  Idle Max  Idle Min       Label  \n0        0.0       0.0       0.0       0.0  DrDoS_LDAP  \n1        0.0       0.0       0.0       0.0  DrDoS_LDAP  \n2        0.0       0.0       0.0       0.0  DrDoS_LDAP  \n3        0.0       0.0       0.0       0.0  DrDoS_LDAP  \n4        0.0       0.0       0.0       0.0  DrDoS_LDAP  \n\n[5 rows x 78 columns]",
      "text/html": "<div>\n<style scoped>\n    .dataframe tbody tr th:only-of-type {\n        vertical-align: middle;\n    }\n\n    .dataframe tbody tr th {\n        vertical-align: top;\n    }\n\n    .dataframe thead th {\n        text-align: right;\n    }\n</style>\n<table border=\"1\" class=\"dataframe\">\n  <thead>\n    <tr style=\"text-align: right;\">\n      <th></th>\n      <th>Protocol</th>\n      <th>Flow Duration</th>\n      <th>Total Fwd Packets</th>\n      <th>Total Backward Packets</th>\n      <th>Fwd Packets Length Total</th>\n      <th>Bwd Packets Length Total</th>\n      <th>Fwd Packet Length Max</th>\n      <th>Fwd Packet Length Min</th>\n      <th>Fwd Packet Length Mean</th>\n      <th>Fwd Packet Length Std</th>\n      <th>...</th>\n      <th>Fwd Seg Size Min</th>\n      <th>Active Mean</th>\n      <th>Active Std</th>\n      <th>Active Max</th>\n      <th>Active Min</th>\n      <th>Idle Mean</th>\n      <th>Idle Std</th>\n      <th>Idle Max</th>\n      <th>Idle Min</th>\n      <th>Label</th>\n    </tr>\n  </thead>\n  <tbody>\n    <tr>\n      <th>0</th>\n      <td>0</td>\n      <td>9141643</td>\n      <td>85894</td>\n      <td>28</td>\n      <td>0.0</td>\n      <td>0.0</td>\n      <td>0.0</td>\n      <td>0.0</td>\n      <td>0.0</td>\n      <td>0.0</td>\n      <td>...</td>\n      <td>0</td>\n      <td>0.0</td>\n      <td>0.0</td>\n      <td>0.0</td>\n      <td>0.0</td>\n      <td>0.0</td>\n      <td>0.0</td>\n      <td>0.0</td>\n      <td>0.0</td>\n      <td>DrDoS_LDAP</td>\n    </tr>\n    <tr>\n      <th>1</th>\n      <td>17</td>\n      <td>1</td>\n      <td>2</td>\n      <td>0</td>\n      <td>2944.0</td>\n      <td>0.0</td>\n      <td>1472.0</td>\n      <td>1472.0</td>\n      <td>1472.0</td>\n      <td>0.0</td>\n      <td>...</td>\n      <td>-1</td>\n      <td>0.0</td>\n      <td>0.0</td>\n      <td>0.0</td>\n      <td>0.0</td>\n      <td>0.0</td>\n      <td>0.0</td>\n      <td>0.0</td>\n      <td>0.0</td>\n      <td>DrDoS_LDAP</td>\n    </tr>\n    <tr>\n      <th>2</th>\n      <td>17</td>\n      <td>2</td>\n      <td>2</td>\n      <td>0</td>\n      <td>2944.0</td>\n      <td>0.0</td>\n      <td>1472.0</td>\n      <td>1472.0</td>\n      <td>1472.0</td>\n      <td>0.0</td>\n      <td>...</td>\n      <td>-1</td>\n      <td>0.0</td>\n      <td>0.0</td>\n      <td>0.0</td>\n      <td>0.0</td>\n      <td>0.0</td>\n      <td>0.0</td>\n      <td>0.0</td>\n      <td>0.0</td>\n      <td>DrDoS_LDAP</td>\n    </tr>\n    <tr>\n      <th>3</th>\n      <td>17</td>\n      <td>1</td>\n      <td>2</td>\n      <td>0</td>\n      <td>2944.0</td>\n      <td>0.0</td>\n      <td>1472.0</td>\n      <td>1472.0</td>\n      <td>1472.0</td>\n      <td>0.0</td>\n      <td>...</td>\n      <td>-1</td>\n      <td>0.0</td>\n      <td>0.0</td>\n      <td>0.0</td>\n      <td>0.0</td>\n      <td>0.0</td>\n      <td>0.0</td>\n      <td>0.0</td>\n      <td>0.0</td>\n      <td>DrDoS_LDAP</td>\n    </tr>\n    <tr>\n      <th>4</th>\n      <td>17</td>\n      <td>2</td>\n      <td>2</td>\n      <td>0</td>\n      <td>2944.0</td>\n      <td>0.0</td>\n      <td>1472.0</td>\n      <td>1472.0</td>\n      <td>1472.0</td>\n      <td>0.0</td>\n      <td>...</td>\n      <td>-1</td>\n      <td>0.0</td>\n      <td>0.0</td>\n      <td>0.0</td>\n      <td>0.0</td>\n      <td>0.0</td>\n      <td>0.0</td>\n      <td>0.0</td>\n      <td>0.0</td>\n      <td>DrDoS_LDAP</td>\n    </tr>\n  </tbody>\n</table>\n<p>5 rows × 78 columns</p>\n</div>"
     },
     "execution_count": 98,
     "metadata": {},
     "output_type": "execute_result"
    }
   ],
   "source": [
    "workingDataFrame.columns = workingDataFrame.columns.str.strip()  # sometimes there's leading / trailing whitespace\n",
    "workingDataFrame.drop(columns=drop_columns, inplace=True, errors='ignore')\n",
    "workingDataFrame.rename(columns=col_name_consistency, inplace=True)\n",
    "\n",
    "workingDataFrame.head()"
   ],
   "metadata": {
    "collapsed": false
   }
  },
  {
   "cell_type": "code",
   "execution_count": 99,
   "outputs": [
    {
     "name": "stdout",
     "output_type": "stream",
     "text": [
      "<class 'pandas.core.frame.DataFrame'>\n",
      "Int64Index: 2181542 entries, 0 to 50822\n",
      "Data columns (total 78 columns):\n",
      " #   Column                    Dtype  \n",
      "---  ------                    -----  \n",
      " 0   Protocol                  int64  \n",
      " 1   Flow Duration             int64  \n",
      " 2   Total Fwd Packets         int64  \n",
      " 3   Total Backward Packets    int64  \n",
      " 4   Fwd Packets Length Total  float64\n",
      " 5   Bwd Packets Length Total  float64\n",
      " 6   Fwd Packet Length Max     float64\n",
      " 7   Fwd Packet Length Min     float64\n",
      " 8   Fwd Packet Length Mean    float64\n",
      " 9   Fwd Packet Length Std     float64\n",
      " 10  Bwd Packet Length Max     float64\n",
      " 11  Bwd Packet Length Min     float64\n",
      " 12  Bwd Packet Length Mean    float64\n",
      " 13  Bwd Packet Length Std     float64\n",
      " 14  Flow Bytes/s              float64\n",
      " 15  Flow Packets/s            float64\n",
      " 16  Flow IAT Mean             float64\n",
      " 17  Flow IAT Std              float64\n",
      " 18  Flow IAT Max              float64\n",
      " 19  Flow IAT Min              float64\n",
      " 20  Fwd IAT Total             float64\n",
      " 21  Fwd IAT Mean              float64\n",
      " 22  Fwd IAT Std               float64\n",
      " 23  Fwd IAT Max               float64\n",
      " 24  Fwd IAT Min               float64\n",
      " 25  Bwd IAT Total             float64\n",
      " 26  Bwd IAT Mean              float64\n",
      " 27  Bwd IAT Std               float64\n",
      " 28  Bwd IAT Max               float64\n",
      " 29  Bwd IAT Min               float64\n",
      " 30  Fwd PSH Flags             int64  \n",
      " 31  Bwd PSH Flags             int64  \n",
      " 32  Fwd URG Flags             int64  \n",
      " 33  Bwd URG Flags             int64  \n",
      " 34  Fwd Header Length         int64  \n",
      " 35  Bwd Header Length         int64  \n",
      " 36  Fwd Packets/s             float64\n",
      " 37  Bwd Packets/s             float64\n",
      " 38  Packet Length Min         float64\n",
      " 39  Packet Length Max         float64\n",
      " 40  Packet Length Mean        float64\n",
      " 41  Packet Length Std         float64\n",
      " 42  Packet Length Variance    float64\n",
      " 43  FIN Flag Count            int64  \n",
      " 44  SYN Flag Count            int64  \n",
      " 45  RST Flag Count            int64  \n",
      " 46  PSH Flag Count            int64  \n",
      " 47  ACK Flag Count            int64  \n",
      " 48  URG Flag Count            int64  \n",
      " 49  CWE Flag Count            int64  \n",
      " 50  ECE Flag Count            int64  \n",
      " 51  Down/Up Ratio             float64\n",
      " 52  Avg Packet Size           float64\n",
      " 53  Avg Fwd Segment Size      float64\n",
      " 54  Avg Bwd Segment Size      float64\n",
      " 55  Fwd Avg Bytes/Bulk        int64  \n",
      " 56  Fwd Avg Packets/Bulk      int64  \n",
      " 57  Fwd Avg Bulk Rate         int64  \n",
      " 58  Bwd Avg Bytes/Bulk        int64  \n",
      " 59  Bwd Avg Packets/Bulk      int64  \n",
      " 60  Bwd Avg Bulk Rate         int64  \n",
      " 61  Subflow Fwd Packets       int64  \n",
      " 62  Subflow Fwd Bytes         int64  \n",
      " 63  Subflow Bwd Packets       int64  \n",
      " 64  Subflow Bwd Bytes         int64  \n",
      " 65  Init Fwd Win Bytes        int64  \n",
      " 66  Init Bwd Win Bytes        int64  \n",
      " 67  Fwd Act Data Packets      int64  \n",
      " 68  Fwd Seg Size Min          int64  \n",
      " 69  Active Mean               float64\n",
      " 70  Active Std                float64\n",
      " 71  Active Max                float64\n",
      " 72  Active Min                float64\n",
      " 73  Idle Mean                 float64\n",
      " 74  Idle Std                  float64\n",
      " 75  Idle Max                  float64\n",
      " 76  Idle Min                  float64\n",
      " 77  Label                     object \n",
      "dtypes: float64(45), int64(32), object(1)\n",
      "memory usage: 1.4 GB\n"
     ]
    }
   ],
   "source": [
    "# workingDataFrame.dtypes\n",
    "workingDataFrame.info(memory_usage=\"deep\")"
   ],
   "metadata": {
    "collapsed": false
   }
  },
  {
   "cell_type": "markdown",
   "source": [
    "Data Cleaning Based on Data Types (DownSizing)"
   ],
   "metadata": {
    "collapsed": false
   }
  },
  {
   "cell_type": "code",
   "execution_count": 100,
   "outputs": [
    {
     "name": "stdout",
     "output_type": "stream",
     "text": [
      "<class 'pandas.core.frame.DataFrame'>\n",
      "Int64Index: 2181542 entries, 0 to 50822\n",
      "Data columns (total 78 columns):\n",
      " #   Column                    Dtype  \n",
      "---  ------                    -----  \n",
      " 0   Protocol                  int8   \n",
      " 1   Flow Duration             int32  \n",
      " 2   Total Fwd Packets         int32  \n",
      " 3   Total Backward Packets    int16  \n",
      " 4   Fwd Packets Length Total  float32\n",
      " 5   Bwd Packets Length Total  float32\n",
      " 6   Fwd Packet Length Max     float32\n",
      " 7   Fwd Packet Length Min     float32\n",
      " 8   Fwd Packet Length Mean    float32\n",
      " 9   Fwd Packet Length Std     float32\n",
      " 10  Bwd Packet Length Max     float32\n",
      " 11  Bwd Packet Length Min     float32\n",
      " 12  Bwd Packet Length Mean    float32\n",
      " 13  Bwd Packet Length Std     float32\n",
      " 14  Flow Bytes/s              float32\n",
      " 15  Flow Packets/s            float32\n",
      " 16  Flow IAT Mean             float32\n",
      " 17  Flow IAT Std              float32\n",
      " 18  Flow IAT Max              float32\n",
      " 19  Flow IAT Min              float32\n",
      " 20  Fwd IAT Total             float32\n",
      " 21  Fwd IAT Mean              float32\n",
      " 22  Fwd IAT Std               float32\n",
      " 23  Fwd IAT Max               float32\n",
      " 24  Fwd IAT Min               float32\n",
      " 25  Bwd IAT Total             float32\n",
      " 26  Bwd IAT Mean              float32\n",
      " 27  Bwd IAT Std               float32\n",
      " 28  Bwd IAT Max               float32\n",
      " 29  Bwd IAT Min               float32\n",
      " 30  Fwd PSH Flags             int8   \n",
      " 31  Bwd PSH Flags             int8   \n",
      " 32  Fwd URG Flags             int8   \n",
      " 33  Bwd URG Flags             int8   \n",
      " 34  Fwd Header Length         int64  \n",
      " 35  Bwd Header Length         int32  \n",
      " 36  Fwd Packets/s             float32\n",
      " 37  Bwd Packets/s             float32\n",
      " 38  Packet Length Min         float32\n",
      " 39  Packet Length Max         float32\n",
      " 40  Packet Length Mean        float32\n",
      " 41  Packet Length Std         float32\n",
      " 42  Packet Length Variance    float32\n",
      " 43  FIN Flag Count            int8   \n",
      " 44  SYN Flag Count            int8   \n",
      " 45  RST Flag Count            int8   \n",
      " 46  PSH Flag Count            int8   \n",
      " 47  ACK Flag Count            int8   \n",
      " 48  URG Flag Count            int8   \n",
      " 49  CWE Flag Count            int8   \n",
      " 50  ECE Flag Count            int8   \n",
      " 51  Down/Up Ratio             float32\n",
      " 52  Avg Packet Size           float32\n",
      " 53  Avg Fwd Segment Size      float32\n",
      " 54  Avg Bwd Segment Size      float32\n",
      " 55  Fwd Avg Bytes/Bulk        int8   \n",
      " 56  Fwd Avg Packets/Bulk      int8   \n",
      " 57  Fwd Avg Bulk Rate         int8   \n",
      " 58  Bwd Avg Bytes/Bulk        int8   \n",
      " 59  Bwd Avg Packets/Bulk      int8   \n",
      " 60  Bwd Avg Bulk Rate         int8   \n",
      " 61  Subflow Fwd Packets       int32  \n",
      " 62  Subflow Fwd Bytes         int32  \n",
      " 63  Subflow Bwd Packets       int16  \n",
      " 64  Subflow Bwd Bytes         int32  \n",
      " 65  Init Fwd Win Bytes        int32  \n",
      " 66  Init Bwd Win Bytes        int32  \n",
      " 67  Fwd Act Data Packets      int8   \n",
      " 68  Fwd Seg Size Min          int32  \n",
      " 69  Active Mean               float32\n",
      " 70  Active Std                float32\n",
      " 71  Active Max                float32\n",
      " 72  Active Min                float32\n",
      " 73  Idle Mean                 float32\n",
      " 74  Idle Std                  float32\n",
      " 75  Idle Max                  float32\n",
      " 76  Idle Min                  float32\n",
      " 77  Label                     object \n",
      "dtypes: float32(45), int16(2), int32(9), int64(1), int8(20), object(1)\n",
      "memory usage: 672.0 MB\n"
     ]
    }
   ],
   "source": [
    "for column in workingDataFrame:\n",
    "    if workingDataFrame[column].dtype == 'float64':\n",
    "        workingDataFrame[column] = pd.to_numeric(workingDataFrame[column], downcast='float')\n",
    "    if workingDataFrame[column].dtype == 'int64':\n",
    "        workingDataFrame[column] = pd.to_numeric(workingDataFrame[column], downcast='integer')\n",
    "\n",
    "workingDataFrame.info(memory_usage=\"deep\")"
   ],
   "metadata": {
    "collapsed": false
   }
  },
  {
   "cell_type": "markdown",
   "source": [
    "Removing NaN values"
   ],
   "metadata": {
    "collapsed": false
   }
  },
  {
   "cell_type": "code",
   "execution_count": 101,
   "outputs": [
    {
     "data": {
      "text/plain": "12"
     },
     "execution_count": 101,
     "metadata": {},
     "output_type": "execute_result"
    }
   ],
   "source": [
    "workingDataFrame.isna().any(axis=1).sum()"
   ],
   "metadata": {
    "collapsed": false
   }
  },
  {
   "cell_type": "code",
   "execution_count": 102,
   "outputs": [],
   "source": [
    "workingDataFrame.replace([np.inf, -np.inf], np.nan, inplace=True)\n",
    "workingDataFrame.dropna(inplace=True)"
   ],
   "metadata": {
    "collapsed": false
   }
  },
  {
   "cell_type": "markdown",
   "source": [
    "After Dropping NaN values, want to see total rows.\n",
    "That's why, Converting pandas dataFrame into dask's dataFrame"
   ],
   "metadata": {
    "collapsed": false
   }
  },
  {
   "cell_type": "code",
   "execution_count": 103,
   "outputs": [
    {
     "data": {
      "text/plain": "        Protocol  Flow Duration  Total Fwd Packets  Total Backward Packets  \\\n0              0        9141643              85894                      28   \n0             17              2                  2                       0   \n0             17              1                  2                       0   \n0             17              2                  2                       0   \n0             17              1                  2                       0   \n...          ...            ...                ...                     ...   \n152420        17              2                  2                       0   \n152421        17              1                  2                       0   \n152422        17              2                  2                       0   \n152423        17              1                  2                       0   \n152424        17              1                  2                       0   \n\n        Fwd Packets Length Total  Bwd Packets Length Total  \\\n0                            0.0                       0.0   \n0                         2944.0                       0.0   \n0                         2896.0                       0.0   \n0                         2944.0                       0.0   \n0                         2944.0                       0.0   \n...                          ...                       ...   \n152420                    2944.0                       0.0   \n152421                    2912.0                       0.0   \n152422                    2944.0                       0.0   \n152423                    2944.0                       0.0   \n152424                    2944.0                       0.0   \n\n        Fwd Packet Length Max  Fwd Packet Length Min  Fwd Packet Length Mean  \\\n0                         0.0                    0.0                     0.0   \n0                      1472.0                 1472.0                  1472.0   \n0                      1448.0                 1448.0                  1448.0   \n0                      1472.0                 1472.0                  1472.0   \n0                      1472.0                 1472.0                  1472.0   \n...                       ...                    ...                     ...   \n152420                 1472.0                 1472.0                  1472.0   \n152421                 1456.0                 1456.0                  1456.0   \n152422                 1472.0                 1472.0                  1472.0   \n152423                 1472.0                 1472.0                  1472.0   \n152424                 1472.0                 1472.0                  1472.0   \n\n        Fwd Packet Length Std  ...  Fwd Seg Size Min  Active Mean  Active Std  \\\n0                         0.0  ...                 0          0.0         0.0   \n0                         0.0  ...                 8          0.0         0.0   \n0                         0.0  ...                32          0.0         0.0   \n0                         0.0  ...                20          0.0         0.0   \n0                         0.0  ...                20          0.0         0.0   \n...                       ...  ...               ...          ...         ...   \n152420                    0.0  ...                -1          0.0         0.0   \n152421                    0.0  ...                -1          0.0         0.0   \n152422                    0.0  ...                -1          0.0         0.0   \n152423                    0.0  ...                -1          0.0         0.0   \n152424                    0.0  ...                -1          0.0         0.0   \n\n        Active Max  Active Min  Idle Mean  Idle Std  Idle Max  Idle Min  \\\n0              0.0         0.0        0.0       0.0       0.0       0.0   \n0              0.0         0.0        0.0       0.0       0.0       0.0   \n0              0.0         0.0        0.0       0.0       0.0       0.0   \n0              0.0         0.0        0.0       0.0       0.0       0.0   \n0              0.0         0.0        0.0       0.0       0.0       0.0   \n...            ...         ...        ...       ...       ...       ...   \n152420         0.0         0.0        0.0       0.0       0.0       0.0   \n152421         0.0         0.0        0.0       0.0       0.0       0.0   \n152422         0.0         0.0        0.0       0.0       0.0       0.0   \n152423         0.0         0.0        0.0       0.0       0.0       0.0   \n152424         0.0         0.0        0.0       0.0       0.0       0.0   \n\n             Label  \n0       DrDoS_LDAP  \n0       DrDoS_LDAP  \n0       DrDoS_LDAP  \n0       DrDoS_LDAP  \n0       DrDoS_LDAP  \n...            ...  \n152420  DrDoS_LDAP  \n152421  DrDoS_LDAP  \n152422  DrDoS_LDAP  \n152423  DrDoS_LDAP  \n152424  DrDoS_LDAP  \n\n[2142892 rows x 78 columns]",
      "text/html": "<div>\n<style scoped>\n    .dataframe tbody tr th:only-of-type {\n        vertical-align: middle;\n    }\n\n    .dataframe tbody tr th {\n        vertical-align: top;\n    }\n\n    .dataframe thead th {\n        text-align: right;\n    }\n</style>\n<table border=\"1\" class=\"dataframe\">\n  <thead>\n    <tr style=\"text-align: right;\">\n      <th></th>\n      <th>Protocol</th>\n      <th>Flow Duration</th>\n      <th>Total Fwd Packets</th>\n      <th>Total Backward Packets</th>\n      <th>Fwd Packets Length Total</th>\n      <th>Bwd Packets Length Total</th>\n      <th>Fwd Packet Length Max</th>\n      <th>Fwd Packet Length Min</th>\n      <th>Fwd Packet Length Mean</th>\n      <th>Fwd Packet Length Std</th>\n      <th>...</th>\n      <th>Fwd Seg Size Min</th>\n      <th>Active Mean</th>\n      <th>Active Std</th>\n      <th>Active Max</th>\n      <th>Active Min</th>\n      <th>Idle Mean</th>\n      <th>Idle Std</th>\n      <th>Idle Max</th>\n      <th>Idle Min</th>\n      <th>Label</th>\n    </tr>\n  </thead>\n  <tbody>\n    <tr>\n      <th>0</th>\n      <td>0</td>\n      <td>9141643</td>\n      <td>85894</td>\n      <td>28</td>\n      <td>0.0</td>\n      <td>0.0</td>\n      <td>0.0</td>\n      <td>0.0</td>\n      <td>0.0</td>\n      <td>0.0</td>\n      <td>...</td>\n      <td>0</td>\n      <td>0.0</td>\n      <td>0.0</td>\n      <td>0.0</td>\n      <td>0.0</td>\n      <td>0.0</td>\n      <td>0.0</td>\n      <td>0.0</td>\n      <td>0.0</td>\n      <td>DrDoS_LDAP</td>\n    </tr>\n    <tr>\n      <th>0</th>\n      <td>17</td>\n      <td>2</td>\n      <td>2</td>\n      <td>0</td>\n      <td>2944.0</td>\n      <td>0.0</td>\n      <td>1472.0</td>\n      <td>1472.0</td>\n      <td>1472.0</td>\n      <td>0.0</td>\n      <td>...</td>\n      <td>8</td>\n      <td>0.0</td>\n      <td>0.0</td>\n      <td>0.0</td>\n      <td>0.0</td>\n      <td>0.0</td>\n      <td>0.0</td>\n      <td>0.0</td>\n      <td>0.0</td>\n      <td>DrDoS_LDAP</td>\n    </tr>\n    <tr>\n      <th>0</th>\n      <td>17</td>\n      <td>1</td>\n      <td>2</td>\n      <td>0</td>\n      <td>2896.0</td>\n      <td>0.0</td>\n      <td>1448.0</td>\n      <td>1448.0</td>\n      <td>1448.0</td>\n      <td>0.0</td>\n      <td>...</td>\n      <td>32</td>\n      <td>0.0</td>\n      <td>0.0</td>\n      <td>0.0</td>\n      <td>0.0</td>\n      <td>0.0</td>\n      <td>0.0</td>\n      <td>0.0</td>\n      <td>0.0</td>\n      <td>DrDoS_LDAP</td>\n    </tr>\n    <tr>\n      <th>0</th>\n      <td>17</td>\n      <td>2</td>\n      <td>2</td>\n      <td>0</td>\n      <td>2944.0</td>\n      <td>0.0</td>\n      <td>1472.0</td>\n      <td>1472.0</td>\n      <td>1472.0</td>\n      <td>0.0</td>\n      <td>...</td>\n      <td>20</td>\n      <td>0.0</td>\n      <td>0.0</td>\n      <td>0.0</td>\n      <td>0.0</td>\n      <td>0.0</td>\n      <td>0.0</td>\n      <td>0.0</td>\n      <td>0.0</td>\n      <td>DrDoS_LDAP</td>\n    </tr>\n    <tr>\n      <th>0</th>\n      <td>17</td>\n      <td>1</td>\n      <td>2</td>\n      <td>0</td>\n      <td>2944.0</td>\n      <td>0.0</td>\n      <td>1472.0</td>\n      <td>1472.0</td>\n      <td>1472.0</td>\n      <td>0.0</td>\n      <td>...</td>\n      <td>20</td>\n      <td>0.0</td>\n      <td>0.0</td>\n      <td>0.0</td>\n      <td>0.0</td>\n      <td>0.0</td>\n      <td>0.0</td>\n      <td>0.0</td>\n      <td>0.0</td>\n      <td>DrDoS_LDAP</td>\n    </tr>\n    <tr>\n      <th>...</th>\n      <td>...</td>\n      <td>...</td>\n      <td>...</td>\n      <td>...</td>\n      <td>...</td>\n      <td>...</td>\n      <td>...</td>\n      <td>...</td>\n      <td>...</td>\n      <td>...</td>\n      <td>...</td>\n      <td>...</td>\n      <td>...</td>\n      <td>...</td>\n      <td>...</td>\n      <td>...</td>\n      <td>...</td>\n      <td>...</td>\n      <td>...</td>\n      <td>...</td>\n      <td>...</td>\n    </tr>\n    <tr>\n      <th>152420</th>\n      <td>17</td>\n      <td>2</td>\n      <td>2</td>\n      <td>0</td>\n      <td>2944.0</td>\n      <td>0.0</td>\n      <td>1472.0</td>\n      <td>1472.0</td>\n      <td>1472.0</td>\n      <td>0.0</td>\n      <td>...</td>\n      <td>-1</td>\n      <td>0.0</td>\n      <td>0.0</td>\n      <td>0.0</td>\n      <td>0.0</td>\n      <td>0.0</td>\n      <td>0.0</td>\n      <td>0.0</td>\n      <td>0.0</td>\n      <td>DrDoS_LDAP</td>\n    </tr>\n    <tr>\n      <th>152421</th>\n      <td>17</td>\n      <td>1</td>\n      <td>2</td>\n      <td>0</td>\n      <td>2912.0</td>\n      <td>0.0</td>\n      <td>1456.0</td>\n      <td>1456.0</td>\n      <td>1456.0</td>\n      <td>0.0</td>\n      <td>...</td>\n      <td>-1</td>\n      <td>0.0</td>\n      <td>0.0</td>\n      <td>0.0</td>\n      <td>0.0</td>\n      <td>0.0</td>\n      <td>0.0</td>\n      <td>0.0</td>\n      <td>0.0</td>\n      <td>DrDoS_LDAP</td>\n    </tr>\n    <tr>\n      <th>152422</th>\n      <td>17</td>\n      <td>2</td>\n      <td>2</td>\n      <td>0</td>\n      <td>2944.0</td>\n      <td>0.0</td>\n      <td>1472.0</td>\n      <td>1472.0</td>\n      <td>1472.0</td>\n      <td>0.0</td>\n      <td>...</td>\n      <td>-1</td>\n      <td>0.0</td>\n      <td>0.0</td>\n      <td>0.0</td>\n      <td>0.0</td>\n      <td>0.0</td>\n      <td>0.0</td>\n      <td>0.0</td>\n      <td>0.0</td>\n      <td>DrDoS_LDAP</td>\n    </tr>\n    <tr>\n      <th>152423</th>\n      <td>17</td>\n      <td>1</td>\n      <td>2</td>\n      <td>0</td>\n      <td>2944.0</td>\n      <td>0.0</td>\n      <td>1472.0</td>\n      <td>1472.0</td>\n      <td>1472.0</td>\n      <td>0.0</td>\n      <td>...</td>\n      <td>-1</td>\n      <td>0.0</td>\n      <td>0.0</td>\n      <td>0.0</td>\n      <td>0.0</td>\n      <td>0.0</td>\n      <td>0.0</td>\n      <td>0.0</td>\n      <td>0.0</td>\n      <td>DrDoS_LDAP</td>\n    </tr>\n    <tr>\n      <th>152424</th>\n      <td>17</td>\n      <td>1</td>\n      <td>2</td>\n      <td>0</td>\n      <td>2944.0</td>\n      <td>0.0</td>\n      <td>1472.0</td>\n      <td>1472.0</td>\n      <td>1472.0</td>\n      <td>0.0</td>\n      <td>...</td>\n      <td>-1</td>\n      <td>0.0</td>\n      <td>0.0</td>\n      <td>0.0</td>\n      <td>0.0</td>\n      <td>0.0</td>\n      <td>0.0</td>\n      <td>0.0</td>\n      <td>0.0</td>\n      <td>DrDoS_LDAP</td>\n    </tr>\n  </tbody>\n</table>\n<p>2142892 rows × 78 columns</p>\n</div>"
     },
     "execution_count": 103,
     "metadata": {},
     "output_type": "execute_result"
    }
   ],
   "source": [
    "ddf = dd.from_pandas(workingDataFrame, npartitions=10)\n",
    "ddf.compute()"
   ],
   "metadata": {
    "collapsed": false
   }
  },
  {
   "cell_type": "markdown",
   "source": [
    "Dropping Duplicates\n",
    "There should be no duplicates because they can bias training and can lead to over-optimistic estimates of classification performance during testing."
   ],
   "metadata": {
    "collapsed": false
   }
  },
  {
   "cell_type": "code",
   "execution_count": 104,
   "outputs": [
    {
     "data": {
      "text/plain": "2112658"
     },
     "execution_count": 104,
     "metadata": {},
     "output_type": "execute_result"
    }
   ],
   "source": [
    "workingDataFrame.duplicated().sum()"
   ],
   "metadata": {
    "collapsed": false
   }
  },
  {
   "cell_type": "markdown",
   "source": [
    "Fully duplicate rows to be removed"
   ],
   "metadata": {
    "collapsed": false
   }
  },
  {
   "cell_type": "code",
   "execution_count": 105,
   "outputs": [
    {
     "data": {
      "text/plain": "       Protocol  Flow Duration  Total Fwd Packets  Total Backward Packets  \\\n0             0        9141643              85894                      28   \n1            17              1                  2                       0   \n2            17              2                  2                       0   \n3            17              1                  2                       0   \n4            17              2                  2                       0   \n...         ...            ...                ...                     ...   \n30229        17             88                  2                       0   \n30230        17             39                  2                       0   \n30231        17            157                  4                       0   \n30232        17            575                  4                       0   \n30233        17            238                  2                       0   \n\n       Fwd Packets Length Total  Bwd Packets Length Total  \\\n0                           0.0                       0.0   \n1                        2944.0                       0.0   \n2                        2944.0                       0.0   \n3                        2896.0                       0.0   \n4                        2848.0                       0.0   \n...                         ...                       ...   \n30229                    2704.0                       0.0   \n30230                    2144.0                       0.0   \n30231                    5888.0                       0.0   \n30232                    5888.0                       0.0   \n30233                    2656.0                       0.0   \n\n       Fwd Packet Length Max  Fwd Packet Length Min  Fwd Packet Length Mean  \\\n0                        0.0                    0.0                     0.0   \n1                     1472.0                 1472.0                  1472.0   \n2                     1472.0                 1472.0                  1472.0   \n3                     1448.0                 1448.0                  1448.0   \n4                     1424.0                 1424.0                  1424.0   \n...                      ...                    ...                     ...   \n30229                 1352.0                 1352.0                  1352.0   \n30230                 1072.0                 1072.0                  1072.0   \n30231                 1472.0                 1472.0                  1472.0   \n30232                 1472.0                 1472.0                  1472.0   \n30233                 1328.0                 1328.0                  1328.0   \n\n       Fwd Packet Length Std  ...  Fwd Seg Size Min  Active Mean  Active Std  \\\n0                        0.0  ...                 0          0.0         0.0   \n1                        0.0  ...                -1          0.0         0.0   \n2                        0.0  ...                -1          0.0         0.0   \n3                        0.0  ...                -1          0.0         0.0   \n4                        0.0  ...                -1          0.0         0.0   \n...                      ...  ...               ...          ...         ...   \n30229                    0.0  ...                14          0.0         0.0   \n30230                    0.0  ...                 0          0.0         0.0   \n30231                    0.0  ...                 8          0.0         0.0   \n30232                    0.0  ...                 8          0.0         0.0   \n30233                    0.0  ...                14          0.0         0.0   \n\n       Active Max  Active Min  Idle Mean  Idle Std  Idle Max  Idle Min  \\\n0             0.0         0.0        0.0       0.0       0.0       0.0   \n1             0.0         0.0        0.0       0.0       0.0       0.0   \n2             0.0         0.0        0.0       0.0       0.0       0.0   \n3             0.0         0.0        0.0       0.0       0.0       0.0   \n4             0.0         0.0        0.0       0.0       0.0       0.0   \n...           ...         ...        ...       ...       ...       ...   \n30229         0.0         0.0        0.0       0.0       0.0       0.0   \n30230         0.0         0.0        0.0       0.0       0.0       0.0   \n30231         0.0         0.0        0.0       0.0       0.0       0.0   \n30232         0.0         0.0        0.0       0.0       0.0       0.0   \n30233         0.0         0.0        0.0       0.0       0.0       0.0   \n\n            Label  \n0      DrDoS_LDAP  \n1      DrDoS_LDAP  \n2      DrDoS_LDAP  \n3      DrDoS_LDAP  \n4      DrDoS_LDAP  \n...           ...  \n30229  DrDoS_LDAP  \n30230  DrDoS_LDAP  \n30231  DrDoS_LDAP  \n30232  DrDoS_LDAP  \n30233  DrDoS_LDAP  \n\n[30234 rows x 78 columns]",
      "text/html": "<div>\n<style scoped>\n    .dataframe tbody tr th:only-of-type {\n        vertical-align: middle;\n    }\n\n    .dataframe tbody tr th {\n        vertical-align: top;\n    }\n\n    .dataframe thead th {\n        text-align: right;\n    }\n</style>\n<table border=\"1\" class=\"dataframe\">\n  <thead>\n    <tr style=\"text-align: right;\">\n      <th></th>\n      <th>Protocol</th>\n      <th>Flow Duration</th>\n      <th>Total Fwd Packets</th>\n      <th>Total Backward Packets</th>\n      <th>Fwd Packets Length Total</th>\n      <th>Bwd Packets Length Total</th>\n      <th>Fwd Packet Length Max</th>\n      <th>Fwd Packet Length Min</th>\n      <th>Fwd Packet Length Mean</th>\n      <th>Fwd Packet Length Std</th>\n      <th>...</th>\n      <th>Fwd Seg Size Min</th>\n      <th>Active Mean</th>\n      <th>Active Std</th>\n      <th>Active Max</th>\n      <th>Active Min</th>\n      <th>Idle Mean</th>\n      <th>Idle Std</th>\n      <th>Idle Max</th>\n      <th>Idle Min</th>\n      <th>Label</th>\n    </tr>\n  </thead>\n  <tbody>\n    <tr>\n      <th>0</th>\n      <td>0</td>\n      <td>9141643</td>\n      <td>85894</td>\n      <td>28</td>\n      <td>0.0</td>\n      <td>0.0</td>\n      <td>0.0</td>\n      <td>0.0</td>\n      <td>0.0</td>\n      <td>0.0</td>\n      <td>...</td>\n      <td>0</td>\n      <td>0.0</td>\n      <td>0.0</td>\n      <td>0.0</td>\n      <td>0.0</td>\n      <td>0.0</td>\n      <td>0.0</td>\n      <td>0.0</td>\n      <td>0.0</td>\n      <td>DrDoS_LDAP</td>\n    </tr>\n    <tr>\n      <th>1</th>\n      <td>17</td>\n      <td>1</td>\n      <td>2</td>\n      <td>0</td>\n      <td>2944.0</td>\n      <td>0.0</td>\n      <td>1472.0</td>\n      <td>1472.0</td>\n      <td>1472.0</td>\n      <td>0.0</td>\n      <td>...</td>\n      <td>-1</td>\n      <td>0.0</td>\n      <td>0.0</td>\n      <td>0.0</td>\n      <td>0.0</td>\n      <td>0.0</td>\n      <td>0.0</td>\n      <td>0.0</td>\n      <td>0.0</td>\n      <td>DrDoS_LDAP</td>\n    </tr>\n    <tr>\n      <th>2</th>\n      <td>17</td>\n      <td>2</td>\n      <td>2</td>\n      <td>0</td>\n      <td>2944.0</td>\n      <td>0.0</td>\n      <td>1472.0</td>\n      <td>1472.0</td>\n      <td>1472.0</td>\n      <td>0.0</td>\n      <td>...</td>\n      <td>-1</td>\n      <td>0.0</td>\n      <td>0.0</td>\n      <td>0.0</td>\n      <td>0.0</td>\n      <td>0.0</td>\n      <td>0.0</td>\n      <td>0.0</td>\n      <td>0.0</td>\n      <td>DrDoS_LDAP</td>\n    </tr>\n    <tr>\n      <th>3</th>\n      <td>17</td>\n      <td>1</td>\n      <td>2</td>\n      <td>0</td>\n      <td>2896.0</td>\n      <td>0.0</td>\n      <td>1448.0</td>\n      <td>1448.0</td>\n      <td>1448.0</td>\n      <td>0.0</td>\n      <td>...</td>\n      <td>-1</td>\n      <td>0.0</td>\n      <td>0.0</td>\n      <td>0.0</td>\n      <td>0.0</td>\n      <td>0.0</td>\n      <td>0.0</td>\n      <td>0.0</td>\n      <td>0.0</td>\n      <td>DrDoS_LDAP</td>\n    </tr>\n    <tr>\n      <th>4</th>\n      <td>17</td>\n      <td>2</td>\n      <td>2</td>\n      <td>0</td>\n      <td>2848.0</td>\n      <td>0.0</td>\n      <td>1424.0</td>\n      <td>1424.0</td>\n      <td>1424.0</td>\n      <td>0.0</td>\n      <td>...</td>\n      <td>-1</td>\n      <td>0.0</td>\n      <td>0.0</td>\n      <td>0.0</td>\n      <td>0.0</td>\n      <td>0.0</td>\n      <td>0.0</td>\n      <td>0.0</td>\n      <td>0.0</td>\n      <td>DrDoS_LDAP</td>\n    </tr>\n    <tr>\n      <th>...</th>\n      <td>...</td>\n      <td>...</td>\n      <td>...</td>\n      <td>...</td>\n      <td>...</td>\n      <td>...</td>\n      <td>...</td>\n      <td>...</td>\n      <td>...</td>\n      <td>...</td>\n      <td>...</td>\n      <td>...</td>\n      <td>...</td>\n      <td>...</td>\n      <td>...</td>\n      <td>...</td>\n      <td>...</td>\n      <td>...</td>\n      <td>...</td>\n      <td>...</td>\n      <td>...</td>\n    </tr>\n    <tr>\n      <th>30229</th>\n      <td>17</td>\n      <td>88</td>\n      <td>2</td>\n      <td>0</td>\n      <td>2704.0</td>\n      <td>0.0</td>\n      <td>1352.0</td>\n      <td>1352.0</td>\n      <td>1352.0</td>\n      <td>0.0</td>\n      <td>...</td>\n      <td>14</td>\n      <td>0.0</td>\n      <td>0.0</td>\n      <td>0.0</td>\n      <td>0.0</td>\n      <td>0.0</td>\n      <td>0.0</td>\n      <td>0.0</td>\n      <td>0.0</td>\n      <td>DrDoS_LDAP</td>\n    </tr>\n    <tr>\n      <th>30230</th>\n      <td>17</td>\n      <td>39</td>\n      <td>2</td>\n      <td>0</td>\n      <td>2144.0</td>\n      <td>0.0</td>\n      <td>1072.0</td>\n      <td>1072.0</td>\n      <td>1072.0</td>\n      <td>0.0</td>\n      <td>...</td>\n      <td>0</td>\n      <td>0.0</td>\n      <td>0.0</td>\n      <td>0.0</td>\n      <td>0.0</td>\n      <td>0.0</td>\n      <td>0.0</td>\n      <td>0.0</td>\n      <td>0.0</td>\n      <td>DrDoS_LDAP</td>\n    </tr>\n    <tr>\n      <th>30231</th>\n      <td>17</td>\n      <td>157</td>\n      <td>4</td>\n      <td>0</td>\n      <td>5888.0</td>\n      <td>0.0</td>\n      <td>1472.0</td>\n      <td>1472.0</td>\n      <td>1472.0</td>\n      <td>0.0</td>\n      <td>...</td>\n      <td>8</td>\n      <td>0.0</td>\n      <td>0.0</td>\n      <td>0.0</td>\n      <td>0.0</td>\n      <td>0.0</td>\n      <td>0.0</td>\n      <td>0.0</td>\n      <td>0.0</td>\n      <td>DrDoS_LDAP</td>\n    </tr>\n    <tr>\n      <th>30232</th>\n      <td>17</td>\n      <td>575</td>\n      <td>4</td>\n      <td>0</td>\n      <td>5888.0</td>\n      <td>0.0</td>\n      <td>1472.0</td>\n      <td>1472.0</td>\n      <td>1472.0</td>\n      <td>0.0</td>\n      <td>...</td>\n      <td>8</td>\n      <td>0.0</td>\n      <td>0.0</td>\n      <td>0.0</td>\n      <td>0.0</td>\n      <td>0.0</td>\n      <td>0.0</td>\n      <td>0.0</td>\n      <td>0.0</td>\n      <td>DrDoS_LDAP</td>\n    </tr>\n    <tr>\n      <th>30233</th>\n      <td>17</td>\n      <td>238</td>\n      <td>2</td>\n      <td>0</td>\n      <td>2656.0</td>\n      <td>0.0</td>\n      <td>1328.0</td>\n      <td>1328.0</td>\n      <td>1328.0</td>\n      <td>0.0</td>\n      <td>...</td>\n      <td>14</td>\n      <td>0.0</td>\n      <td>0.0</td>\n      <td>0.0</td>\n      <td>0.0</td>\n      <td>0.0</td>\n      <td>0.0</td>\n      <td>0.0</td>\n      <td>0.0</td>\n      <td>DrDoS_LDAP</td>\n    </tr>\n  </tbody>\n</table>\n<p>30234 rows × 78 columns</p>\n</div>"
     },
     "execution_count": 105,
     "metadata": {},
     "output_type": "execute_result"
    }
   ],
   "source": [
    "workingDataFrame.drop_duplicates(inplace=True)\n",
    "workingDataFrame.reset_index(inplace=True, drop=True)\n",
    "workingDataFrame"
   ],
   "metadata": {
    "collapsed": false
   }
  },
  {
   "cell_type": "markdown",
   "source": [
    "After data cleaning, how much storage it holds now"
   ],
   "metadata": {
    "collapsed": false
   }
  },
  {
   "cell_type": "code",
   "execution_count": 106,
   "outputs": [
    {
     "name": "stdout",
     "output_type": "stream",
     "text": [
      "<class 'pandas.core.frame.DataFrame'>\n",
      "RangeIndex: 30234 entries, 0 to 30233\n",
      "Data columns (total 78 columns):\n",
      " #   Column                    Non-Null Count  Dtype  \n",
      "---  ------                    --------------  -----  \n",
      " 0   Protocol                  30234 non-null  int8   \n",
      " 1   Flow Duration             30234 non-null  int32  \n",
      " 2   Total Fwd Packets         30234 non-null  int32  \n",
      " 3   Total Backward Packets    30234 non-null  int16  \n",
      " 4   Fwd Packets Length Total  30234 non-null  float32\n",
      " 5   Bwd Packets Length Total  30234 non-null  float32\n",
      " 6   Fwd Packet Length Max     30234 non-null  float32\n",
      " 7   Fwd Packet Length Min     30234 non-null  float32\n",
      " 8   Fwd Packet Length Mean    30234 non-null  float32\n",
      " 9   Fwd Packet Length Std     30234 non-null  float32\n",
      " 10  Bwd Packet Length Max     30234 non-null  float32\n",
      " 11  Bwd Packet Length Min     30234 non-null  float32\n",
      " 12  Bwd Packet Length Mean    30234 non-null  float32\n",
      " 13  Bwd Packet Length Std     30234 non-null  float32\n",
      " 14  Flow Bytes/s              30234 non-null  float32\n",
      " 15  Flow Packets/s            30234 non-null  float32\n",
      " 16  Flow IAT Mean             30234 non-null  float32\n",
      " 17  Flow IAT Std              30234 non-null  float32\n",
      " 18  Flow IAT Max              30234 non-null  float32\n",
      " 19  Flow IAT Min              30234 non-null  float32\n",
      " 20  Fwd IAT Total             30234 non-null  float32\n",
      " 21  Fwd IAT Mean              30234 non-null  float32\n",
      " 22  Fwd IAT Std               30234 non-null  float32\n",
      " 23  Fwd IAT Max               30234 non-null  float32\n",
      " 24  Fwd IAT Min               30234 non-null  float32\n",
      " 25  Bwd IAT Total             30234 non-null  float32\n",
      " 26  Bwd IAT Mean              30234 non-null  float32\n",
      " 27  Bwd IAT Std               30234 non-null  float32\n",
      " 28  Bwd IAT Max               30234 non-null  float32\n",
      " 29  Bwd IAT Min               30234 non-null  float32\n",
      " 30  Fwd PSH Flags             30234 non-null  int8   \n",
      " 31  Bwd PSH Flags             30234 non-null  int8   \n",
      " 32  Fwd URG Flags             30234 non-null  int8   \n",
      " 33  Bwd URG Flags             30234 non-null  int8   \n",
      " 34  Fwd Header Length         30234 non-null  int64  \n",
      " 35  Bwd Header Length         30234 non-null  int32  \n",
      " 36  Fwd Packets/s             30234 non-null  float32\n",
      " 37  Bwd Packets/s             30234 non-null  float32\n",
      " 38  Packet Length Min         30234 non-null  float32\n",
      " 39  Packet Length Max         30234 non-null  float32\n",
      " 40  Packet Length Mean        30234 non-null  float32\n",
      " 41  Packet Length Std         30234 non-null  float32\n",
      " 42  Packet Length Variance    30234 non-null  float32\n",
      " 43  FIN Flag Count            30234 non-null  int8   \n",
      " 44  SYN Flag Count            30234 non-null  int8   \n",
      " 45  RST Flag Count            30234 non-null  int8   \n",
      " 46  PSH Flag Count            30234 non-null  int8   \n",
      " 47  ACK Flag Count            30234 non-null  int8   \n",
      " 48  URG Flag Count            30234 non-null  int8   \n",
      " 49  CWE Flag Count            30234 non-null  int8   \n",
      " 50  ECE Flag Count            30234 non-null  int8   \n",
      " 51  Down/Up Ratio             30234 non-null  float32\n",
      " 52  Avg Packet Size           30234 non-null  float32\n",
      " 53  Avg Fwd Segment Size      30234 non-null  float32\n",
      " 54  Avg Bwd Segment Size      30234 non-null  float32\n",
      " 55  Fwd Avg Bytes/Bulk        30234 non-null  int8   \n",
      " 56  Fwd Avg Packets/Bulk      30234 non-null  int8   \n",
      " 57  Fwd Avg Bulk Rate         30234 non-null  int8   \n",
      " 58  Bwd Avg Bytes/Bulk        30234 non-null  int8   \n",
      " 59  Bwd Avg Packets/Bulk      30234 non-null  int8   \n",
      " 60  Bwd Avg Bulk Rate         30234 non-null  int8   \n",
      " 61  Subflow Fwd Packets       30234 non-null  int32  \n",
      " 62  Subflow Fwd Bytes         30234 non-null  int32  \n",
      " 63  Subflow Bwd Packets       30234 non-null  int16  \n",
      " 64  Subflow Bwd Bytes         30234 non-null  int32  \n",
      " 65  Init Fwd Win Bytes        30234 non-null  int32  \n",
      " 66  Init Bwd Win Bytes        30234 non-null  int32  \n",
      " 67  Fwd Act Data Packets      30234 non-null  int8   \n",
      " 68  Fwd Seg Size Min          30234 non-null  int32  \n",
      " 69  Active Mean               30234 non-null  float32\n",
      " 70  Active Std                30234 non-null  float32\n",
      " 71  Active Max                30234 non-null  float32\n",
      " 72  Active Min                30234 non-null  float32\n",
      " 73  Idle Mean                 30234 non-null  float32\n",
      " 74  Idle Std                  30234 non-null  float32\n",
      " 75  Idle Max                  30234 non-null  float32\n",
      " 76  Idle Min                  30234 non-null  float32\n",
      " 77  Label                     30234 non-null  object \n",
      "dtypes: float32(45), int16(2), int32(9), int64(1), int8(20), object(1)\n",
      "memory usage: 9.1 MB\n"
     ]
    }
   ],
   "source": [
    "workingDataFrame.info(memory_usage=\"deep\")"
   ],
   "metadata": {
    "collapsed": false
   }
  },
  {
   "cell_type": "code",
   "execution_count": 107,
   "outputs": [
    {
     "data": {
      "text/plain": "array([ True,  True,  True,  True,  True,  True,  True,  True,  True,\n        True,  True,  True,  True,  True,  True,  True,  True,  True,\n        True,  True,  True,  True,  True,  True,  True,  True,  True,\n        True,  True,  True, False, False, False, False,  True,  True,\n        True,  True,  True,  True,  True,  True,  True, False, False,\n       False, False, False, False, False, False, False,  True,  True,\n        True, False, False, False, False, False, False,  True,  True,\n        True,  True,  True,  True,  True,  True,  True, False,  True,\n        True,  True, False,  True,  True,  True])"
     },
     "execution_count": 107,
     "metadata": {},
     "output_type": "execute_result"
    }
   ],
   "source": [
    "columnList = workingDataFrame.columns.tolist()\n",
    "# columnList[:-1]  # just for now, Omitting 'label' column\n",
    "\n",
    "from sklearn.feature_selection import VarianceThreshold\n",
    "\n",
    "var_thr = VarianceThreshold(threshold=0.1)  #Removing both constant and quasi-constant\n",
    "var_thr.fit(workingDataFrame[columnList[:-1]])\n",
    "\n",
    "var_threshold_bool_list = var_thr.get_support()\n",
    "var_threshold_bool_list_after_label_added = np.append(var_threshold_bool_list,True)\n",
    "var_threshold_bool_list_after_label_added"
   ],
   "metadata": {
    "collapsed": false
   }
  },
  {
   "cell_type": "code",
   "execution_count": 108,
   "outputs": [
    {
     "name": "stdout",
     "output_type": "stream",
     "text": [
      "Fwd PSH Flags\n",
      "Bwd PSH Flags\n",
      "Fwd URG Flags\n",
      "Bwd URG Flags\n",
      "FIN Flag Count\n",
      "SYN Flag Count\n",
      "RST Flag Count\n",
      "PSH Flag Count\n",
      "ACK Flag Count\n",
      "URG Flag Count\n",
      "CWE Flag Count\n",
      "ECE Flag Count\n",
      "Down/Up Ratio\n",
      "Fwd Avg Bytes/Bulk\n",
      "Fwd Avg Packets/Bulk\n",
      "Fwd Avg Bulk Rate\n",
      "Bwd Avg Bytes/Bulk\n",
      "Bwd Avg Packets/Bulk\n",
      "Bwd Avg Bulk Rate\n",
      "Active Std\n",
      "Idle Std\n"
     ]
    },
    {
     "data": {
      "text/plain": "       Protocol  Flow Duration  Total Fwd Packets  Total Backward Packets  \\\n0             0        9141643              85894                      28   \n1            17              1                  2                       0   \n2            17              2                  2                       0   \n3            17              1                  2                       0   \n4            17              2                  2                       0   \n...         ...            ...                ...                     ...   \n30229        17             88                  2                       0   \n30230        17             39                  2                       0   \n30231        17            157                  4                       0   \n30232        17            575                  4                       0   \n30233        17            238                  2                       0   \n\n       Fwd Packets Length Total  Bwd Packets Length Total  \\\n0                           0.0                       0.0   \n1                        2944.0                       0.0   \n2                        2944.0                       0.0   \n3                        2896.0                       0.0   \n4                        2848.0                       0.0   \n...                         ...                       ...   \n30229                    2704.0                       0.0   \n30230                    2144.0                       0.0   \n30231                    5888.0                       0.0   \n30232                    5888.0                       0.0   \n30233                    2656.0                       0.0   \n\n       Fwd Packet Length Max  Fwd Packet Length Min  Fwd Packet Length Mean  \\\n0                        0.0                    0.0                     0.0   \n1                     1472.0                 1472.0                  1472.0   \n2                     1472.0                 1472.0                  1472.0   \n3                     1448.0                 1448.0                  1448.0   \n4                     1424.0                 1424.0                  1424.0   \n...                      ...                    ...                     ...   \n30229                 1352.0                 1352.0                  1352.0   \n30230                 1072.0                 1072.0                  1072.0   \n30231                 1472.0                 1472.0                  1472.0   \n30232                 1472.0                 1472.0                  1472.0   \n30233                 1328.0                 1328.0                  1328.0   \n\n       Fwd Packet Length Std  ...  Init Bwd Win Bytes  Fwd Act Data Packets  \\\n0                        0.0  ...                  -1                     0   \n1                        0.0  ...                  -1                     1   \n2                        0.0  ...                  -1                     1   \n3                        0.0  ...                  -1                     1   \n4                        0.0  ...                  -1                     1   \n...                      ...  ...                 ...                   ...   \n30229                    0.0  ...                  -1                     1   \n30230                    0.0  ...                  -1                     1   \n30231                    0.0  ...                  -1                     3   \n30232                    0.0  ...                  -1                     3   \n30233                    0.0  ...                  -1                     1   \n\n       Fwd Seg Size Min  Active Mean  Active Max  Active Min  Idle Mean  \\\n0                     0          0.0         0.0         0.0        0.0   \n1                    -1          0.0         0.0         0.0        0.0   \n2                    -1          0.0         0.0         0.0        0.0   \n3                    -1          0.0         0.0         0.0        0.0   \n4                    -1          0.0         0.0         0.0        0.0   \n...                 ...          ...         ...         ...        ...   \n30229                14          0.0         0.0         0.0        0.0   \n30230                 0          0.0         0.0         0.0        0.0   \n30231                 8          0.0         0.0         0.0        0.0   \n30232                 8          0.0         0.0         0.0        0.0   \n30233                14          0.0         0.0         0.0        0.0   \n\n       Idle Max  Idle Min       Label  \n0           0.0       0.0  DrDoS_LDAP  \n1           0.0       0.0  DrDoS_LDAP  \n2           0.0       0.0  DrDoS_LDAP  \n3           0.0       0.0  DrDoS_LDAP  \n4           0.0       0.0  DrDoS_LDAP  \n...         ...       ...         ...  \n30229       0.0       0.0  DrDoS_LDAP  \n30230       0.0       0.0  DrDoS_LDAP  \n30231       0.0       0.0  DrDoS_LDAP  \n30232       0.0       0.0  DrDoS_LDAP  \n30233       0.0       0.0  DrDoS_LDAP  \n\n[30234 rows x 57 columns]",
      "text/html": "<div>\n<style scoped>\n    .dataframe tbody tr th:only-of-type {\n        vertical-align: middle;\n    }\n\n    .dataframe tbody tr th {\n        vertical-align: top;\n    }\n\n    .dataframe thead th {\n        text-align: right;\n    }\n</style>\n<table border=\"1\" class=\"dataframe\">\n  <thead>\n    <tr style=\"text-align: right;\">\n      <th></th>\n      <th>Protocol</th>\n      <th>Flow Duration</th>\n      <th>Total Fwd Packets</th>\n      <th>Total Backward Packets</th>\n      <th>Fwd Packets Length Total</th>\n      <th>Bwd Packets Length Total</th>\n      <th>Fwd Packet Length Max</th>\n      <th>Fwd Packet Length Min</th>\n      <th>Fwd Packet Length Mean</th>\n      <th>Fwd Packet Length Std</th>\n      <th>...</th>\n      <th>Init Bwd Win Bytes</th>\n      <th>Fwd Act Data Packets</th>\n      <th>Fwd Seg Size Min</th>\n      <th>Active Mean</th>\n      <th>Active Max</th>\n      <th>Active Min</th>\n      <th>Idle Mean</th>\n      <th>Idle Max</th>\n      <th>Idle Min</th>\n      <th>Label</th>\n    </tr>\n  </thead>\n  <tbody>\n    <tr>\n      <th>0</th>\n      <td>0</td>\n      <td>9141643</td>\n      <td>85894</td>\n      <td>28</td>\n      <td>0.0</td>\n      <td>0.0</td>\n      <td>0.0</td>\n      <td>0.0</td>\n      <td>0.0</td>\n      <td>0.0</td>\n      <td>...</td>\n      <td>-1</td>\n      <td>0</td>\n      <td>0</td>\n      <td>0.0</td>\n      <td>0.0</td>\n      <td>0.0</td>\n      <td>0.0</td>\n      <td>0.0</td>\n      <td>0.0</td>\n      <td>DrDoS_LDAP</td>\n    </tr>\n    <tr>\n      <th>1</th>\n      <td>17</td>\n      <td>1</td>\n      <td>2</td>\n      <td>0</td>\n      <td>2944.0</td>\n      <td>0.0</td>\n      <td>1472.0</td>\n      <td>1472.0</td>\n      <td>1472.0</td>\n      <td>0.0</td>\n      <td>...</td>\n      <td>-1</td>\n      <td>1</td>\n      <td>-1</td>\n      <td>0.0</td>\n      <td>0.0</td>\n      <td>0.0</td>\n      <td>0.0</td>\n      <td>0.0</td>\n      <td>0.0</td>\n      <td>DrDoS_LDAP</td>\n    </tr>\n    <tr>\n      <th>2</th>\n      <td>17</td>\n      <td>2</td>\n      <td>2</td>\n      <td>0</td>\n      <td>2944.0</td>\n      <td>0.0</td>\n      <td>1472.0</td>\n      <td>1472.0</td>\n      <td>1472.0</td>\n      <td>0.0</td>\n      <td>...</td>\n      <td>-1</td>\n      <td>1</td>\n      <td>-1</td>\n      <td>0.0</td>\n      <td>0.0</td>\n      <td>0.0</td>\n      <td>0.0</td>\n      <td>0.0</td>\n      <td>0.0</td>\n      <td>DrDoS_LDAP</td>\n    </tr>\n    <tr>\n      <th>3</th>\n      <td>17</td>\n      <td>1</td>\n      <td>2</td>\n      <td>0</td>\n      <td>2896.0</td>\n      <td>0.0</td>\n      <td>1448.0</td>\n      <td>1448.0</td>\n      <td>1448.0</td>\n      <td>0.0</td>\n      <td>...</td>\n      <td>-1</td>\n      <td>1</td>\n      <td>-1</td>\n      <td>0.0</td>\n      <td>0.0</td>\n      <td>0.0</td>\n      <td>0.0</td>\n      <td>0.0</td>\n      <td>0.0</td>\n      <td>DrDoS_LDAP</td>\n    </tr>\n    <tr>\n      <th>4</th>\n      <td>17</td>\n      <td>2</td>\n      <td>2</td>\n      <td>0</td>\n      <td>2848.0</td>\n      <td>0.0</td>\n      <td>1424.0</td>\n      <td>1424.0</td>\n      <td>1424.0</td>\n      <td>0.0</td>\n      <td>...</td>\n      <td>-1</td>\n      <td>1</td>\n      <td>-1</td>\n      <td>0.0</td>\n      <td>0.0</td>\n      <td>0.0</td>\n      <td>0.0</td>\n      <td>0.0</td>\n      <td>0.0</td>\n      <td>DrDoS_LDAP</td>\n    </tr>\n    <tr>\n      <th>...</th>\n      <td>...</td>\n      <td>...</td>\n      <td>...</td>\n      <td>...</td>\n      <td>...</td>\n      <td>...</td>\n      <td>...</td>\n      <td>...</td>\n      <td>...</td>\n      <td>...</td>\n      <td>...</td>\n      <td>...</td>\n      <td>...</td>\n      <td>...</td>\n      <td>...</td>\n      <td>...</td>\n      <td>...</td>\n      <td>...</td>\n      <td>...</td>\n      <td>...</td>\n      <td>...</td>\n    </tr>\n    <tr>\n      <th>30229</th>\n      <td>17</td>\n      <td>88</td>\n      <td>2</td>\n      <td>0</td>\n      <td>2704.0</td>\n      <td>0.0</td>\n      <td>1352.0</td>\n      <td>1352.0</td>\n      <td>1352.0</td>\n      <td>0.0</td>\n      <td>...</td>\n      <td>-1</td>\n      <td>1</td>\n      <td>14</td>\n      <td>0.0</td>\n      <td>0.0</td>\n      <td>0.0</td>\n      <td>0.0</td>\n      <td>0.0</td>\n      <td>0.0</td>\n      <td>DrDoS_LDAP</td>\n    </tr>\n    <tr>\n      <th>30230</th>\n      <td>17</td>\n      <td>39</td>\n      <td>2</td>\n      <td>0</td>\n      <td>2144.0</td>\n      <td>0.0</td>\n      <td>1072.0</td>\n      <td>1072.0</td>\n      <td>1072.0</td>\n      <td>0.0</td>\n      <td>...</td>\n      <td>-1</td>\n      <td>1</td>\n      <td>0</td>\n      <td>0.0</td>\n      <td>0.0</td>\n      <td>0.0</td>\n      <td>0.0</td>\n      <td>0.0</td>\n      <td>0.0</td>\n      <td>DrDoS_LDAP</td>\n    </tr>\n    <tr>\n      <th>30231</th>\n      <td>17</td>\n      <td>157</td>\n      <td>4</td>\n      <td>0</td>\n      <td>5888.0</td>\n      <td>0.0</td>\n      <td>1472.0</td>\n      <td>1472.0</td>\n      <td>1472.0</td>\n      <td>0.0</td>\n      <td>...</td>\n      <td>-1</td>\n      <td>3</td>\n      <td>8</td>\n      <td>0.0</td>\n      <td>0.0</td>\n      <td>0.0</td>\n      <td>0.0</td>\n      <td>0.0</td>\n      <td>0.0</td>\n      <td>DrDoS_LDAP</td>\n    </tr>\n    <tr>\n      <th>30232</th>\n      <td>17</td>\n      <td>575</td>\n      <td>4</td>\n      <td>0</td>\n      <td>5888.0</td>\n      <td>0.0</td>\n      <td>1472.0</td>\n      <td>1472.0</td>\n      <td>1472.0</td>\n      <td>0.0</td>\n      <td>...</td>\n      <td>-1</td>\n      <td>3</td>\n      <td>8</td>\n      <td>0.0</td>\n      <td>0.0</td>\n      <td>0.0</td>\n      <td>0.0</td>\n      <td>0.0</td>\n      <td>0.0</td>\n      <td>DrDoS_LDAP</td>\n    </tr>\n    <tr>\n      <th>30233</th>\n      <td>17</td>\n      <td>238</td>\n      <td>2</td>\n      <td>0</td>\n      <td>2656.0</td>\n      <td>0.0</td>\n      <td>1328.0</td>\n      <td>1328.0</td>\n      <td>1328.0</td>\n      <td>0.0</td>\n      <td>...</td>\n      <td>-1</td>\n      <td>1</td>\n      <td>14</td>\n      <td>0.0</td>\n      <td>0.0</td>\n      <td>0.0</td>\n      <td>0.0</td>\n      <td>0.0</td>\n      <td>0.0</td>\n      <td>DrDoS_LDAP</td>\n    </tr>\n  </tbody>\n</table>\n<p>30234 rows × 57 columns</p>\n</div>"
     },
     "execution_count": 108,
     "metadata": {},
     "output_type": "execute_result"
    }
   ],
   "source": [
    "concol = [column for column in workingDataFrame.columns\n",
    "          if column not in workingDataFrame.columns[var_threshold_bool_list_after_label_added]]\n",
    "\n",
    "for omittedFeatures in concol:\n",
    "    print(omittedFeatures)\n",
    "\n",
    "workingDataFrame.drop(columns=concol, inplace=True, errors='ignore')\n",
    "workingDataFrame"
   ],
   "metadata": {
    "collapsed": false
   }
  },
  {
   "cell_type": "markdown",
   "source": [
    "Now arising problem is that, row number has been significantly reduced but feature numbers are still 78!!\n",
    "So, need feature engineering here"
   ],
   "metadata": {
    "collapsed": false
   }
  },
  {
   "cell_type": "code",
   "execution_count": 109,
   "outputs": [],
   "source": [
    "\n",
    "def featueEngineeringBasedOnZero(dataFrameArg, thresholdPercentage, showPercentage):\n",
    "    totalCols = dataFrameArg.shape[1]\n",
    "    totalRows = len(dataFrameArg)\n",
    "    unNecessaryFeatureCount = 0\n",
    "    unNecessaryFeatureNames = []\n",
    "\n",
    "    for column in dataFrameArg:\n",
    "        zerosInCol = (dataFrameArg[column] == 0).sum()\n",
    "        if zerosInCol != 0:\n",
    "            percentageOfZerosInRow = ((zerosInCol * 100) / totalRows)\n",
    "\n",
    "            if showPercentage:\n",
    "                print(column, \"\\t\\t-\\t\\t\", zerosInCol, \"\\t\\t-\\t\\t\", percentageOfZerosInRow)\n",
    "\n",
    "            if percentageOfZerosInRow > thresholdPercentage:\n",
    "                unNecessaryFeatureNames.append(column)\n",
    "                unNecessaryFeatureCount = unNecessaryFeatureCount + 1\n",
    "\n",
    "    print(\"\\nTotal features having more than \", thresholdPercentage, \"% zero are - \", unNecessaryFeatureCount,\n",
    "          \"out of \",\n",
    "          totalCols)\n",
    "    return unNecessaryFeatureNames"
   ],
   "metadata": {
    "collapsed": false
   }
  },
  {
   "cell_type": "markdown",
   "source": [
    "Identifying those features containing 99% zeroes"
   ],
   "metadata": {
    "collapsed": false
   }
  },
  {
   "cell_type": "code",
   "execution_count": 110,
   "outputs": [
    {
     "name": "stdout",
     "output_type": "stream",
     "text": [
      "\n",
      "Total features having more than  99 % zero are -  7 out of  57\n"
     ]
    },
    {
     "data": {
      "text/plain": "['Bwd Packet Length Std',\n 'Active Mean',\n 'Active Max',\n 'Active Min',\n 'Idle Mean',\n 'Idle Max',\n 'Idle Min']"
     },
     "execution_count": 110,
     "metadata": {},
     "output_type": "execute_result"
    }
   ],
   "source": [
    "featureContainingAlmostZero = featueEngineeringBasedOnZero(dataFrameArg=workingDataFrame, thresholdPercentage=99,\n",
    "                                                           showPercentage=False)\n",
    "featureContainingAlmostZero"
   ],
   "metadata": {
    "collapsed": false
   }
  },
  {
   "cell_type": "markdown",
   "source": [
    "Omitting above features containing 99% zeroes"
   ],
   "metadata": {
    "collapsed": false
   }
  },
  {
   "cell_type": "code",
   "execution_count": 111,
   "outputs": [
    {
     "data": {
      "text/plain": "       Protocol  Flow Duration  Total Fwd Packets  Total Backward Packets  \\\n0             0        9141643              85894                      28   \n1            17              1                  2                       0   \n2            17              2                  2                       0   \n3            17              1                  2                       0   \n4            17              2                  2                       0   \n...         ...            ...                ...                     ...   \n30229        17             88                  2                       0   \n30230        17             39                  2                       0   \n30231        17            157                  4                       0   \n30232        17            575                  4                       0   \n30233        17            238                  2                       0   \n\n       Fwd Packets Length Total  Bwd Packets Length Total  \\\n0                           0.0                       0.0   \n1                        2944.0                       0.0   \n2                        2944.0                       0.0   \n3                        2896.0                       0.0   \n4                        2848.0                       0.0   \n...                         ...                       ...   \n30229                    2704.0                       0.0   \n30230                    2144.0                       0.0   \n30231                    5888.0                       0.0   \n30232                    5888.0                       0.0   \n30233                    2656.0                       0.0   \n\n       Fwd Packet Length Max  Fwd Packet Length Min  Fwd Packet Length Mean  \\\n0                        0.0                    0.0                     0.0   \n1                     1472.0                 1472.0                  1472.0   \n2                     1472.0                 1472.0                  1472.0   \n3                     1448.0                 1448.0                  1448.0   \n4                     1424.0                 1424.0                  1424.0   \n...                      ...                    ...                     ...   \n30229                 1352.0                 1352.0                  1352.0   \n30230                 1072.0                 1072.0                  1072.0   \n30231                 1472.0                 1472.0                  1472.0   \n30232                 1472.0                 1472.0                  1472.0   \n30233                 1328.0                 1328.0                  1328.0   \n\n       Fwd Packet Length Std  ...  Avg Bwd Segment Size  Subflow Fwd Packets  \\\n0                        0.0  ...                   0.0                85894   \n1                        0.0  ...                   0.0                    2   \n2                        0.0  ...                   0.0                    2   \n3                        0.0  ...                   0.0                    2   \n4                        0.0  ...                   0.0                    2   \n...                      ...  ...                   ...                  ...   \n30229                    0.0  ...                   0.0                    2   \n30230                    0.0  ...                   0.0                    2   \n30231                    0.0  ...                   0.0                    4   \n30232                    0.0  ...                   0.0                    4   \n30233                    0.0  ...                   0.0                    2   \n\n       Subflow Fwd Bytes  Subflow Bwd Packets  Subflow Bwd Bytes  \\\n0                      0                   28                  0   \n1                   2944                    0                  0   \n2                   2944                    0                  0   \n3                   2896                    0                  0   \n4                   2848                    0                  0   \n...                  ...                  ...                ...   \n30229               2704                    0                  0   \n30230               2144                    0                  0   \n30231               5888                    0                  0   \n30232               5888                    0                  0   \n30233               2656                    0                  0   \n\n       Init Fwd Win Bytes  Init Bwd Win Bytes  Fwd Act Data Packets  \\\n0                      -1                  -1                     0   \n1                      -1                  -1                     1   \n2                      -1                  -1                     1   \n3                      -1                  -1                     1   \n4                      -1                  -1                     1   \n...                   ...                 ...                   ...   \n30229                  -1                  -1                     1   \n30230                  -1                  -1                     1   \n30231                  -1                  -1                     3   \n30232                  -1                  -1                     3   \n30233                  -1                  -1                     1   \n\n       Fwd Seg Size Min       Label  \n0                     0  DrDoS_LDAP  \n1                    -1  DrDoS_LDAP  \n2                    -1  DrDoS_LDAP  \n3                    -1  DrDoS_LDAP  \n4                    -1  DrDoS_LDAP  \n...                 ...         ...  \n30229                14  DrDoS_LDAP  \n30230                 0  DrDoS_LDAP  \n30231                 8  DrDoS_LDAP  \n30232                 8  DrDoS_LDAP  \n30233                14  DrDoS_LDAP  \n\n[30234 rows x 50 columns]",
      "text/html": "<div>\n<style scoped>\n    .dataframe tbody tr th:only-of-type {\n        vertical-align: middle;\n    }\n\n    .dataframe tbody tr th {\n        vertical-align: top;\n    }\n\n    .dataframe thead th {\n        text-align: right;\n    }\n</style>\n<table border=\"1\" class=\"dataframe\">\n  <thead>\n    <tr style=\"text-align: right;\">\n      <th></th>\n      <th>Protocol</th>\n      <th>Flow Duration</th>\n      <th>Total Fwd Packets</th>\n      <th>Total Backward Packets</th>\n      <th>Fwd Packets Length Total</th>\n      <th>Bwd Packets Length Total</th>\n      <th>Fwd Packet Length Max</th>\n      <th>Fwd Packet Length Min</th>\n      <th>Fwd Packet Length Mean</th>\n      <th>Fwd Packet Length Std</th>\n      <th>...</th>\n      <th>Avg Bwd Segment Size</th>\n      <th>Subflow Fwd Packets</th>\n      <th>Subflow Fwd Bytes</th>\n      <th>Subflow Bwd Packets</th>\n      <th>Subflow Bwd Bytes</th>\n      <th>Init Fwd Win Bytes</th>\n      <th>Init Bwd Win Bytes</th>\n      <th>Fwd Act Data Packets</th>\n      <th>Fwd Seg Size Min</th>\n      <th>Label</th>\n    </tr>\n  </thead>\n  <tbody>\n    <tr>\n      <th>0</th>\n      <td>0</td>\n      <td>9141643</td>\n      <td>85894</td>\n      <td>28</td>\n      <td>0.0</td>\n      <td>0.0</td>\n      <td>0.0</td>\n      <td>0.0</td>\n      <td>0.0</td>\n      <td>0.0</td>\n      <td>...</td>\n      <td>0.0</td>\n      <td>85894</td>\n      <td>0</td>\n      <td>28</td>\n      <td>0</td>\n      <td>-1</td>\n      <td>-1</td>\n      <td>0</td>\n      <td>0</td>\n      <td>DrDoS_LDAP</td>\n    </tr>\n    <tr>\n      <th>1</th>\n      <td>17</td>\n      <td>1</td>\n      <td>2</td>\n      <td>0</td>\n      <td>2944.0</td>\n      <td>0.0</td>\n      <td>1472.0</td>\n      <td>1472.0</td>\n      <td>1472.0</td>\n      <td>0.0</td>\n      <td>...</td>\n      <td>0.0</td>\n      <td>2</td>\n      <td>2944</td>\n      <td>0</td>\n      <td>0</td>\n      <td>-1</td>\n      <td>-1</td>\n      <td>1</td>\n      <td>-1</td>\n      <td>DrDoS_LDAP</td>\n    </tr>\n    <tr>\n      <th>2</th>\n      <td>17</td>\n      <td>2</td>\n      <td>2</td>\n      <td>0</td>\n      <td>2944.0</td>\n      <td>0.0</td>\n      <td>1472.0</td>\n      <td>1472.0</td>\n      <td>1472.0</td>\n      <td>0.0</td>\n      <td>...</td>\n      <td>0.0</td>\n      <td>2</td>\n      <td>2944</td>\n      <td>0</td>\n      <td>0</td>\n      <td>-1</td>\n      <td>-1</td>\n      <td>1</td>\n      <td>-1</td>\n      <td>DrDoS_LDAP</td>\n    </tr>\n    <tr>\n      <th>3</th>\n      <td>17</td>\n      <td>1</td>\n      <td>2</td>\n      <td>0</td>\n      <td>2896.0</td>\n      <td>0.0</td>\n      <td>1448.0</td>\n      <td>1448.0</td>\n      <td>1448.0</td>\n      <td>0.0</td>\n      <td>...</td>\n      <td>0.0</td>\n      <td>2</td>\n      <td>2896</td>\n      <td>0</td>\n      <td>0</td>\n      <td>-1</td>\n      <td>-1</td>\n      <td>1</td>\n      <td>-1</td>\n      <td>DrDoS_LDAP</td>\n    </tr>\n    <tr>\n      <th>4</th>\n      <td>17</td>\n      <td>2</td>\n      <td>2</td>\n      <td>0</td>\n      <td>2848.0</td>\n      <td>0.0</td>\n      <td>1424.0</td>\n      <td>1424.0</td>\n      <td>1424.0</td>\n      <td>0.0</td>\n      <td>...</td>\n      <td>0.0</td>\n      <td>2</td>\n      <td>2848</td>\n      <td>0</td>\n      <td>0</td>\n      <td>-1</td>\n      <td>-1</td>\n      <td>1</td>\n      <td>-1</td>\n      <td>DrDoS_LDAP</td>\n    </tr>\n    <tr>\n      <th>...</th>\n      <td>...</td>\n      <td>...</td>\n      <td>...</td>\n      <td>...</td>\n      <td>...</td>\n      <td>...</td>\n      <td>...</td>\n      <td>...</td>\n      <td>...</td>\n      <td>...</td>\n      <td>...</td>\n      <td>...</td>\n      <td>...</td>\n      <td>...</td>\n      <td>...</td>\n      <td>...</td>\n      <td>...</td>\n      <td>...</td>\n      <td>...</td>\n      <td>...</td>\n      <td>...</td>\n    </tr>\n    <tr>\n      <th>30229</th>\n      <td>17</td>\n      <td>88</td>\n      <td>2</td>\n      <td>0</td>\n      <td>2704.0</td>\n      <td>0.0</td>\n      <td>1352.0</td>\n      <td>1352.0</td>\n      <td>1352.0</td>\n      <td>0.0</td>\n      <td>...</td>\n      <td>0.0</td>\n      <td>2</td>\n      <td>2704</td>\n      <td>0</td>\n      <td>0</td>\n      <td>-1</td>\n      <td>-1</td>\n      <td>1</td>\n      <td>14</td>\n      <td>DrDoS_LDAP</td>\n    </tr>\n    <tr>\n      <th>30230</th>\n      <td>17</td>\n      <td>39</td>\n      <td>2</td>\n      <td>0</td>\n      <td>2144.0</td>\n      <td>0.0</td>\n      <td>1072.0</td>\n      <td>1072.0</td>\n      <td>1072.0</td>\n      <td>0.0</td>\n      <td>...</td>\n      <td>0.0</td>\n      <td>2</td>\n      <td>2144</td>\n      <td>0</td>\n      <td>0</td>\n      <td>-1</td>\n      <td>-1</td>\n      <td>1</td>\n      <td>0</td>\n      <td>DrDoS_LDAP</td>\n    </tr>\n    <tr>\n      <th>30231</th>\n      <td>17</td>\n      <td>157</td>\n      <td>4</td>\n      <td>0</td>\n      <td>5888.0</td>\n      <td>0.0</td>\n      <td>1472.0</td>\n      <td>1472.0</td>\n      <td>1472.0</td>\n      <td>0.0</td>\n      <td>...</td>\n      <td>0.0</td>\n      <td>4</td>\n      <td>5888</td>\n      <td>0</td>\n      <td>0</td>\n      <td>-1</td>\n      <td>-1</td>\n      <td>3</td>\n      <td>8</td>\n      <td>DrDoS_LDAP</td>\n    </tr>\n    <tr>\n      <th>30232</th>\n      <td>17</td>\n      <td>575</td>\n      <td>4</td>\n      <td>0</td>\n      <td>5888.0</td>\n      <td>0.0</td>\n      <td>1472.0</td>\n      <td>1472.0</td>\n      <td>1472.0</td>\n      <td>0.0</td>\n      <td>...</td>\n      <td>0.0</td>\n      <td>4</td>\n      <td>5888</td>\n      <td>0</td>\n      <td>0</td>\n      <td>-1</td>\n      <td>-1</td>\n      <td>3</td>\n      <td>8</td>\n      <td>DrDoS_LDAP</td>\n    </tr>\n    <tr>\n      <th>30233</th>\n      <td>17</td>\n      <td>238</td>\n      <td>2</td>\n      <td>0</td>\n      <td>2656.0</td>\n      <td>0.0</td>\n      <td>1328.0</td>\n      <td>1328.0</td>\n      <td>1328.0</td>\n      <td>0.0</td>\n      <td>...</td>\n      <td>0.0</td>\n      <td>2</td>\n      <td>2656</td>\n      <td>0</td>\n      <td>0</td>\n      <td>-1</td>\n      <td>-1</td>\n      <td>1</td>\n      <td>14</td>\n      <td>DrDoS_LDAP</td>\n    </tr>\n  </tbody>\n</table>\n<p>30234 rows × 50 columns</p>\n</div>"
     },
     "execution_count": 111,
     "metadata": {},
     "output_type": "execute_result"
    }
   ],
   "source": [
    "workingDataFrame.drop(columns=featureContainingAlmostZero, inplace=True, errors='ignore')\n",
    "workingDataFrame.rename(columns=col_name_consistency, inplace=True)\n",
    "workingDataFrame.reset_index(inplace=True, drop=True)\n",
    "workingDataFrame"
   ],
   "metadata": {
    "collapsed": false
   }
  },
  {
   "cell_type": "markdown",
   "source": [
    "Now, To see the number of unique values in each column"
   ],
   "metadata": {
    "collapsed": false
   }
  },
  {
   "cell_type": "code",
   "execution_count": 112,
   "outputs": [
    {
     "data": {
      "text/plain": "Protocol                       3\nFlow Duration               2215\nTotal Fwd Packets             97\nTotal Backward Packets        48\nFwd Packets Length Total     268\nBwd Packets Length Total     203\nFwd Packet Length Max        203\nFwd Packet Length Min        102\nFwd Packet Length Mean       270\nFwd Packet Length Std        181\nBwd Packet Length Max        133\nBwd Packet Length Min         88\nBwd Packet Length Mean       227\nFlow Bytes/s                4218\nFlow Packets/s              2426\nFlow IAT Mean               2586\nFlow IAT Std                3380\nFlow IAT Max                2067\nFlow IAT Min                 329\nFwd IAT Total               1561\nFwd IAT Mean                1892\nFwd IAT Std                 2544\nFwd IAT Max                 1413\nFwd IAT Min                  311\nBwd IAT Total                395\nBwd IAT Mean                 400\nBwd IAT Std                  372\nBwd IAT Max                  393\nBwd IAT Min                   36\nFwd Header Length           1120\nBwd Header Length             92\nFwd Packets/s               2405\nBwd Packets/s               1246\nPacket Length Min            100\nPacket Length Max            217\nPacket Length Mean           397\nPacket Length Std            275\nPacket Length Variance       275\nAvg Packet Size              408\nAvg Fwd Segment Size         270\nAvg Bwd Segment Size         227\nSubflow Fwd Packets           97\nSubflow Fwd Bytes            268\nSubflow Bwd Packets           48\nSubflow Bwd Bytes            203\nInit Fwd Win Bytes           130\nInit Bwd Win Bytes            95\nFwd Act Data Packets          33\nFwd Seg Size Min             634\nLabel                          2\ndtype: int64"
     },
     "execution_count": 112,
     "metadata": {},
     "output_type": "execute_result"
    }
   ],
   "source": [
    "workingDataFrame.nunique(axis=0)"
   ],
   "metadata": {
    "collapsed": false
   }
  },
  {
   "cell_type": "code",
   "execution_count": 113,
   "outputs": [
    {
     "data": {
      "text/plain": "       Protocol  Flow Duration  Total Fwd Packets  Total Backward Packets  \\\n0             0        9141643              85894                      28   \n1            17              1                  2                       0   \n2            17              2                  2                       0   \n3            17              1                  2                       0   \n4            17              2                  2                       0   \n...         ...            ...                ...                     ...   \n30229        17             88                  2                       0   \n30230        17             39                  2                       0   \n30231        17            157                  4                       0   \n30232        17            575                  4                       0   \n30233        17            238                  2                       0   \n\n       Fwd Packets Length Total  Bwd Packets Length Total  \\\n0                           0.0                       0.0   \n1                        2944.0                       0.0   \n2                        2944.0                       0.0   \n3                        2896.0                       0.0   \n4                        2848.0                       0.0   \n...                         ...                       ...   \n30229                    2704.0                       0.0   \n30230                    2144.0                       0.0   \n30231                    5888.0                       0.0   \n30232                    5888.0                       0.0   \n30233                    2656.0                       0.0   \n\n       Fwd Packet Length Max  Fwd Packet Length Min  Fwd Packet Length Mean  \\\n0                        0.0                    0.0                     0.0   \n1                     1472.0                 1472.0                  1472.0   \n2                     1472.0                 1472.0                  1472.0   \n3                     1448.0                 1448.0                  1448.0   \n4                     1424.0                 1424.0                  1424.0   \n...                      ...                    ...                     ...   \n30229                 1352.0                 1352.0                  1352.0   \n30230                 1072.0                 1072.0                  1072.0   \n30231                 1472.0                 1472.0                  1472.0   \n30232                 1472.0                 1472.0                  1472.0   \n30233                 1328.0                 1328.0                  1328.0   \n\n       Fwd Packet Length Std  ...  Avg Bwd Segment Size  Subflow Fwd Packets  \\\n0                        0.0  ...                   0.0                85894   \n1                        0.0  ...                   0.0                    2   \n2                        0.0  ...                   0.0                    2   \n3                        0.0  ...                   0.0                    2   \n4                        0.0  ...                   0.0                    2   \n...                      ...  ...                   ...                  ...   \n30229                    0.0  ...                   0.0                    2   \n30230                    0.0  ...                   0.0                    2   \n30231                    0.0  ...                   0.0                    4   \n30232                    0.0  ...                   0.0                    4   \n30233                    0.0  ...                   0.0                    2   \n\n       Subflow Fwd Bytes  Subflow Bwd Packets  Subflow Bwd Bytes  \\\n0                      0                   28                  0   \n1                   2944                    0                  0   \n2                   2944                    0                  0   \n3                   2896                    0                  0   \n4                   2848                    0                  0   \n...                  ...                  ...                ...   \n30229               2704                    0                  0   \n30230               2144                    0                  0   \n30231               5888                    0                  0   \n30232               5888                    0                  0   \n30233               2656                    0                  0   \n\n       Init Fwd Win Bytes  Init Bwd Win Bytes  Fwd Act Data Packets  \\\n0                      -1                  -1                     0   \n1                      -1                  -1                     1   \n2                      -1                  -1                     1   \n3                      -1                  -1                     1   \n4                      -1                  -1                     1   \n...                   ...                 ...                   ...   \n30229                  -1                  -1                     1   \n30230                  -1                  -1                     1   \n30231                  -1                  -1                     3   \n30232                  -1                  -1                     3   \n30233                  -1                  -1                     1   \n\n       Fwd Seg Size Min       Label  \n0                     0  DrDoS_LDAP  \n1                    -1  DrDoS_LDAP  \n2                    -1  DrDoS_LDAP  \n3                    -1  DrDoS_LDAP  \n4                    -1  DrDoS_LDAP  \n...                 ...         ...  \n30229                14  DrDoS_LDAP  \n30230                 0  DrDoS_LDAP  \n30231                 8  DrDoS_LDAP  \n30232                 8  DrDoS_LDAP  \n30233                14  DrDoS_LDAP  \n\n[30234 rows x 50 columns]",
      "text/html": "<div>\n<style scoped>\n    .dataframe tbody tr th:only-of-type {\n        vertical-align: middle;\n    }\n\n    .dataframe tbody tr th {\n        vertical-align: top;\n    }\n\n    .dataframe thead th {\n        text-align: right;\n    }\n</style>\n<table border=\"1\" class=\"dataframe\">\n  <thead>\n    <tr style=\"text-align: right;\">\n      <th></th>\n      <th>Protocol</th>\n      <th>Flow Duration</th>\n      <th>Total Fwd Packets</th>\n      <th>Total Backward Packets</th>\n      <th>Fwd Packets Length Total</th>\n      <th>Bwd Packets Length Total</th>\n      <th>Fwd Packet Length Max</th>\n      <th>Fwd Packet Length Min</th>\n      <th>Fwd Packet Length Mean</th>\n      <th>Fwd Packet Length Std</th>\n      <th>...</th>\n      <th>Avg Bwd Segment Size</th>\n      <th>Subflow Fwd Packets</th>\n      <th>Subflow Fwd Bytes</th>\n      <th>Subflow Bwd Packets</th>\n      <th>Subflow Bwd Bytes</th>\n      <th>Init Fwd Win Bytes</th>\n      <th>Init Bwd Win Bytes</th>\n      <th>Fwd Act Data Packets</th>\n      <th>Fwd Seg Size Min</th>\n      <th>Label</th>\n    </tr>\n  </thead>\n  <tbody>\n    <tr>\n      <th>0</th>\n      <td>0</td>\n      <td>9141643</td>\n      <td>85894</td>\n      <td>28</td>\n      <td>0.0</td>\n      <td>0.0</td>\n      <td>0.0</td>\n      <td>0.0</td>\n      <td>0.0</td>\n      <td>0.0</td>\n      <td>...</td>\n      <td>0.0</td>\n      <td>85894</td>\n      <td>0</td>\n      <td>28</td>\n      <td>0</td>\n      <td>-1</td>\n      <td>-1</td>\n      <td>0</td>\n      <td>0</td>\n      <td>DrDoS_LDAP</td>\n    </tr>\n    <tr>\n      <th>1</th>\n      <td>17</td>\n      <td>1</td>\n      <td>2</td>\n      <td>0</td>\n      <td>2944.0</td>\n      <td>0.0</td>\n      <td>1472.0</td>\n      <td>1472.0</td>\n      <td>1472.0</td>\n      <td>0.0</td>\n      <td>...</td>\n      <td>0.0</td>\n      <td>2</td>\n      <td>2944</td>\n      <td>0</td>\n      <td>0</td>\n      <td>-1</td>\n      <td>-1</td>\n      <td>1</td>\n      <td>-1</td>\n      <td>DrDoS_LDAP</td>\n    </tr>\n    <tr>\n      <th>2</th>\n      <td>17</td>\n      <td>2</td>\n      <td>2</td>\n      <td>0</td>\n      <td>2944.0</td>\n      <td>0.0</td>\n      <td>1472.0</td>\n      <td>1472.0</td>\n      <td>1472.0</td>\n      <td>0.0</td>\n      <td>...</td>\n      <td>0.0</td>\n      <td>2</td>\n      <td>2944</td>\n      <td>0</td>\n      <td>0</td>\n      <td>-1</td>\n      <td>-1</td>\n      <td>1</td>\n      <td>-1</td>\n      <td>DrDoS_LDAP</td>\n    </tr>\n    <tr>\n      <th>3</th>\n      <td>17</td>\n      <td>1</td>\n      <td>2</td>\n      <td>0</td>\n      <td>2896.0</td>\n      <td>0.0</td>\n      <td>1448.0</td>\n      <td>1448.0</td>\n      <td>1448.0</td>\n      <td>0.0</td>\n      <td>...</td>\n      <td>0.0</td>\n      <td>2</td>\n      <td>2896</td>\n      <td>0</td>\n      <td>0</td>\n      <td>-1</td>\n      <td>-1</td>\n      <td>1</td>\n      <td>-1</td>\n      <td>DrDoS_LDAP</td>\n    </tr>\n    <tr>\n      <th>4</th>\n      <td>17</td>\n      <td>2</td>\n      <td>2</td>\n      <td>0</td>\n      <td>2848.0</td>\n      <td>0.0</td>\n      <td>1424.0</td>\n      <td>1424.0</td>\n      <td>1424.0</td>\n      <td>0.0</td>\n      <td>...</td>\n      <td>0.0</td>\n      <td>2</td>\n      <td>2848</td>\n      <td>0</td>\n      <td>0</td>\n      <td>-1</td>\n      <td>-1</td>\n      <td>1</td>\n      <td>-1</td>\n      <td>DrDoS_LDAP</td>\n    </tr>\n    <tr>\n      <th>...</th>\n      <td>...</td>\n      <td>...</td>\n      <td>...</td>\n      <td>...</td>\n      <td>...</td>\n      <td>...</td>\n      <td>...</td>\n      <td>...</td>\n      <td>...</td>\n      <td>...</td>\n      <td>...</td>\n      <td>...</td>\n      <td>...</td>\n      <td>...</td>\n      <td>...</td>\n      <td>...</td>\n      <td>...</td>\n      <td>...</td>\n      <td>...</td>\n      <td>...</td>\n      <td>...</td>\n    </tr>\n    <tr>\n      <th>30229</th>\n      <td>17</td>\n      <td>88</td>\n      <td>2</td>\n      <td>0</td>\n      <td>2704.0</td>\n      <td>0.0</td>\n      <td>1352.0</td>\n      <td>1352.0</td>\n      <td>1352.0</td>\n      <td>0.0</td>\n      <td>...</td>\n      <td>0.0</td>\n      <td>2</td>\n      <td>2704</td>\n      <td>0</td>\n      <td>0</td>\n      <td>-1</td>\n      <td>-1</td>\n      <td>1</td>\n      <td>14</td>\n      <td>DrDoS_LDAP</td>\n    </tr>\n    <tr>\n      <th>30230</th>\n      <td>17</td>\n      <td>39</td>\n      <td>2</td>\n      <td>0</td>\n      <td>2144.0</td>\n      <td>0.0</td>\n      <td>1072.0</td>\n      <td>1072.0</td>\n      <td>1072.0</td>\n      <td>0.0</td>\n      <td>...</td>\n      <td>0.0</td>\n      <td>2</td>\n      <td>2144</td>\n      <td>0</td>\n      <td>0</td>\n      <td>-1</td>\n      <td>-1</td>\n      <td>1</td>\n      <td>0</td>\n      <td>DrDoS_LDAP</td>\n    </tr>\n    <tr>\n      <th>30231</th>\n      <td>17</td>\n      <td>157</td>\n      <td>4</td>\n      <td>0</td>\n      <td>5888.0</td>\n      <td>0.0</td>\n      <td>1472.0</td>\n      <td>1472.0</td>\n      <td>1472.0</td>\n      <td>0.0</td>\n      <td>...</td>\n      <td>0.0</td>\n      <td>4</td>\n      <td>5888</td>\n      <td>0</td>\n      <td>0</td>\n      <td>-1</td>\n      <td>-1</td>\n      <td>3</td>\n      <td>8</td>\n      <td>DrDoS_LDAP</td>\n    </tr>\n    <tr>\n      <th>30232</th>\n      <td>17</td>\n      <td>575</td>\n      <td>4</td>\n      <td>0</td>\n      <td>5888.0</td>\n      <td>0.0</td>\n      <td>1472.0</td>\n      <td>1472.0</td>\n      <td>1472.0</td>\n      <td>0.0</td>\n      <td>...</td>\n      <td>0.0</td>\n      <td>4</td>\n      <td>5888</td>\n      <td>0</td>\n      <td>0</td>\n      <td>-1</td>\n      <td>-1</td>\n      <td>3</td>\n      <td>8</td>\n      <td>DrDoS_LDAP</td>\n    </tr>\n    <tr>\n      <th>30233</th>\n      <td>17</td>\n      <td>238</td>\n      <td>2</td>\n      <td>0</td>\n      <td>2656.0</td>\n      <td>0.0</td>\n      <td>1328.0</td>\n      <td>1328.0</td>\n      <td>1328.0</td>\n      <td>0.0</td>\n      <td>...</td>\n      <td>0.0</td>\n      <td>2</td>\n      <td>2656</td>\n      <td>0</td>\n      <td>0</td>\n      <td>-1</td>\n      <td>-1</td>\n      <td>1</td>\n      <td>14</td>\n      <td>DrDoS_LDAP</td>\n    </tr>\n  </tbody>\n</table>\n<p>30234 rows × 50 columns</p>\n</div>"
     },
     "execution_count": 113,
     "metadata": {},
     "output_type": "execute_result"
    }
   ],
   "source": [
    "workingDataFrame"
   ],
   "metadata": {
    "collapsed": false
   }
  },
  {
   "cell_type": "markdown",
   "source": [
    "Saving New DataFrame as csv file to new location"
   ],
   "metadata": {
    "collapsed": false
   }
  },
  {
   "cell_type": "code",
   "execution_count": 114,
   "outputs": [],
   "source": [
    "def dataCleaningResultToAnotherCSV(dataFrameArg, dirPath, file_name):\n",
    "    dataFrameArg.to_csv(dirPath + file_name)"
   ],
   "metadata": {
    "collapsed": false
   }
  },
  {
   "cell_type": "code",
   "execution_count": 115,
   "outputs": [],
   "source": [
    "newCsvPath = \"C:\\\\CIC-DDOS-2019\\\\AfterDataCleaning\\\\\"\n",
    "# newFileName = \"UDPLag.csv\"\n",
    "# newFileName = \"Syn.csv\"\n",
    "# newFileName = \"DrDoS_NTP.csv\"\n",
    "newFileName = \"DrDoS_LDAP.csv\"\n",
    "dataCleaningResultToAnotherCSV(dataFrameArg=workingDataFrame, dirPath=newCsvPath, file_name=newFileName)"
   ],
   "metadata": {
    "collapsed": false
   }
  },
  {
   "cell_type": "code",
   "execution_count": 116,
   "outputs": [
    {
     "data": {
      "text/plain": "64"
     },
     "execution_count": 116,
     "metadata": {},
     "output_type": "execute_result"
    }
   ],
   "source": [
    "gc.collect()"
   ],
   "metadata": {
    "collapsed": false
   }
  }
 ],
 "metadata": {
  "kernelspec": {
   "display_name": "Python 3",
   "language": "python",
   "name": "python3"
  },
  "language_info": {
   "codemirror_mode": {
    "name": "ipython",
    "version": 2
   },
   "file_extension": ".py",
   "mimetype": "text/x-python",
   "name": "python",
   "nbconvert_exporter": "python",
   "pygments_lexer": "ipython2",
   "version": "2.7.6"
  }
 },
 "nbformat": 4,
 "nbformat_minor": 0
}
