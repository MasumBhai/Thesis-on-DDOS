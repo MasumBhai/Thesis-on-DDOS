{
 "cells": [
  {
   "cell_type": "markdown",
   "source": [
    "Loading Libraries"
   ],
   "metadata": {
    "collapsed": false
   }
  },
  {
   "cell_type": "code",
   "execution_count": 89,
   "metadata": {
    "collapsed": true
   },
   "outputs": [],
   "source": [
    "import numba\n",
    "import tensorflow as tf\n",
    "import pandas as pd\n",
    "import numpy as np\n",
    "import random\n",
    "import gc  # garbage collector\n",
    "\n",
    "from fastcore.basics import *\n",
    "from fastcore.parallel import *\n",
    "from numba import jit, njit, vectorize, cuda, uint32, f8, uint8\n",
    "\n",
    "from sklearn.model_selection import train_test_split\n",
    "from sklearn import metrics  # for accuracy calculation\n",
    "from sklearn.tree import DecisionTreeClassifier\n",
    "from sklearn.metrics import roc_auc_score, accuracy_score\n",
    "from functools import partial\n",
    "from os import cpu_count\n",
    "import matplotlib.pyplot as plt\n",
    "\n",
    "import math\n",
    "from pylab import imshow, show\n",
    "from timeit import default_timer as timer\n",
    "\n",
    "from dask import dataframe as dd\n",
    "from dask.distributed import Client"
   ]
  },
  {
   "cell_type": "markdown",
   "source": [
    "Setting up paths to csv files / datasets"
   ],
   "metadata": {
    "collapsed": false
   }
  },
  {
   "cell_type": "code",
   "execution_count": 90,
   "outputs": [],
   "source": [
    "# CSV-01-12\n",
    "path_DdoS_DNS = \"C:\\\\CIC-DDOS-2019\\\\DrDoS_DNS.csv\"\n",
    "path_DdoS_MSSQL = \"C:\\\\CIC-DDOS-2019\\\\DrDoS_MSSQL.csv\"\n",
    "path_DdoS_LDAP = \"C:\\\\CIC-DDOS-2019\\\\DrDoS_LDAP.csv\"\n",
    "path_DdoS_NTP = \"C:\\\\CIC-DDOS-2019\\\\DrDoS_NTP.csv\"\n",
    "path_DdoS_NetBIOS = \"C:\\\\CIC-DDOS-2019\\\\DrDoS_NetBIOS.csv\"\n",
    "path_DdoS_SNMP = \"C:\\\\CIC-DDOS-2019\\\\DrDoS_SNMP.csv\"\n",
    "path_DdoS_SSDP = \"C:\\\\CIC-DDOS-2019\\\\DrDoS_SSDP.csv\"\n",
    "path_DdoS_UDP = \"C:\\\\CIC-DDOS-2019\\\\DrDoS_UDP.csv\"\n",
    "path_Syn = \"C:\\\\CIC-DDOS-2019\\\\Syn.csv\"\n",
    "path_TFTP = \"C:\\\\CIC-DDOS-2019\\\\TFTP.csv\"\n",
    "path_UDPLag = \"C:\\\\CIC-DDOS-2019\\\\UDPLag.csv\"\n",
    "\n",
    "# # CSV-03-11\n",
    "# path__LDAP = \"../CICDDoS-2019/CSV-03-11/03-11/LDAP.csv\"\n",
    "# path__MSSQL = \"../CICDDoS-2019/CSV-03-11/03-11/MSSQL.csv\"\n",
    "# path__NetBIOS = \"../CICDDoS-2019/CSV-03-11/03-11/NetBIOS.csv\"\n",
    "# path__Portmap = \"../CICDDoS-2019/CSV-03-11/03-11/Portmap.csv\"\n",
    "# path__Syn = \"../CICDDoS-2019/CSV-03-11/03-11/Syn.csv\"\n",
    "# path__UDP = \"../CICDDoS-2019/CSV-03-11/03-11/UDP.csv\"\n",
    "# path__UDPLag = \"../CICDDoS-2019/CSV-03-11/03-11/UDPLag.csv\"\n",
    "\n",
    "paths = [path_DdoS_DNS, path_DdoS_MSSQL, path_DdoS_LDAP, path_DdoS_NTP, path_DdoS_NetBIOS, path_DdoS_SNMP,\n",
    "         path_DdoS_SSDP, path_DdoS_UDP, path_Syn, path_TFTP, path_UDPLag]\n",
    "# , path__LDAP, path__MSSQL, path__NetBIOS,\n",
    "#      path__Portmap, path__Syn, path__UDP, path__UDPLag]"
   ],
   "metadata": {
    "collapsed": false
   }
  },
  {
   "cell_type": "markdown",
   "source": [
    "Column / feature names"
   ],
   "metadata": {
    "collapsed": false
   }
  },
  {
   "cell_type": "code",
   "execution_count": 91,
   "outputs": [],
   "source": [
    "col_name_consistency = {\n",
    "    'Flow ID': 'Flow ID',\n",
    "    'Source IP': 'Source IP',\n",
    "    'Src IP': 'Source IP',\n",
    "    'Source Port': 'Source Port',\n",
    "    'Src Port': 'Source Port',\n",
    "    'Destination IP': 'Destination IP',\n",
    "    'Dst IP': 'Destination IP',\n",
    "    'Destination Port': 'Destination Port',\n",
    "    'Dst Port': 'Destination Port',\n",
    "    'Protocol': 'Protocol',\n",
    "    'Timestamp': 'Timestamp',\n",
    "    'Flow Duration': 'Flow Duration',\n",
    "    'Total Fwd Packets': 'Total Fwd Packets',\n",
    "    'Tot Fwd Pkts': 'Total Fwd Packets',\n",
    "    'Total Backward Packets': 'Total Backward Packets',\n",
    "    'Tot Bwd Pkts': 'Total Backward Packets',\n",
    "    'Total Length of Fwd Packets': 'Fwd Packets Length Total',\n",
    "    'TotLen Fwd Pkts': 'Fwd Packets Length Total',\n",
    "    'Total Length of Bwd Packets': 'Bwd Packets Length Total',\n",
    "    'TotLen Bwd Pkts': 'Bwd Packets Length Total',\n",
    "    'Fwd Packet Length Max': 'Fwd Packet Length Max',\n",
    "    'Fwd Pkt Len Max': 'Fwd Packet Length Max',\n",
    "    'Fwd Packet Length Min': 'Fwd Packet Length Min',\n",
    "    'Fwd Pkt Len Min': 'Fwd Packet Length Min',\n",
    "    'Fwd Packet Length Mean': 'Fwd Packet Length Mean',\n",
    "    'Fwd Pkt Len Mean': 'Fwd Packet Length Mean',\n",
    "    'Fwd Packet Length Std': 'Fwd Packet Length Std',\n",
    "    'Fwd Pkt Len Std': 'Fwd Packet Length Std',\n",
    "    'Bwd Packet Length Max': 'Bwd Packet Length Max',\n",
    "    'Bwd Pkt Len Max': 'Bwd Packet Length Max',\n",
    "    'Bwd Packet Length Min': 'Bwd Packet Length Min',\n",
    "    'Bwd Pkt Len Min': 'Bwd Packet Length Min',\n",
    "    'Bwd Packet Length Mean': 'Bwd Packet Length Mean',\n",
    "    'Bwd Pkt Len Mean': 'Bwd Packet Length Mean',\n",
    "    'Bwd Packet Length Std': 'Bwd Packet Length Std',\n",
    "    'Bwd Pkt Len Std': 'Bwd Packet Length Std',\n",
    "    'Flow Bytes/s': 'Flow Bytes/s',\n",
    "    'Flow Byts/s': 'Flow Bytes/s',\n",
    "    'Flow Packets/s': 'Flow Packets/s',\n",
    "    'Flow Pkts/s': 'Flow Packets/s',\n",
    "    'Flow IAT Mean': 'Flow IAT Mean',\n",
    "    'Flow IAT Std': 'Flow IAT Std',\n",
    "    'Flow IAT Max': 'Flow IAT Max',\n",
    "    'Flow IAT Min': 'Flow IAT Min',\n",
    "    'Fwd IAT Total': 'Fwd IAT Total',\n",
    "    'Fwd IAT Tot': 'Fwd IAT Total',\n",
    "    'Fwd IAT Mean': 'Fwd IAT Mean',\n",
    "    'Fwd IAT Std': 'Fwd IAT Std',\n",
    "    'Fwd IAT Max': 'Fwd IAT Max',\n",
    "    'Fwd IAT Min': 'Fwd IAT Min',\n",
    "    'Bwd IAT Total': 'Bwd IAT Total',\n",
    "    'Bwd IAT Tot': 'Bwd IAT Total',\n",
    "    'Bwd IAT Mean': 'Bwd IAT Mean',\n",
    "    'Bwd IAT Std': 'Bwd IAT Std',\n",
    "    'Bwd IAT Max': 'Bwd IAT Max',\n",
    "    'Bwd IAT Min': 'Bwd IAT Min',\n",
    "    'Fwd PSH Flags': 'Fwd PSH Flags',\n",
    "    'Bwd PSH Flags': 'Bwd PSH Flags',\n",
    "    'Fwd URG Flags': 'Fwd URG Flags',\n",
    "    'Bwd URG Flags': 'Bwd URG Flags',\n",
    "    'Fwd Header Length': 'Fwd Header Length',\n",
    "    'Fwd Header Len': 'Fwd Header Length',\n",
    "    'Bwd Header Length': 'Bwd Header Length',\n",
    "    'Bwd Header Len': 'Bwd Header Length',\n",
    "    'Fwd Packets/s': 'Fwd Packets/s',\n",
    "    'Fwd Pkts/s': 'Fwd Packets/s',\n",
    "    'Bwd Packets/s': 'Bwd Packets/s',\n",
    "    'Bwd Pkts/s': 'Bwd Packets/s',\n",
    "    'Min Packet Length': 'Packet Length Min',\n",
    "    'Pkt Len Min': 'Packet Length Min',\n",
    "    'Max Packet Length': 'Packet Length Max',\n",
    "    'Pkt Len Max': 'Packet Length Max',\n",
    "    'Packet Length Mean': 'Packet Length Mean',\n",
    "    'Pkt Len Mean': 'Packet Length Mean',\n",
    "    'Packet Length Std': 'Packet Length Std',\n",
    "    'Pkt Len Std': 'Packet Length Std',\n",
    "    'Packet Length Variance': 'Packet Length Variance',\n",
    "    'Pkt Len Var': 'Packet Length Variance',\n",
    "    'FIN Flag Count': 'FIN Flag Count',\n",
    "    'FIN Flag Cnt': 'FIN Flag Count',\n",
    "    'SYN Flag Count': 'SYN Flag Count',\n",
    "    'SYN Flag Cnt': 'SYN Flag Count',\n",
    "    'RST Flag Count': 'RST Flag Count',\n",
    "    'RST Flag Cnt': 'RST Flag Count',\n",
    "    'PSH Flag Count': 'PSH Flag Count',\n",
    "    'PSH Flag Cnt': 'PSH Flag Count',\n",
    "    'ACK Flag Count': 'ACK Flag Count',\n",
    "    'ACK Flag Cnt': 'ACK Flag Count',\n",
    "    'URG Flag Count': 'URG Flag Count',\n",
    "    'URG Flag Cnt': 'URG Flag Count',\n",
    "    'CWE Flag Count': 'CWE Flag Count',\n",
    "    'CWE Flag Cnt': 'CWE Flag Count',\n",
    "    'ECE Flag Count': 'ECE Flag Count',\n",
    "    'ECE Flag Cnt': 'ECE Flag Count',\n",
    "    'Down/Up Ratio': 'Down/Up Ratio',\n",
    "    'Average Packet Size': 'Avg Packet Size',\n",
    "    'Pkt Size Avg': 'Avg Packet Size',\n",
    "    'Avg Fwd Segment Size': 'Avg Fwd Segment Size',\n",
    "    'Fwd Seg Size Avg': 'Avg Fwd Segment Size',\n",
    "    'Avg Bwd Segment Size': 'Avg Bwd Segment Size',\n",
    "    'Bwd Seg Size Avg': 'Avg Bwd Segment Size',\n",
    "    'Fwd Avg Bytes/Bulk': 'Fwd Avg Bytes/Bulk',\n",
    "    'Fwd Byts/b Avg': 'Fwd Avg Bytes/Bulk',\n",
    "    'Fwd Avg Packets/Bulk': 'Fwd Avg Packets/Bulk',\n",
    "    'Fwd Pkts/b Avg': 'Fwd Avg Packets/Bulk',\n",
    "    'Fwd Avg Bulk Rate': 'Fwd Avg Bulk Rate',\n",
    "    'Fwd Blk Rate Avg': 'Fwd Avg Bulk Rate',\n",
    "    'Bwd Avg Bytes/Bulk': 'Bwd Avg Bytes/Bulk',\n",
    "    'Bwd Byts/b Avg': 'Bwd Avg Bytes/Bulk',\n",
    "    'Bwd Avg Packets/Bulk': 'Bwd Avg Packets/Bulk',\n",
    "    'Bwd Pkts/b Avg': 'Bwd Avg Packets/Bulk',\n",
    "    'Bwd Avg Bulk Rate': 'Bwd Avg Bulk Rate',\n",
    "    'Bwd Blk Rate Avg': 'Bwd Avg Bulk Rate',\n",
    "    'Subflow Fwd Packets': 'Subflow Fwd Packets',\n",
    "    'Subflow Fwd Pkts': 'Subflow Fwd Packets',\n",
    "    'Subflow Fwd Bytes': 'Subflow Fwd Bytes',\n",
    "    'Subflow Fwd Byts': 'Subflow Fwd Bytes',\n",
    "    'Subflow Bwd Packets': 'Subflow Bwd Packets',\n",
    "    'Subflow Bwd Pkts': 'Subflow Bwd Packets',\n",
    "    'Subflow Bwd Bytes': 'Subflow Bwd Bytes',\n",
    "    'Subflow Bwd Byts': 'Subflow Bwd Bytes',\n",
    "    'Init_Win_bytes_forward': 'Init Fwd Win Bytes',\n",
    "    'Init Fwd Win Byts': 'Init Fwd Win Bytes',\n",
    "    'Init_Win_bytes_backward': 'Init Bwd Win Bytes',\n",
    "    'Init Bwd Win Byts': 'Init Bwd Win Bytes',\n",
    "    'act_data_pkt_fwd': 'Fwd Act Data Packets',\n",
    "    'Fwd Act Data Pkts': 'Fwd Act Data Packets',\n",
    "    'min_seg_size_forward': 'Fwd Seg Size Min',\n",
    "    'Fwd Seg Size Min': 'Fwd Seg Size Min',\n",
    "    'Active Mean': 'Active Mean',\n",
    "    'Active Std': 'Active Std',\n",
    "    'Active Max': 'Active Max',\n",
    "    'Active Min': 'Active Min',\n",
    "    'Idle Mean': 'Idle Mean',\n",
    "    'Idle Std': 'Idle Std',\n",
    "    'Idle Max': 'Idle Max',\n",
    "    'Idle Min': 'Idle Min',\n",
    "    'Label': 'Label'\n",
    "}"
   ],
   "metadata": {
    "collapsed": false
   }
  },
  {
   "cell_type": "markdown",
   "source": [
    "Following Columns may have little insignificance over model"
   ],
   "metadata": {
    "collapsed": false
   }
  },
  {
   "cell_type": "code",
   "execution_count": 92,
   "outputs": [
    {
     "data": {
      "text/plain": "14"
     },
     "execution_count": 92,
     "metadata": {},
     "output_type": "execute_result"
    }
   ],
   "source": [
    "drop_columns = [  # this list includes all spellings across CIC NIDS datasets\n",
    "    \"Flow ID\",\n",
    "    'Fwd Header Length.1',\n",
    "    \"Source IP\",\n",
    "    \"Src IP\",\n",
    "    \"Source Port\",\n",
    "    \"Src Port\",\n",
    "    \"Destination IP\",\n",
    "    \"Dst IP\",\n",
    "    \"Destination Port\",\n",
    "    \"Dst Port\",\n",
    "    \"Timestamp\",\n",
    "    \"Unnamed: 0\",\n",
    "    \"Inbound\",\n",
    "    \"SimillarHTTP\"  # CIC-DDoS other undocumented columns\n",
    "]\n",
    "len(drop_columns)  # src_port,dst_port, src_ip, dst_ip these are duplicate"
   ],
   "metadata": {
    "collapsed": false
   }
  },
  {
   "cell_type": "code",
   "execution_count": 93,
   "outputs": [
    {
     "name": "stdout",
     "output_type": "stream",
     "text": [
      "[name: \"/device:CPU:0\"\n",
      "device_type: \"CPU\"\n",
      "memory_limit: 268435456\n",
      "locality {\n",
      "}\n",
      "incarnation: 3015606136917187597\n",
      ", name: \"/device:GPU:0\"\n",
      "device_type: \"GPU\"\n",
      "memory_limit: 2966106932\n",
      "locality {\n",
      "  bus_id: 1\n",
      "  links {\n",
      "  }\n",
      "}\n",
      "incarnation: 18273226423412548088\n",
      "physical_device_desc: \"device: 0, name: NVIDIA GeForce 940MX, pci bus id: 0000:01:00.0, compute capability: 5.0\"\n",
      "]\n"
     ]
    },
    {
     "data": {
      "text/plain": "[PhysicalDevice(name='/physical_device:GPU:0', device_type='GPU')]"
     },
     "execution_count": 93,
     "metadata": {},
     "output_type": "execute_result"
    }
   ],
   "source": [
    "from tensorflow.python.client import device_lib\n",
    "\n",
    "print(device_lib.list_local_devices())\n",
    "tf.config.experimental.list_physical_devices('GPU')\n",
    "# import cudf\n",
    "# dtypes = {'SimillarHTTP': 'object'}\n",
    "# df_gpu = cudf.read_csv(path_TFTP, blocksize=50e6, low_memory=False, dtype=dtypes)"
   ],
   "metadata": {
    "collapsed": false
   }
  },
  {
   "cell_type": "code",
   "execution_count": 94,
   "outputs": [],
   "source": [
    "def readHugeCsvFileAsDataFrame(file_path):\n",
    "    # start = timer()\n",
    "    dtypes = {'SimillarHTTP': 'object',\n",
    "              'Timestamp': 'object',\n",
    "              'Source IP': 'str',\n",
    "              'Destination IP': 'str',\n",
    "              'Flow ID': 'object',\n",
    "              'Label': 'object',\n",
    "              }\n",
    "    for feature in [f'f_{i}' for i in range(82)]:\n",
    "        dtypes[feature] = \"float32\"\n",
    "\n",
    "    dask_df = dd.read_csv(file_path, low_memory=False, dtype=dtypes)  # 50MB chunk-size\n",
    "    # elapsed_time = timer() - start\n",
    "    # print(\"Read csv with dask: \", elapsed_time, \"sec\")\n",
    "    return dask_df.compute()"
   ],
   "metadata": {
    "collapsed": false
   }
  },
  {
   "cell_type": "code",
   "execution_count": 95,
   "outputs": [
    {
     "name": "stderr",
     "output_type": "stream",
     "text": [
      "C:\\Users\\Malware\\anaconda3\\envs\\ml_env\\lib\\site-packages\\distributed\\node.py:155: UserWarning: Port 8787 is already in use.\n",
      "Perhaps you already have a cluster running?\n",
      "Hosting the HTTP server on port 7761 instead\n",
      "  http_address[\"port\"], self.http_server.port\n"
     ]
    },
    {
     "data": {
      "text/plain": "<Client: 'tcp://127.0.0.1:7762' processes=4 threads=4, memory=8.47 GB>",
      "text/html": "<table style=\"border: 2px solid white;\">\n<tr>\n<td style=\"vertical-align: top; border: 0px solid white\">\n<h3 style=\"text-align: left;\">Client</h3>\n<ul style=\"text-align: left; list-style: none; margin: 0; padding: 0;\">\n  <li><b>Scheduler: </b>tcp://127.0.0.1:7762</li>\n  <li><b>Dashboard: </b><a href='http://127.0.0.1:7761/status' target='_blank'>http://127.0.0.1:7761/status</a></li>\n</ul>\n</td>\n<td style=\"vertical-align: top; border: 0px solid white\">\n<h3 style=\"text-align: left;\">Cluster</h3>\n<ul style=\"text-align: left; list-style:none; margin: 0; padding: 0;\">\n  <li><b>Workers: </b>4</li>\n  <li><b>Cores: </b>4</li>\n  <li><b>Memory: </b>8.47 GB</li>\n</ul>\n</td>\n</tr>\n</table>"
     },
     "execution_count": 95,
     "metadata": {},
     "output_type": "execute_result"
    }
   ],
   "source": [
    "scheduler = Client()\n",
    "scheduler"
   ],
   "metadata": {
    "collapsed": false
   }
  },
  {
   "cell_type": "markdown",
   "source": [
    "Without Scheduler (see the elapsed time to process)"
   ],
   "metadata": {
    "collapsed": false
   }
  },
  {
   "cell_type": "code",
   "execution_count": 96,
   "outputs": [
    {
     "name": "stdout",
     "output_type": "stream",
     "text": [
      "Wall time: 17.3 s\n"
     ]
    },
    {
     "data": {
      "text/plain": "       Unnamed: 0                                 Flow ID   Source IP  \\\n0          186059   172.16.0.5-192.168.50.1-58445-4463-17  172.16.0.5   \n1          135692   172.16.0.5-192.168.50.1-36908-9914-17  172.16.0.5   \n2           33822  172.16.0.5-192.168.50.1-41727-32361-17  172.16.0.5   \n3           24498   172.16.0.5-192.168.50.1-55447-5691-17  172.16.0.5   \n4          117372  172.16.0.5-192.168.50.1-58794-56335-17  172.16.0.5   \n...           ...                                     ...         ...   \n76355      350624   172.16.0.5-192.168.50.1-60490-14102-6  172.16.0.5   \n76356      336856   172.16.0.5-192.168.50.1-60491-58360-6  172.16.0.5   \n76357      115128    172.16.0.5-192.168.50.1-60492-2905-6  172.16.0.5   \n76358       51370   172.16.0.5-192.168.50.1-60493-45714-6  172.16.0.5   \n76359      317173   172.16.0.5-192.168.50.1-60494-44935-6  172.16.0.5   \n\n        Source Port  Destination IP   Destination Port   Protocol  \\\n0             58445    192.168.50.1               4463         17   \n1             36908    192.168.50.1               9914         17   \n2             41727    192.168.50.1              32361         17   \n3             55447    192.168.50.1               5691         17   \n4             58794    192.168.50.1              56335         17   \n...             ...             ...                ...        ...   \n76355         60490    192.168.50.1              14102          6   \n76356         60491    192.168.50.1              58360          6   \n76357         60492    192.168.50.1               2905          6   \n76358         60493    192.168.50.1              45714          6   \n76359         60494    192.168.50.1              44935          6   \n\n                        Timestamp   Flow Duration   Total Fwd Packets  ...  \\\n0      2018-12-01 13:04:45.928673               1                   2  ...   \n1      2018-12-01 13:04:45.928913               1                   2  ...   \n2      2018-12-01 13:04:45.928915               2                   2  ...   \n3      2018-12-01 13:04:45.929024               2                   2  ...   \n4      2018-12-01 13:04:45.929096               1                   2  ...   \n...                           ...             ...                 ...  ...   \n76355  2018-12-01 13:30:30.740273               1                   2  ...   \n76356  2018-12-01 13:30:30.740323               1                   2  ...   \n76357  2018-12-01 13:30:30.740374               2                   2  ...   \n76358  2018-12-01 13:30:30.740424               0                   2  ...   \n76359  2018-12-01 13:30:30.740425             134                   2  ...   \n\n        Active Std   Active Max   Active Min  Idle Mean   Idle Std   Idle Max  \\\n0              0.0          0.0          0.0        0.0        0.0        0.0   \n1              0.0          0.0          0.0        0.0        0.0        0.0   \n2              0.0          0.0          0.0        0.0        0.0        0.0   \n3              0.0          0.0          0.0        0.0        0.0        0.0   \n4              0.0          0.0          0.0        0.0        0.0        0.0   \n...            ...          ...          ...        ...        ...        ...   \n76355          0.0          0.0          0.0        0.0        0.0        0.0   \n76356          0.0          0.0          0.0        0.0        0.0        0.0   \n76357          0.0          0.0          0.0        0.0        0.0        0.0   \n76358          0.0          0.0          0.0        0.0        0.0        0.0   \n76359          0.0          0.0          0.0        0.0        0.0        0.0   \n\n        Idle Min  SimillarHTTP   Inbound    Label  \n0            0.0             0         1  UDP-lag  \n1            0.0             0         1  UDP-lag  \n2            0.0             0         1  UDP-lag  \n3            0.0             0         1  UDP-lag  \n4            0.0             0         1  UDP-lag  \n...          ...           ...       ...      ...  \n76355        0.0             0         1  UDP-lag  \n76356        0.0             0         1  UDP-lag  \n76357        0.0             0         1  UDP-lag  \n76358        0.0             0         1  UDP-lag  \n76359        0.0             0         1  UDP-lag  \n\n[370605 rows x 88 columns]",
      "text/html": "<div>\n<style scoped>\n    .dataframe tbody tr th:only-of-type {\n        vertical-align: middle;\n    }\n\n    .dataframe tbody tr th {\n        vertical-align: top;\n    }\n\n    .dataframe thead th {\n        text-align: right;\n    }\n</style>\n<table border=\"1\" class=\"dataframe\">\n  <thead>\n    <tr style=\"text-align: right;\">\n      <th></th>\n      <th>Unnamed: 0</th>\n      <th>Flow ID</th>\n      <th>Source IP</th>\n      <th>Source Port</th>\n      <th>Destination IP</th>\n      <th>Destination Port</th>\n      <th>Protocol</th>\n      <th>Timestamp</th>\n      <th>Flow Duration</th>\n      <th>Total Fwd Packets</th>\n      <th>...</th>\n      <th>Active Std</th>\n      <th>Active Max</th>\n      <th>Active Min</th>\n      <th>Idle Mean</th>\n      <th>Idle Std</th>\n      <th>Idle Max</th>\n      <th>Idle Min</th>\n      <th>SimillarHTTP</th>\n      <th>Inbound</th>\n      <th>Label</th>\n    </tr>\n  </thead>\n  <tbody>\n    <tr>\n      <th>0</th>\n      <td>186059</td>\n      <td>172.16.0.5-192.168.50.1-58445-4463-17</td>\n      <td>172.16.0.5</td>\n      <td>58445</td>\n      <td>192.168.50.1</td>\n      <td>4463</td>\n      <td>17</td>\n      <td>2018-12-01 13:04:45.928673</td>\n      <td>1</td>\n      <td>2</td>\n      <td>...</td>\n      <td>0.0</td>\n      <td>0.0</td>\n      <td>0.0</td>\n      <td>0.0</td>\n      <td>0.0</td>\n      <td>0.0</td>\n      <td>0.0</td>\n      <td>0</td>\n      <td>1</td>\n      <td>UDP-lag</td>\n    </tr>\n    <tr>\n      <th>1</th>\n      <td>135692</td>\n      <td>172.16.0.5-192.168.50.1-36908-9914-17</td>\n      <td>172.16.0.5</td>\n      <td>36908</td>\n      <td>192.168.50.1</td>\n      <td>9914</td>\n      <td>17</td>\n      <td>2018-12-01 13:04:45.928913</td>\n      <td>1</td>\n      <td>2</td>\n      <td>...</td>\n      <td>0.0</td>\n      <td>0.0</td>\n      <td>0.0</td>\n      <td>0.0</td>\n      <td>0.0</td>\n      <td>0.0</td>\n      <td>0.0</td>\n      <td>0</td>\n      <td>1</td>\n      <td>UDP-lag</td>\n    </tr>\n    <tr>\n      <th>2</th>\n      <td>33822</td>\n      <td>172.16.0.5-192.168.50.1-41727-32361-17</td>\n      <td>172.16.0.5</td>\n      <td>41727</td>\n      <td>192.168.50.1</td>\n      <td>32361</td>\n      <td>17</td>\n      <td>2018-12-01 13:04:45.928915</td>\n      <td>2</td>\n      <td>2</td>\n      <td>...</td>\n      <td>0.0</td>\n      <td>0.0</td>\n      <td>0.0</td>\n      <td>0.0</td>\n      <td>0.0</td>\n      <td>0.0</td>\n      <td>0.0</td>\n      <td>0</td>\n      <td>1</td>\n      <td>UDP-lag</td>\n    </tr>\n    <tr>\n      <th>3</th>\n      <td>24498</td>\n      <td>172.16.0.5-192.168.50.1-55447-5691-17</td>\n      <td>172.16.0.5</td>\n      <td>55447</td>\n      <td>192.168.50.1</td>\n      <td>5691</td>\n      <td>17</td>\n      <td>2018-12-01 13:04:45.929024</td>\n      <td>2</td>\n      <td>2</td>\n      <td>...</td>\n      <td>0.0</td>\n      <td>0.0</td>\n      <td>0.0</td>\n      <td>0.0</td>\n      <td>0.0</td>\n      <td>0.0</td>\n      <td>0.0</td>\n      <td>0</td>\n      <td>1</td>\n      <td>UDP-lag</td>\n    </tr>\n    <tr>\n      <th>4</th>\n      <td>117372</td>\n      <td>172.16.0.5-192.168.50.1-58794-56335-17</td>\n      <td>172.16.0.5</td>\n      <td>58794</td>\n      <td>192.168.50.1</td>\n      <td>56335</td>\n      <td>17</td>\n      <td>2018-12-01 13:04:45.929096</td>\n      <td>1</td>\n      <td>2</td>\n      <td>...</td>\n      <td>0.0</td>\n      <td>0.0</td>\n      <td>0.0</td>\n      <td>0.0</td>\n      <td>0.0</td>\n      <td>0.0</td>\n      <td>0.0</td>\n      <td>0</td>\n      <td>1</td>\n      <td>UDP-lag</td>\n    </tr>\n    <tr>\n      <th>...</th>\n      <td>...</td>\n      <td>...</td>\n      <td>...</td>\n      <td>...</td>\n      <td>...</td>\n      <td>...</td>\n      <td>...</td>\n      <td>...</td>\n      <td>...</td>\n      <td>...</td>\n      <td>...</td>\n      <td>...</td>\n      <td>...</td>\n      <td>...</td>\n      <td>...</td>\n      <td>...</td>\n      <td>...</td>\n      <td>...</td>\n      <td>...</td>\n      <td>...</td>\n      <td>...</td>\n    </tr>\n    <tr>\n      <th>76355</th>\n      <td>350624</td>\n      <td>172.16.0.5-192.168.50.1-60490-14102-6</td>\n      <td>172.16.0.5</td>\n      <td>60490</td>\n      <td>192.168.50.1</td>\n      <td>14102</td>\n      <td>6</td>\n      <td>2018-12-01 13:30:30.740273</td>\n      <td>1</td>\n      <td>2</td>\n      <td>...</td>\n      <td>0.0</td>\n      <td>0.0</td>\n      <td>0.0</td>\n      <td>0.0</td>\n      <td>0.0</td>\n      <td>0.0</td>\n      <td>0.0</td>\n      <td>0</td>\n      <td>1</td>\n      <td>UDP-lag</td>\n    </tr>\n    <tr>\n      <th>76356</th>\n      <td>336856</td>\n      <td>172.16.0.5-192.168.50.1-60491-58360-6</td>\n      <td>172.16.0.5</td>\n      <td>60491</td>\n      <td>192.168.50.1</td>\n      <td>58360</td>\n      <td>6</td>\n      <td>2018-12-01 13:30:30.740323</td>\n      <td>1</td>\n      <td>2</td>\n      <td>...</td>\n      <td>0.0</td>\n      <td>0.0</td>\n      <td>0.0</td>\n      <td>0.0</td>\n      <td>0.0</td>\n      <td>0.0</td>\n      <td>0.0</td>\n      <td>0</td>\n      <td>1</td>\n      <td>UDP-lag</td>\n    </tr>\n    <tr>\n      <th>76357</th>\n      <td>115128</td>\n      <td>172.16.0.5-192.168.50.1-60492-2905-6</td>\n      <td>172.16.0.5</td>\n      <td>60492</td>\n      <td>192.168.50.1</td>\n      <td>2905</td>\n      <td>6</td>\n      <td>2018-12-01 13:30:30.740374</td>\n      <td>2</td>\n      <td>2</td>\n      <td>...</td>\n      <td>0.0</td>\n      <td>0.0</td>\n      <td>0.0</td>\n      <td>0.0</td>\n      <td>0.0</td>\n      <td>0.0</td>\n      <td>0.0</td>\n      <td>0</td>\n      <td>1</td>\n      <td>UDP-lag</td>\n    </tr>\n    <tr>\n      <th>76358</th>\n      <td>51370</td>\n      <td>172.16.0.5-192.168.50.1-60493-45714-6</td>\n      <td>172.16.0.5</td>\n      <td>60493</td>\n      <td>192.168.50.1</td>\n      <td>45714</td>\n      <td>6</td>\n      <td>2018-12-01 13:30:30.740424</td>\n      <td>0</td>\n      <td>2</td>\n      <td>...</td>\n      <td>0.0</td>\n      <td>0.0</td>\n      <td>0.0</td>\n      <td>0.0</td>\n      <td>0.0</td>\n      <td>0.0</td>\n      <td>0.0</td>\n      <td>0</td>\n      <td>1</td>\n      <td>UDP-lag</td>\n    </tr>\n    <tr>\n      <th>76359</th>\n      <td>317173</td>\n      <td>172.16.0.5-192.168.50.1-60494-44935-6</td>\n      <td>172.16.0.5</td>\n      <td>60494</td>\n      <td>192.168.50.1</td>\n      <td>44935</td>\n      <td>6</td>\n      <td>2018-12-01 13:30:30.740425</td>\n      <td>134</td>\n      <td>2</td>\n      <td>...</td>\n      <td>0.0</td>\n      <td>0.0</td>\n      <td>0.0</td>\n      <td>0.0</td>\n      <td>0.0</td>\n      <td>0.0</td>\n      <td>0.0</td>\n      <td>0</td>\n      <td>1</td>\n      <td>UDP-lag</td>\n    </tr>\n  </tbody>\n</table>\n<p>370605 rows × 88 columns</p>\n</div>"
     },
     "execution_count": 96,
     "metadata": {},
     "output_type": "execute_result"
    }
   ],
   "source": [
    "%%time\n",
    "workingDataFrame = readHugeCsvFileAsDataFrame(path_UDPLag)\n",
    "# workingDataFrame.describe()\n",
    "workingDataFrame"
   ],
   "metadata": {
    "collapsed": false
   }
  },
  {
   "cell_type": "markdown",
   "source": [
    "With Scheduler (see the elapsed time to process)"
   ],
   "metadata": {
    "collapsed": false
   }
  },
  {
   "cell_type": "markdown",
   "source": [
    "%%time\n",
    "workingDataFrame = scheduler.submit(readHugeCsvFileAsDataFrame, path_UDPLag)\n",
    "df = workingDataFrame.result()\n",
    "df"
   ],
   "metadata": {
    "collapsed": false
   }
  },
  {
   "cell_type": "code",
   "execution_count": 97,
   "outputs": [
    {
     "data": {
      "text/plain": "Index(['Unnamed: 0', 'Flow ID', ' Source IP', ' Source Port',\n       ' Destination IP', ' Destination Port', ' Protocol', ' Timestamp',\n       ' Flow Duration', ' Total Fwd Packets', ' Total Backward Packets',\n       'Total Length of Fwd Packets', ' Total Length of Bwd Packets',\n       ' Fwd Packet Length Max', ' Fwd Packet Length Min',\n       ' Fwd Packet Length Mean', ' Fwd Packet Length Std',\n       'Bwd Packet Length Max', ' Bwd Packet Length Min',\n       ' Bwd Packet Length Mean', ' Bwd Packet Length Std', 'Flow Bytes/s',\n       ' Flow Packets/s', ' Flow IAT Mean', ' Flow IAT Std', ' Flow IAT Max',\n       ' Flow IAT Min', 'Fwd IAT Total', ' Fwd IAT Mean', ' Fwd IAT Std',\n       ' Fwd IAT Max', ' Fwd IAT Min', 'Bwd IAT Total', ' Bwd IAT Mean',\n       ' Bwd IAT Std', ' Bwd IAT Max', ' Bwd IAT Min', 'Fwd PSH Flags',\n       ' Bwd PSH Flags', ' Fwd URG Flags', ' Bwd URG Flags',\n       ' Fwd Header Length', ' Bwd Header Length', 'Fwd Packets/s',\n       ' Bwd Packets/s', ' Min Packet Length', ' Max Packet Length',\n       ' Packet Length Mean', ' Packet Length Std', ' Packet Length Variance',\n       'FIN Flag Count', ' SYN Flag Count', ' RST Flag Count',\n       ' PSH Flag Count', ' ACK Flag Count', ' URG Flag Count',\n       ' CWE Flag Count', ' ECE Flag Count', ' Down/Up Ratio',\n       ' Average Packet Size', ' Avg Fwd Segment Size',\n       ' Avg Bwd Segment Size', ' Fwd Header Length.1', 'Fwd Avg Bytes/Bulk',\n       ' Fwd Avg Packets/Bulk', ' Fwd Avg Bulk Rate', ' Bwd Avg Bytes/Bulk',\n       ' Bwd Avg Packets/Bulk', 'Bwd Avg Bulk Rate', 'Subflow Fwd Packets',\n       ' Subflow Fwd Bytes', ' Subflow Bwd Packets', ' Subflow Bwd Bytes',\n       'Init_Win_bytes_forward', ' Init_Win_bytes_backward',\n       ' act_data_pkt_fwd', ' min_seg_size_forward', 'Active Mean',\n       ' Active Std', ' Active Max', ' Active Min', 'Idle Mean', ' Idle Std',\n       ' Idle Max', ' Idle Min', 'SimillarHTTP', ' Inbound', ' Label'],\n      dtype='object')"
     },
     "execution_count": 97,
     "metadata": {},
     "output_type": "execute_result"
    }
   ],
   "source": [
    "workingDataFrame.columns"
   ],
   "metadata": {
    "collapsed": false
   }
  },
  {
   "cell_type": "code",
   "execution_count": 98,
   "outputs": [
    {
     "data": {
      "text/plain": "Unnamed: 0         0\nFlow ID            0\n Source IP         0\n Source Port       0\n Destination IP    0\n                  ..\n Idle Max          0\n Idle Min          0\nSimillarHTTP       0\n Inbound           0\n Label             0\nLength: 88, dtype: int64"
     },
     "execution_count": 98,
     "metadata": {},
     "output_type": "execute_result"
    }
   ],
   "source": [
    "workingDataFrame.isnull().sum()"
   ],
   "metadata": {
    "collapsed": false
   }
  },
  {
   "cell_type": "markdown",
   "source": [
    "Dropping Unnecessary Features"
   ],
   "metadata": {
    "collapsed": false
   }
  },
  {
   "cell_type": "code",
   "execution_count": 99,
   "outputs": [
    {
     "data": {
      "text/plain": "   Protocol  Flow Duration  Total Fwd Packets  Total Backward Packets  \\\n0        17              1                  2                       0   \n1        17              1                  2                       0   \n2        17              2                  2                       0   \n3        17              2                  2                       0   \n4        17              1                  2                       0   \n\n   Fwd Packets Length Total  Bwd Packets Length Total  Fwd Packet Length Max  \\\n0                     766.0                       0.0                  383.0   \n1                     778.0                       0.0                  389.0   \n2                     750.0                       0.0                  375.0   \n3                     738.0                       0.0                  369.0   \n4                     750.0                       0.0                  375.0   \n\n   Fwd Packet Length Min  Fwd Packet Length Mean  Fwd Packet Length Std  ...  \\\n0                  383.0                   383.0                    0.0  ...   \n1                  389.0                   389.0                    0.0  ...   \n2                  375.0                   375.0                    0.0  ...   \n3                  369.0                   369.0                    0.0  ...   \n4                  375.0                   375.0                    0.0  ...   \n\n   Fwd Seg Size Min  Active Mean  Active Std  Active Max  Active Min  \\\n0                -1          0.0         0.0         0.0         0.0   \n1                -1          0.0         0.0         0.0         0.0   \n2                -1          0.0         0.0         0.0         0.0   \n3                -1          0.0         0.0         0.0         0.0   \n4                -1          0.0         0.0         0.0         0.0   \n\n   Idle Mean  Idle Std  Idle Max  Idle Min    Label  \n0        0.0       0.0       0.0       0.0  UDP-lag  \n1        0.0       0.0       0.0       0.0  UDP-lag  \n2        0.0       0.0       0.0       0.0  UDP-lag  \n3        0.0       0.0       0.0       0.0  UDP-lag  \n4        0.0       0.0       0.0       0.0  UDP-lag  \n\n[5 rows x 78 columns]",
      "text/html": "<div>\n<style scoped>\n    .dataframe tbody tr th:only-of-type {\n        vertical-align: middle;\n    }\n\n    .dataframe tbody tr th {\n        vertical-align: top;\n    }\n\n    .dataframe thead th {\n        text-align: right;\n    }\n</style>\n<table border=\"1\" class=\"dataframe\">\n  <thead>\n    <tr style=\"text-align: right;\">\n      <th></th>\n      <th>Protocol</th>\n      <th>Flow Duration</th>\n      <th>Total Fwd Packets</th>\n      <th>Total Backward Packets</th>\n      <th>Fwd Packets Length Total</th>\n      <th>Bwd Packets Length Total</th>\n      <th>Fwd Packet Length Max</th>\n      <th>Fwd Packet Length Min</th>\n      <th>Fwd Packet Length Mean</th>\n      <th>Fwd Packet Length Std</th>\n      <th>...</th>\n      <th>Fwd Seg Size Min</th>\n      <th>Active Mean</th>\n      <th>Active Std</th>\n      <th>Active Max</th>\n      <th>Active Min</th>\n      <th>Idle Mean</th>\n      <th>Idle Std</th>\n      <th>Idle Max</th>\n      <th>Idle Min</th>\n      <th>Label</th>\n    </tr>\n  </thead>\n  <tbody>\n    <tr>\n      <th>0</th>\n      <td>17</td>\n      <td>1</td>\n      <td>2</td>\n      <td>0</td>\n      <td>766.0</td>\n      <td>0.0</td>\n      <td>383.0</td>\n      <td>383.0</td>\n      <td>383.0</td>\n      <td>0.0</td>\n      <td>...</td>\n      <td>-1</td>\n      <td>0.0</td>\n      <td>0.0</td>\n      <td>0.0</td>\n      <td>0.0</td>\n      <td>0.0</td>\n      <td>0.0</td>\n      <td>0.0</td>\n      <td>0.0</td>\n      <td>UDP-lag</td>\n    </tr>\n    <tr>\n      <th>1</th>\n      <td>17</td>\n      <td>1</td>\n      <td>2</td>\n      <td>0</td>\n      <td>778.0</td>\n      <td>0.0</td>\n      <td>389.0</td>\n      <td>389.0</td>\n      <td>389.0</td>\n      <td>0.0</td>\n      <td>...</td>\n      <td>-1</td>\n      <td>0.0</td>\n      <td>0.0</td>\n      <td>0.0</td>\n      <td>0.0</td>\n      <td>0.0</td>\n      <td>0.0</td>\n      <td>0.0</td>\n      <td>0.0</td>\n      <td>UDP-lag</td>\n    </tr>\n    <tr>\n      <th>2</th>\n      <td>17</td>\n      <td>2</td>\n      <td>2</td>\n      <td>0</td>\n      <td>750.0</td>\n      <td>0.0</td>\n      <td>375.0</td>\n      <td>375.0</td>\n      <td>375.0</td>\n      <td>0.0</td>\n      <td>...</td>\n      <td>-1</td>\n      <td>0.0</td>\n      <td>0.0</td>\n      <td>0.0</td>\n      <td>0.0</td>\n      <td>0.0</td>\n      <td>0.0</td>\n      <td>0.0</td>\n      <td>0.0</td>\n      <td>UDP-lag</td>\n    </tr>\n    <tr>\n      <th>3</th>\n      <td>17</td>\n      <td>2</td>\n      <td>2</td>\n      <td>0</td>\n      <td>738.0</td>\n      <td>0.0</td>\n      <td>369.0</td>\n      <td>369.0</td>\n      <td>369.0</td>\n      <td>0.0</td>\n      <td>...</td>\n      <td>-1</td>\n      <td>0.0</td>\n      <td>0.0</td>\n      <td>0.0</td>\n      <td>0.0</td>\n      <td>0.0</td>\n      <td>0.0</td>\n      <td>0.0</td>\n      <td>0.0</td>\n      <td>UDP-lag</td>\n    </tr>\n    <tr>\n      <th>4</th>\n      <td>17</td>\n      <td>1</td>\n      <td>2</td>\n      <td>0</td>\n      <td>750.0</td>\n      <td>0.0</td>\n      <td>375.0</td>\n      <td>375.0</td>\n      <td>375.0</td>\n      <td>0.0</td>\n      <td>...</td>\n      <td>-1</td>\n      <td>0.0</td>\n      <td>0.0</td>\n      <td>0.0</td>\n      <td>0.0</td>\n      <td>0.0</td>\n      <td>0.0</td>\n      <td>0.0</td>\n      <td>0.0</td>\n      <td>UDP-lag</td>\n    </tr>\n  </tbody>\n</table>\n<p>5 rows × 78 columns</p>\n</div>"
     },
     "execution_count": 99,
     "metadata": {},
     "output_type": "execute_result"
    }
   ],
   "source": [
    "workingDataFrame.columns = workingDataFrame.columns.str.strip()  # sometimes there's leading / trailing whitespace\n",
    "workingDataFrame.drop(columns=drop_columns, inplace=True, errors='ignore')\n",
    "workingDataFrame.rename(columns=col_name_consistency, inplace=True)\n",
    "\n",
    "workingDataFrame.head()"
   ],
   "metadata": {
    "collapsed": false
   }
  },
  {
   "cell_type": "code",
   "execution_count": 100,
   "outputs": [
    {
     "name": "stdout",
     "output_type": "stream",
     "text": [
      "<class 'pandas.core.frame.DataFrame'>\n",
      "Int64Index: 370605 entries, 0 to 76359\n",
      "Data columns (total 78 columns):\n",
      " #   Column                    Non-Null Count   Dtype  \n",
      "---  ------                    --------------   -----  \n",
      " 0   Protocol                  370605 non-null  int64  \n",
      " 1   Flow Duration             370605 non-null  int64  \n",
      " 2   Total Fwd Packets         370605 non-null  int64  \n",
      " 3   Total Backward Packets    370605 non-null  int64  \n",
      " 4   Fwd Packets Length Total  370605 non-null  float64\n",
      " 5   Bwd Packets Length Total  370605 non-null  float64\n",
      " 6   Fwd Packet Length Max     370605 non-null  float64\n",
      " 7   Fwd Packet Length Min     370605 non-null  float64\n",
      " 8   Fwd Packet Length Mean    370605 non-null  float64\n",
      " 9   Fwd Packet Length Std     370605 non-null  float64\n",
      " 10  Bwd Packet Length Max     370605 non-null  float64\n",
      " 11  Bwd Packet Length Min     370605 non-null  float64\n",
      " 12  Bwd Packet Length Mean    370605 non-null  float64\n",
      " 13  Bwd Packet Length Std     370605 non-null  float64\n",
      " 14  Flow Bytes/s              334473 non-null  float64\n",
      " 15  Flow Packets/s            370605 non-null  float64\n",
      " 16  Flow IAT Mean             370605 non-null  float64\n",
      " 17  Flow IAT Std              370605 non-null  float64\n",
      " 18  Flow IAT Max              370605 non-null  float64\n",
      " 19  Flow IAT Min              370605 non-null  float64\n",
      " 20  Fwd IAT Total             370605 non-null  float64\n",
      " 21  Fwd IAT Mean              370605 non-null  float64\n",
      " 22  Fwd IAT Std               370605 non-null  float64\n",
      " 23  Fwd IAT Max               370605 non-null  float64\n",
      " 24  Fwd IAT Min               370605 non-null  float64\n",
      " 25  Bwd IAT Total             370605 non-null  float64\n",
      " 26  Bwd IAT Mean              370605 non-null  float64\n",
      " 27  Bwd IAT Std               370605 non-null  float64\n",
      " 28  Bwd IAT Max               370605 non-null  float64\n",
      " 29  Bwd IAT Min               370605 non-null  float64\n",
      " 30  Fwd PSH Flags             370605 non-null  int64  \n",
      " 31  Bwd PSH Flags             370605 non-null  int64  \n",
      " 32  Fwd URG Flags             370605 non-null  int64  \n",
      " 33  Bwd URG Flags             370605 non-null  int64  \n",
      " 34  Fwd Header Length         370605 non-null  int64  \n",
      " 35  Bwd Header Length         370605 non-null  int64  \n",
      " 36  Fwd Packets/s             370605 non-null  float64\n",
      " 37  Bwd Packets/s             370605 non-null  float64\n",
      " 38  Packet Length Min         370605 non-null  float64\n",
      " 39  Packet Length Max         370605 non-null  float64\n",
      " 40  Packet Length Mean        370605 non-null  float64\n",
      " 41  Packet Length Std         370605 non-null  float64\n",
      " 42  Packet Length Variance    370605 non-null  float64\n",
      " 43  FIN Flag Count            370605 non-null  int64  \n",
      " 44  SYN Flag Count            370605 non-null  int64  \n",
      " 45  RST Flag Count            370605 non-null  int64  \n",
      " 46  PSH Flag Count            370605 non-null  int64  \n",
      " 47  ACK Flag Count            370605 non-null  int64  \n",
      " 48  URG Flag Count            370605 non-null  int64  \n",
      " 49  CWE Flag Count            370605 non-null  int64  \n",
      " 50  ECE Flag Count            370605 non-null  int64  \n",
      " 51  Down/Up Ratio             370605 non-null  float64\n",
      " 52  Avg Packet Size           370605 non-null  float64\n",
      " 53  Avg Fwd Segment Size      370605 non-null  float64\n",
      " 54  Avg Bwd Segment Size      370605 non-null  float64\n",
      " 55  Fwd Avg Bytes/Bulk        370605 non-null  int64  \n",
      " 56  Fwd Avg Packets/Bulk      370605 non-null  int64  \n",
      " 57  Fwd Avg Bulk Rate         370605 non-null  int64  \n",
      " 58  Bwd Avg Bytes/Bulk        370605 non-null  int64  \n",
      " 59  Bwd Avg Packets/Bulk      370605 non-null  int64  \n",
      " 60  Bwd Avg Bulk Rate         370605 non-null  int64  \n",
      " 61  Subflow Fwd Packets       370605 non-null  int64  \n",
      " 62  Subflow Fwd Bytes         370605 non-null  int64  \n",
      " 63  Subflow Bwd Packets       370605 non-null  int64  \n",
      " 64  Subflow Bwd Bytes         370605 non-null  int64  \n",
      " 65  Init Fwd Win Bytes        370605 non-null  int64  \n",
      " 66  Init Bwd Win Bytes        370605 non-null  int64  \n",
      " 67  Fwd Act Data Packets      370605 non-null  int64  \n",
      " 68  Fwd Seg Size Min          370605 non-null  int64  \n",
      " 69  Active Mean               370605 non-null  float64\n",
      " 70  Active Std                370605 non-null  float64\n",
      " 71  Active Max                370605 non-null  float64\n",
      " 72  Active Min                370605 non-null  float64\n",
      " 73  Idle Mean                 370605 non-null  float64\n",
      " 74  Idle Std                  370605 non-null  float64\n",
      " 75  Idle Max                  370605 non-null  float64\n",
      " 76  Idle Min                  370605 non-null  float64\n",
      " 77  Label                     370605 non-null  object \n",
      "dtypes: float64(45), int64(32), object(1)\n",
      "memory usage: 243.2 MB\n"
     ]
    }
   ],
   "source": [
    "# workingDataFrame.dtypes\n",
    "workingDataFrame.info(memory_usage=\"deep\")"
   ],
   "metadata": {
    "collapsed": false
   }
  },
  {
   "cell_type": "markdown",
   "source": [
    "Data Cleaning Based on Data Types (DownSizing)"
   ],
   "metadata": {
    "collapsed": false
   }
  },
  {
   "cell_type": "code",
   "execution_count": 101,
   "outputs": [
    {
     "name": "stdout",
     "output_type": "stream",
     "text": [
      "<class 'pandas.core.frame.DataFrame'>\n",
      "Int64Index: 370605 entries, 0 to 76359\n",
      "Data columns (total 78 columns):\n",
      " #   Column                    Non-Null Count   Dtype  \n",
      "---  ------                    --------------   -----  \n",
      " 0   Protocol                  370605 non-null  int8   \n",
      " 1   Flow Duration             370605 non-null  int32  \n",
      " 2   Total Fwd Packets         370605 non-null  int16  \n",
      " 3   Total Backward Packets    370605 non-null  int16  \n",
      " 4   Fwd Packets Length Total  370605 non-null  float32\n",
      " 5   Bwd Packets Length Total  370605 non-null  float32\n",
      " 6   Fwd Packet Length Max     370605 non-null  float32\n",
      " 7   Fwd Packet Length Min     370605 non-null  float32\n",
      " 8   Fwd Packet Length Mean    370605 non-null  float32\n",
      " 9   Fwd Packet Length Std     370605 non-null  float32\n",
      " 10  Bwd Packet Length Max     370605 non-null  float32\n",
      " 11  Bwd Packet Length Min     370605 non-null  float32\n",
      " 12  Bwd Packet Length Mean    370605 non-null  float32\n",
      " 13  Bwd Packet Length Std     370605 non-null  float32\n",
      " 14  Flow Bytes/s              334473 non-null  float32\n",
      " 15  Flow Packets/s            370605 non-null  float32\n",
      " 16  Flow IAT Mean             370605 non-null  float32\n",
      " 17  Flow IAT Std              370605 non-null  float32\n",
      " 18  Flow IAT Max              370605 non-null  float32\n",
      " 19  Flow IAT Min              370605 non-null  float32\n",
      " 20  Fwd IAT Total             370605 non-null  float32\n",
      " 21  Fwd IAT Mean              370605 non-null  float32\n",
      " 22  Fwd IAT Std               370605 non-null  float32\n",
      " 23  Fwd IAT Max               370605 non-null  float32\n",
      " 24  Fwd IAT Min               370605 non-null  float32\n",
      " 25  Bwd IAT Total             370605 non-null  float32\n",
      " 26  Bwd IAT Mean              370605 non-null  float32\n",
      " 27  Bwd IAT Std               370605 non-null  float32\n",
      " 28  Bwd IAT Max               370605 non-null  float32\n",
      " 29  Bwd IAT Min               370605 non-null  float32\n",
      " 30  Fwd PSH Flags             370605 non-null  int8   \n",
      " 31  Bwd PSH Flags             370605 non-null  int8   \n",
      " 32  Fwd URG Flags             370605 non-null  int8   \n",
      " 33  Bwd URG Flags             370605 non-null  int8   \n",
      " 34  Fwd Header Length         370605 non-null  int64  \n",
      " 35  Bwd Header Length         370605 non-null  int16  \n",
      " 36  Fwd Packets/s             370605 non-null  float32\n",
      " 37  Bwd Packets/s             370605 non-null  float32\n",
      " 38  Packet Length Min         370605 non-null  float32\n",
      " 39  Packet Length Max         370605 non-null  float32\n",
      " 40  Packet Length Mean        370605 non-null  float32\n",
      " 41  Packet Length Std         370605 non-null  float32\n",
      " 42  Packet Length Variance    370605 non-null  float32\n",
      " 43  FIN Flag Count            370605 non-null  int8   \n",
      " 44  SYN Flag Count            370605 non-null  int8   \n",
      " 45  RST Flag Count            370605 non-null  int8   \n",
      " 46  PSH Flag Count            370605 non-null  int8   \n",
      " 47  ACK Flag Count            370605 non-null  int8   \n",
      " 48  URG Flag Count            370605 non-null  int8   \n",
      " 49  CWE Flag Count            370605 non-null  int8   \n",
      " 50  ECE Flag Count            370605 non-null  int8   \n",
      " 51  Down/Up Ratio             370605 non-null  float32\n",
      " 52  Avg Packet Size           370605 non-null  float32\n",
      " 53  Avg Fwd Segment Size      370605 non-null  float32\n",
      " 54  Avg Bwd Segment Size      370605 non-null  float32\n",
      " 55  Fwd Avg Bytes/Bulk        370605 non-null  int8   \n",
      " 56  Fwd Avg Packets/Bulk      370605 non-null  int8   \n",
      " 57  Fwd Avg Bulk Rate         370605 non-null  int8   \n",
      " 58  Bwd Avg Bytes/Bulk        370605 non-null  int8   \n",
      " 59  Bwd Avg Packets/Bulk      370605 non-null  int8   \n",
      " 60  Bwd Avg Bulk Rate         370605 non-null  int8   \n",
      " 61  Subflow Fwd Packets       370605 non-null  int16  \n",
      " 62  Subflow Fwd Bytes         370605 non-null  int32  \n",
      " 63  Subflow Bwd Packets       370605 non-null  int16  \n",
      " 64  Subflow Bwd Bytes         370605 non-null  int32  \n",
      " 65  Init Fwd Win Bytes        370605 non-null  int32  \n",
      " 66  Init Bwd Win Bytes        370605 non-null  int32  \n",
      " 67  Fwd Act Data Packets      370605 non-null  int8   \n",
      " 68  Fwd Seg Size Min          370605 non-null  int32  \n",
      " 69  Active Mean               370605 non-null  float32\n",
      " 70  Active Std                370605 non-null  float32\n",
      " 71  Active Max                370605 non-null  float32\n",
      " 72  Active Min                370605 non-null  float32\n",
      " 73  Idle Mean                 370605 non-null  float32\n",
      " 74  Idle Std                  370605 non-null  float32\n",
      " 75  Idle Max                  370605 non-null  float32\n",
      " 76  Idle Min                  370605 non-null  float32\n",
      " 77  Label                     370605 non-null  object \n",
      "dtypes: float32(45), int16(5), int32(6), int64(1), int8(20), object(1)\n",
      "memory usage: 111.0 MB\n"
     ]
    }
   ],
   "source": [
    "for column in workingDataFrame:\n",
    "    if workingDataFrame[column].dtype == 'float64':\n",
    "        workingDataFrame[column] = pd.to_numeric(workingDataFrame[column], downcast='float')\n",
    "    if workingDataFrame[column].dtype == 'int64':\n",
    "        workingDataFrame[column] = pd.to_numeric(workingDataFrame[column], downcast='integer')\n",
    "\n",
    "workingDataFrame.info(memory_usage=\"deep\")"
   ],
   "metadata": {
    "collapsed": false
   }
  },
  {
   "cell_type": "markdown",
   "source": [
    "Removing NaN values"
   ],
   "metadata": {
    "collapsed": false
   }
  },
  {
   "cell_type": "code",
   "execution_count": 102,
   "outputs": [
    {
     "data": {
      "text/plain": "36132"
     },
     "execution_count": 102,
     "metadata": {},
     "output_type": "execute_result"
    }
   ],
   "source": [
    "workingDataFrame.isna().any(axis=1).sum()"
   ],
   "metadata": {
    "collapsed": false
   }
  },
  {
   "cell_type": "code",
   "execution_count": 103,
   "outputs": [],
   "source": [
    "workingDataFrame.replace([np.inf, -np.inf], np.nan, inplace=True)\n",
    "workingDataFrame.dropna(inplace=True)"
   ],
   "metadata": {
    "collapsed": false
   }
  },
  {
   "cell_type": "markdown",
   "source": [
    "After Dropping NaN values, want to see total rows.\n",
    "That's why, Converting pandas dataFrame into dask's dataFrame"
   ],
   "metadata": {
    "collapsed": false
   }
  },
  {
   "cell_type": "code",
   "execution_count": 104,
   "outputs": [
    {
     "data": {
      "text/plain": "        Protocol  Flow Duration  Total Fwd Packets  Total Backward Packets  \\\n0             17              1                  2                       0   \n0              6              1                  2                       0   \n0              6       23389298                  4                       0   \n1             17              1                  2                       0   \n1              6              1                  2                       0   \n...          ...            ...                ...                     ...   \n157697         6             49                  2                       0   \n157698         6            111                  2                       2   \n157699         6              1                  2                       0   \n157700         6             49                  2                       0   \n157701         6              1                  2                       0   \n\n        Fwd Packets Length Total  Bwd Packets Length Total  \\\n0                          766.0                       0.0   \n0                            0.0                       0.0   \n0                            0.0                       0.0   \n1                          778.0                       0.0   \n1                            0.0                       0.0   \n...                          ...                       ...   \n157697                       0.0                       0.0   \n157698                       0.0                       0.0   \n157699                       0.0                       0.0   \n157700                       0.0                       0.0   \n157701                       0.0                       0.0   \n\n        Fwd Packet Length Max  Fwd Packet Length Min  Fwd Packet Length Mean  \\\n0                       383.0                  383.0                   383.0   \n0                         0.0                    0.0                     0.0   \n0                         0.0                    0.0                     0.0   \n1                       389.0                  389.0                   389.0   \n1                         0.0                    0.0                     0.0   \n...                       ...                    ...                     ...   \n157697                    0.0                    0.0                     0.0   \n157698                    0.0                    0.0                     0.0   \n157699                    0.0                    0.0                     0.0   \n157700                    0.0                    0.0                     0.0   \n157701                    0.0                    0.0                     0.0   \n\n        Fwd Packet Length Std  ...  Fwd Seg Size Min  Active Mean  Active Std  \\\n0                         0.0  ...                -1          0.0         0.0   \n0                         0.0  ...                20          0.0         0.0   \n0                         0.0  ...                20         49.0         0.0   \n1                         0.0  ...                -1          0.0         0.0   \n1                         0.0  ...                20          0.0         0.0   \n...                       ...  ...               ...          ...         ...   \n157697                    0.0  ...                20          0.0         0.0   \n157698                    0.0  ...                20          0.0         0.0   \n157699                    0.0  ...                20          0.0         0.0   \n157700                    0.0  ...                20          0.0         0.0   \n157701                    0.0  ...                20          0.0         0.0   \n\n        Active Max  Active Min   Idle Mean  Idle Std    Idle Max    Idle Min  \\\n0              0.0         0.0         0.0       0.0         0.0         0.0   \n0              0.0         0.0         0.0       0.0         0.0         0.0   \n0             49.0        49.0  23389200.0       0.0  23389200.0  23389200.0   \n1              0.0         0.0         0.0       0.0         0.0         0.0   \n1              0.0         0.0         0.0       0.0         0.0         0.0   \n...            ...         ...         ...       ...         ...         ...   \n157697         0.0         0.0         0.0       0.0         0.0         0.0   \n157698         0.0         0.0         0.0       0.0         0.0         0.0   \n157699         0.0         0.0         0.0       0.0         0.0         0.0   \n157700         0.0         0.0         0.0       0.0         0.0         0.0   \n157701         0.0         0.0         0.0       0.0         0.0         0.0   \n\n          Label  \n0       UDP-lag  \n0       UDP-lag  \n0       UDP-lag  \n1       UDP-lag  \n1       UDP-lag  \n...         ...  \n157697  UDP-lag  \n157698  UDP-lag  \n157699  UDP-lag  \n157700  UDP-lag  \n157701  UDP-lag  \n\n[334202 rows x 78 columns]",
      "text/html": "<div>\n<style scoped>\n    .dataframe tbody tr th:only-of-type {\n        vertical-align: middle;\n    }\n\n    .dataframe tbody tr th {\n        vertical-align: top;\n    }\n\n    .dataframe thead th {\n        text-align: right;\n    }\n</style>\n<table border=\"1\" class=\"dataframe\">\n  <thead>\n    <tr style=\"text-align: right;\">\n      <th></th>\n      <th>Protocol</th>\n      <th>Flow Duration</th>\n      <th>Total Fwd Packets</th>\n      <th>Total Backward Packets</th>\n      <th>Fwd Packets Length Total</th>\n      <th>Bwd Packets Length Total</th>\n      <th>Fwd Packet Length Max</th>\n      <th>Fwd Packet Length Min</th>\n      <th>Fwd Packet Length Mean</th>\n      <th>Fwd Packet Length Std</th>\n      <th>...</th>\n      <th>Fwd Seg Size Min</th>\n      <th>Active Mean</th>\n      <th>Active Std</th>\n      <th>Active Max</th>\n      <th>Active Min</th>\n      <th>Idle Mean</th>\n      <th>Idle Std</th>\n      <th>Idle Max</th>\n      <th>Idle Min</th>\n      <th>Label</th>\n    </tr>\n  </thead>\n  <tbody>\n    <tr>\n      <th>0</th>\n      <td>17</td>\n      <td>1</td>\n      <td>2</td>\n      <td>0</td>\n      <td>766.0</td>\n      <td>0.0</td>\n      <td>383.0</td>\n      <td>383.0</td>\n      <td>383.0</td>\n      <td>0.0</td>\n      <td>...</td>\n      <td>-1</td>\n      <td>0.0</td>\n      <td>0.0</td>\n      <td>0.0</td>\n      <td>0.0</td>\n      <td>0.0</td>\n      <td>0.0</td>\n      <td>0.0</td>\n      <td>0.0</td>\n      <td>UDP-lag</td>\n    </tr>\n    <tr>\n      <th>0</th>\n      <td>6</td>\n      <td>1</td>\n      <td>2</td>\n      <td>0</td>\n      <td>0.0</td>\n      <td>0.0</td>\n      <td>0.0</td>\n      <td>0.0</td>\n      <td>0.0</td>\n      <td>0.0</td>\n      <td>...</td>\n      <td>20</td>\n      <td>0.0</td>\n      <td>0.0</td>\n      <td>0.0</td>\n      <td>0.0</td>\n      <td>0.0</td>\n      <td>0.0</td>\n      <td>0.0</td>\n      <td>0.0</td>\n      <td>UDP-lag</td>\n    </tr>\n    <tr>\n      <th>0</th>\n      <td>6</td>\n      <td>23389298</td>\n      <td>4</td>\n      <td>0</td>\n      <td>0.0</td>\n      <td>0.0</td>\n      <td>0.0</td>\n      <td>0.0</td>\n      <td>0.0</td>\n      <td>0.0</td>\n      <td>...</td>\n      <td>20</td>\n      <td>49.0</td>\n      <td>0.0</td>\n      <td>49.0</td>\n      <td>49.0</td>\n      <td>23389200.0</td>\n      <td>0.0</td>\n      <td>23389200.0</td>\n      <td>23389200.0</td>\n      <td>UDP-lag</td>\n    </tr>\n    <tr>\n      <th>1</th>\n      <td>17</td>\n      <td>1</td>\n      <td>2</td>\n      <td>0</td>\n      <td>778.0</td>\n      <td>0.0</td>\n      <td>389.0</td>\n      <td>389.0</td>\n      <td>389.0</td>\n      <td>0.0</td>\n      <td>...</td>\n      <td>-1</td>\n      <td>0.0</td>\n      <td>0.0</td>\n      <td>0.0</td>\n      <td>0.0</td>\n      <td>0.0</td>\n      <td>0.0</td>\n      <td>0.0</td>\n      <td>0.0</td>\n      <td>UDP-lag</td>\n    </tr>\n    <tr>\n      <th>1</th>\n      <td>6</td>\n      <td>1</td>\n      <td>2</td>\n      <td>0</td>\n      <td>0.0</td>\n      <td>0.0</td>\n      <td>0.0</td>\n      <td>0.0</td>\n      <td>0.0</td>\n      <td>0.0</td>\n      <td>...</td>\n      <td>20</td>\n      <td>0.0</td>\n      <td>0.0</td>\n      <td>0.0</td>\n      <td>0.0</td>\n      <td>0.0</td>\n      <td>0.0</td>\n      <td>0.0</td>\n      <td>0.0</td>\n      <td>UDP-lag</td>\n    </tr>\n    <tr>\n      <th>...</th>\n      <td>...</td>\n      <td>...</td>\n      <td>...</td>\n      <td>...</td>\n      <td>...</td>\n      <td>...</td>\n      <td>...</td>\n      <td>...</td>\n      <td>...</td>\n      <td>...</td>\n      <td>...</td>\n      <td>...</td>\n      <td>...</td>\n      <td>...</td>\n      <td>...</td>\n      <td>...</td>\n      <td>...</td>\n      <td>...</td>\n      <td>...</td>\n      <td>...</td>\n      <td>...</td>\n    </tr>\n    <tr>\n      <th>157697</th>\n      <td>6</td>\n      <td>49</td>\n      <td>2</td>\n      <td>0</td>\n      <td>0.0</td>\n      <td>0.0</td>\n      <td>0.0</td>\n      <td>0.0</td>\n      <td>0.0</td>\n      <td>0.0</td>\n      <td>...</td>\n      <td>20</td>\n      <td>0.0</td>\n      <td>0.0</td>\n      <td>0.0</td>\n      <td>0.0</td>\n      <td>0.0</td>\n      <td>0.0</td>\n      <td>0.0</td>\n      <td>0.0</td>\n      <td>UDP-lag</td>\n    </tr>\n    <tr>\n      <th>157698</th>\n      <td>6</td>\n      <td>111</td>\n      <td>2</td>\n      <td>2</td>\n      <td>0.0</td>\n      <td>0.0</td>\n      <td>0.0</td>\n      <td>0.0</td>\n      <td>0.0</td>\n      <td>0.0</td>\n      <td>...</td>\n      <td>20</td>\n      <td>0.0</td>\n      <td>0.0</td>\n      <td>0.0</td>\n      <td>0.0</td>\n      <td>0.0</td>\n      <td>0.0</td>\n      <td>0.0</td>\n      <td>0.0</td>\n      <td>UDP-lag</td>\n    </tr>\n    <tr>\n      <th>157699</th>\n      <td>6</td>\n      <td>1</td>\n      <td>2</td>\n      <td>0</td>\n      <td>0.0</td>\n      <td>0.0</td>\n      <td>0.0</td>\n      <td>0.0</td>\n      <td>0.0</td>\n      <td>0.0</td>\n      <td>...</td>\n      <td>20</td>\n      <td>0.0</td>\n      <td>0.0</td>\n      <td>0.0</td>\n      <td>0.0</td>\n      <td>0.0</td>\n      <td>0.0</td>\n      <td>0.0</td>\n      <td>0.0</td>\n      <td>UDP-lag</td>\n    </tr>\n    <tr>\n      <th>157700</th>\n      <td>6</td>\n      <td>49</td>\n      <td>2</td>\n      <td>0</td>\n      <td>0.0</td>\n      <td>0.0</td>\n      <td>0.0</td>\n      <td>0.0</td>\n      <td>0.0</td>\n      <td>0.0</td>\n      <td>...</td>\n      <td>20</td>\n      <td>0.0</td>\n      <td>0.0</td>\n      <td>0.0</td>\n      <td>0.0</td>\n      <td>0.0</td>\n      <td>0.0</td>\n      <td>0.0</td>\n      <td>0.0</td>\n      <td>UDP-lag</td>\n    </tr>\n    <tr>\n      <th>157701</th>\n      <td>6</td>\n      <td>1</td>\n      <td>2</td>\n      <td>0</td>\n      <td>0.0</td>\n      <td>0.0</td>\n      <td>0.0</td>\n      <td>0.0</td>\n      <td>0.0</td>\n      <td>0.0</td>\n      <td>...</td>\n      <td>20</td>\n      <td>0.0</td>\n      <td>0.0</td>\n      <td>0.0</td>\n      <td>0.0</td>\n      <td>0.0</td>\n      <td>0.0</td>\n      <td>0.0</td>\n      <td>0.0</td>\n      <td>UDP-lag</td>\n    </tr>\n  </tbody>\n</table>\n<p>334202 rows × 78 columns</p>\n</div>"
     },
     "execution_count": 104,
     "metadata": {},
     "output_type": "execute_result"
    }
   ],
   "source": [
    "ddf = dd.from_pandas(workingDataFrame, npartitions=10)\n",
    "ddf.compute()"
   ],
   "metadata": {
    "collapsed": false
   }
  },
  {
   "cell_type": "markdown",
   "source": [
    "Dropping Duplicates\n",
    "There should be no duplicates because they can bias training and can lead to over-optimistic estimates of classification performance during testing."
   ],
   "metadata": {
    "collapsed": false
   }
  },
  {
   "cell_type": "code",
   "execution_count": 105,
   "outputs": [
    {
     "data": {
      "text/plain": "241266"
     },
     "execution_count": 105,
     "metadata": {},
     "output_type": "execute_result"
    }
   ],
   "source": [
    "workingDataFrame.duplicated().sum()"
   ],
   "metadata": {
    "collapsed": false
   }
  },
  {
   "cell_type": "markdown",
   "source": [
    "Fully duplicate rows to be removed"
   ],
   "metadata": {
    "collapsed": false
   }
  },
  {
   "cell_type": "code",
   "execution_count": 106,
   "outputs": [
    {
     "data": {
      "text/plain": "       Protocol  Flow Duration  Total Fwd Packets  Total Backward Packets  \\\n0            17              1                  2                       0   \n1            17              1                  2                       0   \n2            17              2                  2                       0   \n3            17              2                  2                       0   \n4            17              1                  2                       0   \n...         ...            ...                ...                     ...   \n92931         6            175                  2                       0   \n92932         6           2951                  1                       1   \n92933         6             95                  1                       2   \n92934         6            114                  2                       2   \n92935         6            105                  2                       2   \n\n       Fwd Packets Length Total  Bwd Packets Length Total  \\\n0                         766.0                       0.0   \n1                         778.0                       0.0   \n2                         750.0                       0.0   \n3                         738.0                       0.0   \n4                         750.0                       0.0   \n...                         ...                       ...   \n92931                       0.0                       0.0   \n92932                       0.0                       0.0   \n92933                       0.0                       0.0   \n92934                       0.0                       0.0   \n92935                       0.0                       0.0   \n\n       Fwd Packet Length Max  Fwd Packet Length Min  Fwd Packet Length Mean  \\\n0                      383.0                  383.0                   383.0   \n1                      389.0                  389.0                   389.0   \n2                      375.0                  375.0                   375.0   \n3                      369.0                  369.0                   369.0   \n4                      375.0                  375.0                   375.0   \n...                      ...                    ...                     ...   \n92931                    0.0                    0.0                     0.0   \n92932                    0.0                    0.0                     0.0   \n92933                    0.0                    0.0                     0.0   \n92934                    0.0                    0.0                     0.0   \n92935                    0.0                    0.0                     0.0   \n\n       Fwd Packet Length Std  ...  Fwd Seg Size Min  Active Mean  Active Std  \\\n0                        0.0  ...                -1          0.0         0.0   \n1                        0.0  ...                -1          0.0         0.0   \n2                        0.0  ...                -1          0.0         0.0   \n3                        0.0  ...                -1          0.0         0.0   \n4                        0.0  ...                -1          0.0         0.0   \n...                      ...  ...               ...          ...         ...   \n92931                    0.0  ...                20          0.0         0.0   \n92932                    0.0  ...                32          0.0         0.0   \n92933                    0.0  ...                32          0.0         0.0   \n92934                    0.0  ...                20          0.0         0.0   \n92935                    0.0  ...                20          0.0         0.0   \n\n       Active Max  Active Min  Idle Mean  Idle Std  Idle Max  Idle Min  \\\n0             0.0         0.0        0.0       0.0       0.0       0.0   \n1             0.0         0.0        0.0       0.0       0.0       0.0   \n2             0.0         0.0        0.0       0.0       0.0       0.0   \n3             0.0         0.0        0.0       0.0       0.0       0.0   \n4             0.0         0.0        0.0       0.0       0.0       0.0   \n...           ...         ...        ...       ...       ...       ...   \n92931         0.0         0.0        0.0       0.0       0.0       0.0   \n92932         0.0         0.0        0.0       0.0       0.0       0.0   \n92933         0.0         0.0        0.0       0.0       0.0       0.0   \n92934         0.0         0.0        0.0       0.0       0.0       0.0   \n92935         0.0         0.0        0.0       0.0       0.0       0.0   \n\n         Label  \n0      UDP-lag  \n1      UDP-lag  \n2      UDP-lag  \n3      UDP-lag  \n4      UDP-lag  \n...        ...  \n92931  UDP-lag  \n92932  WebDDoS  \n92933  WebDDoS  \n92934  UDP-lag  \n92935  UDP-lag  \n\n[92936 rows x 78 columns]",
      "text/html": "<div>\n<style scoped>\n    .dataframe tbody tr th:only-of-type {\n        vertical-align: middle;\n    }\n\n    .dataframe tbody tr th {\n        vertical-align: top;\n    }\n\n    .dataframe thead th {\n        text-align: right;\n    }\n</style>\n<table border=\"1\" class=\"dataframe\">\n  <thead>\n    <tr style=\"text-align: right;\">\n      <th></th>\n      <th>Protocol</th>\n      <th>Flow Duration</th>\n      <th>Total Fwd Packets</th>\n      <th>Total Backward Packets</th>\n      <th>Fwd Packets Length Total</th>\n      <th>Bwd Packets Length Total</th>\n      <th>Fwd Packet Length Max</th>\n      <th>Fwd Packet Length Min</th>\n      <th>Fwd Packet Length Mean</th>\n      <th>Fwd Packet Length Std</th>\n      <th>...</th>\n      <th>Fwd Seg Size Min</th>\n      <th>Active Mean</th>\n      <th>Active Std</th>\n      <th>Active Max</th>\n      <th>Active Min</th>\n      <th>Idle Mean</th>\n      <th>Idle Std</th>\n      <th>Idle Max</th>\n      <th>Idle Min</th>\n      <th>Label</th>\n    </tr>\n  </thead>\n  <tbody>\n    <tr>\n      <th>0</th>\n      <td>17</td>\n      <td>1</td>\n      <td>2</td>\n      <td>0</td>\n      <td>766.0</td>\n      <td>0.0</td>\n      <td>383.0</td>\n      <td>383.0</td>\n      <td>383.0</td>\n      <td>0.0</td>\n      <td>...</td>\n      <td>-1</td>\n      <td>0.0</td>\n      <td>0.0</td>\n      <td>0.0</td>\n      <td>0.0</td>\n      <td>0.0</td>\n      <td>0.0</td>\n      <td>0.0</td>\n      <td>0.0</td>\n      <td>UDP-lag</td>\n    </tr>\n    <tr>\n      <th>1</th>\n      <td>17</td>\n      <td>1</td>\n      <td>2</td>\n      <td>0</td>\n      <td>778.0</td>\n      <td>0.0</td>\n      <td>389.0</td>\n      <td>389.0</td>\n      <td>389.0</td>\n      <td>0.0</td>\n      <td>...</td>\n      <td>-1</td>\n      <td>0.0</td>\n      <td>0.0</td>\n      <td>0.0</td>\n      <td>0.0</td>\n      <td>0.0</td>\n      <td>0.0</td>\n      <td>0.0</td>\n      <td>0.0</td>\n      <td>UDP-lag</td>\n    </tr>\n    <tr>\n      <th>2</th>\n      <td>17</td>\n      <td>2</td>\n      <td>2</td>\n      <td>0</td>\n      <td>750.0</td>\n      <td>0.0</td>\n      <td>375.0</td>\n      <td>375.0</td>\n      <td>375.0</td>\n      <td>0.0</td>\n      <td>...</td>\n      <td>-1</td>\n      <td>0.0</td>\n      <td>0.0</td>\n      <td>0.0</td>\n      <td>0.0</td>\n      <td>0.0</td>\n      <td>0.0</td>\n      <td>0.0</td>\n      <td>0.0</td>\n      <td>UDP-lag</td>\n    </tr>\n    <tr>\n      <th>3</th>\n      <td>17</td>\n      <td>2</td>\n      <td>2</td>\n      <td>0</td>\n      <td>738.0</td>\n      <td>0.0</td>\n      <td>369.0</td>\n      <td>369.0</td>\n      <td>369.0</td>\n      <td>0.0</td>\n      <td>...</td>\n      <td>-1</td>\n      <td>0.0</td>\n      <td>0.0</td>\n      <td>0.0</td>\n      <td>0.0</td>\n      <td>0.0</td>\n      <td>0.0</td>\n      <td>0.0</td>\n      <td>0.0</td>\n      <td>UDP-lag</td>\n    </tr>\n    <tr>\n      <th>4</th>\n      <td>17</td>\n      <td>1</td>\n      <td>2</td>\n      <td>0</td>\n      <td>750.0</td>\n      <td>0.0</td>\n      <td>375.0</td>\n      <td>375.0</td>\n      <td>375.0</td>\n      <td>0.0</td>\n      <td>...</td>\n      <td>-1</td>\n      <td>0.0</td>\n      <td>0.0</td>\n      <td>0.0</td>\n      <td>0.0</td>\n      <td>0.0</td>\n      <td>0.0</td>\n      <td>0.0</td>\n      <td>0.0</td>\n      <td>UDP-lag</td>\n    </tr>\n    <tr>\n      <th>...</th>\n      <td>...</td>\n      <td>...</td>\n      <td>...</td>\n      <td>...</td>\n      <td>...</td>\n      <td>...</td>\n      <td>...</td>\n      <td>...</td>\n      <td>...</td>\n      <td>...</td>\n      <td>...</td>\n      <td>...</td>\n      <td>...</td>\n      <td>...</td>\n      <td>...</td>\n      <td>...</td>\n      <td>...</td>\n      <td>...</td>\n      <td>...</td>\n      <td>...</td>\n      <td>...</td>\n    </tr>\n    <tr>\n      <th>92931</th>\n      <td>6</td>\n      <td>175</td>\n      <td>2</td>\n      <td>0</td>\n      <td>0.0</td>\n      <td>0.0</td>\n      <td>0.0</td>\n      <td>0.0</td>\n      <td>0.0</td>\n      <td>0.0</td>\n      <td>...</td>\n      <td>20</td>\n      <td>0.0</td>\n      <td>0.0</td>\n      <td>0.0</td>\n      <td>0.0</td>\n      <td>0.0</td>\n      <td>0.0</td>\n      <td>0.0</td>\n      <td>0.0</td>\n      <td>UDP-lag</td>\n    </tr>\n    <tr>\n      <th>92932</th>\n      <td>6</td>\n      <td>2951</td>\n      <td>1</td>\n      <td>1</td>\n      <td>0.0</td>\n      <td>0.0</td>\n      <td>0.0</td>\n      <td>0.0</td>\n      <td>0.0</td>\n      <td>0.0</td>\n      <td>...</td>\n      <td>32</td>\n      <td>0.0</td>\n      <td>0.0</td>\n      <td>0.0</td>\n      <td>0.0</td>\n      <td>0.0</td>\n      <td>0.0</td>\n      <td>0.0</td>\n      <td>0.0</td>\n      <td>WebDDoS</td>\n    </tr>\n    <tr>\n      <th>92933</th>\n      <td>6</td>\n      <td>95</td>\n      <td>1</td>\n      <td>2</td>\n      <td>0.0</td>\n      <td>0.0</td>\n      <td>0.0</td>\n      <td>0.0</td>\n      <td>0.0</td>\n      <td>0.0</td>\n      <td>...</td>\n      <td>32</td>\n      <td>0.0</td>\n      <td>0.0</td>\n      <td>0.0</td>\n      <td>0.0</td>\n      <td>0.0</td>\n      <td>0.0</td>\n      <td>0.0</td>\n      <td>0.0</td>\n      <td>WebDDoS</td>\n    </tr>\n    <tr>\n      <th>92934</th>\n      <td>6</td>\n      <td>114</td>\n      <td>2</td>\n      <td>2</td>\n      <td>0.0</td>\n      <td>0.0</td>\n      <td>0.0</td>\n      <td>0.0</td>\n      <td>0.0</td>\n      <td>0.0</td>\n      <td>...</td>\n      <td>20</td>\n      <td>0.0</td>\n      <td>0.0</td>\n      <td>0.0</td>\n      <td>0.0</td>\n      <td>0.0</td>\n      <td>0.0</td>\n      <td>0.0</td>\n      <td>0.0</td>\n      <td>UDP-lag</td>\n    </tr>\n    <tr>\n      <th>92935</th>\n      <td>6</td>\n      <td>105</td>\n      <td>2</td>\n      <td>2</td>\n      <td>0.0</td>\n      <td>0.0</td>\n      <td>0.0</td>\n      <td>0.0</td>\n      <td>0.0</td>\n      <td>0.0</td>\n      <td>...</td>\n      <td>20</td>\n      <td>0.0</td>\n      <td>0.0</td>\n      <td>0.0</td>\n      <td>0.0</td>\n      <td>0.0</td>\n      <td>0.0</td>\n      <td>0.0</td>\n      <td>0.0</td>\n      <td>UDP-lag</td>\n    </tr>\n  </tbody>\n</table>\n<p>92936 rows × 78 columns</p>\n</div>"
     },
     "execution_count": 106,
     "metadata": {},
     "output_type": "execute_result"
    }
   ],
   "source": [
    "workingDataFrame.drop_duplicates(inplace=True)\n",
    "workingDataFrame.reset_index(inplace=True, drop=True)\n",
    "workingDataFrame"
   ],
   "metadata": {
    "collapsed": false
   }
  },
  {
   "cell_type": "markdown",
   "source": [
    "After data cleaning, how much storage it holds now"
   ],
   "metadata": {
    "collapsed": false
   }
  },
  {
   "cell_type": "code",
   "execution_count": 107,
   "outputs": [
    {
     "name": "stdout",
     "output_type": "stream",
     "text": [
      "<class 'pandas.core.frame.DataFrame'>\n",
      "RangeIndex: 92936 entries, 0 to 92935\n",
      "Data columns (total 78 columns):\n",
      " #   Column                    Non-Null Count  Dtype  \n",
      "---  ------                    --------------  -----  \n",
      " 0   Protocol                  92936 non-null  int8   \n",
      " 1   Flow Duration             92936 non-null  int32  \n",
      " 2   Total Fwd Packets         92936 non-null  int16  \n",
      " 3   Total Backward Packets    92936 non-null  int16  \n",
      " 4   Fwd Packets Length Total  92936 non-null  float32\n",
      " 5   Bwd Packets Length Total  92936 non-null  float32\n",
      " 6   Fwd Packet Length Max     92936 non-null  float32\n",
      " 7   Fwd Packet Length Min     92936 non-null  float32\n",
      " 8   Fwd Packet Length Mean    92936 non-null  float32\n",
      " 9   Fwd Packet Length Std     92936 non-null  float32\n",
      " 10  Bwd Packet Length Max     92936 non-null  float32\n",
      " 11  Bwd Packet Length Min     92936 non-null  float32\n",
      " 12  Bwd Packet Length Mean    92936 non-null  float32\n",
      " 13  Bwd Packet Length Std     92936 non-null  float32\n",
      " 14  Flow Bytes/s              92936 non-null  float32\n",
      " 15  Flow Packets/s            92936 non-null  float32\n",
      " 16  Flow IAT Mean             92936 non-null  float32\n",
      " 17  Flow IAT Std              92936 non-null  float32\n",
      " 18  Flow IAT Max              92936 non-null  float32\n",
      " 19  Flow IAT Min              92936 non-null  float32\n",
      " 20  Fwd IAT Total             92936 non-null  float32\n",
      " 21  Fwd IAT Mean              92936 non-null  float32\n",
      " 22  Fwd IAT Std               92936 non-null  float32\n",
      " 23  Fwd IAT Max               92936 non-null  float32\n",
      " 24  Fwd IAT Min               92936 non-null  float32\n",
      " 25  Bwd IAT Total             92936 non-null  float32\n",
      " 26  Bwd IAT Mean              92936 non-null  float32\n",
      " 27  Bwd IAT Std               92936 non-null  float32\n",
      " 28  Bwd IAT Max               92936 non-null  float32\n",
      " 29  Bwd IAT Min               92936 non-null  float32\n",
      " 30  Fwd PSH Flags             92936 non-null  int8   \n",
      " 31  Bwd PSH Flags             92936 non-null  int8   \n",
      " 32  Fwd URG Flags             92936 non-null  int8   \n",
      " 33  Bwd URG Flags             92936 non-null  int8   \n",
      " 34  Fwd Header Length         92936 non-null  int64  \n",
      " 35  Bwd Header Length         92936 non-null  int16  \n",
      " 36  Fwd Packets/s             92936 non-null  float32\n",
      " 37  Bwd Packets/s             92936 non-null  float32\n",
      " 38  Packet Length Min         92936 non-null  float32\n",
      " 39  Packet Length Max         92936 non-null  float32\n",
      " 40  Packet Length Mean        92936 non-null  float32\n",
      " 41  Packet Length Std         92936 non-null  float32\n",
      " 42  Packet Length Variance    92936 non-null  float32\n",
      " 43  FIN Flag Count            92936 non-null  int8   \n",
      " 44  SYN Flag Count            92936 non-null  int8   \n",
      " 45  RST Flag Count            92936 non-null  int8   \n",
      " 46  PSH Flag Count            92936 non-null  int8   \n",
      " 47  ACK Flag Count            92936 non-null  int8   \n",
      " 48  URG Flag Count            92936 non-null  int8   \n",
      " 49  CWE Flag Count            92936 non-null  int8   \n",
      " 50  ECE Flag Count            92936 non-null  int8   \n",
      " 51  Down/Up Ratio             92936 non-null  float32\n",
      " 52  Avg Packet Size           92936 non-null  float32\n",
      " 53  Avg Fwd Segment Size      92936 non-null  float32\n",
      " 54  Avg Bwd Segment Size      92936 non-null  float32\n",
      " 55  Fwd Avg Bytes/Bulk        92936 non-null  int8   \n",
      " 56  Fwd Avg Packets/Bulk      92936 non-null  int8   \n",
      " 57  Fwd Avg Bulk Rate         92936 non-null  int8   \n",
      " 58  Bwd Avg Bytes/Bulk        92936 non-null  int8   \n",
      " 59  Bwd Avg Packets/Bulk      92936 non-null  int8   \n",
      " 60  Bwd Avg Bulk Rate         92936 non-null  int8   \n",
      " 61  Subflow Fwd Packets       92936 non-null  int16  \n",
      " 62  Subflow Fwd Bytes         92936 non-null  int32  \n",
      " 63  Subflow Bwd Packets       92936 non-null  int16  \n",
      " 64  Subflow Bwd Bytes         92936 non-null  int32  \n",
      " 65  Init Fwd Win Bytes        92936 non-null  int32  \n",
      " 66  Init Bwd Win Bytes        92936 non-null  int32  \n",
      " 67  Fwd Act Data Packets      92936 non-null  int8   \n",
      " 68  Fwd Seg Size Min          92936 non-null  int32  \n",
      " 69  Active Mean               92936 non-null  float32\n",
      " 70  Active Std                92936 non-null  float32\n",
      " 71  Active Max                92936 non-null  float32\n",
      " 72  Active Min                92936 non-null  float32\n",
      " 73  Idle Mean                 92936 non-null  float32\n",
      " 74  Idle Std                  92936 non-null  float32\n",
      " 75  Idle Max                  92936 non-null  float32\n",
      " 76  Idle Min                  92936 non-null  float32\n",
      " 77  Label                     92936 non-null  object \n",
      "dtypes: float32(45), int16(5), int32(6), int64(1), int8(20), object(1)\n",
      "memory usage: 27.1 MB\n"
     ]
    }
   ],
   "source": [
    "workingDataFrame.info(memory_usage=\"deep\")"
   ],
   "metadata": {
    "collapsed": false
   }
  },
  {
   "cell_type": "markdown",
   "source": [
    "Now arising problem is that, row number has been significantly reduced but feature numbers are still 78!!\n",
    "So, need feature engineering here"
   ],
   "metadata": {
    "collapsed": false
   }
  },
  {
   "cell_type": "code",
   "execution_count": 108,
   "outputs": [],
   "source": [
    "\n",
    "def featueEngineeringBasedOnZero(dataFrameArg, thresholdPercentage, showPercentage):\n",
    "    totalCols = dataFrameArg.shape[1]\n",
    "    totalRows = len(dataFrameArg)\n",
    "    unNecessaryFeatureCount = 0\n",
    "    unNecessaryFeatureNames = []\n",
    "\n",
    "    for column in dataFrameArg:\n",
    "        zerosInCol = (dataFrameArg[column] == 0).sum()\n",
    "        if zerosInCol != 0:\n",
    "            percentageOfZerosInRow = ((zerosInCol * 100) / totalRows)\n",
    "\n",
    "            if showPercentage:\n",
    "                print(column, \"\\t\\t-\\t\\t\", zerosInCol, \"\\t\\t-\\t\\t\", percentageOfZerosInRow)\n",
    "\n",
    "            if percentageOfZerosInRow > thresholdPercentage:\n",
    "                unNecessaryFeatureNames.append(column)\n",
    "                unNecessaryFeatureCount = unNecessaryFeatureCount + 1\n",
    "\n",
    "    print(\"\\nTotal features having more than \", thresholdPercentage, \"% zero are - \", unNecessaryFeatureCount, \"out of \",\n",
    "          totalCols)\n",
    "    return unNecessaryFeatureNames"
   ],
   "metadata": {
    "collapsed": false
   }
  },
  {
   "cell_type": "markdown",
   "source": [
    "Identifying those features containing 99% zeroes"
   ],
   "metadata": {
    "collapsed": false
   }
  },
  {
   "cell_type": "code",
   "execution_count": 109,
   "outputs": [
    {
     "name": "stdout",
     "output_type": "stream",
     "text": [
      "\n",
      "Total features having more than  99 % zero are -  16 out of  78\n"
     ]
    },
    {
     "data": {
      "text/plain": "['Bwd Packet Length Std',\n 'Fwd PSH Flags',\n 'Bwd PSH Flags',\n 'Fwd URG Flags',\n 'Bwd URG Flags',\n 'FIN Flag Count',\n 'SYN Flag Count',\n 'RST Flag Count',\n 'PSH Flag Count',\n 'ECE Flag Count',\n 'Fwd Avg Bytes/Bulk',\n 'Fwd Avg Packets/Bulk',\n 'Fwd Avg Bulk Rate',\n 'Bwd Avg Bytes/Bulk',\n 'Bwd Avg Packets/Bulk',\n 'Bwd Avg Bulk Rate']"
     },
     "execution_count": 109,
     "metadata": {},
     "output_type": "execute_result"
    }
   ],
   "source": [
    "featureContainingAlmostZero = featueEngineeringBasedOnZero(dataFrameArg=workingDataFrame, thresholdPercentage=99, showPercentage=False)\n",
    "featureContainingAlmostZero"
   ],
   "metadata": {
    "collapsed": false
   }
  },
  {
   "cell_type": "markdown",
   "source": [
    "Omitting above features containing 99% zeroes"
   ],
   "metadata": {
    "collapsed": false
   }
  },
  {
   "cell_type": "code",
   "execution_count": 110,
   "outputs": [
    {
     "data": {
      "text/plain": "       Protocol  Flow Duration  Total Fwd Packets  Total Backward Packets  \\\n0            17              1                  2                       0   \n1            17              1                  2                       0   \n2            17              2                  2                       0   \n3            17              2                  2                       0   \n4            17              1                  2                       0   \n...         ...            ...                ...                     ...   \n92931         6            175                  2                       0   \n92932         6           2951                  1                       1   \n92933         6             95                  1                       2   \n92934         6            114                  2                       2   \n92935         6            105                  2                       2   \n\n       Fwd Packets Length Total  Bwd Packets Length Total  \\\n0                         766.0                       0.0   \n1                         778.0                       0.0   \n2                         750.0                       0.0   \n3                         738.0                       0.0   \n4                         750.0                       0.0   \n...                         ...                       ...   \n92931                       0.0                       0.0   \n92932                       0.0                       0.0   \n92933                       0.0                       0.0   \n92934                       0.0                       0.0   \n92935                       0.0                       0.0   \n\n       Fwd Packet Length Max  Fwd Packet Length Min  Fwd Packet Length Mean  \\\n0                      383.0                  383.0                   383.0   \n1                      389.0                  389.0                   389.0   \n2                      375.0                  375.0                   375.0   \n3                      369.0                  369.0                   369.0   \n4                      375.0                  375.0                   375.0   \n...                      ...                    ...                     ...   \n92931                    0.0                    0.0                     0.0   \n92932                    0.0                    0.0                     0.0   \n92933                    0.0                    0.0                     0.0   \n92934                    0.0                    0.0                     0.0   \n92935                    0.0                    0.0                     0.0   \n\n       Fwd Packet Length Std  ...  Fwd Seg Size Min  Active Mean  Active Std  \\\n0                        0.0  ...                -1          0.0         0.0   \n1                        0.0  ...                -1          0.0         0.0   \n2                        0.0  ...                -1          0.0         0.0   \n3                        0.0  ...                -1          0.0         0.0   \n4                        0.0  ...                -1          0.0         0.0   \n...                      ...  ...               ...          ...         ...   \n92931                    0.0  ...                20          0.0         0.0   \n92932                    0.0  ...                32          0.0         0.0   \n92933                    0.0  ...                32          0.0         0.0   \n92934                    0.0  ...                20          0.0         0.0   \n92935                    0.0  ...                20          0.0         0.0   \n\n       Active Max  Active Min  Idle Mean  Idle Std  Idle Max  Idle Min  \\\n0             0.0         0.0        0.0       0.0       0.0       0.0   \n1             0.0         0.0        0.0       0.0       0.0       0.0   \n2             0.0         0.0        0.0       0.0       0.0       0.0   \n3             0.0         0.0        0.0       0.0       0.0       0.0   \n4             0.0         0.0        0.0       0.0       0.0       0.0   \n...           ...         ...        ...       ...       ...       ...   \n92931         0.0         0.0        0.0       0.0       0.0       0.0   \n92932         0.0         0.0        0.0       0.0       0.0       0.0   \n92933         0.0         0.0        0.0       0.0       0.0       0.0   \n92934         0.0         0.0        0.0       0.0       0.0       0.0   \n92935         0.0         0.0        0.0       0.0       0.0       0.0   \n\n         Label  \n0      UDP-lag  \n1      UDP-lag  \n2      UDP-lag  \n3      UDP-lag  \n4      UDP-lag  \n...        ...  \n92931  UDP-lag  \n92932  WebDDoS  \n92933  WebDDoS  \n92934  UDP-lag  \n92935  UDP-lag  \n\n[92936 rows x 62 columns]",
      "text/html": "<div>\n<style scoped>\n    .dataframe tbody tr th:only-of-type {\n        vertical-align: middle;\n    }\n\n    .dataframe tbody tr th {\n        vertical-align: top;\n    }\n\n    .dataframe thead th {\n        text-align: right;\n    }\n</style>\n<table border=\"1\" class=\"dataframe\">\n  <thead>\n    <tr style=\"text-align: right;\">\n      <th></th>\n      <th>Protocol</th>\n      <th>Flow Duration</th>\n      <th>Total Fwd Packets</th>\n      <th>Total Backward Packets</th>\n      <th>Fwd Packets Length Total</th>\n      <th>Bwd Packets Length Total</th>\n      <th>Fwd Packet Length Max</th>\n      <th>Fwd Packet Length Min</th>\n      <th>Fwd Packet Length Mean</th>\n      <th>Fwd Packet Length Std</th>\n      <th>...</th>\n      <th>Fwd Seg Size Min</th>\n      <th>Active Mean</th>\n      <th>Active Std</th>\n      <th>Active Max</th>\n      <th>Active Min</th>\n      <th>Idle Mean</th>\n      <th>Idle Std</th>\n      <th>Idle Max</th>\n      <th>Idle Min</th>\n      <th>Label</th>\n    </tr>\n  </thead>\n  <tbody>\n    <tr>\n      <th>0</th>\n      <td>17</td>\n      <td>1</td>\n      <td>2</td>\n      <td>0</td>\n      <td>766.0</td>\n      <td>0.0</td>\n      <td>383.0</td>\n      <td>383.0</td>\n      <td>383.0</td>\n      <td>0.0</td>\n      <td>...</td>\n      <td>-1</td>\n      <td>0.0</td>\n      <td>0.0</td>\n      <td>0.0</td>\n      <td>0.0</td>\n      <td>0.0</td>\n      <td>0.0</td>\n      <td>0.0</td>\n      <td>0.0</td>\n      <td>UDP-lag</td>\n    </tr>\n    <tr>\n      <th>1</th>\n      <td>17</td>\n      <td>1</td>\n      <td>2</td>\n      <td>0</td>\n      <td>778.0</td>\n      <td>0.0</td>\n      <td>389.0</td>\n      <td>389.0</td>\n      <td>389.0</td>\n      <td>0.0</td>\n      <td>...</td>\n      <td>-1</td>\n      <td>0.0</td>\n      <td>0.0</td>\n      <td>0.0</td>\n      <td>0.0</td>\n      <td>0.0</td>\n      <td>0.0</td>\n      <td>0.0</td>\n      <td>0.0</td>\n      <td>UDP-lag</td>\n    </tr>\n    <tr>\n      <th>2</th>\n      <td>17</td>\n      <td>2</td>\n      <td>2</td>\n      <td>0</td>\n      <td>750.0</td>\n      <td>0.0</td>\n      <td>375.0</td>\n      <td>375.0</td>\n      <td>375.0</td>\n      <td>0.0</td>\n      <td>...</td>\n      <td>-1</td>\n      <td>0.0</td>\n      <td>0.0</td>\n      <td>0.0</td>\n      <td>0.0</td>\n      <td>0.0</td>\n      <td>0.0</td>\n      <td>0.0</td>\n      <td>0.0</td>\n      <td>UDP-lag</td>\n    </tr>\n    <tr>\n      <th>3</th>\n      <td>17</td>\n      <td>2</td>\n      <td>2</td>\n      <td>0</td>\n      <td>738.0</td>\n      <td>0.0</td>\n      <td>369.0</td>\n      <td>369.0</td>\n      <td>369.0</td>\n      <td>0.0</td>\n      <td>...</td>\n      <td>-1</td>\n      <td>0.0</td>\n      <td>0.0</td>\n      <td>0.0</td>\n      <td>0.0</td>\n      <td>0.0</td>\n      <td>0.0</td>\n      <td>0.0</td>\n      <td>0.0</td>\n      <td>UDP-lag</td>\n    </tr>\n    <tr>\n      <th>4</th>\n      <td>17</td>\n      <td>1</td>\n      <td>2</td>\n      <td>0</td>\n      <td>750.0</td>\n      <td>0.0</td>\n      <td>375.0</td>\n      <td>375.0</td>\n      <td>375.0</td>\n      <td>0.0</td>\n      <td>...</td>\n      <td>-1</td>\n      <td>0.0</td>\n      <td>0.0</td>\n      <td>0.0</td>\n      <td>0.0</td>\n      <td>0.0</td>\n      <td>0.0</td>\n      <td>0.0</td>\n      <td>0.0</td>\n      <td>UDP-lag</td>\n    </tr>\n    <tr>\n      <th>...</th>\n      <td>...</td>\n      <td>...</td>\n      <td>...</td>\n      <td>...</td>\n      <td>...</td>\n      <td>...</td>\n      <td>...</td>\n      <td>...</td>\n      <td>...</td>\n      <td>...</td>\n      <td>...</td>\n      <td>...</td>\n      <td>...</td>\n      <td>...</td>\n      <td>...</td>\n      <td>...</td>\n      <td>...</td>\n      <td>...</td>\n      <td>...</td>\n      <td>...</td>\n      <td>...</td>\n    </tr>\n    <tr>\n      <th>92931</th>\n      <td>6</td>\n      <td>175</td>\n      <td>2</td>\n      <td>0</td>\n      <td>0.0</td>\n      <td>0.0</td>\n      <td>0.0</td>\n      <td>0.0</td>\n      <td>0.0</td>\n      <td>0.0</td>\n      <td>...</td>\n      <td>20</td>\n      <td>0.0</td>\n      <td>0.0</td>\n      <td>0.0</td>\n      <td>0.0</td>\n      <td>0.0</td>\n      <td>0.0</td>\n      <td>0.0</td>\n      <td>0.0</td>\n      <td>UDP-lag</td>\n    </tr>\n    <tr>\n      <th>92932</th>\n      <td>6</td>\n      <td>2951</td>\n      <td>1</td>\n      <td>1</td>\n      <td>0.0</td>\n      <td>0.0</td>\n      <td>0.0</td>\n      <td>0.0</td>\n      <td>0.0</td>\n      <td>0.0</td>\n      <td>...</td>\n      <td>32</td>\n      <td>0.0</td>\n      <td>0.0</td>\n      <td>0.0</td>\n      <td>0.0</td>\n      <td>0.0</td>\n      <td>0.0</td>\n      <td>0.0</td>\n      <td>0.0</td>\n      <td>WebDDoS</td>\n    </tr>\n    <tr>\n      <th>92933</th>\n      <td>6</td>\n      <td>95</td>\n      <td>1</td>\n      <td>2</td>\n      <td>0.0</td>\n      <td>0.0</td>\n      <td>0.0</td>\n      <td>0.0</td>\n      <td>0.0</td>\n      <td>0.0</td>\n      <td>...</td>\n      <td>32</td>\n      <td>0.0</td>\n      <td>0.0</td>\n      <td>0.0</td>\n      <td>0.0</td>\n      <td>0.0</td>\n      <td>0.0</td>\n      <td>0.0</td>\n      <td>0.0</td>\n      <td>WebDDoS</td>\n    </tr>\n    <tr>\n      <th>92934</th>\n      <td>6</td>\n      <td>114</td>\n      <td>2</td>\n      <td>2</td>\n      <td>0.0</td>\n      <td>0.0</td>\n      <td>0.0</td>\n      <td>0.0</td>\n      <td>0.0</td>\n      <td>0.0</td>\n      <td>...</td>\n      <td>20</td>\n      <td>0.0</td>\n      <td>0.0</td>\n      <td>0.0</td>\n      <td>0.0</td>\n      <td>0.0</td>\n      <td>0.0</td>\n      <td>0.0</td>\n      <td>0.0</td>\n      <td>UDP-lag</td>\n    </tr>\n    <tr>\n      <th>92935</th>\n      <td>6</td>\n      <td>105</td>\n      <td>2</td>\n      <td>2</td>\n      <td>0.0</td>\n      <td>0.0</td>\n      <td>0.0</td>\n      <td>0.0</td>\n      <td>0.0</td>\n      <td>0.0</td>\n      <td>...</td>\n      <td>20</td>\n      <td>0.0</td>\n      <td>0.0</td>\n      <td>0.0</td>\n      <td>0.0</td>\n      <td>0.0</td>\n      <td>0.0</td>\n      <td>0.0</td>\n      <td>0.0</td>\n      <td>UDP-lag</td>\n    </tr>\n  </tbody>\n</table>\n<p>92936 rows × 62 columns</p>\n</div>"
     },
     "execution_count": 110,
     "metadata": {},
     "output_type": "execute_result"
    }
   ],
   "source": [
    "workingDataFrame.drop(columns=featureContainingAlmostZero, inplace=True, errors='ignore')\n",
    "workingDataFrame.rename(columns=col_name_consistency, inplace=True)\n",
    "workingDataFrame.reset_index(inplace=True, drop=True)\n",
    "workingDataFrame"
   ],
   "metadata": {
    "collapsed": false
   }
  },
  {
   "cell_type": "markdown",
   "source": [
    "Saving New DataFrame as csv file to new location"
   ],
   "metadata": {
    "collapsed": false
   }
  },
  {
   "cell_type": "code",
   "execution_count": 111,
   "outputs": [],
   "source": [
    "def dataCleaningResultToAnotherCSV(dataFrameArg, dirPath, file_name):\n",
    "    dataFrameArg.to_csv(dirPath + file_name)"
   ],
   "metadata": {
    "collapsed": false
   }
  },
  {
   "cell_type": "code",
   "execution_count": 112,
   "outputs": [],
   "source": [
    "newCsvPath = \"C:\\\\CIC-DDOS-2019\\\\AfterDataCleaning\\\\\"\n",
    "newFileName = \"UDPLag.csv\"\n",
    "dataCleaningResultToAnotherCSV(dataFrameArg=workingDataFrame, dirPath=newCsvPath, file_name=newFileName)"
   ],
   "metadata": {
    "collapsed": false
   }
  },
  {
   "cell_type": "code",
   "execution_count": 113,
   "outputs": [
    {
     "data": {
      "text/plain": "77"
     },
     "execution_count": 113,
     "metadata": {},
     "output_type": "execute_result"
    }
   ],
   "source": [
    "gc.collect()"
   ],
   "metadata": {
    "collapsed": false
   }
  }
 ],
 "metadata": {
  "kernelspec": {
   "display_name": "Python 3",
   "language": "python",
   "name": "python3"
  },
  "language_info": {
   "codemirror_mode": {
    "name": "ipython",
    "version": 2
   },
   "file_extension": ".py",
   "mimetype": "text/x-python",
   "name": "python",
   "nbconvert_exporter": "python",
   "pygments_lexer": "ipython2",
   "version": "2.7.6"
  }
 },
 "nbformat": 4,
 "nbformat_minor": 0
}
