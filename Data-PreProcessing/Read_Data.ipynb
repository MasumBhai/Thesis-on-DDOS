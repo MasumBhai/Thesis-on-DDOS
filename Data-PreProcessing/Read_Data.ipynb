{
 "cells": [
  {
   "cell_type": "markdown",
   "source": [
    "Loading Libraries"
   ],
   "metadata": {
    "collapsed": false
   }
  },
  {
   "cell_type": "code",
   "execution_count": 30,
   "metadata": {
    "collapsed": true
   },
   "outputs": [],
   "source": [
    "import numba\n",
    "import tensorflow as tf\n",
    "import pandas as pd\n",
    "import numpy as np\n",
    "import random\n",
    "import gc  # garbage collector\n",
    "\n",
    "from fastcore.basics import *\n",
    "from fastcore.parallel import *\n",
    "from numba import jit, njit, vectorize, cuda, uint32, f8, uint8\n",
    "\n",
    "from sklearn.model_selection import train_test_split\n",
    "from sklearn import metrics  # for accuracy calculation\n",
    "from sklearn.tree import DecisionTreeClassifier\n",
    "from sklearn.metrics import roc_auc_score, accuracy_score\n",
    "from functools import partial\n",
    "from os import cpu_count\n",
    "import matplotlib.pyplot as plt\n",
    "\n",
    "import math\n",
    "from pylab import imshow, show\n",
    "from timeit import default_timer as timer\n",
    "\n",
    "from dask import dataframe as dd\n",
    "from dask.distributed import Client"
   ]
  },
  {
   "cell_type": "markdown",
   "source": [
    "Setting up paths to csv files / datasets"
   ],
   "metadata": {
    "collapsed": false
   }
  },
  {
   "cell_type": "code",
   "execution_count": 31,
   "outputs": [],
   "source": [
    "# CSV-01-12\n",
    "path_DdoS_DNS = \"C:\\\\CIC-DDOS-2019\\\\DrDoS_DNS.csv\"\n",
    "path_DdoS_MSSQL = \"C:\\\\CIC-DDOS-2019\\\\DrDoS_MSSQL.csv\"\n",
    "path_DdoS_LDAP = \"C:\\\\CIC-DDOS-2019\\\\DrDoS_LDAP.csv\"\n",
    "path_DdoS_NTP = \"C:\\\\CIC-DDOS-2019\\\\DrDoS_NTP.csv\"\n",
    "path_DdoS_NetBIOS = \"C:\\\\CIC-DDOS-2019\\\\DrDoS_NetBIOS.csv\"\n",
    "path_DdoS_SNMP = \"C:\\\\CIC-DDOS-2019\\\\DrDoS_SNMP.csv\"\n",
    "path_DdoS_SSDP = \"C:\\\\CIC-DDOS-2019\\\\DrDoS_SSDP.csv\"\n",
    "path_DdoS_UDP = \"C:\\\\CIC-DDOS-2019\\\\DrDoS_UDP.csv\"\n",
    "path_Syn = \"C:\\\\CIC-DDOS-2019\\\\Syn.csv\"\n",
    "path_TFTP = \"C:\\\\CIC-DDOS-2019\\\\TFTP.csv\"\n",
    "path_UDPLag = \"C:\\\\CIC-DDOS-2019\\\\UDPLag.csv\"\n",
    "\n",
    "# # CSV-03-11\n",
    "# path__LDAP = \"../CICDDoS-2019/CSV-03-11/03-11/LDAP.csv\"\n",
    "# path__MSSQL = \"../CICDDoS-2019/CSV-03-11/03-11/MSSQL.csv\"\n",
    "# path__NetBIOS = \"../CICDDoS-2019/CSV-03-11/03-11/NetBIOS.csv\"\n",
    "# path__Portmap = \"../CICDDoS-2019/CSV-03-11/03-11/Portmap.csv\"\n",
    "# path__Syn = \"../CICDDoS-2019/CSV-03-11/03-11/Syn.csv\"\n",
    "# path__UDP = \"../CICDDoS-2019/CSV-03-11/03-11/UDP.csv\"\n",
    "# path__UDPLag = \"../CICDDoS-2019/CSV-03-11/03-11/UDPLag.csv\"\n",
    "\n",
    "paths = [path_DdoS_DNS, path_DdoS_MSSQL, path_DdoS_LDAP, path_DdoS_NTP, path_DdoS_NetBIOS, path_DdoS_SNMP,\n",
    "         path_DdoS_SSDP, path_DdoS_UDP, path_Syn, path_TFTP, path_UDPLag]\n",
    "# , path__LDAP, path__MSSQL, path__NetBIOS,\n",
    "#      path__Portmap, path__Syn, path__UDP, path__UDPLag]"
   ],
   "metadata": {
    "collapsed": false
   }
  },
  {
   "cell_type": "markdown",
   "source": [
    "Column / feature names"
   ],
   "metadata": {
    "collapsed": false
   }
  },
  {
   "cell_type": "code",
   "execution_count": 32,
   "outputs": [],
   "source": [
    "col_name_consistency = {\n",
    "    'Flow ID': 'Flow ID',\n",
    "    'Source IP': 'Source IP',\n",
    "    'Src IP': 'Source IP',\n",
    "    'Source Port': 'Source Port',\n",
    "    'Src Port': 'Source Port',\n",
    "    'Destination IP': 'Destination IP',\n",
    "    'Dst IP': 'Destination IP',\n",
    "    'Destination Port': 'Destination Port',\n",
    "    'Dst Port': 'Destination Port',\n",
    "    'Protocol': 'Protocol',\n",
    "    'Timestamp': 'Timestamp',\n",
    "    'Flow Duration': 'Flow Duration',\n",
    "    'Total Fwd Packets': 'Total Fwd Packets',\n",
    "    'Tot Fwd Pkts': 'Total Fwd Packets',\n",
    "    'Total Backward Packets': 'Total Backward Packets',\n",
    "    'Tot Bwd Pkts': 'Total Backward Packets',\n",
    "    'Total Length of Fwd Packets': 'Fwd Packets Length Total',\n",
    "    'TotLen Fwd Pkts': 'Fwd Packets Length Total',\n",
    "    'Total Length of Bwd Packets': 'Bwd Packets Length Total',\n",
    "    'TotLen Bwd Pkts': 'Bwd Packets Length Total',\n",
    "    'Fwd Packet Length Max': 'Fwd Packet Length Max',\n",
    "    'Fwd Pkt Len Max': 'Fwd Packet Length Max',\n",
    "    'Fwd Packet Length Min': 'Fwd Packet Length Min',\n",
    "    'Fwd Pkt Len Min': 'Fwd Packet Length Min',\n",
    "    'Fwd Packet Length Mean': 'Fwd Packet Length Mean',\n",
    "    'Fwd Pkt Len Mean': 'Fwd Packet Length Mean',\n",
    "    'Fwd Packet Length Std': 'Fwd Packet Length Std',\n",
    "    'Fwd Pkt Len Std': 'Fwd Packet Length Std',\n",
    "    'Bwd Packet Length Max': 'Bwd Packet Length Max',\n",
    "    'Bwd Pkt Len Max': 'Bwd Packet Length Max',\n",
    "    'Bwd Packet Length Min': 'Bwd Packet Length Min',\n",
    "    'Bwd Pkt Len Min': 'Bwd Packet Length Min',\n",
    "    'Bwd Packet Length Mean': 'Bwd Packet Length Mean',\n",
    "    'Bwd Pkt Len Mean': 'Bwd Packet Length Mean',\n",
    "    'Bwd Packet Length Std': 'Bwd Packet Length Std',\n",
    "    'Bwd Pkt Len Std': 'Bwd Packet Length Std',\n",
    "    'Flow Bytes/s': 'Flow Bytes/s',\n",
    "    'Flow Byts/s': 'Flow Bytes/s',\n",
    "    'Flow Packets/s': 'Flow Packets/s',\n",
    "    'Flow Pkts/s': 'Flow Packets/s',\n",
    "    'Flow IAT Mean': 'Flow IAT Mean',\n",
    "    'Flow IAT Std': 'Flow IAT Std',\n",
    "    'Flow IAT Max': 'Flow IAT Max',\n",
    "    'Flow IAT Min': 'Flow IAT Min',\n",
    "    'Fwd IAT Total': 'Fwd IAT Total',\n",
    "    'Fwd IAT Tot': 'Fwd IAT Total',\n",
    "    'Fwd IAT Mean': 'Fwd IAT Mean',\n",
    "    'Fwd IAT Std': 'Fwd IAT Std',\n",
    "    'Fwd IAT Max': 'Fwd IAT Max',\n",
    "    'Fwd IAT Min': 'Fwd IAT Min',\n",
    "    'Bwd IAT Total': 'Bwd IAT Total',\n",
    "    'Bwd IAT Tot': 'Bwd IAT Total',\n",
    "    'Bwd IAT Mean': 'Bwd IAT Mean',\n",
    "    'Bwd IAT Std': 'Bwd IAT Std',\n",
    "    'Bwd IAT Max': 'Bwd IAT Max',\n",
    "    'Bwd IAT Min': 'Bwd IAT Min',\n",
    "    'Fwd PSH Flags': 'Fwd PSH Flags',\n",
    "    'Bwd PSH Flags': 'Bwd PSH Flags',\n",
    "    'Fwd URG Flags': 'Fwd URG Flags',\n",
    "    'Bwd URG Flags': 'Bwd URG Flags',\n",
    "    'Fwd Header Length': 'Fwd Header Length',\n",
    "    'Fwd Header Len': 'Fwd Header Length',\n",
    "    'Bwd Header Length': 'Bwd Header Length',\n",
    "    'Bwd Header Len': 'Bwd Header Length',\n",
    "    'Fwd Packets/s': 'Fwd Packets/s',\n",
    "    'Fwd Pkts/s': 'Fwd Packets/s',\n",
    "    'Bwd Packets/s': 'Bwd Packets/s',\n",
    "    'Bwd Pkts/s': 'Bwd Packets/s',\n",
    "    'Min Packet Length': 'Packet Length Min',\n",
    "    'Pkt Len Min': 'Packet Length Min',\n",
    "    'Max Packet Length': 'Packet Length Max',\n",
    "    'Pkt Len Max': 'Packet Length Max',\n",
    "    'Packet Length Mean': 'Packet Length Mean',\n",
    "    'Pkt Len Mean': 'Packet Length Mean',\n",
    "    'Packet Length Std': 'Packet Length Std',\n",
    "    'Pkt Len Std': 'Packet Length Std',\n",
    "    'Packet Length Variance': 'Packet Length Variance',\n",
    "    'Pkt Len Var': 'Packet Length Variance',\n",
    "    'FIN Flag Count': 'FIN Flag Count',\n",
    "    'FIN Flag Cnt': 'FIN Flag Count',\n",
    "    'SYN Flag Count': 'SYN Flag Count',\n",
    "    'SYN Flag Cnt': 'SYN Flag Count',\n",
    "    'RST Flag Count': 'RST Flag Count',\n",
    "    'RST Flag Cnt': 'RST Flag Count',\n",
    "    'PSH Flag Count': 'PSH Flag Count',\n",
    "    'PSH Flag Cnt': 'PSH Flag Count',\n",
    "    'ACK Flag Count': 'ACK Flag Count',\n",
    "    'ACK Flag Cnt': 'ACK Flag Count',\n",
    "    'URG Flag Count': 'URG Flag Count',\n",
    "    'URG Flag Cnt': 'URG Flag Count',\n",
    "    'CWE Flag Count': 'CWE Flag Count',\n",
    "    'CWE Flag Cnt': 'CWE Flag Count',\n",
    "    'ECE Flag Count': 'ECE Flag Count',\n",
    "    'ECE Flag Cnt': 'ECE Flag Count',\n",
    "    'Down/Up Ratio': 'Down/Up Ratio',\n",
    "    'Average Packet Size': 'Avg Packet Size',\n",
    "    'Pkt Size Avg': 'Avg Packet Size',\n",
    "    'Avg Fwd Segment Size': 'Avg Fwd Segment Size',\n",
    "    'Fwd Seg Size Avg': 'Avg Fwd Segment Size',\n",
    "    'Avg Bwd Segment Size': 'Avg Bwd Segment Size',\n",
    "    'Bwd Seg Size Avg': 'Avg Bwd Segment Size',\n",
    "    'Fwd Avg Bytes/Bulk': 'Fwd Avg Bytes/Bulk',\n",
    "    'Fwd Byts/b Avg': 'Fwd Avg Bytes/Bulk',\n",
    "    'Fwd Avg Packets/Bulk': 'Fwd Avg Packets/Bulk',\n",
    "    'Fwd Pkts/b Avg': 'Fwd Avg Packets/Bulk',\n",
    "    'Fwd Avg Bulk Rate': 'Fwd Avg Bulk Rate',\n",
    "    'Fwd Blk Rate Avg': 'Fwd Avg Bulk Rate',\n",
    "    'Bwd Avg Bytes/Bulk': 'Bwd Avg Bytes/Bulk',\n",
    "    'Bwd Byts/b Avg': 'Bwd Avg Bytes/Bulk',\n",
    "    'Bwd Avg Packets/Bulk': 'Bwd Avg Packets/Bulk',\n",
    "    'Bwd Pkts/b Avg': 'Bwd Avg Packets/Bulk',\n",
    "    'Bwd Avg Bulk Rate': 'Bwd Avg Bulk Rate',\n",
    "    'Bwd Blk Rate Avg': 'Bwd Avg Bulk Rate',\n",
    "    'Subflow Fwd Packets': 'Subflow Fwd Packets',\n",
    "    'Subflow Fwd Pkts': 'Subflow Fwd Packets',\n",
    "    'Subflow Fwd Bytes': 'Subflow Fwd Bytes',\n",
    "    'Subflow Fwd Byts': 'Subflow Fwd Bytes',\n",
    "    'Subflow Bwd Packets': 'Subflow Bwd Packets',\n",
    "    'Subflow Bwd Pkts': 'Subflow Bwd Packets',\n",
    "    'Subflow Bwd Bytes': 'Subflow Bwd Bytes',\n",
    "    'Subflow Bwd Byts': 'Subflow Bwd Bytes',\n",
    "    'Init_Win_bytes_forward': 'Init Fwd Win Bytes',\n",
    "    'Init Fwd Win Byts': 'Init Fwd Win Bytes',\n",
    "    'Init_Win_bytes_backward': 'Init Bwd Win Bytes',\n",
    "    'Init Bwd Win Byts': 'Init Bwd Win Bytes',\n",
    "    'act_data_pkt_fwd': 'Fwd Act Data Packets',\n",
    "    'Fwd Act Data Pkts': 'Fwd Act Data Packets',\n",
    "    'min_seg_size_forward': 'Fwd Seg Size Min',\n",
    "    'Fwd Seg Size Min': 'Fwd Seg Size Min',\n",
    "    'Active Mean': 'Active Mean',\n",
    "    'Active Std': 'Active Std',\n",
    "    'Active Max': 'Active Max',\n",
    "    'Active Min': 'Active Min',\n",
    "    'Idle Mean': 'Idle Mean',\n",
    "    'Idle Std': 'Idle Std',\n",
    "    'Idle Max': 'Idle Max',\n",
    "    'Idle Min': 'Idle Min',\n",
    "    'Label': 'Label'\n",
    "}"
   ],
   "metadata": {
    "collapsed": false
   }
  },
  {
   "cell_type": "markdown",
   "source": [
    "Following Columns may have little insignificance over model"
   ],
   "metadata": {
    "collapsed": false
   }
  },
  {
   "cell_type": "code",
   "execution_count": 33,
   "outputs": [
    {
     "data": {
      "text/plain": "14"
     },
     "execution_count": 33,
     "metadata": {},
     "output_type": "execute_result"
    }
   ],
   "source": [
    "drop_columns = [  # this list includes all spellings across CIC NIDS datasets\n",
    "    \"Flow ID\",\n",
    "    'Fwd Header Length.1',\n",
    "    \"Source IP\",\n",
    "    \"Src IP\",\n",
    "    \"Source Port\",\n",
    "    \"Src Port\",\n",
    "    \"Destination IP\",\n",
    "    \"Dst IP\",\n",
    "    \"Destination Port\",\n",
    "    \"Dst Port\",\n",
    "    \"Timestamp\",\n",
    "    \"Unnamed: 0\",\n",
    "    \"Inbound\",\n",
    "    \"SimillarHTTP\"  # CIC-DDoS other undocumented columns\n",
    "]\n",
    "len(drop_columns)  # src_port,dst_port, src_ip, dst_ip these are duplicate"
   ],
   "metadata": {
    "collapsed": false
   }
  },
  {
   "cell_type": "code",
   "execution_count": 34,
   "outputs": [
    {
     "name": "stdout",
     "output_type": "stream",
     "text": [
      "[name: \"/device:CPU:0\"\n",
      "device_type: \"CPU\"\n",
      "memory_limit: 268435456\n",
      "locality {\n",
      "}\n",
      "incarnation: 2997894037423330845\n",
      ", name: \"/device:GPU:0\"\n",
      "device_type: \"GPU\"\n",
      "memory_limit: 2966106932\n",
      "locality {\n",
      "  bus_id: 1\n",
      "  links {\n",
      "  }\n",
      "}\n",
      "incarnation: 1670120550598165016\n",
      "physical_device_desc: \"device: 0, name: NVIDIA GeForce 940MX, pci bus id: 0000:01:00.0, compute capability: 5.0\"\n",
      "]\n"
     ]
    },
    {
     "data": {
      "text/plain": "[PhysicalDevice(name='/physical_device:GPU:0', device_type='GPU')]"
     },
     "execution_count": 34,
     "metadata": {},
     "output_type": "execute_result"
    }
   ],
   "source": [
    "from tensorflow.python.client import device_lib\n",
    "\n",
    "print(device_lib.list_local_devices())\n",
    "tf.config.experimental.list_physical_devices('GPU')\n",
    "# import cudf\n",
    "# dtypes = {'SimillarHTTP': 'object'}\n",
    "# df_gpu = cudf.read_csv(path_TFTP, blocksize=50e6, low_memory=False, dtype=dtypes)"
   ],
   "metadata": {
    "collapsed": false
   }
  },
  {
   "cell_type": "code",
   "execution_count": 35,
   "outputs": [],
   "source": [
    "def readHugeCsvFileAsDataFrame(file_path):\n",
    "    # start = timer()\n",
    "    dtypes = {'SimillarHTTP': 'object',\n",
    "              'Timestamp': 'object',\n",
    "              'Source IP': 'str',\n",
    "              'Destination IP': 'str',\n",
    "              'Flow ID': 'object',\n",
    "              'Label': 'object',\n",
    "              }\n",
    "    for feature in [f'f_{i}' for i in range(82)]:\n",
    "        dtypes[feature] = \"float32\"\n",
    "\n",
    "    dask_df = dd.read_csv(file_path, low_memory=False, dtype=dtypes)  # 50MB chunk-size\n",
    "    # elapsed_time = timer() - start\n",
    "    # print(\"Read csv with dask: \", elapsed_time, \"sec\")\n",
    "    return dask_df.compute()"
   ],
   "metadata": {
    "collapsed": false
   }
  },
  {
   "cell_type": "code",
   "execution_count": 36,
   "outputs": [
    {
     "name": "stderr",
     "output_type": "stream",
     "text": [
      "C:\\Users\\Malware\\anaconda3\\envs\\ml_env\\lib\\site-packages\\distributed\\node.py:155: UserWarning: Port 8787 is already in use.\n",
      "Perhaps you already have a cluster running?\n",
      "Hosting the HTTP server on port 12891 instead\n",
      "  http_address[\"port\"], self.http_server.port\n"
     ]
    },
    {
     "data": {
      "text/plain": "<Client: 'tcp://127.0.0.1:12892' processes=4 threads=4, memory=8.47 GB>",
      "text/html": "<table style=\"border: 2px solid white;\">\n<tr>\n<td style=\"vertical-align: top; border: 0px solid white\">\n<h3 style=\"text-align: left;\">Client</h3>\n<ul style=\"text-align: left; list-style: none; margin: 0; padding: 0;\">\n  <li><b>Scheduler: </b>tcp://127.0.0.1:12892</li>\n  <li><b>Dashboard: </b><a href='http://127.0.0.1:12891/status' target='_blank'>http://127.0.0.1:12891/status</a></li>\n</ul>\n</td>\n<td style=\"vertical-align: top; border: 0px solid white\">\n<h3 style=\"text-align: left;\">Cluster</h3>\n<ul style=\"text-align: left; list-style:none; margin: 0; padding: 0;\">\n  <li><b>Workers: </b>4</li>\n  <li><b>Cores: </b>4</li>\n  <li><b>Memory: </b>8.47 GB</li>\n</ul>\n</td>\n</tr>\n</table>"
     },
     "execution_count": 36,
     "metadata": {},
     "output_type": "execute_result"
    }
   ],
   "source": [
    "scheduler = Client()\n",
    "scheduler"
   ],
   "metadata": {
    "collapsed": false
   }
  },
  {
   "cell_type": "markdown",
   "source": [
    "Without Scheduler (see the elapsed time to process)"
   ],
   "metadata": {
    "collapsed": false
   }
  },
  {
   "cell_type": "code",
   "execution_count": 37,
   "outputs": [
    {
     "name": "stdout",
     "output_type": "stream",
     "text": [
      "Wall time: 1min 19s\n"
     ]
    },
    {
     "data": {
      "text/plain": "      Unnamed: 0                                Flow ID       Source IP  \\\n0              0     172.16.0.5-192.168.50.1-60675-80-6      172.16.0.5   \n1              7     172.16.0.5-192.168.50.1-60676-80-6      172.16.0.5   \n2          12858  192.168.50.7-65.55.163.78-50458-443-6    65.55.163.78   \n3          10191  192.168.50.7-65.55.163.78-50465-443-6    65.55.163.78   \n4            239         192.168.50.253-224.0.0.5-0-0-0  192.168.50.253   \n...          ...                                    ...             ...   \n9321        2414   172.16.0.5-192.168.50.1-634-63125-17      172.16.0.5   \n9322        1506   172.16.0.5-192.168.50.1-634-12431-17      172.16.0.5   \n9323         195     172.16.0.5-192.168.50.1-634-881-17      172.16.0.5   \n9324         266    172.16.0.5-192.168.50.1-634-7051-17      172.16.0.5   \n9325         508   172.16.0.5-192.168.50.1-634-60495-17      172.16.0.5   \n\n       Source Port  Destination IP   Destination Port   Protocol  \\\n0            60675    192.168.50.1                 80          6   \n1            60676    192.168.50.1                 80          6   \n2              443    192.168.50.7              50458          6   \n3              443    192.168.50.7              50465          6   \n4                0       224.0.0.5                  0          0   \n...            ...             ...                ...        ...   \n9321           634    192.168.50.1              63125         17   \n9322           634    192.168.50.1              12431         17   \n9323           634    192.168.50.1                881         17   \n9324           634    192.168.50.1               7051         17   \n9325           634    192.168.50.1              60495         17   \n\n                       Timestamp   Flow Duration   Total Fwd Packets  ...  \\\n0     2018-12-01 09:17:11.183810         5220876                  12  ...   \n1     2018-12-01 09:17:11.205636        12644252                   5  ...   \n2     2018-12-01 09:17:12.634569               3                   2  ...   \n3     2018-12-01 09:17:13.458370               3                   2  ...   \n4     2018-12-01 09:17:13.470913       114329232                  52  ...   \n...                          ...             ...                 ...  ...   \n9321  2018-12-01 10:51:39.600556           37146                 200  ...   \n9322  2018-12-01 10:51:39.635018           42011                 200  ...   \n9323  2018-12-01 10:51:39.685553           40375                 200  ...   \n9324  2018-12-01 10:51:39.721301           59116                 200  ...   \n9325  2018-12-01 10:51:39.778786           34660                 103  ...   \n\n       Active Std   Active Max   Active Min  Idle Mean       Idle Std  \\\n0        0.000000          0.0          0.0        0.0       0.000000   \n1        0.000000          0.0          0.0        0.0       0.000000   \n2        0.000000          0.0          0.0        0.0       0.000000   \n3        0.000000          0.0          0.0        0.0       0.000000   \n4        2.466441         15.0          6.0  9527428.0  248706.681286   \n...           ...          ...          ...        ...            ...   \n9321     0.000000          0.0          0.0        0.0       0.000000   \n9322     0.000000          0.0          0.0        0.0       0.000000   \n9323     0.000000          0.0          0.0        0.0       0.000000   \n9324     0.000000          0.0          0.0        0.0       0.000000   \n9325     0.000000          0.0          0.0        0.0       0.000000   \n\n       Idle Max   Idle Min          SimillarHTTP   Inbound      Label  \n0           0.0        0.0  205.174.165.72/c.php         1  DrDoS_NTP  \n1           0.0        0.0                     0         1  DrDoS_NTP  \n2           0.0        0.0                     0         1     BENIGN  \n3           0.0        0.0                     0         1     BENIGN  \n4     9950741.0  9092248.0                     0         0     BENIGN  \n...         ...        ...                   ...       ...        ...  \n9321        0.0        0.0                     0         1  DrDoS_NTP  \n9322        0.0        0.0                     0         1  DrDoS_NTP  \n9323        0.0        0.0                     0         1  DrDoS_NTP  \n9324        0.0        0.0                     0         1  DrDoS_NTP  \n9325        0.0        0.0                     0         1  DrDoS_NTP  \n\n[1217007 rows x 88 columns]",
      "text/html": "<div>\n<style scoped>\n    .dataframe tbody tr th:only-of-type {\n        vertical-align: middle;\n    }\n\n    .dataframe tbody tr th {\n        vertical-align: top;\n    }\n\n    .dataframe thead th {\n        text-align: right;\n    }\n</style>\n<table border=\"1\" class=\"dataframe\">\n  <thead>\n    <tr style=\"text-align: right;\">\n      <th></th>\n      <th>Unnamed: 0</th>\n      <th>Flow ID</th>\n      <th>Source IP</th>\n      <th>Source Port</th>\n      <th>Destination IP</th>\n      <th>Destination Port</th>\n      <th>Protocol</th>\n      <th>Timestamp</th>\n      <th>Flow Duration</th>\n      <th>Total Fwd Packets</th>\n      <th>...</th>\n      <th>Active Std</th>\n      <th>Active Max</th>\n      <th>Active Min</th>\n      <th>Idle Mean</th>\n      <th>Idle Std</th>\n      <th>Idle Max</th>\n      <th>Idle Min</th>\n      <th>SimillarHTTP</th>\n      <th>Inbound</th>\n      <th>Label</th>\n    </tr>\n  </thead>\n  <tbody>\n    <tr>\n      <th>0</th>\n      <td>0</td>\n      <td>172.16.0.5-192.168.50.1-60675-80-6</td>\n      <td>172.16.0.5</td>\n      <td>60675</td>\n      <td>192.168.50.1</td>\n      <td>80</td>\n      <td>6</td>\n      <td>2018-12-01 09:17:11.183810</td>\n      <td>5220876</td>\n      <td>12</td>\n      <td>...</td>\n      <td>0.000000</td>\n      <td>0.0</td>\n      <td>0.0</td>\n      <td>0.0</td>\n      <td>0.000000</td>\n      <td>0.0</td>\n      <td>0.0</td>\n      <td>205.174.165.72/c.php</td>\n      <td>1</td>\n      <td>DrDoS_NTP</td>\n    </tr>\n    <tr>\n      <th>1</th>\n      <td>7</td>\n      <td>172.16.0.5-192.168.50.1-60676-80-6</td>\n      <td>172.16.0.5</td>\n      <td>60676</td>\n      <td>192.168.50.1</td>\n      <td>80</td>\n      <td>6</td>\n      <td>2018-12-01 09:17:11.205636</td>\n      <td>12644252</td>\n      <td>5</td>\n      <td>...</td>\n      <td>0.000000</td>\n      <td>0.0</td>\n      <td>0.0</td>\n      <td>0.0</td>\n      <td>0.000000</td>\n      <td>0.0</td>\n      <td>0.0</td>\n      <td>0</td>\n      <td>1</td>\n      <td>DrDoS_NTP</td>\n    </tr>\n    <tr>\n      <th>2</th>\n      <td>12858</td>\n      <td>192.168.50.7-65.55.163.78-50458-443-6</td>\n      <td>65.55.163.78</td>\n      <td>443</td>\n      <td>192.168.50.7</td>\n      <td>50458</td>\n      <td>6</td>\n      <td>2018-12-01 09:17:12.634569</td>\n      <td>3</td>\n      <td>2</td>\n      <td>...</td>\n      <td>0.000000</td>\n      <td>0.0</td>\n      <td>0.0</td>\n      <td>0.0</td>\n      <td>0.000000</td>\n      <td>0.0</td>\n      <td>0.0</td>\n      <td>0</td>\n      <td>1</td>\n      <td>BENIGN</td>\n    </tr>\n    <tr>\n      <th>3</th>\n      <td>10191</td>\n      <td>192.168.50.7-65.55.163.78-50465-443-6</td>\n      <td>65.55.163.78</td>\n      <td>443</td>\n      <td>192.168.50.7</td>\n      <td>50465</td>\n      <td>6</td>\n      <td>2018-12-01 09:17:13.458370</td>\n      <td>3</td>\n      <td>2</td>\n      <td>...</td>\n      <td>0.000000</td>\n      <td>0.0</td>\n      <td>0.0</td>\n      <td>0.0</td>\n      <td>0.000000</td>\n      <td>0.0</td>\n      <td>0.0</td>\n      <td>0</td>\n      <td>1</td>\n      <td>BENIGN</td>\n    </tr>\n    <tr>\n      <th>4</th>\n      <td>239</td>\n      <td>192.168.50.253-224.0.0.5-0-0-0</td>\n      <td>192.168.50.253</td>\n      <td>0</td>\n      <td>224.0.0.5</td>\n      <td>0</td>\n      <td>0</td>\n      <td>2018-12-01 09:17:13.470913</td>\n      <td>114329232</td>\n      <td>52</td>\n      <td>...</td>\n      <td>2.466441</td>\n      <td>15.0</td>\n      <td>6.0</td>\n      <td>9527428.0</td>\n      <td>248706.681286</td>\n      <td>9950741.0</td>\n      <td>9092248.0</td>\n      <td>0</td>\n      <td>0</td>\n      <td>BENIGN</td>\n    </tr>\n    <tr>\n      <th>...</th>\n      <td>...</td>\n      <td>...</td>\n      <td>...</td>\n      <td>...</td>\n      <td>...</td>\n      <td>...</td>\n      <td>...</td>\n      <td>...</td>\n      <td>...</td>\n      <td>...</td>\n      <td>...</td>\n      <td>...</td>\n      <td>...</td>\n      <td>...</td>\n      <td>...</td>\n      <td>...</td>\n      <td>...</td>\n      <td>...</td>\n      <td>...</td>\n      <td>...</td>\n      <td>...</td>\n    </tr>\n    <tr>\n      <th>9321</th>\n      <td>2414</td>\n      <td>172.16.0.5-192.168.50.1-634-63125-17</td>\n      <td>172.16.0.5</td>\n      <td>634</td>\n      <td>192.168.50.1</td>\n      <td>63125</td>\n      <td>17</td>\n      <td>2018-12-01 10:51:39.600556</td>\n      <td>37146</td>\n      <td>200</td>\n      <td>...</td>\n      <td>0.000000</td>\n      <td>0.0</td>\n      <td>0.0</td>\n      <td>0.0</td>\n      <td>0.000000</td>\n      <td>0.0</td>\n      <td>0.0</td>\n      <td>0</td>\n      <td>1</td>\n      <td>DrDoS_NTP</td>\n    </tr>\n    <tr>\n      <th>9322</th>\n      <td>1506</td>\n      <td>172.16.0.5-192.168.50.1-634-12431-17</td>\n      <td>172.16.0.5</td>\n      <td>634</td>\n      <td>192.168.50.1</td>\n      <td>12431</td>\n      <td>17</td>\n      <td>2018-12-01 10:51:39.635018</td>\n      <td>42011</td>\n      <td>200</td>\n      <td>...</td>\n      <td>0.000000</td>\n      <td>0.0</td>\n      <td>0.0</td>\n      <td>0.0</td>\n      <td>0.000000</td>\n      <td>0.0</td>\n      <td>0.0</td>\n      <td>0</td>\n      <td>1</td>\n      <td>DrDoS_NTP</td>\n    </tr>\n    <tr>\n      <th>9323</th>\n      <td>195</td>\n      <td>172.16.0.5-192.168.50.1-634-881-17</td>\n      <td>172.16.0.5</td>\n      <td>634</td>\n      <td>192.168.50.1</td>\n      <td>881</td>\n      <td>17</td>\n      <td>2018-12-01 10:51:39.685553</td>\n      <td>40375</td>\n      <td>200</td>\n      <td>...</td>\n      <td>0.000000</td>\n      <td>0.0</td>\n      <td>0.0</td>\n      <td>0.0</td>\n      <td>0.000000</td>\n      <td>0.0</td>\n      <td>0.0</td>\n      <td>0</td>\n      <td>1</td>\n      <td>DrDoS_NTP</td>\n    </tr>\n    <tr>\n      <th>9324</th>\n      <td>266</td>\n      <td>172.16.0.5-192.168.50.1-634-7051-17</td>\n      <td>172.16.0.5</td>\n      <td>634</td>\n      <td>192.168.50.1</td>\n      <td>7051</td>\n      <td>17</td>\n      <td>2018-12-01 10:51:39.721301</td>\n      <td>59116</td>\n      <td>200</td>\n      <td>...</td>\n      <td>0.000000</td>\n      <td>0.0</td>\n      <td>0.0</td>\n      <td>0.0</td>\n      <td>0.000000</td>\n      <td>0.0</td>\n      <td>0.0</td>\n      <td>0</td>\n      <td>1</td>\n      <td>DrDoS_NTP</td>\n    </tr>\n    <tr>\n      <th>9325</th>\n      <td>508</td>\n      <td>172.16.0.5-192.168.50.1-634-60495-17</td>\n      <td>172.16.0.5</td>\n      <td>634</td>\n      <td>192.168.50.1</td>\n      <td>60495</td>\n      <td>17</td>\n      <td>2018-12-01 10:51:39.778786</td>\n      <td>34660</td>\n      <td>103</td>\n      <td>...</td>\n      <td>0.000000</td>\n      <td>0.0</td>\n      <td>0.0</td>\n      <td>0.0</td>\n      <td>0.000000</td>\n      <td>0.0</td>\n      <td>0.0</td>\n      <td>0</td>\n      <td>1</td>\n      <td>DrDoS_NTP</td>\n    </tr>\n  </tbody>\n</table>\n<p>1217007 rows × 88 columns</p>\n</div>"
     },
     "execution_count": 37,
     "metadata": {},
     "output_type": "execute_result"
    }
   ],
   "source": [
    "%%time\n",
    "# workingDataFrame = readHugeCsvFileAsDataFrame(path_UDPLag)\n",
    "# workingDataFrame = readHugeCsvFileAsDataFrame(path_Syn)\n",
    "workingDataFrame = readHugeCsvFileAsDataFrame(path_DdoS_NTP)\n",
    "# workingDataFrame.describe()\n",
    "workingDataFrame"
   ],
   "metadata": {
    "collapsed": false
   }
  },
  {
   "cell_type": "markdown",
   "source": [
    "With Scheduler (see the elapsed time to process)"
   ],
   "metadata": {
    "collapsed": false
   }
  },
  {
   "cell_type": "markdown",
   "source": [
    "%%time\n",
    "workingDataFrame = scheduler.submit(readHugeCsvFileAsDataFrame, path_UDPLag)\n",
    "df = workingDataFrame.result()\n",
    "df"
   ],
   "metadata": {
    "collapsed": false
   }
  },
  {
   "cell_type": "code",
   "execution_count": 38,
   "outputs": [
    {
     "data": {
      "text/plain": "Index(['Unnamed: 0', 'Flow ID', ' Source IP', ' Source Port',\n       ' Destination IP', ' Destination Port', ' Protocol', ' Timestamp',\n       ' Flow Duration', ' Total Fwd Packets', ' Total Backward Packets',\n       'Total Length of Fwd Packets', ' Total Length of Bwd Packets',\n       ' Fwd Packet Length Max', ' Fwd Packet Length Min',\n       ' Fwd Packet Length Mean', ' Fwd Packet Length Std',\n       'Bwd Packet Length Max', ' Bwd Packet Length Min',\n       ' Bwd Packet Length Mean', ' Bwd Packet Length Std', 'Flow Bytes/s',\n       ' Flow Packets/s', ' Flow IAT Mean', ' Flow IAT Std', ' Flow IAT Max',\n       ' Flow IAT Min', 'Fwd IAT Total', ' Fwd IAT Mean', ' Fwd IAT Std',\n       ' Fwd IAT Max', ' Fwd IAT Min', 'Bwd IAT Total', ' Bwd IAT Mean',\n       ' Bwd IAT Std', ' Bwd IAT Max', ' Bwd IAT Min', 'Fwd PSH Flags',\n       ' Bwd PSH Flags', ' Fwd URG Flags', ' Bwd URG Flags',\n       ' Fwd Header Length', ' Bwd Header Length', 'Fwd Packets/s',\n       ' Bwd Packets/s', ' Min Packet Length', ' Max Packet Length',\n       ' Packet Length Mean', ' Packet Length Std', ' Packet Length Variance',\n       'FIN Flag Count', ' SYN Flag Count', ' RST Flag Count',\n       ' PSH Flag Count', ' ACK Flag Count', ' URG Flag Count',\n       ' CWE Flag Count', ' ECE Flag Count', ' Down/Up Ratio',\n       ' Average Packet Size', ' Avg Fwd Segment Size',\n       ' Avg Bwd Segment Size', ' Fwd Header Length.1', 'Fwd Avg Bytes/Bulk',\n       ' Fwd Avg Packets/Bulk', ' Fwd Avg Bulk Rate', ' Bwd Avg Bytes/Bulk',\n       ' Bwd Avg Packets/Bulk', 'Bwd Avg Bulk Rate', 'Subflow Fwd Packets',\n       ' Subflow Fwd Bytes', ' Subflow Bwd Packets', ' Subflow Bwd Bytes',\n       'Init_Win_bytes_forward', ' Init_Win_bytes_backward',\n       ' act_data_pkt_fwd', ' min_seg_size_forward', 'Active Mean',\n       ' Active Std', ' Active Max', ' Active Min', 'Idle Mean', ' Idle Std',\n       ' Idle Max', ' Idle Min', 'SimillarHTTP', ' Inbound', ' Label'],\n      dtype='object')"
     },
     "execution_count": 38,
     "metadata": {},
     "output_type": "execute_result"
    }
   ],
   "source": [
    "workingDataFrame.columns"
   ],
   "metadata": {
    "collapsed": false
   }
  },
  {
   "cell_type": "code",
   "execution_count": 39,
   "outputs": [
    {
     "data": {
      "text/plain": "Unnamed: 0         0\nFlow ID            0\n Source IP         0\n Source Port       0\n Destination IP    0\n                  ..\n Idle Max          0\n Idle Min          0\nSimillarHTTP       0\n Inbound           0\n Label             0\nLength: 88, dtype: int64"
     },
     "execution_count": 39,
     "metadata": {},
     "output_type": "execute_result"
    }
   ],
   "source": [
    "workingDataFrame.isnull().sum()"
   ],
   "metadata": {
    "collapsed": false
   }
  },
  {
   "cell_type": "markdown",
   "source": [
    "Dropping Unnecessary Features"
   ],
   "metadata": {
    "collapsed": false
   }
  },
  {
   "cell_type": "code",
   "execution_count": 40,
   "outputs": [
    {
     "data": {
      "text/plain": "   Protocol  Flow Duration  Total Fwd Packets  Total Backward Packets  \\\n0         6        5220876                 12                       9   \n1         6       12644252                  5                       2   \n2         6              3                  2                       0   \n3         6              3                  2                       0   \n4         0      114329232                 52                       0   \n\n   Fwd Packets Length Total  Bwd Packets Length Total  Fwd Packet Length Max  \\\n0                    1928.0                    4290.0                  509.0   \n1                       0.0                       0.0                    0.0   \n2                       0.0                       0.0                    0.0   \n3                       0.0                       0.0                    0.0   \n4                       0.0                       0.0                    0.0   \n\n   Fwd Packet Length Min  Fwd Packet Length Mean  Fwd Packet Length Std  ...  \\\n0                    0.0              160.666667             237.878247  ...   \n1                    0.0                0.000000               0.000000  ...   \n2                    0.0                0.000000               0.000000  ...   \n3                    0.0                0.000000               0.000000  ...   \n4                    0.0                0.000000               0.000000  ...   \n\n   Fwd Seg Size Min  Active Mean  Active Std  Active Max  Active Min  \\\n0                32     0.000000    0.000000         0.0         0.0   \n1                32     0.000000    0.000000         0.0         0.0   \n2                20     0.000000    0.000000         0.0         0.0   \n3                20     0.000000    0.000000         0.0         0.0   \n4                 0     7.416667    2.466441        15.0         6.0   \n\n   Idle Mean       Idle Std   Idle Max   Idle Min      Label  \n0        0.0       0.000000        0.0        0.0  DrDoS_NTP  \n1        0.0       0.000000        0.0        0.0  DrDoS_NTP  \n2        0.0       0.000000        0.0        0.0     BENIGN  \n3        0.0       0.000000        0.0        0.0     BENIGN  \n4  9527428.0  248706.681286  9950741.0  9092248.0     BENIGN  \n\n[5 rows x 78 columns]",
      "text/html": "<div>\n<style scoped>\n    .dataframe tbody tr th:only-of-type {\n        vertical-align: middle;\n    }\n\n    .dataframe tbody tr th {\n        vertical-align: top;\n    }\n\n    .dataframe thead th {\n        text-align: right;\n    }\n</style>\n<table border=\"1\" class=\"dataframe\">\n  <thead>\n    <tr style=\"text-align: right;\">\n      <th></th>\n      <th>Protocol</th>\n      <th>Flow Duration</th>\n      <th>Total Fwd Packets</th>\n      <th>Total Backward Packets</th>\n      <th>Fwd Packets Length Total</th>\n      <th>Bwd Packets Length Total</th>\n      <th>Fwd Packet Length Max</th>\n      <th>Fwd Packet Length Min</th>\n      <th>Fwd Packet Length Mean</th>\n      <th>Fwd Packet Length Std</th>\n      <th>...</th>\n      <th>Fwd Seg Size Min</th>\n      <th>Active Mean</th>\n      <th>Active Std</th>\n      <th>Active Max</th>\n      <th>Active Min</th>\n      <th>Idle Mean</th>\n      <th>Idle Std</th>\n      <th>Idle Max</th>\n      <th>Idle Min</th>\n      <th>Label</th>\n    </tr>\n  </thead>\n  <tbody>\n    <tr>\n      <th>0</th>\n      <td>6</td>\n      <td>5220876</td>\n      <td>12</td>\n      <td>9</td>\n      <td>1928.0</td>\n      <td>4290.0</td>\n      <td>509.0</td>\n      <td>0.0</td>\n      <td>160.666667</td>\n      <td>237.878247</td>\n      <td>...</td>\n      <td>32</td>\n      <td>0.000000</td>\n      <td>0.000000</td>\n      <td>0.0</td>\n      <td>0.0</td>\n      <td>0.0</td>\n      <td>0.000000</td>\n      <td>0.0</td>\n      <td>0.0</td>\n      <td>DrDoS_NTP</td>\n    </tr>\n    <tr>\n      <th>1</th>\n      <td>6</td>\n      <td>12644252</td>\n      <td>5</td>\n      <td>2</td>\n      <td>0.0</td>\n      <td>0.0</td>\n      <td>0.0</td>\n      <td>0.0</td>\n      <td>0.000000</td>\n      <td>0.000000</td>\n      <td>...</td>\n      <td>32</td>\n      <td>0.000000</td>\n      <td>0.000000</td>\n      <td>0.0</td>\n      <td>0.0</td>\n      <td>0.0</td>\n      <td>0.000000</td>\n      <td>0.0</td>\n      <td>0.0</td>\n      <td>DrDoS_NTP</td>\n    </tr>\n    <tr>\n      <th>2</th>\n      <td>6</td>\n      <td>3</td>\n      <td>2</td>\n      <td>0</td>\n      <td>0.0</td>\n      <td>0.0</td>\n      <td>0.0</td>\n      <td>0.0</td>\n      <td>0.000000</td>\n      <td>0.000000</td>\n      <td>...</td>\n      <td>20</td>\n      <td>0.000000</td>\n      <td>0.000000</td>\n      <td>0.0</td>\n      <td>0.0</td>\n      <td>0.0</td>\n      <td>0.000000</td>\n      <td>0.0</td>\n      <td>0.0</td>\n      <td>BENIGN</td>\n    </tr>\n    <tr>\n      <th>3</th>\n      <td>6</td>\n      <td>3</td>\n      <td>2</td>\n      <td>0</td>\n      <td>0.0</td>\n      <td>0.0</td>\n      <td>0.0</td>\n      <td>0.0</td>\n      <td>0.000000</td>\n      <td>0.000000</td>\n      <td>...</td>\n      <td>20</td>\n      <td>0.000000</td>\n      <td>0.000000</td>\n      <td>0.0</td>\n      <td>0.0</td>\n      <td>0.0</td>\n      <td>0.000000</td>\n      <td>0.0</td>\n      <td>0.0</td>\n      <td>BENIGN</td>\n    </tr>\n    <tr>\n      <th>4</th>\n      <td>0</td>\n      <td>114329232</td>\n      <td>52</td>\n      <td>0</td>\n      <td>0.0</td>\n      <td>0.0</td>\n      <td>0.0</td>\n      <td>0.0</td>\n      <td>0.000000</td>\n      <td>0.000000</td>\n      <td>...</td>\n      <td>0</td>\n      <td>7.416667</td>\n      <td>2.466441</td>\n      <td>15.0</td>\n      <td>6.0</td>\n      <td>9527428.0</td>\n      <td>248706.681286</td>\n      <td>9950741.0</td>\n      <td>9092248.0</td>\n      <td>BENIGN</td>\n    </tr>\n  </tbody>\n</table>\n<p>5 rows × 78 columns</p>\n</div>"
     },
     "execution_count": 40,
     "metadata": {},
     "output_type": "execute_result"
    }
   ],
   "source": [
    "workingDataFrame.columns = workingDataFrame.columns.str.strip()  # sometimes there's leading / trailing whitespace\n",
    "workingDataFrame.drop(columns=drop_columns, inplace=True, errors='ignore')\n",
    "workingDataFrame.rename(columns=col_name_consistency, inplace=True)\n",
    "\n",
    "workingDataFrame.head()"
   ],
   "metadata": {
    "collapsed": false
   }
  },
  {
   "cell_type": "code",
   "execution_count": 41,
   "outputs": [
    {
     "name": "stdout",
     "output_type": "stream",
     "text": [
      "<class 'pandas.core.frame.DataFrame'>\n",
      "Int64Index: 1217007 entries, 0 to 9325\n",
      "Data columns (total 78 columns):\n",
      " #   Column                    Non-Null Count    Dtype  \n",
      "---  ------                    --------------    -----  \n",
      " 0   Protocol                  1217007 non-null  int64  \n",
      " 1   Flow Duration             1217007 non-null  int64  \n",
      " 2   Total Fwd Packets         1217007 non-null  int64  \n",
      " 3   Total Backward Packets    1217007 non-null  int64  \n",
      " 4   Fwd Packets Length Total  1217007 non-null  float64\n",
      " 5   Bwd Packets Length Total  1217007 non-null  float64\n",
      " 6   Fwd Packet Length Max     1217007 non-null  float64\n",
      " 7   Fwd Packet Length Min     1217007 non-null  float64\n",
      " 8   Fwd Packet Length Mean    1217007 non-null  float64\n",
      " 9   Fwd Packet Length Std     1217007 non-null  float64\n",
      " 10  Bwd Packet Length Max     1217007 non-null  float64\n",
      " 11  Bwd Packet Length Min     1217007 non-null  float64\n",
      " 12  Bwd Packet Length Mean    1217007 non-null  float64\n",
      " 13  Bwd Packet Length Std     1217007 non-null  float64\n",
      " 14  Flow Bytes/s              1216976 non-null  float64\n",
      " 15  Flow Packets/s            1217007 non-null  float64\n",
      " 16  Flow IAT Mean             1217007 non-null  float64\n",
      " 17  Flow IAT Std              1217007 non-null  float64\n",
      " 18  Flow IAT Max              1217007 non-null  float64\n",
      " 19  Flow IAT Min              1217007 non-null  float64\n",
      " 20  Fwd IAT Total             1217007 non-null  float64\n",
      " 21  Fwd IAT Mean              1217007 non-null  float64\n",
      " 22  Fwd IAT Std               1217007 non-null  float64\n",
      " 23  Fwd IAT Max               1217007 non-null  float64\n",
      " 24  Fwd IAT Min               1217007 non-null  float64\n",
      " 25  Bwd IAT Total             1217007 non-null  float64\n",
      " 26  Bwd IAT Mean              1217007 non-null  float64\n",
      " 27  Bwd IAT Std               1217007 non-null  float64\n",
      " 28  Bwd IAT Max               1217007 non-null  float64\n",
      " 29  Bwd IAT Min               1217007 non-null  float64\n",
      " 30  Fwd PSH Flags             1217007 non-null  int64  \n",
      " 31  Bwd PSH Flags             1217007 non-null  int64  \n",
      " 32  Fwd URG Flags             1217007 non-null  int64  \n",
      " 33  Bwd URG Flags             1217007 non-null  int64  \n",
      " 34  Fwd Header Length         1217007 non-null  int64  \n",
      " 35  Bwd Header Length         1217007 non-null  int64  \n",
      " 36  Fwd Packets/s             1217007 non-null  float64\n",
      " 37  Bwd Packets/s             1217007 non-null  float64\n",
      " 38  Packet Length Min         1217007 non-null  float64\n",
      " 39  Packet Length Max         1217007 non-null  float64\n",
      " 40  Packet Length Mean        1217007 non-null  float64\n",
      " 41  Packet Length Std         1217007 non-null  float64\n",
      " 42  Packet Length Variance    1217007 non-null  float64\n",
      " 43  FIN Flag Count            1217007 non-null  int64  \n",
      " 44  SYN Flag Count            1217007 non-null  int64  \n",
      " 45  RST Flag Count            1217007 non-null  int64  \n",
      " 46  PSH Flag Count            1217007 non-null  int64  \n",
      " 47  ACK Flag Count            1217007 non-null  int64  \n",
      " 48  URG Flag Count            1217007 non-null  int64  \n",
      " 49  CWE Flag Count            1217007 non-null  int64  \n",
      " 50  ECE Flag Count            1217007 non-null  int64  \n",
      " 51  Down/Up Ratio             1217007 non-null  float64\n",
      " 52  Avg Packet Size           1217007 non-null  float64\n",
      " 53  Avg Fwd Segment Size      1217007 non-null  float64\n",
      " 54  Avg Bwd Segment Size      1217007 non-null  float64\n",
      " 55  Fwd Avg Bytes/Bulk        1217007 non-null  int64  \n",
      " 56  Fwd Avg Packets/Bulk      1217007 non-null  int64  \n",
      " 57  Fwd Avg Bulk Rate         1217007 non-null  int64  \n",
      " 58  Bwd Avg Bytes/Bulk        1217007 non-null  int64  \n",
      " 59  Bwd Avg Packets/Bulk      1217007 non-null  int64  \n",
      " 60  Bwd Avg Bulk Rate         1217007 non-null  int64  \n",
      " 61  Subflow Fwd Packets       1217007 non-null  int64  \n",
      " 62  Subflow Fwd Bytes         1217007 non-null  int64  \n",
      " 63  Subflow Bwd Packets       1217007 non-null  int64  \n",
      " 64  Subflow Bwd Bytes         1217007 non-null  int64  \n",
      " 65  Init Fwd Win Bytes        1217007 non-null  int64  \n",
      " 66  Init Bwd Win Bytes        1217007 non-null  int64  \n",
      " 67  Fwd Act Data Packets      1217007 non-null  int64  \n",
      " 68  Fwd Seg Size Min          1217007 non-null  int64  \n",
      " 69  Active Mean               1217007 non-null  float64\n",
      " 70  Active Std                1217007 non-null  float64\n",
      " 71  Active Max                1217007 non-null  float64\n",
      " 72  Active Min                1217007 non-null  float64\n",
      " 73  Idle Mean                 1217007 non-null  float64\n",
      " 74  Idle Std                  1217007 non-null  float64\n",
      " 75  Idle Max                  1217007 non-null  float64\n",
      " 76  Idle Min                  1217007 non-null  float64\n",
      " 77  Label                     1217007 non-null  object \n",
      "dtypes: float64(45), int64(32), object(1)\n",
      "memory usage: 800.8 MB\n"
     ]
    }
   ],
   "source": [
    "# workingDataFrame.dtypes\n",
    "workingDataFrame.info(memory_usage=\"deep\")"
   ],
   "metadata": {
    "collapsed": false
   }
  },
  {
   "cell_type": "markdown",
   "source": [
    "Data Cleaning Based on Data Types (DownSizing)"
   ],
   "metadata": {
    "collapsed": false
   }
  },
  {
   "cell_type": "code",
   "execution_count": 42,
   "outputs": [
    {
     "name": "stdout",
     "output_type": "stream",
     "text": [
      "<class 'pandas.core.frame.DataFrame'>\n",
      "Int64Index: 1217007 entries, 0 to 9325\n",
      "Data columns (total 78 columns):\n",
      " #   Column                    Non-Null Count    Dtype  \n",
      "---  ------                    --------------    -----  \n",
      " 0   Protocol                  1217007 non-null  int8   \n",
      " 1   Flow Duration             1217007 non-null  int32  \n",
      " 2   Total Fwd Packets         1217007 non-null  int16  \n",
      " 3   Total Backward Packets    1217007 non-null  int16  \n",
      " 4   Fwd Packets Length Total  1217007 non-null  float32\n",
      " 5   Bwd Packets Length Total  1217007 non-null  float32\n",
      " 6   Fwd Packet Length Max     1217007 non-null  float32\n",
      " 7   Fwd Packet Length Min     1217007 non-null  float32\n",
      " 8   Fwd Packet Length Mean    1217007 non-null  float32\n",
      " 9   Fwd Packet Length Std     1217007 non-null  float32\n",
      " 10  Bwd Packet Length Max     1217007 non-null  float32\n",
      " 11  Bwd Packet Length Min     1217007 non-null  float32\n",
      " 12  Bwd Packet Length Mean    1217007 non-null  float32\n",
      " 13  Bwd Packet Length Std     1217007 non-null  float32\n",
      " 14  Flow Bytes/s              1216976 non-null  float32\n",
      " 15  Flow Packets/s            1217007 non-null  float32\n",
      " 16  Flow IAT Mean             1217007 non-null  float32\n",
      " 17  Flow IAT Std              1217007 non-null  float32\n",
      " 18  Flow IAT Max              1217007 non-null  float32\n",
      " 19  Flow IAT Min              1217007 non-null  float32\n",
      " 20  Fwd IAT Total             1217007 non-null  float32\n",
      " 21  Fwd IAT Mean              1217007 non-null  float32\n",
      " 22  Fwd IAT Std               1217007 non-null  float32\n",
      " 23  Fwd IAT Max               1217007 non-null  float32\n",
      " 24  Fwd IAT Min               1217007 non-null  float32\n",
      " 25  Bwd IAT Total             1217007 non-null  float32\n",
      " 26  Bwd IAT Mean              1217007 non-null  float32\n",
      " 27  Bwd IAT Std               1217007 non-null  float32\n",
      " 28  Bwd IAT Max               1217007 non-null  float32\n",
      " 29  Bwd IAT Min               1217007 non-null  float32\n",
      " 30  Fwd PSH Flags             1217007 non-null  int8   \n",
      " 31  Bwd PSH Flags             1217007 non-null  int8   \n",
      " 32  Fwd URG Flags             1217007 non-null  int8   \n",
      " 33  Bwd URG Flags             1217007 non-null  int8   \n",
      " 34  Fwd Header Length         1217007 non-null  int64  \n",
      " 35  Bwd Header Length         1217007 non-null  int32  \n",
      " 36  Fwd Packets/s             1217007 non-null  float32\n",
      " 37  Bwd Packets/s             1217007 non-null  float32\n",
      " 38  Packet Length Min         1217007 non-null  float32\n",
      " 39  Packet Length Max         1217007 non-null  float32\n",
      " 40  Packet Length Mean        1217007 non-null  float32\n",
      " 41  Packet Length Std         1217007 non-null  float32\n",
      " 42  Packet Length Variance    1217007 non-null  float32\n",
      " 43  FIN Flag Count            1217007 non-null  int8   \n",
      " 44  SYN Flag Count            1217007 non-null  int8   \n",
      " 45  RST Flag Count            1217007 non-null  int8   \n",
      " 46  PSH Flag Count            1217007 non-null  int8   \n",
      " 47  ACK Flag Count            1217007 non-null  int8   \n",
      " 48  URG Flag Count            1217007 non-null  int8   \n",
      " 49  CWE Flag Count            1217007 non-null  int8   \n",
      " 50  ECE Flag Count            1217007 non-null  int8   \n",
      " 51  Down/Up Ratio             1217007 non-null  float32\n",
      " 52  Avg Packet Size           1217007 non-null  float32\n",
      " 53  Avg Fwd Segment Size      1217007 non-null  float32\n",
      " 54  Avg Bwd Segment Size      1217007 non-null  float32\n",
      " 55  Fwd Avg Bytes/Bulk        1217007 non-null  int8   \n",
      " 56  Fwd Avg Packets/Bulk      1217007 non-null  int8   \n",
      " 57  Fwd Avg Bulk Rate         1217007 non-null  int8   \n",
      " 58  Bwd Avg Bytes/Bulk        1217007 non-null  int8   \n",
      " 59  Bwd Avg Packets/Bulk      1217007 non-null  int8   \n",
      " 60  Bwd Avg Bulk Rate         1217007 non-null  int8   \n",
      " 61  Subflow Fwd Packets       1217007 non-null  int16  \n",
      " 62  Subflow Fwd Bytes         1217007 non-null  int32  \n",
      " 63  Subflow Bwd Packets       1217007 non-null  int16  \n",
      " 64  Subflow Bwd Bytes         1217007 non-null  int32  \n",
      " 65  Init Fwd Win Bytes        1217007 non-null  int32  \n",
      " 66  Init Bwd Win Bytes        1217007 non-null  int32  \n",
      " 67  Fwd Act Data Packets      1217007 non-null  int16  \n",
      " 68  Fwd Seg Size Min          1217007 non-null  int32  \n",
      " 69  Active Mean               1217007 non-null  float32\n",
      " 70  Active Std                1217007 non-null  float32\n",
      " 71  Active Max                1217007 non-null  float32\n",
      " 72  Active Min                1217007 non-null  float32\n",
      " 73  Idle Mean                 1217007 non-null  float32\n",
      " 74  Idle Std                  1217007 non-null  float32\n",
      " 75  Idle Max                  1217007 non-null  float32\n",
      " 76  Idle Min                  1217007 non-null  float32\n",
      " 77  Label                     1217007 non-null  object \n",
      "dtypes: float32(45), int16(5), int32(7), int64(1), int8(19), object(1)\n",
      "memory usage: 370.2 MB\n"
     ]
    }
   ],
   "source": [
    "for column in workingDataFrame:\n",
    "    if workingDataFrame[column].dtype == 'float64':\n",
    "        workingDataFrame[column] = pd.to_numeric(workingDataFrame[column], downcast='float')\n",
    "    if workingDataFrame[column].dtype == 'int64':\n",
    "        workingDataFrame[column] = pd.to_numeric(workingDataFrame[column], downcast='integer')\n",
    "\n",
    "workingDataFrame.info(memory_usage=\"deep\")"
   ],
   "metadata": {
    "collapsed": false
   }
  },
  {
   "cell_type": "markdown",
   "source": [
    "Removing NaN values"
   ],
   "metadata": {
    "collapsed": false
   }
  },
  {
   "cell_type": "code",
   "execution_count": 43,
   "outputs": [
    {
     "data": {
      "text/plain": "31"
     },
     "execution_count": 43,
     "metadata": {},
     "output_type": "execute_result"
    }
   ],
   "source": [
    "workingDataFrame.isna().any(axis=1).sum()"
   ],
   "metadata": {
    "collapsed": false
   }
  },
  {
   "cell_type": "code",
   "execution_count": 44,
   "outputs": [],
   "source": [
    "workingDataFrame.replace([np.inf, -np.inf], np.nan, inplace=True)\n",
    "workingDataFrame.dropna(inplace=True)"
   ],
   "metadata": {
    "collapsed": false
   }
  },
  {
   "cell_type": "markdown",
   "source": [
    "After Dropping NaN values, want to see total rows.\n",
    "That's why, Converting pandas dataFrame into dask's dataFrame"
   ],
   "metadata": {
    "collapsed": false
   }
  },
  {
   "cell_type": "code",
   "execution_count": 45,
   "outputs": [
    {
     "data": {
      "text/plain": "        Protocol  Flow Duration  Total Fwd Packets  Total Backward Packets  \\\n0              6        5220876                 12                       9   \n0             17            372                  6                       0   \n0             17          25893                 12                       0   \n0             17              3                  4                       0   \n0             17           3455                136                       0   \n...          ...            ...                ...                     ...   \n121802        17           6455                 20                       0   \n121803        17           5591                200                       0   \n121804        17          13567                130                       0   \n121805        17           5860                 12                       0   \n121806        17            551                 28                       0   \n\n        Fwd Packets Length Total  Bwd Packets Length Total  \\\n0                         1928.0                    4290.0   \n0                         2208.0                       0.0   \n0                         5136.0                       0.0   \n0                         1760.0                       0.0   \n0                        59840.0                       0.0   \n...                          ...                       ...   \n121802                    8224.0                       0.0   \n121803                   88000.0                       0.0   \n121804                   57200.0                       0.0   \n121805                    5280.0                       0.0   \n121806                   12032.0                       0.0   \n\n        Fwd Packet Length Max  Fwd Packet Length Min  Fwd Packet Length Mean  \\\n0                       509.0                    0.0              160.666672   \n0                       440.0                  224.0              368.000000   \n0                       440.0                  368.0              428.000000   \n0                       440.0                  440.0              440.000000   \n0                       440.0                  440.0              440.000000   \n...                       ...                    ...                     ...   \n121802                  440.0                  152.0              411.200012   \n121803                  440.0                  440.0              440.000000   \n121804                  440.0                  440.0              440.000000   \n121805                  440.0                  440.0              440.000000   \n121806                  440.0                  296.0              429.714294   \n\n        Fwd Packet Length Std  ...  Fwd Seg Size Min  Active Mean  Active Std  \\\n0                  237.878250  ...                32          0.0         0.0   \n0                  111.541924  ...                 8          0.0         0.0   \n0                   28.025963  ...                20          0.0         0.0   \n0                    0.000000  ...                -1          0.0         0.0   \n0                    0.000000  ...                -1          0.0         0.0   \n...                       ...  ...               ...          ...         ...   \n121802              88.644531  ...                20          0.0         0.0   \n121803               0.000000  ...                20          0.0         0.0   \n121804               0.000000  ...                20          0.0         0.0   \n121805               0.000000  ...                20          0.0         0.0   \n121806              37.766197  ...                20          0.0         0.0   \n\n        Active Max  Active Min  Idle Mean  Idle Std  Idle Max  Idle Min  \\\n0              0.0         0.0        0.0       0.0       0.0       0.0   \n0              0.0         0.0        0.0       0.0       0.0       0.0   \n0              0.0         0.0        0.0       0.0       0.0       0.0   \n0              0.0         0.0        0.0       0.0       0.0       0.0   \n0              0.0         0.0        0.0       0.0       0.0       0.0   \n...            ...         ...        ...       ...       ...       ...   \n121802         0.0         0.0        0.0       0.0       0.0       0.0   \n121803         0.0         0.0        0.0       0.0       0.0       0.0   \n121804         0.0         0.0        0.0       0.0       0.0       0.0   \n121805         0.0         0.0        0.0       0.0       0.0       0.0   \n121806         0.0         0.0        0.0       0.0       0.0       0.0   \n\n            Label  \n0       DrDoS_NTP  \n0       DrDoS_NTP  \n0       DrDoS_NTP  \n0       DrDoS_NTP  \n0       DrDoS_NTP  \n...           ...  \n121802  DrDoS_NTP  \n121803  DrDoS_NTP  \n121804  DrDoS_NTP  \n121805  DrDoS_NTP  \n121806  DrDoS_NTP  \n\n[1209961 rows x 78 columns]",
      "text/html": "<div>\n<style scoped>\n    .dataframe tbody tr th:only-of-type {\n        vertical-align: middle;\n    }\n\n    .dataframe tbody tr th {\n        vertical-align: top;\n    }\n\n    .dataframe thead th {\n        text-align: right;\n    }\n</style>\n<table border=\"1\" class=\"dataframe\">\n  <thead>\n    <tr style=\"text-align: right;\">\n      <th></th>\n      <th>Protocol</th>\n      <th>Flow Duration</th>\n      <th>Total Fwd Packets</th>\n      <th>Total Backward Packets</th>\n      <th>Fwd Packets Length Total</th>\n      <th>Bwd Packets Length Total</th>\n      <th>Fwd Packet Length Max</th>\n      <th>Fwd Packet Length Min</th>\n      <th>Fwd Packet Length Mean</th>\n      <th>Fwd Packet Length Std</th>\n      <th>...</th>\n      <th>Fwd Seg Size Min</th>\n      <th>Active Mean</th>\n      <th>Active Std</th>\n      <th>Active Max</th>\n      <th>Active Min</th>\n      <th>Idle Mean</th>\n      <th>Idle Std</th>\n      <th>Idle Max</th>\n      <th>Idle Min</th>\n      <th>Label</th>\n    </tr>\n  </thead>\n  <tbody>\n    <tr>\n      <th>0</th>\n      <td>6</td>\n      <td>5220876</td>\n      <td>12</td>\n      <td>9</td>\n      <td>1928.0</td>\n      <td>4290.0</td>\n      <td>509.0</td>\n      <td>0.0</td>\n      <td>160.666672</td>\n      <td>237.878250</td>\n      <td>...</td>\n      <td>32</td>\n      <td>0.0</td>\n      <td>0.0</td>\n      <td>0.0</td>\n      <td>0.0</td>\n      <td>0.0</td>\n      <td>0.0</td>\n      <td>0.0</td>\n      <td>0.0</td>\n      <td>DrDoS_NTP</td>\n    </tr>\n    <tr>\n      <th>0</th>\n      <td>17</td>\n      <td>372</td>\n      <td>6</td>\n      <td>0</td>\n      <td>2208.0</td>\n      <td>0.0</td>\n      <td>440.0</td>\n      <td>224.0</td>\n      <td>368.000000</td>\n      <td>111.541924</td>\n      <td>...</td>\n      <td>8</td>\n      <td>0.0</td>\n      <td>0.0</td>\n      <td>0.0</td>\n      <td>0.0</td>\n      <td>0.0</td>\n      <td>0.0</td>\n      <td>0.0</td>\n      <td>0.0</td>\n      <td>DrDoS_NTP</td>\n    </tr>\n    <tr>\n      <th>0</th>\n      <td>17</td>\n      <td>25893</td>\n      <td>12</td>\n      <td>0</td>\n      <td>5136.0</td>\n      <td>0.0</td>\n      <td>440.0</td>\n      <td>368.0</td>\n      <td>428.000000</td>\n      <td>28.025963</td>\n      <td>...</td>\n      <td>20</td>\n      <td>0.0</td>\n      <td>0.0</td>\n      <td>0.0</td>\n      <td>0.0</td>\n      <td>0.0</td>\n      <td>0.0</td>\n      <td>0.0</td>\n      <td>0.0</td>\n      <td>DrDoS_NTP</td>\n    </tr>\n    <tr>\n      <th>0</th>\n      <td>17</td>\n      <td>3</td>\n      <td>4</td>\n      <td>0</td>\n      <td>1760.0</td>\n      <td>0.0</td>\n      <td>440.0</td>\n      <td>440.0</td>\n      <td>440.000000</td>\n      <td>0.000000</td>\n      <td>...</td>\n      <td>-1</td>\n      <td>0.0</td>\n      <td>0.0</td>\n      <td>0.0</td>\n      <td>0.0</td>\n      <td>0.0</td>\n      <td>0.0</td>\n      <td>0.0</td>\n      <td>0.0</td>\n      <td>DrDoS_NTP</td>\n    </tr>\n    <tr>\n      <th>0</th>\n      <td>17</td>\n      <td>3455</td>\n      <td>136</td>\n      <td>0</td>\n      <td>59840.0</td>\n      <td>0.0</td>\n      <td>440.0</td>\n      <td>440.0</td>\n      <td>440.000000</td>\n      <td>0.000000</td>\n      <td>...</td>\n      <td>-1</td>\n      <td>0.0</td>\n      <td>0.0</td>\n      <td>0.0</td>\n      <td>0.0</td>\n      <td>0.0</td>\n      <td>0.0</td>\n      <td>0.0</td>\n      <td>0.0</td>\n      <td>DrDoS_NTP</td>\n    </tr>\n    <tr>\n      <th>...</th>\n      <td>...</td>\n      <td>...</td>\n      <td>...</td>\n      <td>...</td>\n      <td>...</td>\n      <td>...</td>\n      <td>...</td>\n      <td>...</td>\n      <td>...</td>\n      <td>...</td>\n      <td>...</td>\n      <td>...</td>\n      <td>...</td>\n      <td>...</td>\n      <td>...</td>\n      <td>...</td>\n      <td>...</td>\n      <td>...</td>\n      <td>...</td>\n      <td>...</td>\n      <td>...</td>\n    </tr>\n    <tr>\n      <th>121802</th>\n      <td>17</td>\n      <td>6455</td>\n      <td>20</td>\n      <td>0</td>\n      <td>8224.0</td>\n      <td>0.0</td>\n      <td>440.0</td>\n      <td>152.0</td>\n      <td>411.200012</td>\n      <td>88.644531</td>\n      <td>...</td>\n      <td>20</td>\n      <td>0.0</td>\n      <td>0.0</td>\n      <td>0.0</td>\n      <td>0.0</td>\n      <td>0.0</td>\n      <td>0.0</td>\n      <td>0.0</td>\n      <td>0.0</td>\n      <td>DrDoS_NTP</td>\n    </tr>\n    <tr>\n      <th>121803</th>\n      <td>17</td>\n      <td>5591</td>\n      <td>200</td>\n      <td>0</td>\n      <td>88000.0</td>\n      <td>0.0</td>\n      <td>440.0</td>\n      <td>440.0</td>\n      <td>440.000000</td>\n      <td>0.000000</td>\n      <td>...</td>\n      <td>20</td>\n      <td>0.0</td>\n      <td>0.0</td>\n      <td>0.0</td>\n      <td>0.0</td>\n      <td>0.0</td>\n      <td>0.0</td>\n      <td>0.0</td>\n      <td>0.0</td>\n      <td>DrDoS_NTP</td>\n    </tr>\n    <tr>\n      <th>121804</th>\n      <td>17</td>\n      <td>13567</td>\n      <td>130</td>\n      <td>0</td>\n      <td>57200.0</td>\n      <td>0.0</td>\n      <td>440.0</td>\n      <td>440.0</td>\n      <td>440.000000</td>\n      <td>0.000000</td>\n      <td>...</td>\n      <td>20</td>\n      <td>0.0</td>\n      <td>0.0</td>\n      <td>0.0</td>\n      <td>0.0</td>\n      <td>0.0</td>\n      <td>0.0</td>\n      <td>0.0</td>\n      <td>0.0</td>\n      <td>DrDoS_NTP</td>\n    </tr>\n    <tr>\n      <th>121805</th>\n      <td>17</td>\n      <td>5860</td>\n      <td>12</td>\n      <td>0</td>\n      <td>5280.0</td>\n      <td>0.0</td>\n      <td>440.0</td>\n      <td>440.0</td>\n      <td>440.000000</td>\n      <td>0.000000</td>\n      <td>...</td>\n      <td>20</td>\n      <td>0.0</td>\n      <td>0.0</td>\n      <td>0.0</td>\n      <td>0.0</td>\n      <td>0.0</td>\n      <td>0.0</td>\n      <td>0.0</td>\n      <td>0.0</td>\n      <td>DrDoS_NTP</td>\n    </tr>\n    <tr>\n      <th>121806</th>\n      <td>17</td>\n      <td>551</td>\n      <td>28</td>\n      <td>0</td>\n      <td>12032.0</td>\n      <td>0.0</td>\n      <td>440.0</td>\n      <td>296.0</td>\n      <td>429.714294</td>\n      <td>37.766197</td>\n      <td>...</td>\n      <td>20</td>\n      <td>0.0</td>\n      <td>0.0</td>\n      <td>0.0</td>\n      <td>0.0</td>\n      <td>0.0</td>\n      <td>0.0</td>\n      <td>0.0</td>\n      <td>0.0</td>\n      <td>DrDoS_NTP</td>\n    </tr>\n  </tbody>\n</table>\n<p>1209961 rows × 78 columns</p>\n</div>"
     },
     "execution_count": 45,
     "metadata": {},
     "output_type": "execute_result"
    }
   ],
   "source": [
    "ddf = dd.from_pandas(workingDataFrame, npartitions=10)\n",
    "ddf.compute()"
   ],
   "metadata": {
    "collapsed": false
   }
  },
  {
   "cell_type": "markdown",
   "source": [
    "Dropping Duplicates\n",
    "There should be no duplicates because they can bias training and can lead to over-optimistic estimates of classification performance during testing."
   ],
   "metadata": {
    "collapsed": false
   }
  },
  {
   "cell_type": "code",
   "execution_count": 46,
   "outputs": [
    {
     "data": {
      "text/plain": "86449"
     },
     "execution_count": 46,
     "metadata": {},
     "output_type": "execute_result"
    }
   ],
   "source": [
    "workingDataFrame.duplicated().sum()"
   ],
   "metadata": {
    "collapsed": false
   }
  },
  {
   "cell_type": "markdown",
   "source": [
    "Fully duplicate rows to be removed"
   ],
   "metadata": {
    "collapsed": false
   }
  },
  {
   "cell_type": "code",
   "execution_count": 47,
   "outputs": [
    {
     "data": {
      "text/plain": "         Protocol  Flow Duration  Total Fwd Packets  Total Backward Packets  \\\n0               6        5220876                 12                       9   \n1               6       12644252                  5                       2   \n2               6              3                  2                       0   \n3               0      114329232                 52                       0   \n4               6       34847273                  9                       8   \n...           ...            ...                ...                     ...   \n1123507        17          37146                200                       0   \n1123508        17          42011                200                       0   \n1123509        17          40375                200                       0   \n1123510        17          59116                200                       0   \n1123511        17          34660                103                       0   \n\n         Fwd Packets Length Total  Bwd Packets Length Total  \\\n0                          1928.0                    4290.0   \n1                             0.0                       0.0   \n2                             0.0                       0.0   \n3                             0.0                       0.0   \n4                             8.0                       0.0   \n...                           ...                       ...   \n1123507                   88000.0                       0.0   \n1123508                   88000.0                       0.0   \n1123509                   88000.0                       0.0   \n1123510                   88000.0                       0.0   \n1123511                   45320.0                       0.0   \n\n         Fwd Packet Length Max  Fwd Packet Length Min  Fwd Packet Length Mean  \\\n0                        509.0                    0.0              160.666672   \n1                          0.0                    0.0                0.000000   \n2                          0.0                    0.0                0.000000   \n3                          0.0                    0.0                0.000000   \n4                          1.0                    0.0                0.888889   \n...                        ...                    ...                     ...   \n1123507                  440.0                  440.0              440.000000   \n1123508                  440.0                  440.0              440.000000   \n1123509                  440.0                  440.0              440.000000   \n1123510                  440.0                  440.0              440.000000   \n1123511                  440.0                  440.0              440.000000   \n\n         Fwd Packet Length Std  ...  Fwd Seg Size Min   Active Mean  \\\n0                   237.878250  ...                32      0.000000   \n1                     0.000000  ...                32      0.000000   \n2                     0.000000  ...                20      0.000000   \n3                     0.000000  ...                 0      7.416667   \n4                     0.333333  ...                20  33004.000000   \n...                        ...  ...               ...           ...   \n1123507               0.000000  ...                20      0.000000   \n1123508               0.000000  ...                20      0.000000   \n1123509               0.000000  ...                20      0.000000   \n1123510               0.000000  ...                20      0.000000   \n1123511               0.000000  ...                20      0.000000   \n\n         Active Std  Active Max  Active Min   Idle Mean       Idle Std  \\\n0          0.000000         0.0         0.0         0.0       0.000000   \n1          0.000000         0.0         0.0         0.0       0.000000   \n2          0.000000         0.0         0.0         0.0       0.000000   \n3          2.466441        15.0         6.0   9527428.0  248706.687500   \n4         32.908966     33030.0     32967.0  10004347.0    8980.692383   \n...             ...         ...         ...         ...            ...   \n1123507    0.000000         0.0         0.0         0.0       0.000000   \n1123508    0.000000         0.0         0.0         0.0       0.000000   \n1123509    0.000000         0.0         0.0         0.0       0.000000   \n1123510    0.000000         0.0         0.0         0.0       0.000000   \n1123511    0.000000         0.0         0.0         0.0       0.000000   \n\n           Idle Max   Idle Min      Label  \n0               0.0        0.0  DrDoS_NTP  \n1               0.0        0.0  DrDoS_NTP  \n2               0.0        0.0     BENIGN  \n3         9950741.0  9092248.0     BENIGN  \n4        10014717.0  9999149.0     BENIGN  \n...             ...        ...        ...  \n1123507         0.0        0.0  DrDoS_NTP  \n1123508         0.0        0.0  DrDoS_NTP  \n1123509         0.0        0.0  DrDoS_NTP  \n1123510         0.0        0.0  DrDoS_NTP  \n1123511         0.0        0.0  DrDoS_NTP  \n\n[1123512 rows x 78 columns]",
      "text/html": "<div>\n<style scoped>\n    .dataframe tbody tr th:only-of-type {\n        vertical-align: middle;\n    }\n\n    .dataframe tbody tr th {\n        vertical-align: top;\n    }\n\n    .dataframe thead th {\n        text-align: right;\n    }\n</style>\n<table border=\"1\" class=\"dataframe\">\n  <thead>\n    <tr style=\"text-align: right;\">\n      <th></th>\n      <th>Protocol</th>\n      <th>Flow Duration</th>\n      <th>Total Fwd Packets</th>\n      <th>Total Backward Packets</th>\n      <th>Fwd Packets Length Total</th>\n      <th>Bwd Packets Length Total</th>\n      <th>Fwd Packet Length Max</th>\n      <th>Fwd Packet Length Min</th>\n      <th>Fwd Packet Length Mean</th>\n      <th>Fwd Packet Length Std</th>\n      <th>...</th>\n      <th>Fwd Seg Size Min</th>\n      <th>Active Mean</th>\n      <th>Active Std</th>\n      <th>Active Max</th>\n      <th>Active Min</th>\n      <th>Idle Mean</th>\n      <th>Idle Std</th>\n      <th>Idle Max</th>\n      <th>Idle Min</th>\n      <th>Label</th>\n    </tr>\n  </thead>\n  <tbody>\n    <tr>\n      <th>0</th>\n      <td>6</td>\n      <td>5220876</td>\n      <td>12</td>\n      <td>9</td>\n      <td>1928.0</td>\n      <td>4290.0</td>\n      <td>509.0</td>\n      <td>0.0</td>\n      <td>160.666672</td>\n      <td>237.878250</td>\n      <td>...</td>\n      <td>32</td>\n      <td>0.000000</td>\n      <td>0.000000</td>\n      <td>0.0</td>\n      <td>0.0</td>\n      <td>0.0</td>\n      <td>0.000000</td>\n      <td>0.0</td>\n      <td>0.0</td>\n      <td>DrDoS_NTP</td>\n    </tr>\n    <tr>\n      <th>1</th>\n      <td>6</td>\n      <td>12644252</td>\n      <td>5</td>\n      <td>2</td>\n      <td>0.0</td>\n      <td>0.0</td>\n      <td>0.0</td>\n      <td>0.0</td>\n      <td>0.000000</td>\n      <td>0.000000</td>\n      <td>...</td>\n      <td>32</td>\n      <td>0.000000</td>\n      <td>0.000000</td>\n      <td>0.0</td>\n      <td>0.0</td>\n      <td>0.0</td>\n      <td>0.000000</td>\n      <td>0.0</td>\n      <td>0.0</td>\n      <td>DrDoS_NTP</td>\n    </tr>\n    <tr>\n      <th>2</th>\n      <td>6</td>\n      <td>3</td>\n      <td>2</td>\n      <td>0</td>\n      <td>0.0</td>\n      <td>0.0</td>\n      <td>0.0</td>\n      <td>0.0</td>\n      <td>0.000000</td>\n      <td>0.000000</td>\n      <td>...</td>\n      <td>20</td>\n      <td>0.000000</td>\n      <td>0.000000</td>\n      <td>0.0</td>\n      <td>0.0</td>\n      <td>0.0</td>\n      <td>0.000000</td>\n      <td>0.0</td>\n      <td>0.0</td>\n      <td>BENIGN</td>\n    </tr>\n    <tr>\n      <th>3</th>\n      <td>0</td>\n      <td>114329232</td>\n      <td>52</td>\n      <td>0</td>\n      <td>0.0</td>\n      <td>0.0</td>\n      <td>0.0</td>\n      <td>0.0</td>\n      <td>0.000000</td>\n      <td>0.000000</td>\n      <td>...</td>\n      <td>0</td>\n      <td>7.416667</td>\n      <td>2.466441</td>\n      <td>15.0</td>\n      <td>6.0</td>\n      <td>9527428.0</td>\n      <td>248706.687500</td>\n      <td>9950741.0</td>\n      <td>9092248.0</td>\n      <td>BENIGN</td>\n    </tr>\n    <tr>\n      <th>4</th>\n      <td>6</td>\n      <td>34847273</td>\n      <td>9</td>\n      <td>8</td>\n      <td>8.0</td>\n      <td>0.0</td>\n      <td>1.0</td>\n      <td>0.0</td>\n      <td>0.888889</td>\n      <td>0.333333</td>\n      <td>...</td>\n      <td>20</td>\n      <td>33004.000000</td>\n      <td>32.908966</td>\n      <td>33030.0</td>\n      <td>32967.0</td>\n      <td>10004347.0</td>\n      <td>8980.692383</td>\n      <td>10014717.0</td>\n      <td>9999149.0</td>\n      <td>BENIGN</td>\n    </tr>\n    <tr>\n      <th>...</th>\n      <td>...</td>\n      <td>...</td>\n      <td>...</td>\n      <td>...</td>\n      <td>...</td>\n      <td>...</td>\n      <td>...</td>\n      <td>...</td>\n      <td>...</td>\n      <td>...</td>\n      <td>...</td>\n      <td>...</td>\n      <td>...</td>\n      <td>...</td>\n      <td>...</td>\n      <td>...</td>\n      <td>...</td>\n      <td>...</td>\n      <td>...</td>\n      <td>...</td>\n      <td>...</td>\n    </tr>\n    <tr>\n      <th>1123507</th>\n      <td>17</td>\n      <td>37146</td>\n      <td>200</td>\n      <td>0</td>\n      <td>88000.0</td>\n      <td>0.0</td>\n      <td>440.0</td>\n      <td>440.0</td>\n      <td>440.000000</td>\n      <td>0.000000</td>\n      <td>...</td>\n      <td>20</td>\n      <td>0.000000</td>\n      <td>0.000000</td>\n      <td>0.0</td>\n      <td>0.0</td>\n      <td>0.0</td>\n      <td>0.000000</td>\n      <td>0.0</td>\n      <td>0.0</td>\n      <td>DrDoS_NTP</td>\n    </tr>\n    <tr>\n      <th>1123508</th>\n      <td>17</td>\n      <td>42011</td>\n      <td>200</td>\n      <td>0</td>\n      <td>88000.0</td>\n      <td>0.0</td>\n      <td>440.0</td>\n      <td>440.0</td>\n      <td>440.000000</td>\n      <td>0.000000</td>\n      <td>...</td>\n      <td>20</td>\n      <td>0.000000</td>\n      <td>0.000000</td>\n      <td>0.0</td>\n      <td>0.0</td>\n      <td>0.0</td>\n      <td>0.000000</td>\n      <td>0.0</td>\n      <td>0.0</td>\n      <td>DrDoS_NTP</td>\n    </tr>\n    <tr>\n      <th>1123509</th>\n      <td>17</td>\n      <td>40375</td>\n      <td>200</td>\n      <td>0</td>\n      <td>88000.0</td>\n      <td>0.0</td>\n      <td>440.0</td>\n      <td>440.0</td>\n      <td>440.000000</td>\n      <td>0.000000</td>\n      <td>...</td>\n      <td>20</td>\n      <td>0.000000</td>\n      <td>0.000000</td>\n      <td>0.0</td>\n      <td>0.0</td>\n      <td>0.0</td>\n      <td>0.000000</td>\n      <td>0.0</td>\n      <td>0.0</td>\n      <td>DrDoS_NTP</td>\n    </tr>\n    <tr>\n      <th>1123510</th>\n      <td>17</td>\n      <td>59116</td>\n      <td>200</td>\n      <td>0</td>\n      <td>88000.0</td>\n      <td>0.0</td>\n      <td>440.0</td>\n      <td>440.0</td>\n      <td>440.000000</td>\n      <td>0.000000</td>\n      <td>...</td>\n      <td>20</td>\n      <td>0.000000</td>\n      <td>0.000000</td>\n      <td>0.0</td>\n      <td>0.0</td>\n      <td>0.0</td>\n      <td>0.000000</td>\n      <td>0.0</td>\n      <td>0.0</td>\n      <td>DrDoS_NTP</td>\n    </tr>\n    <tr>\n      <th>1123511</th>\n      <td>17</td>\n      <td>34660</td>\n      <td>103</td>\n      <td>0</td>\n      <td>45320.0</td>\n      <td>0.0</td>\n      <td>440.0</td>\n      <td>440.0</td>\n      <td>440.000000</td>\n      <td>0.000000</td>\n      <td>...</td>\n      <td>20</td>\n      <td>0.000000</td>\n      <td>0.000000</td>\n      <td>0.0</td>\n      <td>0.0</td>\n      <td>0.0</td>\n      <td>0.000000</td>\n      <td>0.0</td>\n      <td>0.0</td>\n      <td>DrDoS_NTP</td>\n    </tr>\n  </tbody>\n</table>\n<p>1123512 rows × 78 columns</p>\n</div>"
     },
     "execution_count": 47,
     "metadata": {},
     "output_type": "execute_result"
    }
   ],
   "source": [
    "workingDataFrame.drop_duplicates(inplace=True)\n",
    "workingDataFrame.reset_index(inplace=True, drop=True)\n",
    "workingDataFrame"
   ],
   "metadata": {
    "collapsed": false
   }
  },
  {
   "cell_type": "markdown",
   "source": [
    "After data cleaning, how much storage it holds now"
   ],
   "metadata": {
    "collapsed": false
   }
  },
  {
   "cell_type": "code",
   "execution_count": 48,
   "outputs": [
    {
     "name": "stdout",
     "output_type": "stream",
     "text": [
      "<class 'pandas.core.frame.DataFrame'>\n",
      "RangeIndex: 1123512 entries, 0 to 1123511\n",
      "Data columns (total 78 columns):\n",
      " #   Column                    Non-Null Count    Dtype  \n",
      "---  ------                    --------------    -----  \n",
      " 0   Protocol                  1123512 non-null  int8   \n",
      " 1   Flow Duration             1123512 non-null  int32  \n",
      " 2   Total Fwd Packets         1123512 non-null  int16  \n",
      " 3   Total Backward Packets    1123512 non-null  int16  \n",
      " 4   Fwd Packets Length Total  1123512 non-null  float32\n",
      " 5   Bwd Packets Length Total  1123512 non-null  float32\n",
      " 6   Fwd Packet Length Max     1123512 non-null  float32\n",
      " 7   Fwd Packet Length Min     1123512 non-null  float32\n",
      " 8   Fwd Packet Length Mean    1123512 non-null  float32\n",
      " 9   Fwd Packet Length Std     1123512 non-null  float32\n",
      " 10  Bwd Packet Length Max     1123512 non-null  float32\n",
      " 11  Bwd Packet Length Min     1123512 non-null  float32\n",
      " 12  Bwd Packet Length Mean    1123512 non-null  float32\n",
      " 13  Bwd Packet Length Std     1123512 non-null  float32\n",
      " 14  Flow Bytes/s              1123512 non-null  float32\n",
      " 15  Flow Packets/s            1123512 non-null  float32\n",
      " 16  Flow IAT Mean             1123512 non-null  float32\n",
      " 17  Flow IAT Std              1123512 non-null  float32\n",
      " 18  Flow IAT Max              1123512 non-null  float32\n",
      " 19  Flow IAT Min              1123512 non-null  float32\n",
      " 20  Fwd IAT Total             1123512 non-null  float32\n",
      " 21  Fwd IAT Mean              1123512 non-null  float32\n",
      " 22  Fwd IAT Std               1123512 non-null  float32\n",
      " 23  Fwd IAT Max               1123512 non-null  float32\n",
      " 24  Fwd IAT Min               1123512 non-null  float32\n",
      " 25  Bwd IAT Total             1123512 non-null  float32\n",
      " 26  Bwd IAT Mean              1123512 non-null  float32\n",
      " 27  Bwd IAT Std               1123512 non-null  float32\n",
      " 28  Bwd IAT Max               1123512 non-null  float32\n",
      " 29  Bwd IAT Min               1123512 non-null  float32\n",
      " 30  Fwd PSH Flags             1123512 non-null  int8   \n",
      " 31  Bwd PSH Flags             1123512 non-null  int8   \n",
      " 32  Fwd URG Flags             1123512 non-null  int8   \n",
      " 33  Bwd URG Flags             1123512 non-null  int8   \n",
      " 34  Fwd Header Length         1123512 non-null  int64  \n",
      " 35  Bwd Header Length         1123512 non-null  int32  \n",
      " 36  Fwd Packets/s             1123512 non-null  float32\n",
      " 37  Bwd Packets/s             1123512 non-null  float32\n",
      " 38  Packet Length Min         1123512 non-null  float32\n",
      " 39  Packet Length Max         1123512 non-null  float32\n",
      " 40  Packet Length Mean        1123512 non-null  float32\n",
      " 41  Packet Length Std         1123512 non-null  float32\n",
      " 42  Packet Length Variance    1123512 non-null  float32\n",
      " 43  FIN Flag Count            1123512 non-null  int8   \n",
      " 44  SYN Flag Count            1123512 non-null  int8   \n",
      " 45  RST Flag Count            1123512 non-null  int8   \n",
      " 46  PSH Flag Count            1123512 non-null  int8   \n",
      " 47  ACK Flag Count            1123512 non-null  int8   \n",
      " 48  URG Flag Count            1123512 non-null  int8   \n",
      " 49  CWE Flag Count            1123512 non-null  int8   \n",
      " 50  ECE Flag Count            1123512 non-null  int8   \n",
      " 51  Down/Up Ratio             1123512 non-null  float32\n",
      " 52  Avg Packet Size           1123512 non-null  float32\n",
      " 53  Avg Fwd Segment Size      1123512 non-null  float32\n",
      " 54  Avg Bwd Segment Size      1123512 non-null  float32\n",
      " 55  Fwd Avg Bytes/Bulk        1123512 non-null  int8   \n",
      " 56  Fwd Avg Packets/Bulk      1123512 non-null  int8   \n",
      " 57  Fwd Avg Bulk Rate         1123512 non-null  int8   \n",
      " 58  Bwd Avg Bytes/Bulk        1123512 non-null  int8   \n",
      " 59  Bwd Avg Packets/Bulk      1123512 non-null  int8   \n",
      " 60  Bwd Avg Bulk Rate         1123512 non-null  int8   \n",
      " 61  Subflow Fwd Packets       1123512 non-null  int16  \n",
      " 62  Subflow Fwd Bytes         1123512 non-null  int32  \n",
      " 63  Subflow Bwd Packets       1123512 non-null  int16  \n",
      " 64  Subflow Bwd Bytes         1123512 non-null  int32  \n",
      " 65  Init Fwd Win Bytes        1123512 non-null  int32  \n",
      " 66  Init Bwd Win Bytes        1123512 non-null  int32  \n",
      " 67  Fwd Act Data Packets      1123512 non-null  int16  \n",
      " 68  Fwd Seg Size Min          1123512 non-null  int32  \n",
      " 69  Active Mean               1123512 non-null  float32\n",
      " 70  Active Std                1123512 non-null  float32\n",
      " 71  Active Max                1123512 non-null  float32\n",
      " 72  Active Min                1123512 non-null  float32\n",
      " 73  Idle Mean                 1123512 non-null  float32\n",
      " 74  Idle Std                  1123512 non-null  float32\n",
      " 75  Idle Max                  1123512 non-null  float32\n",
      " 76  Idle Min                  1123512 non-null  float32\n",
      " 77  Label                     1123512 non-null  object \n",
      "dtypes: float32(45), int16(5), int32(7), int64(1), int8(19), object(1)\n",
      "memory usage: 333.2 MB\n"
     ]
    }
   ],
   "source": [
    "workingDataFrame.info(memory_usage=\"deep\")"
   ],
   "metadata": {
    "collapsed": false
   }
  },
  {
   "cell_type": "code",
   "execution_count": 49,
   "outputs": [
    {
     "data": {
      "text/plain": "array([ True,  True,  True,  True,  True,  True,  True,  True,  True,\n        True,  True,  True,  True,  True,  True,  True,  True,  True,\n        True,  True,  True,  True,  True,  True,  True,  True,  True,\n        True,  True,  True, False, False, False, False,  True,  True,\n        True,  True,  True,  True,  True,  True,  True, False, False,\n       False, False, False, False, False, False, False,  True,  True,\n        True, False, False, False, False, False, False,  True,  True,\n        True,  True,  True,  True,  True,  True,  True,  True,  True,\n        True,  True,  True,  True,  True,  True])"
     },
     "execution_count": 49,
     "metadata": {},
     "output_type": "execute_result"
    }
   ],
   "source": [
    "columnList = workingDataFrame.columns.tolist()\n",
    "# columnList[:-1]  # just for now, Omitting 'label' column\n",
    "\n",
    "from sklearn.feature_selection import VarianceThreshold\n",
    "\n",
    "var_thr = VarianceThreshold(threshold=0.1)  #Removing both constant and quasi-constant\n",
    "var_thr.fit(workingDataFrame[columnList[:-1]])\n",
    "\n",
    "var_threshold_bool_list = var_thr.get_support()\n",
    "var_threshold_bool_list_after_label_added = np.append(var_threshold_bool_list,True)\n",
    "var_threshold_bool_list_after_label_added"
   ],
   "metadata": {
    "collapsed": false
   }
  },
  {
   "cell_type": "code",
   "execution_count": 50,
   "outputs": [
    {
     "name": "stdout",
     "output_type": "stream",
     "text": [
      "Fwd PSH Flags\n",
      "Bwd PSH Flags\n",
      "Fwd URG Flags\n",
      "Bwd URG Flags\n",
      "FIN Flag Count\n",
      "SYN Flag Count\n",
      "RST Flag Count\n",
      "PSH Flag Count\n",
      "ACK Flag Count\n",
      "URG Flag Count\n",
      "CWE Flag Count\n",
      "ECE Flag Count\n",
      "Down/Up Ratio\n",
      "Fwd Avg Bytes/Bulk\n",
      "Fwd Avg Packets/Bulk\n",
      "Fwd Avg Bulk Rate\n",
      "Bwd Avg Bytes/Bulk\n",
      "Bwd Avg Packets/Bulk\n",
      "Bwd Avg Bulk Rate\n"
     ]
    },
    {
     "data": {
      "text/plain": "         Protocol  Flow Duration  Total Fwd Packets  Total Backward Packets  \\\n0               6        5220876                 12                       9   \n1               6       12644252                  5                       2   \n2               6              3                  2                       0   \n3               0      114329232                 52                       0   \n4               6       34847273                  9                       8   \n...           ...            ...                ...                     ...   \n1123507        17          37146                200                       0   \n1123508        17          42011                200                       0   \n1123509        17          40375                200                       0   \n1123510        17          59116                200                       0   \n1123511        17          34660                103                       0   \n\n         Fwd Packets Length Total  Bwd Packets Length Total  \\\n0                          1928.0                    4290.0   \n1                             0.0                       0.0   \n2                             0.0                       0.0   \n3                             0.0                       0.0   \n4                             8.0                       0.0   \n...                           ...                       ...   \n1123507                   88000.0                       0.0   \n1123508                   88000.0                       0.0   \n1123509                   88000.0                       0.0   \n1123510                   88000.0                       0.0   \n1123511                   45320.0                       0.0   \n\n         Fwd Packet Length Max  Fwd Packet Length Min  Fwd Packet Length Mean  \\\n0                        509.0                    0.0              160.666672   \n1                          0.0                    0.0                0.000000   \n2                          0.0                    0.0                0.000000   \n3                          0.0                    0.0                0.000000   \n4                          1.0                    0.0                0.888889   \n...                        ...                    ...                     ...   \n1123507                  440.0                  440.0              440.000000   \n1123508                  440.0                  440.0              440.000000   \n1123509                  440.0                  440.0              440.000000   \n1123510                  440.0                  440.0              440.000000   \n1123511                  440.0                  440.0              440.000000   \n\n         Fwd Packet Length Std  ...  Fwd Seg Size Min   Active Mean  \\\n0                   237.878250  ...                32      0.000000   \n1                     0.000000  ...                32      0.000000   \n2                     0.000000  ...                20      0.000000   \n3                     0.000000  ...                 0      7.416667   \n4                     0.333333  ...                20  33004.000000   \n...                        ...  ...               ...           ...   \n1123507               0.000000  ...                20      0.000000   \n1123508               0.000000  ...                20      0.000000   \n1123509               0.000000  ...                20      0.000000   \n1123510               0.000000  ...                20      0.000000   \n1123511               0.000000  ...                20      0.000000   \n\n         Active Std  Active Max  Active Min   Idle Mean       Idle Std  \\\n0          0.000000         0.0         0.0         0.0       0.000000   \n1          0.000000         0.0         0.0         0.0       0.000000   \n2          0.000000         0.0         0.0         0.0       0.000000   \n3          2.466441        15.0         6.0   9527428.0  248706.687500   \n4         32.908966     33030.0     32967.0  10004347.0    8980.692383   \n...             ...         ...         ...         ...            ...   \n1123507    0.000000         0.0         0.0         0.0       0.000000   \n1123508    0.000000         0.0         0.0         0.0       0.000000   \n1123509    0.000000         0.0         0.0         0.0       0.000000   \n1123510    0.000000         0.0         0.0         0.0       0.000000   \n1123511    0.000000         0.0         0.0         0.0       0.000000   \n\n           Idle Max   Idle Min      Label  \n0               0.0        0.0  DrDoS_NTP  \n1               0.0        0.0  DrDoS_NTP  \n2               0.0        0.0     BENIGN  \n3         9950741.0  9092248.0     BENIGN  \n4        10014717.0  9999149.0     BENIGN  \n...             ...        ...        ...  \n1123507         0.0        0.0  DrDoS_NTP  \n1123508         0.0        0.0  DrDoS_NTP  \n1123509         0.0        0.0  DrDoS_NTP  \n1123510         0.0        0.0  DrDoS_NTP  \n1123511         0.0        0.0  DrDoS_NTP  \n\n[1123512 rows x 59 columns]",
      "text/html": "<div>\n<style scoped>\n    .dataframe tbody tr th:only-of-type {\n        vertical-align: middle;\n    }\n\n    .dataframe tbody tr th {\n        vertical-align: top;\n    }\n\n    .dataframe thead th {\n        text-align: right;\n    }\n</style>\n<table border=\"1\" class=\"dataframe\">\n  <thead>\n    <tr style=\"text-align: right;\">\n      <th></th>\n      <th>Protocol</th>\n      <th>Flow Duration</th>\n      <th>Total Fwd Packets</th>\n      <th>Total Backward Packets</th>\n      <th>Fwd Packets Length Total</th>\n      <th>Bwd Packets Length Total</th>\n      <th>Fwd Packet Length Max</th>\n      <th>Fwd Packet Length Min</th>\n      <th>Fwd Packet Length Mean</th>\n      <th>Fwd Packet Length Std</th>\n      <th>...</th>\n      <th>Fwd Seg Size Min</th>\n      <th>Active Mean</th>\n      <th>Active Std</th>\n      <th>Active Max</th>\n      <th>Active Min</th>\n      <th>Idle Mean</th>\n      <th>Idle Std</th>\n      <th>Idle Max</th>\n      <th>Idle Min</th>\n      <th>Label</th>\n    </tr>\n  </thead>\n  <tbody>\n    <tr>\n      <th>0</th>\n      <td>6</td>\n      <td>5220876</td>\n      <td>12</td>\n      <td>9</td>\n      <td>1928.0</td>\n      <td>4290.0</td>\n      <td>509.0</td>\n      <td>0.0</td>\n      <td>160.666672</td>\n      <td>237.878250</td>\n      <td>...</td>\n      <td>32</td>\n      <td>0.000000</td>\n      <td>0.000000</td>\n      <td>0.0</td>\n      <td>0.0</td>\n      <td>0.0</td>\n      <td>0.000000</td>\n      <td>0.0</td>\n      <td>0.0</td>\n      <td>DrDoS_NTP</td>\n    </tr>\n    <tr>\n      <th>1</th>\n      <td>6</td>\n      <td>12644252</td>\n      <td>5</td>\n      <td>2</td>\n      <td>0.0</td>\n      <td>0.0</td>\n      <td>0.0</td>\n      <td>0.0</td>\n      <td>0.000000</td>\n      <td>0.000000</td>\n      <td>...</td>\n      <td>32</td>\n      <td>0.000000</td>\n      <td>0.000000</td>\n      <td>0.0</td>\n      <td>0.0</td>\n      <td>0.0</td>\n      <td>0.000000</td>\n      <td>0.0</td>\n      <td>0.0</td>\n      <td>DrDoS_NTP</td>\n    </tr>\n    <tr>\n      <th>2</th>\n      <td>6</td>\n      <td>3</td>\n      <td>2</td>\n      <td>0</td>\n      <td>0.0</td>\n      <td>0.0</td>\n      <td>0.0</td>\n      <td>0.0</td>\n      <td>0.000000</td>\n      <td>0.000000</td>\n      <td>...</td>\n      <td>20</td>\n      <td>0.000000</td>\n      <td>0.000000</td>\n      <td>0.0</td>\n      <td>0.0</td>\n      <td>0.0</td>\n      <td>0.000000</td>\n      <td>0.0</td>\n      <td>0.0</td>\n      <td>BENIGN</td>\n    </tr>\n    <tr>\n      <th>3</th>\n      <td>0</td>\n      <td>114329232</td>\n      <td>52</td>\n      <td>0</td>\n      <td>0.0</td>\n      <td>0.0</td>\n      <td>0.0</td>\n      <td>0.0</td>\n      <td>0.000000</td>\n      <td>0.000000</td>\n      <td>...</td>\n      <td>0</td>\n      <td>7.416667</td>\n      <td>2.466441</td>\n      <td>15.0</td>\n      <td>6.0</td>\n      <td>9527428.0</td>\n      <td>248706.687500</td>\n      <td>9950741.0</td>\n      <td>9092248.0</td>\n      <td>BENIGN</td>\n    </tr>\n    <tr>\n      <th>4</th>\n      <td>6</td>\n      <td>34847273</td>\n      <td>9</td>\n      <td>8</td>\n      <td>8.0</td>\n      <td>0.0</td>\n      <td>1.0</td>\n      <td>0.0</td>\n      <td>0.888889</td>\n      <td>0.333333</td>\n      <td>...</td>\n      <td>20</td>\n      <td>33004.000000</td>\n      <td>32.908966</td>\n      <td>33030.0</td>\n      <td>32967.0</td>\n      <td>10004347.0</td>\n      <td>8980.692383</td>\n      <td>10014717.0</td>\n      <td>9999149.0</td>\n      <td>BENIGN</td>\n    </tr>\n    <tr>\n      <th>...</th>\n      <td>...</td>\n      <td>...</td>\n      <td>...</td>\n      <td>...</td>\n      <td>...</td>\n      <td>...</td>\n      <td>...</td>\n      <td>...</td>\n      <td>...</td>\n      <td>...</td>\n      <td>...</td>\n      <td>...</td>\n      <td>...</td>\n      <td>...</td>\n      <td>...</td>\n      <td>...</td>\n      <td>...</td>\n      <td>...</td>\n      <td>...</td>\n      <td>...</td>\n      <td>...</td>\n    </tr>\n    <tr>\n      <th>1123507</th>\n      <td>17</td>\n      <td>37146</td>\n      <td>200</td>\n      <td>0</td>\n      <td>88000.0</td>\n      <td>0.0</td>\n      <td>440.0</td>\n      <td>440.0</td>\n      <td>440.000000</td>\n      <td>0.000000</td>\n      <td>...</td>\n      <td>20</td>\n      <td>0.000000</td>\n      <td>0.000000</td>\n      <td>0.0</td>\n      <td>0.0</td>\n      <td>0.0</td>\n      <td>0.000000</td>\n      <td>0.0</td>\n      <td>0.0</td>\n      <td>DrDoS_NTP</td>\n    </tr>\n    <tr>\n      <th>1123508</th>\n      <td>17</td>\n      <td>42011</td>\n      <td>200</td>\n      <td>0</td>\n      <td>88000.0</td>\n      <td>0.0</td>\n      <td>440.0</td>\n      <td>440.0</td>\n      <td>440.000000</td>\n      <td>0.000000</td>\n      <td>...</td>\n      <td>20</td>\n      <td>0.000000</td>\n      <td>0.000000</td>\n      <td>0.0</td>\n      <td>0.0</td>\n      <td>0.0</td>\n      <td>0.000000</td>\n      <td>0.0</td>\n      <td>0.0</td>\n      <td>DrDoS_NTP</td>\n    </tr>\n    <tr>\n      <th>1123509</th>\n      <td>17</td>\n      <td>40375</td>\n      <td>200</td>\n      <td>0</td>\n      <td>88000.0</td>\n      <td>0.0</td>\n      <td>440.0</td>\n      <td>440.0</td>\n      <td>440.000000</td>\n      <td>0.000000</td>\n      <td>...</td>\n      <td>20</td>\n      <td>0.000000</td>\n      <td>0.000000</td>\n      <td>0.0</td>\n      <td>0.0</td>\n      <td>0.0</td>\n      <td>0.000000</td>\n      <td>0.0</td>\n      <td>0.0</td>\n      <td>DrDoS_NTP</td>\n    </tr>\n    <tr>\n      <th>1123510</th>\n      <td>17</td>\n      <td>59116</td>\n      <td>200</td>\n      <td>0</td>\n      <td>88000.0</td>\n      <td>0.0</td>\n      <td>440.0</td>\n      <td>440.0</td>\n      <td>440.000000</td>\n      <td>0.000000</td>\n      <td>...</td>\n      <td>20</td>\n      <td>0.000000</td>\n      <td>0.000000</td>\n      <td>0.0</td>\n      <td>0.0</td>\n      <td>0.0</td>\n      <td>0.000000</td>\n      <td>0.0</td>\n      <td>0.0</td>\n      <td>DrDoS_NTP</td>\n    </tr>\n    <tr>\n      <th>1123511</th>\n      <td>17</td>\n      <td>34660</td>\n      <td>103</td>\n      <td>0</td>\n      <td>45320.0</td>\n      <td>0.0</td>\n      <td>440.0</td>\n      <td>440.0</td>\n      <td>440.000000</td>\n      <td>0.000000</td>\n      <td>...</td>\n      <td>20</td>\n      <td>0.000000</td>\n      <td>0.000000</td>\n      <td>0.0</td>\n      <td>0.0</td>\n      <td>0.0</td>\n      <td>0.000000</td>\n      <td>0.0</td>\n      <td>0.0</td>\n      <td>DrDoS_NTP</td>\n    </tr>\n  </tbody>\n</table>\n<p>1123512 rows × 59 columns</p>\n</div>"
     },
     "execution_count": 50,
     "metadata": {},
     "output_type": "execute_result"
    }
   ],
   "source": [
    "concol = [column for column in workingDataFrame.columns\n",
    "          if column not in workingDataFrame.columns[var_threshold_bool_list_after_label_added]]\n",
    "\n",
    "for omittedFeatures in concol:\n",
    "    print(omittedFeatures)\n",
    "\n",
    "workingDataFrame.drop(columns=concol, inplace=True, errors='ignore')\n",
    "workingDataFrame"
   ],
   "metadata": {
    "collapsed": false
   }
  },
  {
   "cell_type": "markdown",
   "source": [
    "Now arising problem is that, row number has been significantly reduced but feature numbers are still 78!!\n",
    "So, need feature engineering here"
   ],
   "metadata": {
    "collapsed": false
   }
  },
  {
   "cell_type": "code",
   "execution_count": 51,
   "outputs": [],
   "source": [
    "\n",
    "def featueEngineeringBasedOnZero(dataFrameArg, thresholdPercentage, showPercentage):\n",
    "    totalCols = dataFrameArg.shape[1]\n",
    "    totalRows = len(dataFrameArg)\n",
    "    unNecessaryFeatureCount = 0\n",
    "    unNecessaryFeatureNames = []\n",
    "\n",
    "    for column in dataFrameArg:\n",
    "        zerosInCol = (dataFrameArg[column] == 0).sum()\n",
    "        if zerosInCol != 0:\n",
    "            percentageOfZerosInRow = ((zerosInCol * 100) / totalRows)\n",
    "\n",
    "            if showPercentage:\n",
    "                print(column, \"\\t\\t-\\t\\t\", zerosInCol, \"\\t\\t-\\t\\t\", percentageOfZerosInRow)\n",
    "\n",
    "            if percentageOfZerosInRow > thresholdPercentage:\n",
    "                unNecessaryFeatureNames.append(column)\n",
    "                unNecessaryFeatureCount = unNecessaryFeatureCount + 1\n",
    "\n",
    "    print(\"\\nTotal features having more than \", thresholdPercentage, \"% zero are - \", unNecessaryFeatureCount,\n",
    "          \"out of \",\n",
    "          totalCols)\n",
    "    return unNecessaryFeatureNames"
   ],
   "metadata": {
    "collapsed": false
   }
  },
  {
   "cell_type": "markdown",
   "source": [
    "Identifying those features containing 99% zeroes"
   ],
   "metadata": {
    "collapsed": false
   }
  },
  {
   "cell_type": "code",
   "execution_count": 52,
   "outputs": [
    {
     "name": "stdout",
     "output_type": "stream",
     "text": [
      "\n",
      "Total features having more than  99 % zero are -  16 out of  59\n"
     ]
    },
    {
     "data": {
      "text/plain": "['Bwd Packets Length Total',\n 'Bwd Packet Length Max',\n 'Bwd Packet Length Min',\n 'Bwd Packet Length Mean',\n 'Bwd Packet Length Std',\n 'Bwd IAT Std',\n 'Avg Bwd Segment Size',\n 'Subflow Bwd Bytes',\n 'Active Mean',\n 'Active Std',\n 'Active Max',\n 'Active Min',\n 'Idle Mean',\n 'Idle Std',\n 'Idle Max',\n 'Idle Min']"
     },
     "execution_count": 52,
     "metadata": {},
     "output_type": "execute_result"
    }
   ],
   "source": [
    "featureContainingAlmostZero = featueEngineeringBasedOnZero(dataFrameArg=workingDataFrame, thresholdPercentage=99,\n",
    "                                                           showPercentage=False)\n",
    "featureContainingAlmostZero"
   ],
   "metadata": {
    "collapsed": false
   }
  },
  {
   "cell_type": "markdown",
   "source": [
    "Omitting above features containing 99% zeroes"
   ],
   "metadata": {
    "collapsed": false
   }
  },
  {
   "cell_type": "code",
   "execution_count": 53,
   "outputs": [
    {
     "data": {
      "text/plain": "         Protocol  Flow Duration  Total Fwd Packets  Total Backward Packets  \\\n0               6        5220876                 12                       9   \n1               6       12644252                  5                       2   \n2               6              3                  2                       0   \n3               0      114329232                 52                       0   \n4               6       34847273                  9                       8   \n...           ...            ...                ...                     ...   \n1123507        17          37146                200                       0   \n1123508        17          42011                200                       0   \n1123509        17          40375                200                       0   \n1123510        17          59116                200                       0   \n1123511        17          34660                103                       0   \n\n         Fwd Packets Length Total  Fwd Packet Length Max  \\\n0                          1928.0                  509.0   \n1                             0.0                    0.0   \n2                             0.0                    0.0   \n3                             0.0                    0.0   \n4                             8.0                    1.0   \n...                           ...                    ...   \n1123507                   88000.0                  440.0   \n1123508                   88000.0                  440.0   \n1123509                   88000.0                  440.0   \n1123510                   88000.0                  440.0   \n1123511                   45320.0                  440.0   \n\n         Fwd Packet Length Min  Fwd Packet Length Mean  Fwd Packet Length Std  \\\n0                          0.0              160.666672             237.878250   \n1                          0.0                0.000000               0.000000   \n2                          0.0                0.000000               0.000000   \n3                          0.0                0.000000               0.000000   \n4                          0.0                0.888889               0.333333   \n...                        ...                     ...                    ...   \n1123507                  440.0              440.000000               0.000000   \n1123508                  440.0              440.000000               0.000000   \n1123509                  440.0              440.000000               0.000000   \n1123510                  440.0              440.000000               0.000000   \n1123511                  440.0              440.000000               0.000000   \n\n         Flow Bytes/s  ...  Avg Packet Size  Avg Fwd Segment Size  \\\n0        1.190988e+03  ...       296.095245            160.666672   \n1        0.000000e+00  ...         0.000000              0.000000   \n2        0.000000e+00  ...         0.000000              0.000000   \n3        0.000000e+00  ...         0.000000              0.000000   \n4        2.295732e-01  ...         0.529412              0.888889   \n...               ...  ...              ...                   ...   \n1123507  2.369030e+06  ...       442.200012            440.000000   \n1123508  2.094690e+06  ...       442.200012            440.000000   \n1123509  2.179566e+06  ...       442.200012            440.000000   \n1123510  1.488599e+06  ...       442.200012            440.000000   \n1123511  1.307559e+06  ...       444.271851            440.000000   \n\n         Subflow Fwd Packets  Subflow Fwd Bytes  Subflow Bwd Packets  \\\n0                         12               1928                    9   \n1                          5                  0                    2   \n2                          2                  0                    0   \n3                         52                  0                    0   \n4                          9                  8                    8   \n...                      ...                ...                  ...   \n1123507                  200              88000                    0   \n1123508                  200              88000                    0   \n1123509                  200              88000                    0   \n1123510                  200              88000                    0   \n1123511                  103              45320                    0   \n\n         Init Fwd Win Bytes  Init Bwd Win Bytes  Fwd Act Data Packets  \\\n0                     65535                 243                     4   \n1                     65535               28960                     0   \n2                         0                  -1                     0   \n3                        -1                  -1                     0   \n4                       258                 254                     7   \n...                     ...                 ...                   ...   \n1123507                  -1                  -1                   199   \n1123508                  -1                  -1                   199   \n1123509                  -1                  -1                   199   \n1123510                  -1                  -1                   199   \n1123511                  -1                  -1                   102   \n\n         Fwd Seg Size Min      Label  \n0                      32  DrDoS_NTP  \n1                      32  DrDoS_NTP  \n2                      20     BENIGN  \n3                       0     BENIGN  \n4                      20     BENIGN  \n...                   ...        ...  \n1123507                20  DrDoS_NTP  \n1123508                20  DrDoS_NTP  \n1123509                20  DrDoS_NTP  \n1123510                20  DrDoS_NTP  \n1123511                20  DrDoS_NTP  \n\n[1123512 rows x 43 columns]",
      "text/html": "<div>\n<style scoped>\n    .dataframe tbody tr th:only-of-type {\n        vertical-align: middle;\n    }\n\n    .dataframe tbody tr th {\n        vertical-align: top;\n    }\n\n    .dataframe thead th {\n        text-align: right;\n    }\n</style>\n<table border=\"1\" class=\"dataframe\">\n  <thead>\n    <tr style=\"text-align: right;\">\n      <th></th>\n      <th>Protocol</th>\n      <th>Flow Duration</th>\n      <th>Total Fwd Packets</th>\n      <th>Total Backward Packets</th>\n      <th>Fwd Packets Length Total</th>\n      <th>Fwd Packet Length Max</th>\n      <th>Fwd Packet Length Min</th>\n      <th>Fwd Packet Length Mean</th>\n      <th>Fwd Packet Length Std</th>\n      <th>Flow Bytes/s</th>\n      <th>...</th>\n      <th>Avg Packet Size</th>\n      <th>Avg Fwd Segment Size</th>\n      <th>Subflow Fwd Packets</th>\n      <th>Subflow Fwd Bytes</th>\n      <th>Subflow Bwd Packets</th>\n      <th>Init Fwd Win Bytes</th>\n      <th>Init Bwd Win Bytes</th>\n      <th>Fwd Act Data Packets</th>\n      <th>Fwd Seg Size Min</th>\n      <th>Label</th>\n    </tr>\n  </thead>\n  <tbody>\n    <tr>\n      <th>0</th>\n      <td>6</td>\n      <td>5220876</td>\n      <td>12</td>\n      <td>9</td>\n      <td>1928.0</td>\n      <td>509.0</td>\n      <td>0.0</td>\n      <td>160.666672</td>\n      <td>237.878250</td>\n      <td>1.190988e+03</td>\n      <td>...</td>\n      <td>296.095245</td>\n      <td>160.666672</td>\n      <td>12</td>\n      <td>1928</td>\n      <td>9</td>\n      <td>65535</td>\n      <td>243</td>\n      <td>4</td>\n      <td>32</td>\n      <td>DrDoS_NTP</td>\n    </tr>\n    <tr>\n      <th>1</th>\n      <td>6</td>\n      <td>12644252</td>\n      <td>5</td>\n      <td>2</td>\n      <td>0.0</td>\n      <td>0.0</td>\n      <td>0.0</td>\n      <td>0.000000</td>\n      <td>0.000000</td>\n      <td>0.000000e+00</td>\n      <td>...</td>\n      <td>0.000000</td>\n      <td>0.000000</td>\n      <td>5</td>\n      <td>0</td>\n      <td>2</td>\n      <td>65535</td>\n      <td>28960</td>\n      <td>0</td>\n      <td>32</td>\n      <td>DrDoS_NTP</td>\n    </tr>\n    <tr>\n      <th>2</th>\n      <td>6</td>\n      <td>3</td>\n      <td>2</td>\n      <td>0</td>\n      <td>0.0</td>\n      <td>0.0</td>\n      <td>0.0</td>\n      <td>0.000000</td>\n      <td>0.000000</td>\n      <td>0.000000e+00</td>\n      <td>...</td>\n      <td>0.000000</td>\n      <td>0.000000</td>\n      <td>2</td>\n      <td>0</td>\n      <td>0</td>\n      <td>0</td>\n      <td>-1</td>\n      <td>0</td>\n      <td>20</td>\n      <td>BENIGN</td>\n    </tr>\n    <tr>\n      <th>3</th>\n      <td>0</td>\n      <td>114329232</td>\n      <td>52</td>\n      <td>0</td>\n      <td>0.0</td>\n      <td>0.0</td>\n      <td>0.0</td>\n      <td>0.000000</td>\n      <td>0.000000</td>\n      <td>0.000000e+00</td>\n      <td>...</td>\n      <td>0.000000</td>\n      <td>0.000000</td>\n      <td>52</td>\n      <td>0</td>\n      <td>0</td>\n      <td>-1</td>\n      <td>-1</td>\n      <td>0</td>\n      <td>0</td>\n      <td>BENIGN</td>\n    </tr>\n    <tr>\n      <th>4</th>\n      <td>6</td>\n      <td>34847273</td>\n      <td>9</td>\n      <td>8</td>\n      <td>8.0</td>\n      <td>1.0</td>\n      <td>0.0</td>\n      <td>0.888889</td>\n      <td>0.333333</td>\n      <td>2.295732e-01</td>\n      <td>...</td>\n      <td>0.529412</td>\n      <td>0.888889</td>\n      <td>9</td>\n      <td>8</td>\n      <td>8</td>\n      <td>258</td>\n      <td>254</td>\n      <td>7</td>\n      <td>20</td>\n      <td>BENIGN</td>\n    </tr>\n    <tr>\n      <th>...</th>\n      <td>...</td>\n      <td>...</td>\n      <td>...</td>\n      <td>...</td>\n      <td>...</td>\n      <td>...</td>\n      <td>...</td>\n      <td>...</td>\n      <td>...</td>\n      <td>...</td>\n      <td>...</td>\n      <td>...</td>\n      <td>...</td>\n      <td>...</td>\n      <td>...</td>\n      <td>...</td>\n      <td>...</td>\n      <td>...</td>\n      <td>...</td>\n      <td>...</td>\n      <td>...</td>\n    </tr>\n    <tr>\n      <th>1123507</th>\n      <td>17</td>\n      <td>37146</td>\n      <td>200</td>\n      <td>0</td>\n      <td>88000.0</td>\n      <td>440.0</td>\n      <td>440.0</td>\n      <td>440.000000</td>\n      <td>0.000000</td>\n      <td>2.369030e+06</td>\n      <td>...</td>\n      <td>442.200012</td>\n      <td>440.000000</td>\n      <td>200</td>\n      <td>88000</td>\n      <td>0</td>\n      <td>-1</td>\n      <td>-1</td>\n      <td>199</td>\n      <td>20</td>\n      <td>DrDoS_NTP</td>\n    </tr>\n    <tr>\n      <th>1123508</th>\n      <td>17</td>\n      <td>42011</td>\n      <td>200</td>\n      <td>0</td>\n      <td>88000.0</td>\n      <td>440.0</td>\n      <td>440.0</td>\n      <td>440.000000</td>\n      <td>0.000000</td>\n      <td>2.094690e+06</td>\n      <td>...</td>\n      <td>442.200012</td>\n      <td>440.000000</td>\n      <td>200</td>\n      <td>88000</td>\n      <td>0</td>\n      <td>-1</td>\n      <td>-1</td>\n      <td>199</td>\n      <td>20</td>\n      <td>DrDoS_NTP</td>\n    </tr>\n    <tr>\n      <th>1123509</th>\n      <td>17</td>\n      <td>40375</td>\n      <td>200</td>\n      <td>0</td>\n      <td>88000.0</td>\n      <td>440.0</td>\n      <td>440.0</td>\n      <td>440.000000</td>\n      <td>0.000000</td>\n      <td>2.179566e+06</td>\n      <td>...</td>\n      <td>442.200012</td>\n      <td>440.000000</td>\n      <td>200</td>\n      <td>88000</td>\n      <td>0</td>\n      <td>-1</td>\n      <td>-1</td>\n      <td>199</td>\n      <td>20</td>\n      <td>DrDoS_NTP</td>\n    </tr>\n    <tr>\n      <th>1123510</th>\n      <td>17</td>\n      <td>59116</td>\n      <td>200</td>\n      <td>0</td>\n      <td>88000.0</td>\n      <td>440.0</td>\n      <td>440.0</td>\n      <td>440.000000</td>\n      <td>0.000000</td>\n      <td>1.488599e+06</td>\n      <td>...</td>\n      <td>442.200012</td>\n      <td>440.000000</td>\n      <td>200</td>\n      <td>88000</td>\n      <td>0</td>\n      <td>-1</td>\n      <td>-1</td>\n      <td>199</td>\n      <td>20</td>\n      <td>DrDoS_NTP</td>\n    </tr>\n    <tr>\n      <th>1123511</th>\n      <td>17</td>\n      <td>34660</td>\n      <td>103</td>\n      <td>0</td>\n      <td>45320.0</td>\n      <td>440.0</td>\n      <td>440.0</td>\n      <td>440.000000</td>\n      <td>0.000000</td>\n      <td>1.307559e+06</td>\n      <td>...</td>\n      <td>444.271851</td>\n      <td>440.000000</td>\n      <td>103</td>\n      <td>45320</td>\n      <td>0</td>\n      <td>-1</td>\n      <td>-1</td>\n      <td>102</td>\n      <td>20</td>\n      <td>DrDoS_NTP</td>\n    </tr>\n  </tbody>\n</table>\n<p>1123512 rows × 43 columns</p>\n</div>"
     },
     "execution_count": 53,
     "metadata": {},
     "output_type": "execute_result"
    }
   ],
   "source": [
    "workingDataFrame.drop(columns=featureContainingAlmostZero, inplace=True, errors='ignore')\n",
    "workingDataFrame.rename(columns=col_name_consistency, inplace=True)\n",
    "workingDataFrame.reset_index(inplace=True, drop=True)\n",
    "workingDataFrame"
   ],
   "metadata": {
    "collapsed": false
   }
  },
  {
   "cell_type": "markdown",
   "source": [
    "Now, To see the number of unique values in each column"
   ],
   "metadata": {
    "collapsed": false
   }
  },
  {
   "cell_type": "code",
   "execution_count": 54,
   "outputs": [
    {
     "data": {
      "text/plain": "Protocol                          3\nFlow Duration                 63665\nTotal Fwd Packets               294\nTotal Backward Packets          191\nFwd Packets Length Total       2664\nFwd Packet Length Max           896\nFwd Packet Length Min            83\nFwd Packet Length Mean         2426\nFwd Packet Length Std          3098\nFlow Bytes/s                 451464\nFlow Packets/s               292896\nFlow IAT Mean                350429\nFlow IAT Std                1045430\nFlow IAT Max                  36346\nFlow IAT Min                   1033\nFwd IAT Total                 61340\nFwd IAT Mean                 346527\nFwd IAT Std                 1041211\nFwd IAT Max                   33343\nFwd IAT Min                     244\nBwd IAT Total                  4173\nBwd IAT Mean                   4229\nBwd IAT Max                    3914\nBwd IAT Min                      62\nFwd Header Length              6084\nBwd Header Length               365\nFwd Packets/s                292986\nBwd Packets/s                  8690\nPacket Length Min                72\nPacket Length Max               627\nPacket Length Mean             3207\nPacket Length Std              3679\nPacket Length Variance         3679\nAvg Packet Size                3820\nAvg Fwd Segment Size           2426\nSubflow Fwd Packets             294\nSubflow Fwd Bytes              2664\nSubflow Bwd Packets             191\nInit Fwd Win Bytes              506\nInit Bwd Win Bytes              511\nFwd Act Data Packets            271\nFwd Seg Size Min                 23\nLabel                             2\ndtype: int64"
     },
     "execution_count": 54,
     "metadata": {},
     "output_type": "execute_result"
    }
   ],
   "source": [
    "workingDataFrame.nunique(axis=0)"
   ],
   "metadata": {
    "collapsed": false
   }
  },
  {
   "cell_type": "code",
   "execution_count": 55,
   "outputs": [
    {
     "data": {
      "text/plain": "         Protocol  Flow Duration  Total Fwd Packets  Total Backward Packets  \\\n0               6        5220876                 12                       9   \n1               6       12644252                  5                       2   \n2               6              3                  2                       0   \n3               0      114329232                 52                       0   \n4               6       34847273                  9                       8   \n...           ...            ...                ...                     ...   \n1123507        17          37146                200                       0   \n1123508        17          42011                200                       0   \n1123509        17          40375                200                       0   \n1123510        17          59116                200                       0   \n1123511        17          34660                103                       0   \n\n         Fwd Packets Length Total  Fwd Packet Length Max  \\\n0                          1928.0                  509.0   \n1                             0.0                    0.0   \n2                             0.0                    0.0   \n3                             0.0                    0.0   \n4                             8.0                    1.0   \n...                           ...                    ...   \n1123507                   88000.0                  440.0   \n1123508                   88000.0                  440.0   \n1123509                   88000.0                  440.0   \n1123510                   88000.0                  440.0   \n1123511                   45320.0                  440.0   \n\n         Fwd Packet Length Min  Fwd Packet Length Mean  Fwd Packet Length Std  \\\n0                          0.0              160.666672             237.878250   \n1                          0.0                0.000000               0.000000   \n2                          0.0                0.000000               0.000000   \n3                          0.0                0.000000               0.000000   \n4                          0.0                0.888889               0.333333   \n...                        ...                     ...                    ...   \n1123507                  440.0              440.000000               0.000000   \n1123508                  440.0              440.000000               0.000000   \n1123509                  440.0              440.000000               0.000000   \n1123510                  440.0              440.000000               0.000000   \n1123511                  440.0              440.000000               0.000000   \n\n         Flow Bytes/s  ...  Avg Packet Size  Avg Fwd Segment Size  \\\n0        1.190988e+03  ...       296.095245            160.666672   \n1        0.000000e+00  ...         0.000000              0.000000   \n2        0.000000e+00  ...         0.000000              0.000000   \n3        0.000000e+00  ...         0.000000              0.000000   \n4        2.295732e-01  ...         0.529412              0.888889   \n...               ...  ...              ...                   ...   \n1123507  2.369030e+06  ...       442.200012            440.000000   \n1123508  2.094690e+06  ...       442.200012            440.000000   \n1123509  2.179566e+06  ...       442.200012            440.000000   \n1123510  1.488599e+06  ...       442.200012            440.000000   \n1123511  1.307559e+06  ...       444.271851            440.000000   \n\n         Subflow Fwd Packets  Subflow Fwd Bytes  Subflow Bwd Packets  \\\n0                         12               1928                    9   \n1                          5                  0                    2   \n2                          2                  0                    0   \n3                         52                  0                    0   \n4                          9                  8                    8   \n...                      ...                ...                  ...   \n1123507                  200              88000                    0   \n1123508                  200              88000                    0   \n1123509                  200              88000                    0   \n1123510                  200              88000                    0   \n1123511                  103              45320                    0   \n\n         Init Fwd Win Bytes  Init Bwd Win Bytes  Fwd Act Data Packets  \\\n0                     65535                 243                     4   \n1                     65535               28960                     0   \n2                         0                  -1                     0   \n3                        -1                  -1                     0   \n4                       258                 254                     7   \n...                     ...                 ...                   ...   \n1123507                  -1                  -1                   199   \n1123508                  -1                  -1                   199   \n1123509                  -1                  -1                   199   \n1123510                  -1                  -1                   199   \n1123511                  -1                  -1                   102   \n\n         Fwd Seg Size Min      Label  \n0                      32  DrDoS_NTP  \n1                      32  DrDoS_NTP  \n2                      20     BENIGN  \n3                       0     BENIGN  \n4                      20     BENIGN  \n...                   ...        ...  \n1123507                20  DrDoS_NTP  \n1123508                20  DrDoS_NTP  \n1123509                20  DrDoS_NTP  \n1123510                20  DrDoS_NTP  \n1123511                20  DrDoS_NTP  \n\n[1123512 rows x 43 columns]",
      "text/html": "<div>\n<style scoped>\n    .dataframe tbody tr th:only-of-type {\n        vertical-align: middle;\n    }\n\n    .dataframe tbody tr th {\n        vertical-align: top;\n    }\n\n    .dataframe thead th {\n        text-align: right;\n    }\n</style>\n<table border=\"1\" class=\"dataframe\">\n  <thead>\n    <tr style=\"text-align: right;\">\n      <th></th>\n      <th>Protocol</th>\n      <th>Flow Duration</th>\n      <th>Total Fwd Packets</th>\n      <th>Total Backward Packets</th>\n      <th>Fwd Packets Length Total</th>\n      <th>Fwd Packet Length Max</th>\n      <th>Fwd Packet Length Min</th>\n      <th>Fwd Packet Length Mean</th>\n      <th>Fwd Packet Length Std</th>\n      <th>Flow Bytes/s</th>\n      <th>...</th>\n      <th>Avg Packet Size</th>\n      <th>Avg Fwd Segment Size</th>\n      <th>Subflow Fwd Packets</th>\n      <th>Subflow Fwd Bytes</th>\n      <th>Subflow Bwd Packets</th>\n      <th>Init Fwd Win Bytes</th>\n      <th>Init Bwd Win Bytes</th>\n      <th>Fwd Act Data Packets</th>\n      <th>Fwd Seg Size Min</th>\n      <th>Label</th>\n    </tr>\n  </thead>\n  <tbody>\n    <tr>\n      <th>0</th>\n      <td>6</td>\n      <td>5220876</td>\n      <td>12</td>\n      <td>9</td>\n      <td>1928.0</td>\n      <td>509.0</td>\n      <td>0.0</td>\n      <td>160.666672</td>\n      <td>237.878250</td>\n      <td>1.190988e+03</td>\n      <td>...</td>\n      <td>296.095245</td>\n      <td>160.666672</td>\n      <td>12</td>\n      <td>1928</td>\n      <td>9</td>\n      <td>65535</td>\n      <td>243</td>\n      <td>4</td>\n      <td>32</td>\n      <td>DrDoS_NTP</td>\n    </tr>\n    <tr>\n      <th>1</th>\n      <td>6</td>\n      <td>12644252</td>\n      <td>5</td>\n      <td>2</td>\n      <td>0.0</td>\n      <td>0.0</td>\n      <td>0.0</td>\n      <td>0.000000</td>\n      <td>0.000000</td>\n      <td>0.000000e+00</td>\n      <td>...</td>\n      <td>0.000000</td>\n      <td>0.000000</td>\n      <td>5</td>\n      <td>0</td>\n      <td>2</td>\n      <td>65535</td>\n      <td>28960</td>\n      <td>0</td>\n      <td>32</td>\n      <td>DrDoS_NTP</td>\n    </tr>\n    <tr>\n      <th>2</th>\n      <td>6</td>\n      <td>3</td>\n      <td>2</td>\n      <td>0</td>\n      <td>0.0</td>\n      <td>0.0</td>\n      <td>0.0</td>\n      <td>0.000000</td>\n      <td>0.000000</td>\n      <td>0.000000e+00</td>\n      <td>...</td>\n      <td>0.000000</td>\n      <td>0.000000</td>\n      <td>2</td>\n      <td>0</td>\n      <td>0</td>\n      <td>0</td>\n      <td>-1</td>\n      <td>0</td>\n      <td>20</td>\n      <td>BENIGN</td>\n    </tr>\n    <tr>\n      <th>3</th>\n      <td>0</td>\n      <td>114329232</td>\n      <td>52</td>\n      <td>0</td>\n      <td>0.0</td>\n      <td>0.0</td>\n      <td>0.0</td>\n      <td>0.000000</td>\n      <td>0.000000</td>\n      <td>0.000000e+00</td>\n      <td>...</td>\n      <td>0.000000</td>\n      <td>0.000000</td>\n      <td>52</td>\n      <td>0</td>\n      <td>0</td>\n      <td>-1</td>\n      <td>-1</td>\n      <td>0</td>\n      <td>0</td>\n      <td>BENIGN</td>\n    </tr>\n    <tr>\n      <th>4</th>\n      <td>6</td>\n      <td>34847273</td>\n      <td>9</td>\n      <td>8</td>\n      <td>8.0</td>\n      <td>1.0</td>\n      <td>0.0</td>\n      <td>0.888889</td>\n      <td>0.333333</td>\n      <td>2.295732e-01</td>\n      <td>...</td>\n      <td>0.529412</td>\n      <td>0.888889</td>\n      <td>9</td>\n      <td>8</td>\n      <td>8</td>\n      <td>258</td>\n      <td>254</td>\n      <td>7</td>\n      <td>20</td>\n      <td>BENIGN</td>\n    </tr>\n    <tr>\n      <th>...</th>\n      <td>...</td>\n      <td>...</td>\n      <td>...</td>\n      <td>...</td>\n      <td>...</td>\n      <td>...</td>\n      <td>...</td>\n      <td>...</td>\n      <td>...</td>\n      <td>...</td>\n      <td>...</td>\n      <td>...</td>\n      <td>...</td>\n      <td>...</td>\n      <td>...</td>\n      <td>...</td>\n      <td>...</td>\n      <td>...</td>\n      <td>...</td>\n      <td>...</td>\n      <td>...</td>\n    </tr>\n    <tr>\n      <th>1123507</th>\n      <td>17</td>\n      <td>37146</td>\n      <td>200</td>\n      <td>0</td>\n      <td>88000.0</td>\n      <td>440.0</td>\n      <td>440.0</td>\n      <td>440.000000</td>\n      <td>0.000000</td>\n      <td>2.369030e+06</td>\n      <td>...</td>\n      <td>442.200012</td>\n      <td>440.000000</td>\n      <td>200</td>\n      <td>88000</td>\n      <td>0</td>\n      <td>-1</td>\n      <td>-1</td>\n      <td>199</td>\n      <td>20</td>\n      <td>DrDoS_NTP</td>\n    </tr>\n    <tr>\n      <th>1123508</th>\n      <td>17</td>\n      <td>42011</td>\n      <td>200</td>\n      <td>0</td>\n      <td>88000.0</td>\n      <td>440.0</td>\n      <td>440.0</td>\n      <td>440.000000</td>\n      <td>0.000000</td>\n      <td>2.094690e+06</td>\n      <td>...</td>\n      <td>442.200012</td>\n      <td>440.000000</td>\n      <td>200</td>\n      <td>88000</td>\n      <td>0</td>\n      <td>-1</td>\n      <td>-1</td>\n      <td>199</td>\n      <td>20</td>\n      <td>DrDoS_NTP</td>\n    </tr>\n    <tr>\n      <th>1123509</th>\n      <td>17</td>\n      <td>40375</td>\n      <td>200</td>\n      <td>0</td>\n      <td>88000.0</td>\n      <td>440.0</td>\n      <td>440.0</td>\n      <td>440.000000</td>\n      <td>0.000000</td>\n      <td>2.179566e+06</td>\n      <td>...</td>\n      <td>442.200012</td>\n      <td>440.000000</td>\n      <td>200</td>\n      <td>88000</td>\n      <td>0</td>\n      <td>-1</td>\n      <td>-1</td>\n      <td>199</td>\n      <td>20</td>\n      <td>DrDoS_NTP</td>\n    </tr>\n    <tr>\n      <th>1123510</th>\n      <td>17</td>\n      <td>59116</td>\n      <td>200</td>\n      <td>0</td>\n      <td>88000.0</td>\n      <td>440.0</td>\n      <td>440.0</td>\n      <td>440.000000</td>\n      <td>0.000000</td>\n      <td>1.488599e+06</td>\n      <td>...</td>\n      <td>442.200012</td>\n      <td>440.000000</td>\n      <td>200</td>\n      <td>88000</td>\n      <td>0</td>\n      <td>-1</td>\n      <td>-1</td>\n      <td>199</td>\n      <td>20</td>\n      <td>DrDoS_NTP</td>\n    </tr>\n    <tr>\n      <th>1123511</th>\n      <td>17</td>\n      <td>34660</td>\n      <td>103</td>\n      <td>0</td>\n      <td>45320.0</td>\n      <td>440.0</td>\n      <td>440.0</td>\n      <td>440.000000</td>\n      <td>0.000000</td>\n      <td>1.307559e+06</td>\n      <td>...</td>\n      <td>444.271851</td>\n      <td>440.000000</td>\n      <td>103</td>\n      <td>45320</td>\n      <td>0</td>\n      <td>-1</td>\n      <td>-1</td>\n      <td>102</td>\n      <td>20</td>\n      <td>DrDoS_NTP</td>\n    </tr>\n  </tbody>\n</table>\n<p>1123512 rows × 43 columns</p>\n</div>"
     },
     "execution_count": 55,
     "metadata": {},
     "output_type": "execute_result"
    }
   ],
   "source": [
    "workingDataFrame"
   ],
   "metadata": {
    "collapsed": false
   }
  },
  {
   "cell_type": "markdown",
   "source": [
    "Saving New DataFrame as csv file to new location"
   ],
   "metadata": {
    "collapsed": false
   }
  },
  {
   "cell_type": "code",
   "execution_count": 56,
   "outputs": [],
   "source": [
    "def dataCleaningResultToAnotherCSV(dataFrameArg, dirPath, file_name):\n",
    "    dataFrameArg.to_csv(dirPath + file_name)"
   ],
   "metadata": {
    "collapsed": false
   }
  },
  {
   "cell_type": "code",
   "execution_count": 57,
   "outputs": [],
   "source": [
    "newCsvPath = \"C:\\\\CIC-DDOS-2019\\\\AfterDataCleaning\\\\\"\n",
    "# newFileName = \"UDPLag.csv\"\n",
    "# newFileName = \"Syn.csv\"\n",
    "newFileName = \"DrDoS_NTP.csv\"\n",
    "dataCleaningResultToAnotherCSV(dataFrameArg=workingDataFrame, dirPath=newCsvPath, file_name=newFileName)"
   ],
   "metadata": {
    "collapsed": false
   }
  },
  {
   "cell_type": "code",
   "execution_count": 58,
   "outputs": [
    {
     "data": {
      "text/plain": "25"
     },
     "execution_count": 58,
     "metadata": {},
     "output_type": "execute_result"
    }
   ],
   "source": [
    "gc.collect()"
   ],
   "metadata": {
    "collapsed": false
   }
  }
 ],
 "metadata": {
  "kernelspec": {
   "display_name": "Python 3",
   "language": "python",
   "name": "python3"
  },
  "language_info": {
   "codemirror_mode": {
    "name": "ipython",
    "version": 2
   },
   "file_extension": ".py",
   "mimetype": "text/x-python",
   "name": "python",
   "nbconvert_exporter": "python",
   "pygments_lexer": "ipython2",
   "version": "2.7.6"
  }
 },
 "nbformat": 4,
 "nbformat_minor": 0
}
